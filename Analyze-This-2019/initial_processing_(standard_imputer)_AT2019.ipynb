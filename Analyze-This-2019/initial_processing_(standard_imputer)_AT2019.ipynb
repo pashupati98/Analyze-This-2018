{
 "cells": [
  {
   "cell_type": "markdown",
   "metadata": {},
   "source": [
    "### Analyze This 2019"
   ]
  },
  {
   "cell_type": "markdown",
   "metadata": {},
   "source": [
    "##### Importing Libraries"
   ]
  },
  {
   "cell_type": "code",
   "execution_count": 2,
   "metadata": {},
   "outputs": [],
   "source": [
    "import pandas as pd\n",
    "import numpy as np\n",
    "import scipy as sp\n",
    "import seaborn as sns\n",
    "import matplotlib as mp\n",
    "import matplotlib.pyplot as plt\n",
    "%matplotlib inline"
   ]
  },
  {
   "cell_type": "code",
   "execution_count": 3,
   "metadata": {},
   "outputs": [],
   "source": [
    "#!pip install xlrd"
   ]
  },
  {
   "cell_type": "markdown",
   "metadata": {},
   "source": [
    "##### Loading Dataset"
   ]
  },
  {
   "cell_type": "code",
   "execution_count": 4,
   "metadata": {},
   "outputs": [],
   "source": [
    "url_train = './Dataset/development_dataset.csv' #traing dataset\n",
    "url_lead = './Dataset/leaderboard_dataset.csv' #leaderboard dataset\n",
    "url_dict = './Dataset/Data_Dictionary.xlsx' #data dictionary"
   ]
  },
  {
   "cell_type": "code",
   "execution_count": 5,
   "metadata": {},
   "outputs": [],
   "source": [
    "## making dataframe\n",
    "\n",
    "df_train = pd.read_csv(url_train)\n",
    "df_lead = pd.read_csv(url_lead)\n",
    "df_dict = pd.read_excel(url_dict)"
   ]
  },
  {
   "cell_type": "markdown",
   "metadata": {},
   "source": [
    "##### Data exploration and visualization "
   ]
  },
  {
   "cell_type": "code",
   "execution_count": 6,
   "metadata": {},
   "outputs": [
    {
     "data": {
      "text/html": [
       "<div>\n",
       "<style scoped>\n",
       "    .dataframe tbody tr th:only-of-type {\n",
       "        vertical-align: middle;\n",
       "    }\n",
       "\n",
       "    .dataframe tbody tr th {\n",
       "        vertical-align: top;\n",
       "    }\n",
       "\n",
       "    .dataframe thead th {\n",
       "        text-align: right;\n",
       "    }\n",
       "</style>\n",
       "<table border=\"1\" class=\"dataframe\">\n",
       "  <thead>\n",
       "    <tr style=\"text-align: right;\">\n",
       "      <th></th>\n",
       "      <th>Unnamed: 0</th>\n",
       "      <th>Variable Name</th>\n",
       "      <th>Definition</th>\n",
       "    </tr>\n",
       "  </thead>\n",
       "  <tbody>\n",
       "    <tr>\n",
       "      <th>0</th>\n",
       "      <td>VAR1</td>\n",
       "      <td>ID</td>\n",
       "      <td>The identifier for the account</td>\n",
       "    </tr>\n",
       "    <tr>\n",
       "      <th>1</th>\n",
       "      <td>VAR2</td>\n",
       "      <td>FICO</td>\n",
       "      <td>Credit score associated with account. Takes in...</td>\n",
       "    </tr>\n",
       "    <tr>\n",
       "      <th>2</th>\n",
       "      <td>VAR3</td>\n",
       "      <td>Business Revenue</td>\n",
       "      <td>Reported annual business revenue</td>\n",
       "    </tr>\n",
       "    <tr>\n",
       "      <th>3</th>\n",
       "      <td>VAR4</td>\n",
       "      <td>TSR</td>\n",
       "      <td>Risk score associated with probability of defa...</td>\n",
       "    </tr>\n",
       "    <tr>\n",
       "      <th>4</th>\n",
       "      <td>VAR5</td>\n",
       "      <td>Last 6M Avg Util</td>\n",
       "      <td>Average utilization of credit line in the last...</td>\n",
       "    </tr>\n",
       "    <tr>\n",
       "      <th>5</th>\n",
       "      <td>VAR6</td>\n",
       "      <td>Income</td>\n",
       "      <td>Reported annual business income</td>\n",
       "    </tr>\n",
       "    <tr>\n",
       "      <th>6</th>\n",
       "      <td>VAR7</td>\n",
       "      <td>Last 6M Avg Remit</td>\n",
       "      <td>Average amount paid towards card bills in the ...</td>\n",
       "    </tr>\n",
       "    <tr>\n",
       "      <th>7</th>\n",
       "      <td>VAR8</td>\n",
       "      <td>Last 6M Avg Bal</td>\n",
       "      <td>Average balance on each card in the last 6 months</td>\n",
       "    </tr>\n",
       "    <tr>\n",
       "      <th>8</th>\n",
       "      <td>VAR9</td>\n",
       "      <td>Internal Revolve</td>\n",
       "      <td>The average daily balance as a percentage of c...</td>\n",
       "    </tr>\n",
       "    <tr>\n",
       "      <th>9</th>\n",
       "      <td>VAR10</td>\n",
       "      <td>Lending AR% in last 6M</td>\n",
       "      <td>Percentage of internal balance (with XYZEE) on...</td>\n",
       "    </tr>\n",
       "    <tr>\n",
       "      <th>10</th>\n",
       "      <td>VAR11</td>\n",
       "      <td>ExternalBalance</td>\n",
       "      <td>Total balance on external cards</td>\n",
       "    </tr>\n",
       "    <tr>\n",
       "      <th>11</th>\n",
       "      <td>VAR12</td>\n",
       "      <td>Months in Business</td>\n",
       "      <td>Total number of months the entity has been in ...</td>\n",
       "    </tr>\n",
       "    <tr>\n",
       "      <th>12</th>\n",
       "      <td>VAR13</td>\n",
       "      <td>preferred_spend_line</td>\n",
       "      <td>The credit line on external card with maximum ...</td>\n",
       "    </tr>\n",
       "    <tr>\n",
       "      <th>13</th>\n",
       "      <td>VAR14</td>\n",
       "      <td>total_cards</td>\n",
       "      <td>Number of accounts with XYZEE associated with ...</td>\n",
       "    </tr>\n",
       "    <tr>\n",
       "      <th>14</th>\n",
       "      <td>VAR15</td>\n",
       "      <td>preferred_bal_line</td>\n",
       "      <td>The credit line on external card with maximum ...</td>\n",
       "    </tr>\n",
       "    <tr>\n",
       "      <th>15</th>\n",
       "      <td>VAR16</td>\n",
       "      <td>preavgremit1_3_all</td>\n",
       "      <td>Average amount paid towards card bills in the ...</td>\n",
       "    </tr>\n",
       "    <tr>\n",
       "      <th>16</th>\n",
       "      <td>VAR17</td>\n",
       "      <td>External_rev_rate</td>\n",
       "      <td>The average daily balance as a percentage of c...</td>\n",
       "    </tr>\n",
       "    <tr>\n",
       "      <th>17</th>\n",
       "      <td>VAR18</td>\n",
       "      <td>Supplementary Cards</td>\n",
       "      <td>Number of supplementary cards issued on the sa...</td>\n",
       "    </tr>\n",
       "    <tr>\n",
       "      <th>18</th>\n",
       "      <td>VAR19</td>\n",
       "      <td>isChargeCust</td>\n",
       "      <td>Indicator saying whether the customer also has...</td>\n",
       "    </tr>\n",
       "    <tr>\n",
       "      <th>19</th>\n",
       "      <td>VAR20</td>\n",
       "      <td>CMV</td>\n",
       "      <td>This is the lifetime value associated with eac...</td>\n",
       "    </tr>\n",
       "    <tr>\n",
       "      <th>20</th>\n",
       "      <td>VAR21</td>\n",
       "      <td>Assigned Line</td>\n",
       "      <td>This is the segment of credit line provided to...</td>\n",
       "    </tr>\n",
       "    <tr>\n",
       "      <th>21</th>\n",
       "      <td>NaN</td>\n",
       "      <td>NaN</td>\n",
       "      <td>NaN</td>\n",
       "    </tr>\n",
       "    <tr>\n",
       "      <th>22</th>\n",
       "      <td>NaN</td>\n",
       "      <td>Additional Definitions</td>\n",
       "      <td>NaN</td>\n",
       "    </tr>\n",
       "    <tr>\n",
       "      <th>23</th>\n",
       "      <td>NaN</td>\n",
       "      <td>Credit Line</td>\n",
       "      <td>A credit line is the amount of money that can ...</td>\n",
       "    </tr>\n",
       "    <tr>\n",
       "      <th>24</th>\n",
       "      <td>NaN</td>\n",
       "      <td>Average Daily Balance</td>\n",
       "      <td>It is the sum of the balance on each day of t...</td>\n",
       "    </tr>\n",
       "    <tr>\n",
       "      <th>25</th>\n",
       "      <td>NaN</td>\n",
       "      <td>External</td>\n",
       "      <td>Metrics associated with products or accounts w...</td>\n",
       "    </tr>\n",
       "    <tr>\n",
       "      <th>26</th>\n",
       "      <td>NaN</td>\n",
       "      <td>Charge Card</td>\n",
       "      <td>A charge card accumulates no interest but the ...</td>\n",
       "    </tr>\n",
       "  </tbody>\n",
       "</table>\n",
       "</div>"
      ],
      "text/plain": [
       "   Unnamed: 0           Variable Name  \\\n",
       "0        VAR1                      ID   \n",
       "1        VAR2                    FICO   \n",
       "2        VAR3        Business Revenue   \n",
       "3        VAR4                     TSR   \n",
       "4        VAR5        Last 6M Avg Util   \n",
       "5        VAR6                  Income   \n",
       "6        VAR7       Last 6M Avg Remit   \n",
       "7        VAR8         Last 6M Avg Bal   \n",
       "8        VAR9        Internal Revolve   \n",
       "9       VAR10  Lending AR% in last 6M   \n",
       "10      VAR11         ExternalBalance   \n",
       "11      VAR12      Months in Business   \n",
       "12      VAR13    preferred_spend_line   \n",
       "13      VAR14             total_cards   \n",
       "14      VAR15      preferred_bal_line   \n",
       "15      VAR16      preavgremit1_3_all   \n",
       "16      VAR17       External_rev_rate   \n",
       "17      VAR18     Supplementary Cards   \n",
       "18      VAR19            isChargeCust   \n",
       "19      VAR20                     CMV   \n",
       "20      VAR21           Assigned Line   \n",
       "21        NaN                     NaN   \n",
       "22        NaN  Additional Definitions   \n",
       "23        NaN             Credit Line   \n",
       "24        NaN   Average Daily Balance   \n",
       "25        NaN               External    \n",
       "26        NaN             Charge Card   \n",
       "\n",
       "                                           Definition  \n",
       "0                      The identifier for the account  \n",
       "1   Credit score associated with account. Takes in...  \n",
       "2                    Reported annual business revenue  \n",
       "3   Risk score associated with probability of defa...  \n",
       "4   Average utilization of credit line in the last...  \n",
       "5                     Reported annual business income  \n",
       "6   Average amount paid towards card bills in the ...  \n",
       "7   Average balance on each card in the last 6 months  \n",
       "8   The average daily balance as a percentage of c...  \n",
       "9   Percentage of internal balance (with XYZEE) on...  \n",
       "10                    Total balance on external cards  \n",
       "11  Total number of months the entity has been in ...  \n",
       "12  The credit line on external card with maximum ...  \n",
       "13  Number of accounts with XYZEE associated with ...  \n",
       "14  The credit line on external card with maximum ...  \n",
       "15  Average amount paid towards card bills in the ...  \n",
       "16  The average daily balance as a percentage of c...  \n",
       "17  Number of supplementary cards issued on the sa...  \n",
       "18  Indicator saying whether the customer also has...  \n",
       "19  This is the lifetime value associated with eac...  \n",
       "20  This is the segment of credit line provided to...  \n",
       "21                                                NaN  \n",
       "22                                                NaN  \n",
       "23  A credit line is the amount of money that can ...  \n",
       "24   It is the sum of the balance on each day of t...  \n",
       "25  Metrics associated with products or accounts w...  \n",
       "26  A charge card accumulates no interest but the ...  "
      ]
     },
     "execution_count": 6,
     "metadata": {},
     "output_type": "execute_result"
    }
   ],
   "source": [
    "df_dict"
   ]
  },
  {
   "cell_type": "code",
   "execution_count": 7,
   "metadata": {},
   "outputs": [
    {
     "data": {
      "text/html": [
       "<div>\n",
       "<style scoped>\n",
       "    .dataframe tbody tr th:only-of-type {\n",
       "        vertical-align: middle;\n",
       "    }\n",
       "\n",
       "    .dataframe tbody tr th {\n",
       "        vertical-align: top;\n",
       "    }\n",
       "\n",
       "    .dataframe thead th {\n",
       "        text-align: right;\n",
       "    }\n",
       "</style>\n",
       "<table border=\"1\" class=\"dataframe\">\n",
       "  <thead>\n",
       "    <tr style=\"text-align: right;\">\n",
       "      <th></th>\n",
       "      <th>VAR1</th>\n",
       "      <th>VAR2</th>\n",
       "      <th>VAR3</th>\n",
       "      <th>VAR4</th>\n",
       "      <th>VAR5</th>\n",
       "      <th>VAR6</th>\n",
       "      <th>VAR7</th>\n",
       "      <th>VAR8</th>\n",
       "      <th>VAR9</th>\n",
       "      <th>VAR10</th>\n",
       "      <th>...</th>\n",
       "      <th>VAR12</th>\n",
       "      <th>VAR13</th>\n",
       "      <th>VAR14</th>\n",
       "      <th>VAR15</th>\n",
       "      <th>VAR16</th>\n",
       "      <th>VAR17</th>\n",
       "      <th>VAR18</th>\n",
       "      <th>VAR19</th>\n",
       "      <th>VAR20</th>\n",
       "      <th>VAR21</th>\n",
       "    </tr>\n",
       "  </thead>\n",
       "  <tbody>\n",
       "    <tr>\n",
       "      <th>0</th>\n",
       "      <td>1</td>\n",
       "      <td>828.235294</td>\n",
       "      <td>0.138889</td>\n",
       "      <td>321.428571</td>\n",
       "      <td>625.911006</td>\n",
       "      <td>1.818182</td>\n",
       "      <td>1.081550</td>\n",
       "      <td>198.113469</td>\n",
       "      <td>NaN</td>\n",
       "      <td>58.632548</td>\n",
       "      <td>...</td>\n",
       "      <td>100.083403</td>\n",
       "      <td>1.0</td>\n",
       "      <td>1</td>\n",
       "      <td>1.0</td>\n",
       "      <td>1.540594</td>\n",
       "      <td>NaN</td>\n",
       "      <td>1</td>\n",
       "      <td>0</td>\n",
       "      <td>100.104991</td>\n",
       "      <td>Low</td>\n",
       "    </tr>\n",
       "    <tr>\n",
       "      <th>1</th>\n",
       "      <td>2</td>\n",
       "      <td>911.764706</td>\n",
       "      <td>0.027778</td>\n",
       "      <td>NaN</td>\n",
       "      <td>611.574748</td>\n",
       "      <td>8.181818</td>\n",
       "      <td>1.344479</td>\n",
       "      <td>198.600020</td>\n",
       "      <td>22.086661</td>\n",
       "      <td>NaN</td>\n",
       "      <td>...</td>\n",
       "      <td>15.012510</td>\n",
       "      <td>NaN</td>\n",
       "      <td>1</td>\n",
       "      <td>NaN</td>\n",
       "      <td>1.614613</td>\n",
       "      <td>NaN</td>\n",
       "      <td>0</td>\n",
       "      <td>1</td>\n",
       "      <td>146.654045</td>\n",
       "      <td>High</td>\n",
       "    </tr>\n",
       "    <tr>\n",
       "      <th>2</th>\n",
       "      <td>3</td>\n",
       "      <td>962.352941</td>\n",
       "      <td>0.833333</td>\n",
       "      <td>35.714286</td>\n",
       "      <td>615.825381</td>\n",
       "      <td>8.181818</td>\n",
       "      <td>0.720796</td>\n",
       "      <td>197.267767</td>\n",
       "      <td>NaN</td>\n",
       "      <td>58.632548</td>\n",
       "      <td>...</td>\n",
       "      <td>210.175146</td>\n",
       "      <td>10.0</td>\n",
       "      <td>1</td>\n",
       "      <td>10.0</td>\n",
       "      <td>1.044599</td>\n",
       "      <td>NaN</td>\n",
       "      <td>0</td>\n",
       "      <td>0</td>\n",
       "      <td>98.249570</td>\n",
       "      <td>Medium</td>\n",
       "    </tr>\n",
       "    <tr>\n",
       "      <th>3</th>\n",
       "      <td>4</td>\n",
       "      <td>892.941177</td>\n",
       "      <td>NaN</td>\n",
       "      <td>NaN</td>\n",
       "      <td>638.076431</td>\n",
       "      <td>9.090909</td>\n",
       "      <td>0.820218</td>\n",
       "      <td>197.355744</td>\n",
       "      <td>4.363431</td>\n",
       "      <td>58.632548</td>\n",
       "      <td>...</td>\n",
       "      <td>NaN</td>\n",
       "      <td>NaN</td>\n",
       "      <td>1</td>\n",
       "      <td>NaN</td>\n",
       "      <td>1.145729</td>\n",
       "      <td>NaN</td>\n",
       "      <td>1</td>\n",
       "      <td>0</td>\n",
       "      <td>140.862306</td>\n",
       "      <td>Low</td>\n",
       "    </tr>\n",
       "    <tr>\n",
       "      <th>4</th>\n",
       "      <td>5</td>\n",
       "      <td>914.117647</td>\n",
       "      <td>0.083333</td>\n",
       "      <td>NaN</td>\n",
       "      <td>626.514988</td>\n",
       "      <td>5.181818</td>\n",
       "      <td>1.372928</td>\n",
       "      <td>198.790477</td>\n",
       "      <td>85.938202</td>\n",
       "      <td>58.632548</td>\n",
       "      <td>...</td>\n",
       "      <td>210.175146</td>\n",
       "      <td>NaN</td>\n",
       "      <td>.</td>\n",
       "      <td>NaN</td>\n",
       "      <td>1.558341</td>\n",
       "      <td>NaN</td>\n",
       "      <td>1</td>\n",
       "      <td>0</td>\n",
       "      <td>101.268503</td>\n",
       "      <td>High</td>\n",
       "    </tr>\n",
       "  </tbody>\n",
       "</table>\n",
       "<p>5 rows × 21 columns</p>\n",
       "</div>"
      ],
      "text/plain": [
       "   VAR1        VAR2      VAR3        VAR4        VAR5      VAR6      VAR7  \\\n",
       "0     1  828.235294  0.138889  321.428571  625.911006  1.818182  1.081550   \n",
       "1     2  911.764706  0.027778         NaN  611.574748  8.181818  1.344479   \n",
       "2     3  962.352941  0.833333   35.714286  615.825381  8.181818  0.720796   \n",
       "3     4  892.941177       NaN         NaN  638.076431  9.090909  0.820218   \n",
       "4     5  914.117647  0.083333         NaN  626.514988  5.181818  1.372928   \n",
       "\n",
       "         VAR8       VAR9      VAR10  ...       VAR12  VAR13  VAR14 VAR15  \\\n",
       "0  198.113469        NaN  58.632548  ...  100.083403    1.0      1   1.0   \n",
       "1  198.600020  22.086661        NaN  ...   15.012510    NaN      1   NaN   \n",
       "2  197.267767        NaN  58.632548  ...  210.175146   10.0      1  10.0   \n",
       "3  197.355744   4.363431  58.632548  ...         NaN    NaN      1   NaN   \n",
       "4  198.790477  85.938202  58.632548  ...  210.175146    NaN      .   NaN   \n",
       "\n",
       "      VAR16  VAR17  VAR18  VAR19       VAR20   VAR21  \n",
       "0  1.540594    NaN      1      0  100.104991     Low  \n",
       "1  1.614613    NaN      0      1  146.654045    High  \n",
       "2  1.044599    NaN      0      0   98.249570  Medium  \n",
       "3  1.145729    NaN      1      0  140.862306     Low  \n",
       "4  1.558341    NaN      1      0  101.268503    High  \n",
       "\n",
       "[5 rows x 21 columns]"
      ]
     },
     "execution_count": 7,
     "metadata": {},
     "output_type": "execute_result"
    }
   ],
   "source": [
    "df_train.head()"
   ]
  },
  {
   "cell_type": "code",
   "execution_count": 8,
   "metadata": {},
   "outputs": [
    {
     "data": {
      "text/html": [
       "<div>\n",
       "<style scoped>\n",
       "    .dataframe tbody tr th:only-of-type {\n",
       "        vertical-align: middle;\n",
       "    }\n",
       "\n",
       "    .dataframe tbody tr th {\n",
       "        vertical-align: top;\n",
       "    }\n",
       "\n",
       "    .dataframe thead th {\n",
       "        text-align: right;\n",
       "    }\n",
       "</style>\n",
       "<table border=\"1\" class=\"dataframe\">\n",
       "  <thead>\n",
       "    <tr style=\"text-align: right;\">\n",
       "      <th></th>\n",
       "      <th>VAR1</th>\n",
       "      <th>VAR2</th>\n",
       "      <th>VAR3</th>\n",
       "      <th>VAR4</th>\n",
       "      <th>VAR5</th>\n",
       "      <th>VAR6</th>\n",
       "      <th>VAR7</th>\n",
       "      <th>VAR8</th>\n",
       "      <th>VAR9</th>\n",
       "      <th>VAR10</th>\n",
       "      <th>VAR11</th>\n",
       "      <th>VAR12</th>\n",
       "      <th>VAR13</th>\n",
       "      <th>VAR14</th>\n",
       "      <th>VAR15</th>\n",
       "      <th>VAR16</th>\n",
       "      <th>VAR17</th>\n",
       "      <th>VAR18</th>\n",
       "      <th>VAR19</th>\n",
       "      <th>VAR20</th>\n",
       "    </tr>\n",
       "  </thead>\n",
       "  <tbody>\n",
       "    <tr>\n",
       "      <th>0</th>\n",
       "      <td>1</td>\n",
       "      <td>878.823529</td>\n",
       "      <td>0.833333</td>\n",
       "      <td>821.428571</td>\n",
       "      <td>620.835806</td>\n",
       "      <td>5.181818</td>\n",
       "      <td>0.833974</td>\n",
       "      <td>197.500187</td>\n",
       "      <td>NaN</td>\n",
       "      <td>58.632548</td>\n",
       "      <td>9.433609</td>\n",
       "      <td>40.033361</td>\n",
       "      <td>10.000000</td>\n",
       "      <td>2</td>\n",
       "      <td>10.000000</td>\n",
       "      <td>1.212784</td>\n",
       "      <td>1000.00</td>\n",
       "      <td>1</td>\n",
       "      <td>0</td>\n",
       "      <td>48.099828</td>\n",
       "    </tr>\n",
       "    <tr>\n",
       "      <th>1</th>\n",
       "      <td>2</td>\n",
       "      <td>891.764706</td>\n",
       "      <td>0.138889</td>\n",
       "      <td>357.142857</td>\n",
       "      <td>614.092215</td>\n",
       "      <td>3.909091</td>\n",
       "      <td>0.595187</td>\n",
       "      <td>197.016843</td>\n",
       "      <td>253.896073</td>\n",
       "      <td>58.632548</td>\n",
       "      <td>10.144612</td>\n",
       "      <td>NaN</td>\n",
       "      <td>5.666667</td>\n",
       "      <td>1</td>\n",
       "      <td>7.600000</td>\n",
       "      <td>1.004907</td>\n",
       "      <td>992.55</td>\n",
       "      <td>0</td>\n",
       "      <td>0</td>\n",
       "      <td>104.018933</td>\n",
       "    </tr>\n",
       "    <tr>\n",
       "      <th>2</th>\n",
       "      <td>3</td>\n",
       "      <td>955.294118</td>\n",
       "      <td>0.055556</td>\n",
       "      <td>NaN</td>\n",
       "      <td>611.574748</td>\n",
       "      <td>6.363636</td>\n",
       "      <td>0.918652</td>\n",
       "      <td>197.660051</td>\n",
       "      <td>22.086661</td>\n",
       "      <td>NaN</td>\n",
       "      <td>0.583494</td>\n",
       "      <td>NaN</td>\n",
       "      <td>6.000000</td>\n",
       "      <td>1</td>\n",
       "      <td>6.000000</td>\n",
       "      <td>1.157115</td>\n",
       "      <td>NaN</td>\n",
       "      <td>1</td>\n",
       "      <td>1</td>\n",
       "      <td>120.586919</td>\n",
       "    </tr>\n",
       "    <tr>\n",
       "      <th>3</th>\n",
       "      <td>4</td>\n",
       "      <td>831.764706</td>\n",
       "      <td>0.111111</td>\n",
       "      <td>250.000000</td>\n",
       "      <td>617.740617</td>\n",
       "      <td>6.545455</td>\n",
       "      <td>2.383924</td>\n",
       "      <td>200.526288</td>\n",
       "      <td>NaN</td>\n",
       "      <td>48.539365</td>\n",
       "      <td>NaN</td>\n",
       "      <td>NaN</td>\n",
       "      <td>NaN</td>\n",
       "      <td>3</td>\n",
       "      <td>NaN</td>\n",
       "      <td>2.350858</td>\n",
       "      <td>NaN</td>\n",
       "      <td>0</td>\n",
       "      <td>1</td>\n",
       "      <td>168.592083</td>\n",
       "    </tr>\n",
       "    <tr>\n",
       "      <th>4</th>\n",
       "      <td>5</td>\n",
       "      <td>957.647059</td>\n",
       "      <td>0.166667</td>\n",
       "      <td>NaN</td>\n",
       "      <td>623.426802</td>\n",
       "      <td>NaN</td>\n",
       "      <td>0.711240</td>\n",
       "      <td>197.151458</td>\n",
       "      <td>5.013668</td>\n",
       "      <td>49.379748</td>\n",
       "      <td>0.255712</td>\n",
       "      <td>NaN</td>\n",
       "      <td>13.333333</td>\n",
       "      <td>1</td>\n",
       "      <td>13.333333</td>\n",
       "      <td>1.171551</td>\n",
       "      <td>NaN</td>\n",
       "      <td>0</td>\n",
       "      <td>1</td>\n",
       "      <td>109.204819</td>\n",
       "    </tr>\n",
       "  </tbody>\n",
       "</table>\n",
       "</div>"
      ],
      "text/plain": [
       "   VAR1        VAR2      VAR3        VAR4        VAR5      VAR6      VAR7  \\\n",
       "0     1  878.823529  0.833333  821.428571  620.835806  5.181818  0.833974   \n",
       "1     2  891.764706  0.138889  357.142857  614.092215  3.909091  0.595187   \n",
       "2     3  955.294118  0.055556         NaN  611.574748  6.363636  0.918652   \n",
       "3     4  831.764706  0.111111  250.000000  617.740617  6.545455  2.383924   \n",
       "4     5  957.647059  0.166667         NaN  623.426802       NaN  0.711240   \n",
       "\n",
       "         VAR8        VAR9      VAR10      VAR11      VAR12      VAR13 VAR14  \\\n",
       "0  197.500187         NaN  58.632548   9.433609  40.033361  10.000000     2   \n",
       "1  197.016843  253.896073  58.632548  10.144612        NaN   5.666667     1   \n",
       "2  197.660051   22.086661        NaN   0.583494        NaN   6.000000     1   \n",
       "3  200.526288         NaN  48.539365        NaN        NaN        NaN     3   \n",
       "4  197.151458    5.013668  49.379748   0.255712        NaN  13.333333     1   \n",
       "\n",
       "       VAR15     VAR16    VAR17  VAR18  VAR19       VAR20  \n",
       "0  10.000000  1.212784  1000.00      1      0   48.099828  \n",
       "1   7.600000  1.004907   992.55      0      0  104.018933  \n",
       "2   6.000000  1.157115      NaN      1      1  120.586919  \n",
       "3        NaN  2.350858      NaN      0      1  168.592083  \n",
       "4  13.333333  1.171551      NaN      0      1  109.204819  "
      ]
     },
     "execution_count": 8,
     "metadata": {},
     "output_type": "execute_result"
    }
   ],
   "source": [
    "df_lead.head()"
   ]
  },
  {
   "cell_type": "code",
   "execution_count": 9,
   "metadata": {},
   "outputs": [
    {
     "data": {
      "text/plain": [
       "714000"
      ]
     },
     "execution_count": 9,
     "metadata": {},
     "output_type": "execute_result"
    }
   ],
   "source": [
    "df_train.size"
   ]
  },
  {
   "cell_type": "code",
   "execution_count": 10,
   "metadata": {},
   "outputs": [
    {
     "name": "stdout",
     "output_type": "stream",
     "text": [
      "df_train_shape (34000, 21)\n",
      "df_dict_shape (27, 3)\n"
     ]
    }
   ],
   "source": [
    "print('df_train_shape',df_train.shape)\n",
    "print('df_dict_shape',df_dict.shape)"
   ]
  },
  {
   "cell_type": "code",
   "execution_count": 11,
   "metadata": {},
   "outputs": [
    {
     "data": {
      "text/html": [
       "<div>\n",
       "<style scoped>\n",
       "    .dataframe tbody tr th:only-of-type {\n",
       "        vertical-align: middle;\n",
       "    }\n",
       "\n",
       "    .dataframe tbody tr th {\n",
       "        vertical-align: top;\n",
       "    }\n",
       "\n",
       "    .dataframe thead th {\n",
       "        text-align: right;\n",
       "    }\n",
       "</style>\n",
       "<table border=\"1\" class=\"dataframe\">\n",
       "  <thead>\n",
       "    <tr style=\"text-align: right;\">\n",
       "      <th></th>\n",
       "      <th>VAR1</th>\n",
       "      <th>VAR2</th>\n",
       "      <th>VAR3</th>\n",
       "      <th>VAR4</th>\n",
       "      <th>VAR5</th>\n",
       "      <th>VAR6</th>\n",
       "      <th>VAR7</th>\n",
       "      <th>VAR8</th>\n",
       "      <th>VAR9</th>\n",
       "      <th>VAR10</th>\n",
       "      <th>VAR11</th>\n",
       "      <th>VAR12</th>\n",
       "      <th>VAR13</th>\n",
       "      <th>VAR15</th>\n",
       "      <th>VAR16</th>\n",
       "      <th>VAR17</th>\n",
       "      <th>VAR18</th>\n",
       "      <th>VAR19</th>\n",
       "      <th>VAR20</th>\n",
       "    </tr>\n",
       "  </thead>\n",
       "  <tbody>\n",
       "    <tr>\n",
       "      <th>count</th>\n",
       "      <td>34000.000000</td>\n",
       "      <td>33039.000000</td>\n",
       "      <td>30615.000000</td>\n",
       "      <td>21506.000000</td>\n",
       "      <td>33999.000000</td>\n",
       "      <td>30505.000000</td>\n",
       "      <td>33165.000000</td>\n",
       "      <td>33165.000000</td>\n",
       "      <td>18183.000000</td>\n",
       "      <td>29450.000000</td>\n",
       "      <td>26435.000000</td>\n",
       "      <td>23498.000000</td>\n",
       "      <td>25478.000000</td>\n",
       "      <td>25976.000000</td>\n",
       "      <td>33134.000000</td>\n",
       "      <td>11806.000000</td>\n",
       "      <td>34000.000000</td>\n",
       "      <td>34000.000000</td>\n",
       "      <td>34000.000000</td>\n",
       "    </tr>\n",
       "    <tr>\n",
       "      <th>mean</th>\n",
       "      <td>17000.500000</td>\n",
       "      <td>917.391603</td>\n",
       "      <td>1.119596</td>\n",
       "      <td>248.076201</td>\n",
       "      <td>631.571391</td>\n",
       "      <td>15.290028</td>\n",
       "      <td>2.055295</td>\n",
       "      <td>200.007169</td>\n",
       "      <td>53.988554</td>\n",
       "      <td>56.497320</td>\n",
       "      <td>5.429062</td>\n",
       "      <td>117.283667</td>\n",
       "      <td>11.679589</td>\n",
       "      <td>12.453257</td>\n",
       "      <td>2.092006</td>\n",
       "      <td>821.281092</td>\n",
       "      <td>0.400029</td>\n",
       "      <td>0.298059</td>\n",
       "      <td>161.355950</td>\n",
       "    </tr>\n",
       "    <tr>\n",
       "      <th>std</th>\n",
       "      <td>9815.098913</td>\n",
       "      <td>50.222389</td>\n",
       "      <td>12.714724</td>\n",
       "      <td>241.167723</td>\n",
       "      <td>30.863288</td>\n",
       "      <td>29.123815</td>\n",
       "      <td>8.960891</td>\n",
       "      <td>11.282223</td>\n",
       "      <td>84.573655</td>\n",
       "      <td>6.861058</td>\n",
       "      <td>11.433905</td>\n",
       "      <td>120.628594</td>\n",
       "      <td>11.063966</td>\n",
       "      <td>12.084965</td>\n",
       "      <td>8.051804</td>\n",
       "      <td>262.338240</td>\n",
       "      <td>0.684850</td>\n",
       "      <td>0.457412</td>\n",
       "      <td>123.231136</td>\n",
       "    </tr>\n",
       "    <tr>\n",
       "      <th>min</th>\n",
       "      <td>1.000000</td>\n",
       "      <td>730.588235</td>\n",
       "      <td>0.001333</td>\n",
       "      <td>18.928571</td>\n",
       "      <td>347.053355</td>\n",
       "      <td>0.005000</td>\n",
       "      <td>0.353228</td>\n",
       "      <td>0.000000</td>\n",
       "      <td>0.004278</td>\n",
       "      <td>13.028620</td>\n",
       "      <td>0.000693</td>\n",
       "      <td>0.834028</td>\n",
       "      <td>0.082667</td>\n",
       "      <td>0.133333</td>\n",
       "      <td>0.959315</td>\n",
       "      <td>0.130000</td>\n",
       "      <td>0.000000</td>\n",
       "      <td>0.000000</td>\n",
       "      <td>0.000000</td>\n",
       "    </tr>\n",
       "    <tr>\n",
       "      <th>25%</th>\n",
       "      <td>8500.750000</td>\n",
       "      <td>882.352941</td>\n",
       "      <td>0.083333</td>\n",
       "      <td>71.428571</td>\n",
       "      <td>611.691167</td>\n",
       "      <td>6.636364</td>\n",
       "      <td>0.691201</td>\n",
       "      <td>197.196716</td>\n",
       "      <td>8.784613</td>\n",
       "      <td>57.458373</td>\n",
       "      <td>0.638239</td>\n",
       "      <td>15.012510</td>\n",
       "      <td>5.666667</td>\n",
       "      <td>6.666667</td>\n",
       "      <td>1.040125</td>\n",
       "      <td>732.662500</td>\n",
       "      <td>0.000000</td>\n",
       "      <td>0.000000</td>\n",
       "      <td>104.385542</td>\n",
       "    </tr>\n",
       "    <tr>\n",
       "      <th>50%</th>\n",
       "      <td>17000.500000</td>\n",
       "      <td>924.705882</td>\n",
       "      <td>0.166667</td>\n",
       "      <td>142.857143</td>\n",
       "      <td>619.802909</td>\n",
       "      <td>10.000000</td>\n",
       "      <td>0.998093</td>\n",
       "      <td>197.912501</td>\n",
       "      <td>22.086661</td>\n",
       "      <td>58.632548</td>\n",
       "      <td>2.098360</td>\n",
       "      <td>80.066722</td>\n",
       "      <td>10.000000</td>\n",
       "      <td>10.000000</td>\n",
       "      <td>1.262747</td>\n",
       "      <td>965.345000</td>\n",
       "      <td>0.000000</td>\n",
       "      <td>0.000000</td>\n",
       "      <td>117.493115</td>\n",
       "    </tr>\n",
       "    <tr>\n",
       "      <th>75%</th>\n",
       "      <td>25500.250000</td>\n",
       "      <td>956.470588</td>\n",
       "      <td>0.555556</td>\n",
       "      <td>357.142857</td>\n",
       "      <td>637.450565</td>\n",
       "      <td>18.181818</td>\n",
       "      <td>1.735250</td>\n",
       "      <td>199.687427</td>\n",
       "      <td>58.559811</td>\n",
       "      <td>58.632548</td>\n",
       "      <td>6.043179</td>\n",
       "      <td>193.494579</td>\n",
       "      <td>15.333333</td>\n",
       "      <td>16.400000</td>\n",
       "      <td>1.827486</td>\n",
       "      <td>1000.000000</td>\n",
       "      <td>1.000000</td>\n",
       "      <td>1.000000</td>\n",
       "      <td>159.446213</td>\n",
       "    </tr>\n",
       "    <tr>\n",
       "      <th>max</th>\n",
       "      <td>34000.000000</td>\n",
       "      <td>1000.000000</td>\n",
       "      <td>1000.000000</td>\n",
       "      <td>1000.000000</td>\n",
       "      <td>1000.000000</td>\n",
       "      <td>909.090818</td>\n",
       "      <td>681.582083</td>\n",
       "      <td>1000.000000</td>\n",
       "      <td>993.061289</td>\n",
       "      <td>1000.000000</td>\n",
       "      <td>824.334457</td>\n",
       "      <td>1000.000000</td>\n",
       "      <td>775.000000</td>\n",
       "      <td>775.000000</td>\n",
       "      <td>1000.000000</td>\n",
       "      <td>1000.000000</td>\n",
       "      <td>14.000000</td>\n",
       "      <td>1.000000</td>\n",
       "      <td>1000.000000</td>\n",
       "    </tr>\n",
       "  </tbody>\n",
       "</table>\n",
       "</div>"
      ],
      "text/plain": [
       "               VAR1          VAR2          VAR3          VAR4          VAR5  \\\n",
       "count  34000.000000  33039.000000  30615.000000  21506.000000  33999.000000   \n",
       "mean   17000.500000    917.391603      1.119596    248.076201    631.571391   \n",
       "std     9815.098913     50.222389     12.714724    241.167723     30.863288   \n",
       "min        1.000000    730.588235      0.001333     18.928571    347.053355   \n",
       "25%     8500.750000    882.352941      0.083333     71.428571    611.691167   \n",
       "50%    17000.500000    924.705882      0.166667    142.857143    619.802909   \n",
       "75%    25500.250000    956.470588      0.555556    357.142857    637.450565   \n",
       "max    34000.000000   1000.000000   1000.000000   1000.000000   1000.000000   \n",
       "\n",
       "               VAR6          VAR7          VAR8          VAR9         VAR10  \\\n",
       "count  30505.000000  33165.000000  33165.000000  18183.000000  29450.000000   \n",
       "mean      15.290028      2.055295    200.007169     53.988554     56.497320   \n",
       "std       29.123815      8.960891     11.282223     84.573655      6.861058   \n",
       "min        0.005000      0.353228      0.000000      0.004278     13.028620   \n",
       "25%        6.636364      0.691201    197.196716      8.784613     57.458373   \n",
       "50%       10.000000      0.998093    197.912501     22.086661     58.632548   \n",
       "75%       18.181818      1.735250    199.687427     58.559811     58.632548   \n",
       "max      909.090818    681.582083   1000.000000    993.061289   1000.000000   \n",
       "\n",
       "              VAR11         VAR12         VAR13         VAR15         VAR16  \\\n",
       "count  26435.000000  23498.000000  25478.000000  25976.000000  33134.000000   \n",
       "mean       5.429062    117.283667     11.679589     12.453257      2.092006   \n",
       "std       11.433905    120.628594     11.063966     12.084965      8.051804   \n",
       "min        0.000693      0.834028      0.082667      0.133333      0.959315   \n",
       "25%        0.638239     15.012510      5.666667      6.666667      1.040125   \n",
       "50%        2.098360     80.066722     10.000000     10.000000      1.262747   \n",
       "75%        6.043179    193.494579     15.333333     16.400000      1.827486   \n",
       "max      824.334457   1000.000000    775.000000    775.000000   1000.000000   \n",
       "\n",
       "              VAR17         VAR18         VAR19         VAR20  \n",
       "count  11806.000000  34000.000000  34000.000000  34000.000000  \n",
       "mean     821.281092      0.400029      0.298059    161.355950  \n",
       "std      262.338240      0.684850      0.457412    123.231136  \n",
       "min        0.130000      0.000000      0.000000      0.000000  \n",
       "25%      732.662500      0.000000      0.000000    104.385542  \n",
       "50%      965.345000      0.000000      0.000000    117.493115  \n",
       "75%     1000.000000      1.000000      1.000000    159.446213  \n",
       "max     1000.000000     14.000000      1.000000   1000.000000  "
      ]
     },
     "execution_count": 11,
     "metadata": {},
     "output_type": "execute_result"
    }
   ],
   "source": [
    "df_train.describe()"
   ]
  },
  {
   "cell_type": "code",
   "execution_count": 12,
   "metadata": {},
   "outputs": [
    {
     "name": "stdout",
     "output_type": "stream",
     "text": [
      "<class 'pandas.core.frame.DataFrame'>\n",
      "RangeIndex: 34000 entries, 0 to 33999\n",
      "Data columns (total 21 columns):\n",
      "VAR1     34000 non-null int64\n",
      "VAR2     33039 non-null float64\n",
      "VAR3     30615 non-null float64\n",
      "VAR4     21506 non-null float64\n",
      "VAR5     33999 non-null float64\n",
      "VAR6     30505 non-null float64\n",
      "VAR7     33165 non-null float64\n",
      "VAR8     33165 non-null float64\n",
      "VAR9     18183 non-null float64\n",
      "VAR10    29450 non-null float64\n",
      "VAR11    26435 non-null float64\n",
      "VAR12    23498 non-null float64\n",
      "VAR13    25478 non-null float64\n",
      "VAR14    34000 non-null object\n",
      "VAR15    25976 non-null float64\n",
      "VAR16    33134 non-null float64\n",
      "VAR17    11806 non-null float64\n",
      "VAR18    34000 non-null int64\n",
      "VAR19    34000 non-null int64\n",
      "VAR20    34000 non-null float64\n",
      "VAR21    34000 non-null object\n",
      "dtypes: float64(16), int64(3), object(2)\n",
      "memory usage: 5.4+ MB\n"
     ]
    }
   ],
   "source": [
    "df_train.info()"
   ]
  },
  {
   "cell_type": "code",
   "execution_count": 13,
   "metadata": {},
   "outputs": [],
   "source": [
    "#df_train.describe"
   ]
  },
  {
   "cell_type": "code",
   "execution_count": 14,
   "metadata": {},
   "outputs": [
    {
     "data": {
      "text/html": [
       "<div>\n",
       "<style scoped>\n",
       "    .dataframe tbody tr th:only-of-type {\n",
       "        vertical-align: middle;\n",
       "    }\n",
       "\n",
       "    .dataframe tbody tr th {\n",
       "        vertical-align: top;\n",
       "    }\n",
       "\n",
       "    .dataframe thead th {\n",
       "        text-align: right;\n",
       "    }\n",
       "</style>\n",
       "<table border=\"1\" class=\"dataframe\">\n",
       "  <thead>\n",
       "    <tr style=\"text-align: right;\">\n",
       "      <th></th>\n",
       "      <th>VAR1</th>\n",
       "      <th>VAR2</th>\n",
       "      <th>VAR3</th>\n",
       "      <th>VAR4</th>\n",
       "      <th>VAR5</th>\n",
       "      <th>VAR6</th>\n",
       "      <th>VAR7</th>\n",
       "      <th>VAR8</th>\n",
       "      <th>VAR9</th>\n",
       "      <th>VAR10</th>\n",
       "      <th>VAR11</th>\n",
       "      <th>VAR12</th>\n",
       "      <th>VAR13</th>\n",
       "      <th>VAR15</th>\n",
       "      <th>VAR16</th>\n",
       "      <th>VAR17</th>\n",
       "      <th>VAR18</th>\n",
       "      <th>VAR19</th>\n",
       "      <th>VAR20</th>\n",
       "    </tr>\n",
       "  </thead>\n",
       "  <tbody>\n",
       "    <tr>\n",
       "      <th>count</th>\n",
       "      <td>10000.00000</td>\n",
       "      <td>9733.000000</td>\n",
       "      <td>9063.000000</td>\n",
       "      <td>6314.000000</td>\n",
       "      <td>10000.000000</td>\n",
       "      <td>8942.000000</td>\n",
       "      <td>9785.000000</td>\n",
       "      <td>9785.000000</td>\n",
       "      <td>5299.000000</td>\n",
       "      <td>8652.000000</td>\n",
       "      <td>7769.000000</td>\n",
       "      <td>6799.000000</td>\n",
       "      <td>7507.000000</td>\n",
       "      <td>7641.000000</td>\n",
       "      <td>9771.000000</td>\n",
       "      <td>3457.000000</td>\n",
       "      <td>10000.000000</td>\n",
       "      <td>10000.000000</td>\n",
       "      <td>10000.000000</td>\n",
       "    </tr>\n",
       "    <tr>\n",
       "      <th>mean</th>\n",
       "      <td>5000.50000</td>\n",
       "      <td>917.904763</td>\n",
       "      <td>1.222283</td>\n",
       "      <td>244.745633</td>\n",
       "      <td>631.374549</td>\n",
       "      <td>15.185077</td>\n",
       "      <td>1.947810</td>\n",
       "      <td>199.913487</td>\n",
       "      <td>52.961466</td>\n",
       "      <td>56.432554</td>\n",
       "      <td>5.326532</td>\n",
       "      <td>114.775746</td>\n",
       "      <td>11.900945</td>\n",
       "      <td>12.720950</td>\n",
       "      <td>1.992517</td>\n",
       "      <td>821.796838</td>\n",
       "      <td>0.400600</td>\n",
       "      <td>0.302500</td>\n",
       "      <td>161.013031</td>\n",
       "    </tr>\n",
       "    <tr>\n",
       "      <th>std</th>\n",
       "      <td>2886.89568</td>\n",
       "      <td>50.534988</td>\n",
       "      <td>13.254280</td>\n",
       "      <td>240.709776</td>\n",
       "      <td>30.892544</td>\n",
       "      <td>30.895939</td>\n",
       "      <td>5.081216</td>\n",
       "      <td>8.536389</td>\n",
       "      <td>81.424117</td>\n",
       "      <td>4.097975</td>\n",
       "      <td>14.614213</td>\n",
       "      <td>120.012642</td>\n",
       "      <td>16.276969</td>\n",
       "      <td>17.203552</td>\n",
       "      <td>3.904421</td>\n",
       "      <td>262.824441</td>\n",
       "      <td>0.716778</td>\n",
       "      <td>0.459364</td>\n",
       "      <td>122.318602</td>\n",
       "    </tr>\n",
       "    <tr>\n",
       "      <th>min</th>\n",
       "      <td>1.00000</td>\n",
       "      <td>725.882353</td>\n",
       "      <td>0.001333</td>\n",
       "      <td>34.642857</td>\n",
       "      <td>295.765648</td>\n",
       "      <td>0.008727</td>\n",
       "      <td>0.559710</td>\n",
       "      <td>191.443507</td>\n",
       "      <td>0.081280</td>\n",
       "      <td>2.101494</td>\n",
       "      <td>0.000693</td>\n",
       "      <td>0.834028</td>\n",
       "      <td>0.054000</td>\n",
       "      <td>0.054000</td>\n",
       "      <td>0.959315</td>\n",
       "      <td>0.000000</td>\n",
       "      <td>0.000000</td>\n",
       "      <td>0.000000</td>\n",
       "      <td>0.000000</td>\n",
       "    </tr>\n",
       "    <tr>\n",
       "      <th>25%</th>\n",
       "      <td>2500.75000</td>\n",
       "      <td>881.176471</td>\n",
       "      <td>0.083333</td>\n",
       "      <td>71.428571</td>\n",
       "      <td>611.683289</td>\n",
       "      <td>6.636364</td>\n",
       "      <td>0.689715</td>\n",
       "      <td>197.193266</td>\n",
       "      <td>8.780335</td>\n",
       "      <td>57.137997</td>\n",
       "      <td>0.647248</td>\n",
       "      <td>15.012510</td>\n",
       "      <td>5.666667</td>\n",
       "      <td>6.666667</td>\n",
       "      <td>1.039381</td>\n",
       "      <td>733.120000</td>\n",
       "      <td>0.000000</td>\n",
       "      <td>0.000000</td>\n",
       "      <td>104.438038</td>\n",
       "    </tr>\n",
       "    <tr>\n",
       "      <th>50%</th>\n",
       "      <td>5000.50000</td>\n",
       "      <td>925.882353</td>\n",
       "      <td>0.166667</td>\n",
       "      <td>142.857143</td>\n",
       "      <td>619.838798</td>\n",
       "      <td>10.000000</td>\n",
       "      <td>1.005260</td>\n",
       "      <td>197.904229</td>\n",
       "      <td>22.086661</td>\n",
       "      <td>58.632548</td>\n",
       "      <td>2.105289</td>\n",
       "      <td>80.066722</td>\n",
       "      <td>10.000000</td>\n",
       "      <td>10.133333</td>\n",
       "      <td>1.267686</td>\n",
       "      <td>966.590000</td>\n",
       "      <td>0.000000</td>\n",
       "      <td>0.000000</td>\n",
       "      <td>117.569707</td>\n",
       "    </tr>\n",
       "    <tr>\n",
       "      <th>75%</th>\n",
       "      <td>7500.25000</td>\n",
       "      <td>957.647059</td>\n",
       "      <td>0.555556</td>\n",
       "      <td>357.142857</td>\n",
       "      <td>637.280750</td>\n",
       "      <td>18.181818</td>\n",
       "      <td>1.734506</td>\n",
       "      <td>199.628377</td>\n",
       "      <td>59.642113</td>\n",
       "      <td>58.632548</td>\n",
       "      <td>6.053920</td>\n",
       "      <td>188.490409</td>\n",
       "      <td>15.333333</td>\n",
       "      <td>16.600000</td>\n",
       "      <td>1.826885</td>\n",
       "      <td>1000.000000</td>\n",
       "      <td>1.000000</td>\n",
       "      <td>1.000000</td>\n",
       "      <td>160.002151</td>\n",
       "    </tr>\n",
       "    <tr>\n",
       "      <th>max</th>\n",
       "      <td>10000.00000</td>\n",
       "      <td>1000.000000</td>\n",
       "      <td>1000.000000</td>\n",
       "      <td>1000.000000</td>\n",
       "      <td>957.849053</td>\n",
       "      <td>909.090818</td>\n",
       "      <td>224.722562</td>\n",
       "      <td>475.687040</td>\n",
       "      <td>931.742250</td>\n",
       "      <td>93.177335</td>\n",
       "      <td>1000.000000</td>\n",
       "      <td>990.825688</td>\n",
       "      <td>1000.000000</td>\n",
       "      <td>1000.000000</td>\n",
       "      <td>187.777811</td>\n",
       "      <td>1000.000000</td>\n",
       "      <td>23.000000</td>\n",
       "      <td>1.000000</td>\n",
       "      <td>1000.000000</td>\n",
       "    </tr>\n",
       "  </tbody>\n",
       "</table>\n",
       "</div>"
      ],
      "text/plain": [
       "              VAR1         VAR2         VAR3         VAR4          VAR5  \\\n",
       "count  10000.00000  9733.000000  9063.000000  6314.000000  10000.000000   \n",
       "mean    5000.50000   917.904763     1.222283   244.745633    631.374549   \n",
       "std     2886.89568    50.534988    13.254280   240.709776     30.892544   \n",
       "min        1.00000   725.882353     0.001333    34.642857    295.765648   \n",
       "25%     2500.75000   881.176471     0.083333    71.428571    611.683289   \n",
       "50%     5000.50000   925.882353     0.166667   142.857143    619.838798   \n",
       "75%     7500.25000   957.647059     0.555556   357.142857    637.280750   \n",
       "max    10000.00000  1000.000000  1000.000000  1000.000000    957.849053   \n",
       "\n",
       "              VAR6         VAR7         VAR8         VAR9        VAR10  \\\n",
       "count  8942.000000  9785.000000  9785.000000  5299.000000  8652.000000   \n",
       "mean     15.185077     1.947810   199.913487    52.961466    56.432554   \n",
       "std      30.895939     5.081216     8.536389    81.424117     4.097975   \n",
       "min       0.008727     0.559710   191.443507     0.081280     2.101494   \n",
       "25%       6.636364     0.689715   197.193266     8.780335    57.137997   \n",
       "50%      10.000000     1.005260   197.904229    22.086661    58.632548   \n",
       "75%      18.181818     1.734506   199.628377    59.642113    58.632548   \n",
       "max     909.090818   224.722562   475.687040   931.742250    93.177335   \n",
       "\n",
       "             VAR11        VAR12        VAR13        VAR15        VAR16  \\\n",
       "count  7769.000000  6799.000000  7507.000000  7641.000000  9771.000000   \n",
       "mean      5.326532   114.775746    11.900945    12.720950     1.992517   \n",
       "std      14.614213   120.012642    16.276969    17.203552     3.904421   \n",
       "min       0.000693     0.834028     0.054000     0.054000     0.959315   \n",
       "25%       0.647248    15.012510     5.666667     6.666667     1.039381   \n",
       "50%       2.105289    80.066722    10.000000    10.133333     1.267686   \n",
       "75%       6.053920   188.490409    15.333333    16.600000     1.826885   \n",
       "max    1000.000000   990.825688  1000.000000  1000.000000   187.777811   \n",
       "\n",
       "             VAR17         VAR18         VAR19         VAR20  \n",
       "count  3457.000000  10000.000000  10000.000000  10000.000000  \n",
       "mean    821.796838      0.400600      0.302500    161.013031  \n",
       "std     262.824441      0.716778      0.459364    122.318602  \n",
       "min       0.000000      0.000000      0.000000      0.000000  \n",
       "25%     733.120000      0.000000      0.000000    104.438038  \n",
       "50%     966.590000      0.000000      0.000000    117.569707  \n",
       "75%    1000.000000      1.000000      1.000000    160.002151  \n",
       "max    1000.000000     23.000000      1.000000   1000.000000  "
      ]
     },
     "execution_count": 14,
     "metadata": {},
     "output_type": "execute_result"
    }
   ],
   "source": [
    "df_lead.describe()"
   ]
  },
  {
   "cell_type": "markdown",
   "metadata": {},
   "source": [
    "#### Class Information"
   ]
  },
  {
   "cell_type": "code",
   "execution_count": 15,
   "metadata": {},
   "outputs": [
    {
     "data": {
      "text/plain": [
       "Text(0, 0.5, 'Frequency')"
      ]
     },
     "execution_count": 15,
     "metadata": {},
     "output_type": "execute_result"
    },
    {
     "data": {
      "image/png": "[encoded data removed]",
      "text/plain": [
       "<Figure size 432x288 with 1 Axes>"
      ]
     },
     "metadata": {
      "needs_background": "light"
     },
     "output_type": "display_data"
    }
   ],
   "source": [
    "count_classes = pd.value_counts(df_train['VAR21'], sort = True)\n",
    "count_classes.plot(kind = 'bar', rot=0)\n",
    "plt.title(\"Credit Card limit\")\n",
    "#plt.xticks(range(2), LABELS)\n",
    "\n",
    "plt.xlabel(\"Class\")\n",
    "\n",
    "plt.ylabel(\"Frequency\")"
   ]
  },
  {
   "cell_type": "markdown",
   "metadata": {},
   "source": [
    "### Data Preprocessing "
   ]
  },
  {
   "cell_type": "markdown",
   "metadata": {},
   "source": [
    "##### Missing data hendelling"
   ]
  },
  {
   "cell_type": "code",
   "execution_count": 16,
   "metadata": {},
   "outputs": [],
   "source": [
    "def get_percentage_missing(series):\n",
    "    \"\"\" Calculates percentage of NaN values in DataFrame\n",
    "    :param series: Pandas DataFrame object\n",
    "    :return: float\n",
    "    \"\"\"\n",
    "    num = series.isnull().sum()\n",
    "    den = len(series)\n",
    "    return round(num/den, 2)"
   ]
  },
  {
   "cell_type": "code",
   "execution_count": 17,
   "metadata": {},
   "outputs": [],
   "source": [
    "df_with_any_null_values = df_train[df_train.columns[df_train.isnull().any()].tolist()]\n",
    "\n",
    "lead_df_with_any_null_values = df_lead[df_lead.columns[df_lead.isnull().any()].tolist()]"
   ]
  },
  {
   "cell_type": "code",
   "execution_count": 18,
   "metadata": {},
   "outputs": [
    {
     "data": {
      "text/plain": [
       "VAR2     0.03\n",
       "VAR3     0.10\n",
       "VAR4     0.37\n",
       "VAR5     0.00\n",
       "VAR6     0.10\n",
       "VAR7     0.02\n",
       "VAR8     0.02\n",
       "VAR9     0.47\n",
       "VAR10    0.13\n",
       "VAR11    0.22\n",
       "VAR12    0.31\n",
       "VAR13    0.25\n",
       "VAR15    0.24\n",
       "VAR16    0.03\n",
       "VAR17    0.65\n",
       "dtype: float64"
      ]
     },
     "execution_count": 18,
     "metadata": {},
     "output_type": "execute_result"
    }
   ],
   "source": [
    "get_percentage_missing(df_with_any_null_values)"
   ]
  },
  {
   "cell_type": "code",
   "execution_count": 19,
   "metadata": {},
   "outputs": [
    {
     "data": {
      "text/plain": [
       "VAR2     0.03\n",
       "VAR3     0.09\n",
       "VAR4     0.37\n",
       "VAR6     0.11\n",
       "VAR7     0.02\n",
       "VAR8     0.02\n",
       "VAR9     0.47\n",
       "VAR10    0.13\n",
       "VAR11    0.22\n",
       "VAR12    0.32\n",
       "VAR13    0.25\n",
       "VAR15    0.24\n",
       "VAR16    0.02\n",
       "VAR17    0.65\n",
       "dtype: float64"
      ]
     },
     "execution_count": 19,
     "metadata": {},
     "output_type": "execute_result"
    }
   ],
   "source": [
    "get_percentage_missing(lead_df_with_any_null_values)"
   ]
  },
  {
   "cell_type": "code",
   "execution_count": 20,
   "metadata": {},
   "outputs": [],
   "source": [
    "del df_train['VAR9']\n",
    "del df_train['VAR17']\n",
    "\n",
    "del df_lead['VAR9']\n",
    "del df_lead['VAR17']"
   ]
  },
  {
   "cell_type": "code",
   "execution_count": 21,
   "metadata": {},
   "outputs": [],
   "source": [
    "df_train = df_train.replace(to_replace = '.', value =np.nan)\n",
    "\n",
    "df_lead = df_lead.replace(to_replace = '.', value =np.nan)"
   ]
  },
  {
   "cell_type": "code",
   "execution_count": 22,
   "metadata": {},
   "outputs": [
    {
     "data": {
      "text/plain": [
       "['ID',\n",
       " 'FICO',\n",
       " 'Business Revenue',\n",
       " 'TSR',\n",
       " 'Last 6M Avg Util',\n",
       " 'Income',\n",
       " 'Last 6M Avg Remit',\n",
       " 'Last 6M Avg Bal',\n",
       " 'Internal Revolve',\n",
       " 'Lending AR% in last 6M',\n",
       " 'ExternalBalance',\n",
       " 'Months in Business',\n",
       " 'preferred_spend_line',\n",
       " 'total_cards',\n",
       " 'preferred_bal_line',\n",
       " 'preavgremit1_3_all',\n",
       " 'External_rev_rate',\n",
       " 'Supplementary Cards',\n",
       " 'isChargeCust',\n",
       " 'CMV',\n",
       " 'Assigned Line']"
      ]
     },
     "execution_count": 22,
     "metadata": {},
     "output_type": "execute_result"
    }
   ],
   "source": [
    "features = list(df_dict['Variable Name'][:21])\n",
    "all_columns = df_train.columns.tolist()\n",
    "features"
   ]
  },
  {
   "cell_type": "code",
   "execution_count": 23,
   "metadata": {},
   "outputs": [
    {
     "name": "stdout",
     "output_type": "stream",
     "text": [
      "19\n"
     ]
    }
   ],
   "source": [
    "features.remove('Internal Revolve') #index\n",
    "features.remove('External_rev_rate') #target\n",
    "print(len(features))"
   ]
  },
  {
   "cell_type": "code",
   "execution_count": 24,
   "metadata": {},
   "outputs": [
    {
     "data": {
      "text/plain": [
       "19"
      ]
     },
     "execution_count": 24,
     "metadata": {},
     "output_type": "execute_result"
    }
   ],
   "source": [
    "len(all_columns)"
   ]
  },
  {
   "cell_type": "code",
   "execution_count": 25,
   "metadata": {},
   "outputs": [
    {
     "data": {
      "text/html": [
       "<div>\n",
       "<style scoped>\n",
       "    .dataframe tbody tr th:only-of-type {\n",
       "        vertical-align: middle;\n",
       "    }\n",
       "\n",
       "    .dataframe tbody tr th {\n",
       "        vertical-align: top;\n",
       "    }\n",
       "\n",
       "    .dataframe thead th {\n",
       "        text-align: right;\n",
       "    }\n",
       "</style>\n",
       "<table border=\"1\" class=\"dataframe\">\n",
       "  <thead>\n",
       "    <tr style=\"text-align: right;\">\n",
       "      <th></th>\n",
       "      <th>column</th>\n",
       "      <th>description</th>\n",
       "    </tr>\n",
       "  </thead>\n",
       "  <tbody>\n",
       "    <tr>\n",
       "      <th>0</th>\n",
       "      <td>VAR1</td>\n",
       "      <td>ID</td>\n",
       "    </tr>\n",
       "    <tr>\n",
       "      <th>1</th>\n",
       "      <td>VAR2</td>\n",
       "      <td>FICO</td>\n",
       "    </tr>\n",
       "    <tr>\n",
       "      <th>2</th>\n",
       "      <td>VAR3</td>\n",
       "      <td>Business Revenue</td>\n",
       "    </tr>\n",
       "    <tr>\n",
       "      <th>3</th>\n",
       "      <td>VAR4</td>\n",
       "      <td>TSR</td>\n",
       "    </tr>\n",
       "    <tr>\n",
       "      <th>4</th>\n",
       "      <td>VAR5</td>\n",
       "      <td>Last 6M Avg Util</td>\n",
       "    </tr>\n",
       "  </tbody>\n",
       "</table>\n",
       "</div>"
      ],
      "text/plain": [
       "  column       description\n",
       "0   VAR1                ID\n",
       "1   VAR2              FICO\n",
       "2   VAR3  Business Revenue\n",
       "3   VAR4               TSR\n",
       "4   VAR5  Last 6M Avg Util"
      ]
     },
     "execution_count": 25,
     "metadata": {},
     "output_type": "execute_result"
    }
   ],
   "source": [
    "df_var = pd.DataFrame(list(zip(all_columns,features)), \n",
    "               columns =['column', 'description'])\n",
    "df_var.head()"
   ]
  },
  {
   "cell_type": "code",
   "execution_count": 26,
   "metadata": {},
   "outputs": [],
   "source": [
    "#Relevent columns\n",
    "columns = all_columns\n",
    "#type(columns)\n",
    "columns.remove('VAR1') #index\n",
    "columns.remove('VAR21') #target\n",
    "columns.remove('VAR14') #categorical\n",
    "#columns"
   ]
  },
  {
   "cell_type": "code",
   "execution_count": 27,
   "metadata": {},
   "outputs": [
    {
     "data": {
      "text/plain": [
       "pandas.core.series.Series"
      ]
     },
     "execution_count": 27,
     "metadata": {},
     "output_type": "execute_result"
    }
   ],
   "source": [
    "type(df_train['VAR2'])"
   ]
  },
  {
   "cell_type": "markdown",
   "metadata": {},
   "source": [
    "##### plotting columns to remove outliers, find best way to fill missing value, scaling and normalizing the data"
   ]
  },
  {
   "cell_type": "code",
   "execution_count": 28,
   "metadata": {},
   "outputs": [],
   "source": [
    "#df_train.groupby(\"VAR21\")['VAR2'].mean()\n",
    "#print('mean',df_train['VAR2'].mean())"
   ]
  },
  {
   "cell_type": "code",
   "execution_count": 29,
   "metadata": {},
   "outputs": [
    {
     "name": "stderr",
     "output_type": "stream",
     "text": [
      "C:\\Users\\PASHUPATI-PC\\Anaconda3\\envs\\ml\\lib\\site-packages\\ipykernel_launcher.py:3: RuntimeWarning: More than 20 figures have been opened. Figures created through the pyplot interface (`matplotlib.pyplot.figure`) are retained until explicitly closed and may consume too much memory. (To control this warning, see the rcParam `figure.max_open_warning`).\n",
      "  This is separate from the ipykernel package so we can avoid doing imports until\n",
      "C:\\Users\\PASHUPATI-PC\\Anaconda3\\envs\\ml\\lib\\site-packages\\pandas\\plotting\\_core.py:304: RuntimeWarning: More than 20 figures have been opened. Figures created through the pyplot interface (`matplotlib.pyplot.figure`) are retained until explicitly closed and may consume too much memory. (To control this warning, see the rcParam `figure.max_open_warning`).\n",
      "  fig = self.plt.figure(figsize=self.figsize)\n"
     ]
    },
    {
     "data": {
      "text/plain": [
       "<Figure size 432x288 with 0 Axes>"
      ]
     },
     "metadata": {},
     "output_type": "display_data"
    },
    {
     "data": {
      "image/png": "[encoded data removed]",
      "text/plain": [
       "<Figure size 504x360 with 1 Axes>"
      ]
     },
     "metadata": {
      "needs_background": "light"
     },
     "output_type": "display_data"
    },
    {
     "data": {
      "text/plain": [
       "<Figure size 432x288 with 0 Axes>"
      ]
     },
     "metadata": {},
     "output_type": "display_data"
    },
    {
     "data": {
      "image/png": "[encoded data removed]",
      "text/plain": [
       "<Figure size 504x360 with 1 Axes>"
      ]
     },
     "metadata": {
      "needs_background": "light"
     },
     "output_type": "display_data"
    },
    {
     "data": {
      "text/plain": [
       "<Figure size 432x288 with 0 Axes>"
      ]
     },
     "metadata": {},
     "output_type": "display_data"
    },
    {
     "data": {
      "image/png": "[encoded data removed]",
      "text/plain": [
       "<Figure size 504x360 with 1 Axes>"
      ]
     },
     "metadata": {
      "needs_background": "light"
     },
     "output_type": "display_data"
    },
    {
     "data": {
      "text/plain": [
       "<Figure size 432x288 with 0 Axes>"
      ]
     },
     "metadata": {},
     "output_type": "display_data"
    },
    {
     "data": {
      "image/png": "[encoded data removed]",
      "text/plain": [
       "<Figure size 504x360 with 1 Axes>"
      ]
     },
     "metadata": {
      "needs_background": "light"
     },
     "output_type": "display_data"
    },
    {
     "data": {
      "text/plain": [
       "<Figure size 432x288 with 0 Axes>"
      ]
     },
     "metadata": {},
     "output_type": "display_data"
    },
    {
     "data": {
      "image/png": "[encoded data removed]",
      "text/plain": [
       "<Figure size 504x360 with 1 Axes>"
      ]
     },
     "metadata": {
      "needs_background": "light"
     },
     "output_type": "display_data"
    },
    {
     "data": {
      "text/plain": [
       "<Figure size 432x288 with 0 Axes>"
      ]
     },
     "metadata": {},
     "output_type": "display_data"
    },
    {
     "data": {
      "image/png": "[encoded data removed]",
      "text/plain": [
       "<Figure size 504x360 with 1 Axes>"
      ]
     },
     "metadata": {
      "needs_background": "light"
     },
     "output_type": "display_data"
    },
    {
     "data": {
      "text/plain": [
       "<Figure size 432x288 with 0 Axes>"
      ]
     },
     "metadata": {},
     "output_type": "display_data"
    },
    {
     "data": {
      "image/png": "[encoded data removed]",
      "text/plain": [
       "<Figure size 504x360 with 1 Axes>"
      ]
     },
     "metadata": {
      "needs_background": "light"
     },
     "output_type": "display_data"
    },
    {
     "data": {
      "text/plain": [
       "<Figure size 432x288 with 0 Axes>"
      ]
     },
     "metadata": {},
     "output_type": "display_data"
    },
    {
     "data": {
      "image/png": "[encoded data removed]",
      "text/plain": [
       "<Figure size 504x360 with 1 Axes>"
      ]
     },
     "metadata": {
      "needs_background": "light"
     },
     "output_type": "display_data"
    },
    {
     "data": {
      "text/plain": [
       "<Figure size 432x288 with 0 Axes>"
      ]
     },
     "metadata": {},
     "output_type": "display_data"
    },
    {
     "data": {
      "image/png": "[encoded data removed]",
      "text/plain": [
       "<Figure size 504x360 with 1 Axes>"
      ]
     },
     "metadata": {
      "needs_background": "light"
     },
     "output_type": "display_data"
    },
    {
     "data": {
      "text/plain": [
       "<Figure size 432x288 with 0 Axes>"
      ]
     },
     "metadata": {},
     "output_type": "display_data"
    },
    {
     "data": {
      "image/png": "[encoded data removed]",
      "text/plain": [
       "<Figure size 504x360 with 1 Axes>"
      ]
     },
     "metadata": {
      "needs_background": "light"
     },
     "output_type": "display_data"
    },
    {
     "data": {
      "text/plain": [
       "<Figure size 432x288 with 0 Axes>"
      ]
     },
     "metadata": {},
     "output_type": "display_data"
    },
    {
     "data": {
      "image/png": "[encoded data removed]",
      "text/plain": [
       "<Figure size 504x360 with 1 Axes>"
      ]
     },
     "metadata": {
      "needs_background": "light"
     },
     "output_type": "display_data"
    },
    {
     "data": {
      "text/plain": [
       "<Figure size 432x288 with 0 Axes>"
      ]
     },
     "metadata": {},
     "output_type": "display_data"
    },
    {
     "data": {
      "image/png": "[encoded data removed]",
      "text/plain": [
       "<Figure size 504x360 with 1 Axes>"
      ]
     },
     "metadata": {
      "needs_background": "light"
     },
     "output_type": "display_data"
    },
    {
     "data": {
      "text/plain": [
       "<Figure size 432x288 with 0 Axes>"
      ]
     },
     "metadata": {},
     "output_type": "display_data"
    },
    {
     "data": {
      "image/png": "[encoded data removed]",
      "text/plain": [
       "<Figure size 504x360 with 1 Axes>"
      ]
     },
     "metadata": {
      "needs_background": "light"
     },
     "output_type": "display_data"
    },
    {
     "data": {
      "text/plain": [
       "<Figure size 432x288 with 0 Axes>"
      ]
     },
     "metadata": {},
     "output_type": "display_data"
    },
    {
     "data": {
      "image/png": "[encoded data removed]",
      "text/plain": [
       "<Figure size 504x360 with 1 Axes>"
      ]
     },
     "metadata": {
      "needs_background": "light"
     },
     "output_type": "display_data"
    },
    {
     "data": {
      "text/plain": [
       "<Figure size 432x288 with 0 Axes>"
      ]
     },
     "metadata": {},
     "output_type": "display_data"
    },
    {
     "data": {
      "image/png": "[encoded data removed]",
      "text/plain": [
       "<Figure size 504x360 with 1 Axes>"
      ]
     },
     "metadata": {
      "needs_background": "light"
     },
     "output_type": "display_data"
    },
    {
     "data": {
      "text/plain": [
       "<Figure size 432x288 with 0 Axes>"
      ]
     },
     "metadata": {},
     "output_type": "display_data"
    },
    {
     "data": {
      "image/png": "[encoded data removed]",
      "text/plain": [
       "<Figure size 504x360 with 1 Axes>"
      ]
     },
     "metadata": {
      "needs_background": "light"
     },
     "output_type": "display_data"
    }
   ],
   "source": [
    "# basic plots\n",
    "for i in columns:\n",
    "    plt.figure()\n",
    "    df_train.plot(y=i,figsize=(7,5))\n",
    "    #print('Mean',df_train[i].mean())"
   ]
  },
  {
   "cell_type": "code",
   "execution_count": null,
   "metadata": {},
   "outputs": [],
   "source": []
  },
  {
   "cell_type": "code",
   "execution_count": null,
   "metadata": {},
   "outputs": [],
   "source": [
    "for i in columns:\n",
    "    plt.figure()\n",
    "    df_train.hist(column=i,figsize=(7,5),normed=True)"
   ]
  },
  {
   "cell_type": "code",
   "execution_count": null,
   "metadata": {},
   "outputs": [],
   "source": []
  },
  {
   "cell_type": "code",
   "execution_count": null,
   "metadata": {},
   "outputs": [],
   "source": [
    "for i in columns:\n",
    "    plt.figure()\n",
    "    df_train.boxplot(column = i)"
   ]
  },
  {
   "cell_type": "markdown",
   "metadata": {},
   "source": [
    "##### Filling Missing values"
   ]
  },
  {
   "cell_type": "code",
   "execution_count": 26,
   "metadata": {},
   "outputs": [],
   "source": [
    "#Required Imports\n",
    "\n",
    "from sklearn.preprocessing import Imputer\n",
    "from sklearn.discriminant_analysis import LinearDiscriminantAnalysis\n",
    "from sklearn.model_selection import KFold\n",
    "from sklearn.model_selection import cross_val_score\n",
    "#from sklearn.impute import SimpleImputer\n",
    "\n",
    "# explicitly require this experimental feature\n",
    "from sklearn.experimental import enable_iterative_imputer  # noqa\n",
    "# now you can import normally from sklearn.impute\n",
    "from sklearn.impute import IterativeImputer\n",
    "\n",
    "# Techinques\n",
    "# 1 - df.fillna()\n",
    "# 2 - impute using sklearn - mean,meadian,mode\n",
    "# 3 - interpolation \n",
    "# 4 - LDA analysis"
   ]
  },
  {
   "cell_type": "code",
   "execution_count": 27,
   "metadata": {},
   "outputs": [],
   "source": [
    "# Using TransformerMixin\n",
    "\n",
    "from sklearn.base import TransformerMixin\n",
    "\n",
    "class DataFrameImputer(TransformerMixin):\n",
    "\n",
    "    def __init__(self):\n",
    "        \"\"\"Impute missing values.\n",
    "\n",
    "        Columns of dtype object are imputed with the most frequent value \n",
    "        in column.\n",
    "\n",
    "        Columns of other types are imputed with mean of column.\n",
    "\n",
    "        \"\"\"\n",
    "    def fit(self, X, y=None):\n",
    "\n",
    "        self.fill = pd.Series([X[c].value_counts().index[0]\n",
    "            if X[c].dtype == np.dtype('O') else X[c].mean() for c in X],\n",
    "            index=X.columns)\n",
    "\n",
    "        return self\n",
    "\n",
    "    def transform(self, X, y=None):\n",
    "        return X.fillna(self.fill)\n"
   ]
  },
  {
   "cell_type": "code",
   "execution_count": 28,
   "metadata": {},
   "outputs": [
    {
     "name": "stderr",
     "output_type": "stream",
     "text": [
      "C:\\Users\\PASHUPATI-PC\\Anaconda3\\envs\\ml\\lib\\site-packages\\sklearn\\utils\\deprecation.py:66: DeprecationWarning: Class Imputer is deprecated; Imputer was deprecated in version 0.20 and will be removed in 0.22. Import impute.SimpleImputer from sklearn instead.\n",
      "  warnings.warn(msg, category=DeprecationWarning)\n",
      "C:\\Users\\PASHUPATI-PC\\Anaconda3\\envs\\ml\\lib\\site-packages\\sklearn\\utils\\deprecation.py:66: DeprecationWarning: Class Imputer is deprecated; Imputer was deprecated in version 0.20 and will be removed in 0.22. Import impute.SimpleImputer from sklearn instead.\n",
      "  warnings.warn(msg, category=DeprecationWarning)\n",
      "C:\\Users\\PASHUPATI-PC\\Anaconda3\\envs\\ml\\lib\\site-packages\\sklearn\\utils\\deprecation.py:66: DeprecationWarning: Class Imputer is deprecated; Imputer was deprecated in version 0.20 and will be removed in 0.22. Import impute.SimpleImputer from sklearn instead.\n",
      "  warnings.warn(msg, category=DeprecationWarning)\n"
     ]
    }
   ],
   "source": [
    "####   df.fillna()\n",
    "# df_train = df_train.fillna(mean,inplace=True)\n",
    "\n",
    "####   impute using sklearn - mean,meadian,mode \n",
    "imputer_mean = Imputer(missing_values = 'NaN', strategy = 'mean', axis = 0)\n",
    "imputer_median = Imputer(missing_values = 'NaN', strategy = 'median', axis = 0)\n",
    "imputer_mode = Imputer(missing_values = 'NaN', strategy = 'most_frequent', axis = 0)"
   ]
  },
  {
   "cell_type": "code",
   "execution_count": 29,
   "metadata": {},
   "outputs": [
    {
     "data": {
      "text/plain": [
       "Index(['VAR1', 'VAR2', 'VAR3', 'VAR4', 'VAR5', 'VAR6', 'VAR7', 'VAR8', 'VAR10',\n",
       "       'VAR11', 'VAR12', 'VAR13', 'VAR14', 'VAR15', 'VAR16', 'VAR18', 'VAR19',\n",
       "       'VAR20', 'VAR21'],\n",
       "      dtype='object')"
      ]
     },
     "execution_count": 29,
     "metadata": {},
     "output_type": "execute_result"
    }
   ],
   "source": [
    "df_train.columns"
   ]
  },
  {
   "cell_type": "code",
   "execution_count": 30,
   "metadata": {},
   "outputs": [],
   "source": [
    "# #df = df_train[:, 1:3].head()\n",
    "# X = df_train.iloc[:, 1:-1].values\n",
    "# y = df_train.iloc[:, 18].values\n",
    "# print(type(X[:,1][0]))\n",
    "# print(type(X[:,1]))\n",
    "# print(type(X[:,11][0]))\n",
    "# print(type(X[:,11]))\n",
    "# print(type(X))\n",
    "# print(type(y))\n",
    "# print(type(y[0]))"
   ]
  },
  {
   "cell_type": "markdown",
   "metadata": {},
   "source": [
    "### Training DataSet"
   ]
  },
  {
   "cell_type": "markdown",
   "metadata": {},
   "source": [
    "##### Imputing using mean"
   ]
  },
  {
   "cell_type": "code",
   "execution_count": 31,
   "metadata": {
    "scrolled": true
   },
   "outputs": [],
   "source": [
    "# Imputing column 1 to 11 using mean\n",
    "imputer_mean = imputer_mean.fit(df_train.iloc[:, 1:12].values)\n",
    "df_train.iloc[:, 1:12] = imputer_mean.fit_transform(df_train.iloc[:, 1:12].values)"
   ]
  },
  {
   "cell_type": "code",
   "execution_count": 49,
   "metadata": {},
   "outputs": [],
   "source": [
    "# Imputing column 13 and 14 using mean\n",
    "imputer_mean = imputer_mean.fit(df_train.iloc[:,13:15].values)\n",
    "df_train.iloc[:,13:15] = imputer_mean.transform(df_train.iloc[:,13:15].values)"
   ]
  },
  {
   "cell_type": "code",
   "execution_count": 33,
   "metadata": {},
   "outputs": [
    {
     "name": "stderr",
     "output_type": "stream",
     "text": [
      "C:\\Users\\PASHUPATI-PC\\Anaconda3\\envs\\ml\\lib\\site-packages\\ipykernel_launcher.py:2: FutureWarning: Method .as_matrix will be removed in a future version. Use .values instead.\n",
      "  \n"
     ]
    }
   ],
   "source": [
    "# Imputing VAR 20 using mean\n",
    "flag20 = df_train['VAR20'].as_matrix().reshape(-1,1)\n",
    "imputer_mode = imputer_mode.fit(flag20)\n",
    "flag20 = imputer_mean.transform(flag20)\n",
    "df_train['VAR20'] = flag20"
   ]
  },
  {
   "cell_type": "markdown",
   "metadata": {},
   "source": [
    "##### Imputing using mode"
   ]
  },
  {
   "cell_type": "code",
   "execution_count": 34,
   "metadata": {},
   "outputs": [],
   "source": [
    "# Imputing column 15 and 16 by mode\n",
    "imputer_mode = imputer_mode.fit(df_train.iloc[:,15:16].values)\n",
    "df_train.iloc[:,15:16] = imputer_mean.transform(df_train.iloc[:,15:16].values)"
   ]
  },
  {
   "cell_type": "code",
   "execution_count": 35,
   "metadata": {},
   "outputs": [
    {
     "name": "stderr",
     "output_type": "stream",
     "text": [
      "C:\\Users\\PASHUPATI-PC\\Anaconda3\\envs\\ml\\lib\\site-packages\\ipykernel_launcher.py:1: FutureWarning: Method .as_matrix will be removed in a future version. Use .values instead.\n",
      "  \"\"\"Entry point for launching an IPython kernel.\n"
     ]
    }
   ],
   "source": [
    "flag = df_train['VAR14'].as_matrix().reshape(-1,1)\n",
    "imputer_mode = imputer_mode.fit(flag)\n",
    "flag = imputer_mean.transform(flag)\n",
    "df_train['VAR14'] = flag\n",
    "#imputer_mode = imputer_mode.fit(df_train.iloc[:,12].values.as_matrix().reshape(-1,1))\n",
    "#df_train.iloc[:,12] = imputer_mean.transform(df_train.iloc[:,12].values)"
   ]
  },
  {
   "cell_type": "markdown",
   "metadata": {},
   "source": [
    "### LeaderBoard Dataset"
   ]
  },
  {
   "cell_type": "code",
   "execution_count": 36,
   "metadata": {},
   "outputs": [
    {
     "data": {
      "text/plain": [
       "Index(['VAR1', 'VAR2', 'VAR3', 'VAR4', 'VAR5', 'VAR6', 'VAR7', 'VAR8', 'VAR10',\n",
       "       'VAR11', 'VAR12', 'VAR13', 'VAR14', 'VAR15', 'VAR16', 'VAR18', 'VAR19',\n",
       "       'VAR20'],\n",
       "      dtype='object')"
      ]
     },
     "execution_count": 36,
     "metadata": {},
     "output_type": "execute_result"
    }
   ],
   "source": [
    "df_lead.columns"
   ]
  },
  {
   "cell_type": "code",
   "execution_count": 37,
   "metadata": {},
   "outputs": [],
   "source": [
    "# Imputing column 1 to 11 using mean\n",
    "imputer_mean = imputer_mean.fit(df_lead.iloc[:, 1:12].values)\n",
    "df_lead.iloc[:, 1:12] = imputer_mean.fit_transform(df_lead.iloc[:, 1:12].values)"
   ]
  },
  {
   "cell_type": "code",
   "execution_count": 50,
   "metadata": {},
   "outputs": [],
   "source": [
    "# Imputing column 13 and 14 using mean\n",
    "imputer_mean = imputer_mean.fit(df_lead.iloc[:,13:15].values)\n",
    "df_lead.iloc[:,13:15] = imputer_mean.transform(df_lead.iloc[:,13:15].values)"
   ]
  },
  {
   "cell_type": "code",
   "execution_count": 39,
   "metadata": {},
   "outputs": [
    {
     "name": "stderr",
     "output_type": "stream",
     "text": [
      "C:\\Users\\PASHUPATI-PC\\Anaconda3\\envs\\ml\\lib\\site-packages\\ipykernel_launcher.py:2: FutureWarning: Method .as_matrix will be removed in a future version. Use .values instead.\n",
      "  \n"
     ]
    }
   ],
   "source": [
    "# Imputing VAR 20 using mean\n",
    "lflag20 = df_lead['VAR20'].as_matrix().reshape(-1,1)\n",
    "imputer_mode = imputer_mode.fit(lflag20)\n",
    "lflag20 = imputer_mean.transform(lflag20)\n",
    "df_lead['VAR20'] = lflag20"
   ]
  },
  {
   "cell_type": "code",
   "execution_count": 40,
   "metadata": {},
   "outputs": [],
   "source": [
    "# Imputing column 15 and 16 by mode\n",
    "imputer_mode = imputer_mode.fit(df_lead.iloc[:,15:16].values)\n",
    "df_lead.iloc[:,15:16] = imputer_mean.transform(df_lead.iloc[:,15:16].values)"
   ]
  },
  {
   "cell_type": "code",
   "execution_count": 41,
   "metadata": {},
   "outputs": [
    {
     "name": "stderr",
     "output_type": "stream",
     "text": [
      "C:\\Users\\PASHUPATI-PC\\Anaconda3\\envs\\ml\\lib\\site-packages\\ipykernel_launcher.py:1: FutureWarning: Method .as_matrix will be removed in a future version. Use .values instead.\n",
      "  \"\"\"Entry point for launching an IPython kernel.\n"
     ]
    }
   ],
   "source": [
    "lflag = df_lead['VAR14'].as_matrix().reshape(-1,1)\n",
    "imputer_mode = imputer_mode.fit(lflag)\n",
    "lflag = imputer_mean.transform(lflag)\n",
    "df_lead['VAR14'] = lflag\n",
    "#imputer_mode = imputer_mode.fit(df_train.iloc[:,12].values.as_matrix().reshape(-1,1))\n",
    "#df_train.iloc[:,12] = imputer_mean.transform(df_train.iloc[:,12].values)"
   ]
  },
  {
   "cell_type": "code",
   "execution_count": 42,
   "metadata": {},
   "outputs": [
    {
     "data": {
      "text/plain": [
       "numpy.float64"
      ]
     },
     "execution_count": 42,
     "metadata": {},
     "output_type": "execute_result"
    }
   ],
   "source": [
    "type(df_train['VAR14'][0])"
   ]
  },
  {
   "cell_type": "code",
   "execution_count": 43,
   "metadata": {},
   "outputs": [
    {
     "data": {
      "text/html": [
       "<div>\n",
       "<style scoped>\n",
       "    .dataframe tbody tr th:only-of-type {\n",
       "        vertical-align: middle;\n",
       "    }\n",
       "\n",
       "    .dataframe tbody tr th {\n",
       "        vertical-align: top;\n",
       "    }\n",
       "\n",
       "    .dataframe thead th {\n",
       "        text-align: right;\n",
       "    }\n",
       "</style>\n",
       "<table border=\"1\" class=\"dataframe\">\n",
       "  <thead>\n",
       "    <tr style=\"text-align: right;\">\n",
       "      <th></th>\n",
       "      <th>VAR1</th>\n",
       "      <th>VAR2</th>\n",
       "      <th>VAR3</th>\n",
       "      <th>VAR4</th>\n",
       "      <th>VAR5</th>\n",
       "      <th>VAR6</th>\n",
       "      <th>VAR7</th>\n",
       "      <th>VAR8</th>\n",
       "      <th>VAR10</th>\n",
       "      <th>VAR11</th>\n",
       "      <th>VAR12</th>\n",
       "      <th>VAR13</th>\n",
       "      <th>VAR14</th>\n",
       "      <th>VAR15</th>\n",
       "      <th>VAR16</th>\n",
       "      <th>VAR18</th>\n",
       "      <th>VAR19</th>\n",
       "      <th>VAR20</th>\n",
       "      <th>VAR21</th>\n",
       "    </tr>\n",
       "  </thead>\n",
       "  <tbody>\n",
       "    <tr>\n",
       "      <th>0</th>\n",
       "      <td>1</td>\n",
       "      <td>828.235294</td>\n",
       "      <td>0.138889</td>\n",
       "      <td>321.428571</td>\n",
       "      <td>625.911006</td>\n",
       "      <td>1.818182</td>\n",
       "      <td>1.081550</td>\n",
       "      <td>198.113469</td>\n",
       "      <td>58.632548</td>\n",
       "      <td>0.279273</td>\n",
       "      <td>100.083403</td>\n",
       "      <td>1.000000</td>\n",
       "      <td>1.000000</td>\n",
       "      <td>1.000000</td>\n",
       "      <td>1.540594</td>\n",
       "      <td>1.0</td>\n",
       "      <td>0</td>\n",
       "      <td>100.104991</td>\n",
       "      <td>Low</td>\n",
       "    </tr>\n",
       "    <tr>\n",
       "      <th>1</th>\n",
       "      <td>2</td>\n",
       "      <td>911.764706</td>\n",
       "      <td>0.027778</td>\n",
       "      <td>248.076201</td>\n",
       "      <td>611.574748</td>\n",
       "      <td>8.181818</td>\n",
       "      <td>1.344479</td>\n",
       "      <td>198.600020</td>\n",
       "      <td>56.497320</td>\n",
       "      <td>5.429062</td>\n",
       "      <td>15.012510</td>\n",
       "      <td>11.679589</td>\n",
       "      <td>1.000000</td>\n",
       "      <td>12.453257</td>\n",
       "      <td>1.614613</td>\n",
       "      <td>0.0</td>\n",
       "      <td>1</td>\n",
       "      <td>146.654045</td>\n",
       "      <td>High</td>\n",
       "    </tr>\n",
       "    <tr>\n",
       "      <th>2</th>\n",
       "      <td>3</td>\n",
       "      <td>962.352941</td>\n",
       "      <td>0.833333</td>\n",
       "      <td>35.714286</td>\n",
       "      <td>615.825381</td>\n",
       "      <td>8.181818</td>\n",
       "      <td>0.720796</td>\n",
       "      <td>197.267767</td>\n",
       "      <td>58.632548</td>\n",
       "      <td>0.453212</td>\n",
       "      <td>210.175146</td>\n",
       "      <td>10.000000</td>\n",
       "      <td>1.000000</td>\n",
       "      <td>10.000000</td>\n",
       "      <td>1.044599</td>\n",
       "      <td>0.0</td>\n",
       "      <td>0</td>\n",
       "      <td>98.249570</td>\n",
       "      <td>Medium</td>\n",
       "    </tr>\n",
       "    <tr>\n",
       "      <th>3</th>\n",
       "      <td>4</td>\n",
       "      <td>892.941177</td>\n",
       "      <td>1.119596</td>\n",
       "      <td>248.076201</td>\n",
       "      <td>638.076431</td>\n",
       "      <td>9.090909</td>\n",
       "      <td>0.820218</td>\n",
       "      <td>197.355744</td>\n",
       "      <td>58.632548</td>\n",
       "      <td>5.429062</td>\n",
       "      <td>117.283667</td>\n",
       "      <td>11.679589</td>\n",
       "      <td>1.000000</td>\n",
       "      <td>12.453257</td>\n",
       "      <td>1.145729</td>\n",
       "      <td>1.0</td>\n",
       "      <td>0</td>\n",
       "      <td>140.862306</td>\n",
       "      <td>Low</td>\n",
       "    </tr>\n",
       "    <tr>\n",
       "      <th>4</th>\n",
       "      <td>5</td>\n",
       "      <td>914.117647</td>\n",
       "      <td>0.083333</td>\n",
       "      <td>248.076201</td>\n",
       "      <td>626.514988</td>\n",
       "      <td>5.181818</td>\n",
       "      <td>1.372928</td>\n",
       "      <td>198.790477</td>\n",
       "      <td>58.632548</td>\n",
       "      <td>5.429062</td>\n",
       "      <td>210.175146</td>\n",
       "      <td>11.679589</td>\n",
       "      <td>12.453257</td>\n",
       "      <td>12.453257</td>\n",
       "      <td>1.558341</td>\n",
       "      <td>1.0</td>\n",
       "      <td>0</td>\n",
       "      <td>101.268503</td>\n",
       "      <td>High</td>\n",
       "    </tr>\n",
       "  </tbody>\n",
       "</table>\n",
       "</div>"
      ],
      "text/plain": [
       "   VAR1        VAR2      VAR3        VAR4        VAR5      VAR6      VAR7  \\\n",
       "0     1  828.235294  0.138889  321.428571  625.911006  1.818182  1.081550   \n",
       "1     2  911.764706  0.027778  248.076201  611.574748  8.181818  1.344479   \n",
       "2     3  962.352941  0.833333   35.714286  615.825381  8.181818  0.720796   \n",
       "3     4  892.941177  1.119596  248.076201  638.076431  9.090909  0.820218   \n",
       "4     5  914.117647  0.083333  248.076201  626.514988  5.181818  1.372928   \n",
       "\n",
       "         VAR8      VAR10     VAR11       VAR12      VAR13      VAR14  \\\n",
       "0  198.113469  58.632548  0.279273  100.083403   1.000000   1.000000   \n",
       "1  198.600020  56.497320  5.429062   15.012510  11.679589   1.000000   \n",
       "2  197.267767  58.632548  0.453212  210.175146  10.000000   1.000000   \n",
       "3  197.355744  58.632548  5.429062  117.283667  11.679589   1.000000   \n",
       "4  198.790477  58.632548  5.429062  210.175146  11.679589  12.453257   \n",
       "\n",
       "       VAR15     VAR16  VAR18  VAR19       VAR20   VAR21  \n",
       "0   1.000000  1.540594    1.0      0  100.104991     Low  \n",
       "1  12.453257  1.614613    0.0      1  146.654045    High  \n",
       "2  10.000000  1.044599    0.0      0   98.249570  Medium  \n",
       "3  12.453257  1.145729    1.0      0  140.862306     Low  \n",
       "4  12.453257  1.558341    1.0      0  101.268503    High  "
      ]
     },
     "execution_count": 43,
     "metadata": {},
     "output_type": "execute_result"
    }
   ],
   "source": [
    "df_train.head()"
   ]
  },
  {
   "cell_type": "code",
   "execution_count": 44,
   "metadata": {},
   "outputs": [
    {
     "data": {
      "text/html": [
       "<div>\n",
       "<style scoped>\n",
       "    .dataframe tbody tr th:only-of-type {\n",
       "        vertical-align: middle;\n",
       "    }\n",
       "\n",
       "    .dataframe tbody tr th {\n",
       "        vertical-align: top;\n",
       "    }\n",
       "\n",
       "    .dataframe thead th {\n",
       "        text-align: right;\n",
       "    }\n",
       "</style>\n",
       "<table border=\"1\" class=\"dataframe\">\n",
       "  <thead>\n",
       "    <tr style=\"text-align: right;\">\n",
       "      <th></th>\n",
       "      <th>VAR1</th>\n",
       "      <th>VAR2</th>\n",
       "      <th>VAR3</th>\n",
       "      <th>VAR4</th>\n",
       "      <th>VAR5</th>\n",
       "      <th>VAR6</th>\n",
       "      <th>VAR7</th>\n",
       "      <th>VAR8</th>\n",
       "      <th>VAR10</th>\n",
       "      <th>VAR11</th>\n",
       "      <th>VAR12</th>\n",
       "      <th>VAR13</th>\n",
       "      <th>VAR14</th>\n",
       "      <th>VAR15</th>\n",
       "      <th>VAR16</th>\n",
       "      <th>VAR18</th>\n",
       "      <th>VAR19</th>\n",
       "      <th>VAR20</th>\n",
       "    </tr>\n",
       "  </thead>\n",
       "  <tbody>\n",
       "    <tr>\n",
       "      <th>0</th>\n",
       "      <td>1</td>\n",
       "      <td>878.823529</td>\n",
       "      <td>0.833333</td>\n",
       "      <td>821.428571</td>\n",
       "      <td>620.835806</td>\n",
       "      <td>5.181818</td>\n",
       "      <td>0.833974</td>\n",
       "      <td>197.500187</td>\n",
       "      <td>58.632548</td>\n",
       "      <td>9.433609</td>\n",
       "      <td>40.033361</td>\n",
       "      <td>10.000000</td>\n",
       "      <td>2.0</td>\n",
       "      <td>10.000000</td>\n",
       "      <td>1.212784</td>\n",
       "      <td>1.0</td>\n",
       "      <td>0</td>\n",
       "      <td>48.099828</td>\n",
       "    </tr>\n",
       "    <tr>\n",
       "      <th>1</th>\n",
       "      <td>2</td>\n",
       "      <td>891.764706</td>\n",
       "      <td>0.138889</td>\n",
       "      <td>357.142857</td>\n",
       "      <td>614.092215</td>\n",
       "      <td>3.909091</td>\n",
       "      <td>0.595187</td>\n",
       "      <td>197.016843</td>\n",
       "      <td>58.632548</td>\n",
       "      <td>10.144612</td>\n",
       "      <td>114.775746</td>\n",
       "      <td>5.666667</td>\n",
       "      <td>1.0</td>\n",
       "      <td>7.600000</td>\n",
       "      <td>1.004907</td>\n",
       "      <td>0.0</td>\n",
       "      <td>0</td>\n",
       "      <td>104.018933</td>\n",
       "    </tr>\n",
       "    <tr>\n",
       "      <th>2</th>\n",
       "      <td>3</td>\n",
       "      <td>955.294118</td>\n",
       "      <td>0.055556</td>\n",
       "      <td>244.745633</td>\n",
       "      <td>611.574748</td>\n",
       "      <td>6.363636</td>\n",
       "      <td>0.918652</td>\n",
       "      <td>197.660051</td>\n",
       "      <td>56.432554</td>\n",
       "      <td>0.583494</td>\n",
       "      <td>114.775746</td>\n",
       "      <td>6.000000</td>\n",
       "      <td>1.0</td>\n",
       "      <td>6.000000</td>\n",
       "      <td>1.157115</td>\n",
       "      <td>1.0</td>\n",
       "      <td>1</td>\n",
       "      <td>120.586919</td>\n",
       "    </tr>\n",
       "    <tr>\n",
       "      <th>3</th>\n",
       "      <td>4</td>\n",
       "      <td>831.764706</td>\n",
       "      <td>0.111111</td>\n",
       "      <td>250.000000</td>\n",
       "      <td>617.740617</td>\n",
       "      <td>6.545455</td>\n",
       "      <td>2.383924</td>\n",
       "      <td>200.526288</td>\n",
       "      <td>48.539365</td>\n",
       "      <td>5.326532</td>\n",
       "      <td>114.775746</td>\n",
       "      <td>11.900945</td>\n",
       "      <td>3.0</td>\n",
       "      <td>12.720950</td>\n",
       "      <td>2.350858</td>\n",
       "      <td>0.0</td>\n",
       "      <td>1</td>\n",
       "      <td>168.592083</td>\n",
       "    </tr>\n",
       "    <tr>\n",
       "      <th>4</th>\n",
       "      <td>5</td>\n",
       "      <td>957.647059</td>\n",
       "      <td>0.166667</td>\n",
       "      <td>244.745633</td>\n",
       "      <td>623.426802</td>\n",
       "      <td>15.185077</td>\n",
       "      <td>0.711240</td>\n",
       "      <td>197.151458</td>\n",
       "      <td>49.379748</td>\n",
       "      <td>0.255712</td>\n",
       "      <td>114.775746</td>\n",
       "      <td>13.333333</td>\n",
       "      <td>1.0</td>\n",
       "      <td>13.333333</td>\n",
       "      <td>1.171551</td>\n",
       "      <td>0.0</td>\n",
       "      <td>1</td>\n",
       "      <td>109.204819</td>\n",
       "    </tr>\n",
       "  </tbody>\n",
       "</table>\n",
       "</div>"
      ],
      "text/plain": [
       "   VAR1        VAR2      VAR3        VAR4        VAR5       VAR6      VAR7  \\\n",
       "0     1  878.823529  0.833333  821.428571  620.835806   5.181818  0.833974   \n",
       "1     2  891.764706  0.138889  357.142857  614.092215   3.909091  0.595187   \n",
       "2     3  955.294118  0.055556  244.745633  611.574748   6.363636  0.918652   \n",
       "3     4  831.764706  0.111111  250.000000  617.740617   6.545455  2.383924   \n",
       "4     5  957.647059  0.166667  244.745633  623.426802  15.185077  0.711240   \n",
       "\n",
       "         VAR8      VAR10      VAR11       VAR12      VAR13  VAR14      VAR15  \\\n",
       "0  197.500187  58.632548   9.433609   40.033361  10.000000    2.0  10.000000   \n",
       "1  197.016843  58.632548  10.144612  114.775746   5.666667    1.0   7.600000   \n",
       "2  197.660051  56.432554   0.583494  114.775746   6.000000    1.0   6.000000   \n",
       "3  200.526288  48.539365   5.326532  114.775746  11.900945    3.0  12.720950   \n",
       "4  197.151458  49.379748   0.255712  114.775746  13.333333    1.0  13.333333   \n",
       "\n",
       "      VAR16  VAR18  VAR19       VAR20  \n",
       "0  1.212784    1.0      0   48.099828  \n",
       "1  1.004907    0.0      0  104.018933  \n",
       "2  1.157115    1.0      1  120.586919  \n",
       "3  2.350858    0.0      1  168.592083  \n",
       "4  1.171551    0.0      1  109.204819  "
      ]
     },
     "execution_count": 44,
     "metadata": {},
     "output_type": "execute_result"
    }
   ],
   "source": [
    "df_lead.head()"
   ]
  },
  {
   "cell_type": "code",
   "execution_count": 51,
   "metadata": {},
   "outputs": [],
   "source": [
    "n_df_with_any_null_values = df_train[df_train.columns[df_train.isnull().any()].tolist()]"
   ]
  },
  {
   "cell_type": "code",
   "execution_count": 52,
   "metadata": {},
   "outputs": [
    {
     "data": {
      "text/plain": [
       "Series([], dtype: float64)"
      ]
     },
     "execution_count": 52,
     "metadata": {},
     "output_type": "execute_result"
    }
   ],
   "source": [
    "get_percentage_missing(n_df_with_any_null_values)"
   ]
  },
  {
   "cell_type": "code",
   "execution_count": 53,
   "metadata": {},
   "outputs": [],
   "source": [
    "lead_n_df_with_any_null_values = df_lead[df_lead.columns[df_lead.isnull().any()].tolist()]"
   ]
  },
  {
   "cell_type": "code",
   "execution_count": 54,
   "metadata": {},
   "outputs": [
    {
     "data": {
      "text/plain": [
       "Series([], dtype: float64)"
      ]
     },
     "execution_count": 54,
     "metadata": {},
     "output_type": "execute_result"
    }
   ],
   "source": [
    "get_percentage_missing(lead_n_df_with_any_null_values)"
   ]
  },
  {
   "cell_type": "code",
   "execution_count": 55,
   "metadata": {},
   "outputs": [],
   "source": [
    "#X\n",
    "# print(type(X[:,1][0]))\n",
    "# print(type(X[:,1]))\n",
    "# print(type(X[:,11][0]))\n",
    "# print(type(X[:,11]))\n",
    "# print(type(X))\n",
    "# print(type(y))\n",
    "# print(type(y[0]))"
   ]
  },
  {
   "cell_type": "markdown",
   "metadata": {},
   "source": [
    "##### Label Encoding Categorical data (Target Variable)"
   ]
  },
  {
   "cell_type": "code",
   "execution_count": 57,
   "metadata": {},
   "outputs": [],
   "source": [
    "X = df_train.iloc[:, 1:-1].values\n",
    "y = df_train.iloc[:, 18].values\n",
    "\n",
    "X_lead = df_lead.iloc[:, 1:-1].values\n",
    "#y_lead = df_lead.iloc[:, 18].values"
   ]
  },
  {
   "cell_type": "code",
   "execution_count": null,
   "metadata": {},
   "outputs": [],
   "source": [
    "from sklearn.preprocessing import LabelEncoder, OneHotEncoder\n",
    "\n",
    "labelencoder_X = LabelEncoder()\n",
    "#X[:, 11] = labelencoder_X.fit_transform(X[:, 11])\n",
    "\n",
    "labelencoder_y = LabelEncoder()\n",
    "y = labelencoder_y.fit_transform(y)"
   ]
  },
  {
   "cell_type": "code",
   "execution_count": null,
   "metadata": {},
   "outputs": [],
   "source": [
    "print(type(X[:,1][0]))\n",
    "print(type(X[:,1]))\n",
    "print(type(X[:,11][0]))\n",
    "print(type(X[:,11]))\n",
    "print(type(X))\n",
    "print(type(y[0]))"
   ]
  },
  {
   "cell_type": "markdown",
   "metadata": {},
   "source": [
    "#### Linear Discremenant Analysis"
   ]
  },
  {
   "cell_type": "code",
   "execution_count": null,
   "metadata": {},
   "outputs": [],
   "source": [
    "model = LinearDiscriminantAnalysis()\n",
    "kfold = KFold(n_splits=3, random_state=7)\n",
    "result = cross_val_score(model, X, y, cv=kfold, scoring='accuracy')\n",
    "print(result.mean())"
   ]
  },
  {
   "cell_type": "code",
   "execution_count": 58,
   "metadata": {},
   "outputs": [],
   "source": [
    "## Exporting dataframe\n",
    "\n",
    "df_train.to_csv('without_nan.csv')\n",
    "df_lead.to_csv('lead_data_w_nan.csv')"
   ]
  },
  {
   "cell_type": "code",
   "execution_count": null,
   "metadata": {},
   "outputs": [],
   "source": []
  }
 ],
 "metadata": {
  "kernelspec": {
   "display_name": "Python 3",
   "language": "python",
   "name": "python3"
  },
  "language_info": {
   "codemirror_mode": {
    "name": "ipython",
    "version": 3
   },
   "file_extension": ".py",
   "mimetype": "text/x-python",
   "name": "python",
   "nbconvert_exporter": "python",
   "pygments_lexer": "ipython3",
   "version": "3.7.3"
  }
 },
 "nbformat": 4,
 "nbformat_minor": 2
}
