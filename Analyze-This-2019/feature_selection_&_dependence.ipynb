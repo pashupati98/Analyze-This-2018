{
 "cells": [
  {
   "cell_type": "code",
   "execution_count": 1,
   "metadata": {},
   "outputs": [],
   "source": [
    "import pandas as pd\n",
    "import numpy as np\n",
    "import scipy as sp\n",
    "import seaborn as sns\n",
    "import matplotlib as mp\n",
    "import matplotlib.pyplot as plt\n",
    "%matplotlib inline"
   ]
  },
  {
   "cell_type": "code",
   "execution_count": 2,
   "metadata": {},
   "outputs": [],
   "source": [
    "url_train = 'scales.csv' #traing dataset\n",
    "url_dict = './Dataset/Data_Dictionary.xlsx' #data dictionary"
   ]
  },
  {
   "cell_type": "code",
   "execution_count": 3,
   "metadata": {},
   "outputs": [],
   "source": [
    "## making dataframe\n",
    "\n",
    "df_train = pd.read_csv(url_train)\n",
    "df_dict = pd.read_excel(url_dict)"
   ]
  },
  {
   "cell_type": "code",
   "execution_count": 5,
   "metadata": {},
   "outputs": [
    {
     "data": {
      "text/html": [
       "<div>\n",
       "<style scoped>\n",
       "    .dataframe tbody tr th:only-of-type {\n",
       "        vertical-align: middle;\n",
       "    }\n",
       "\n",
       "    .dataframe tbody tr th {\n",
       "        vertical-align: top;\n",
       "    }\n",
       "\n",
       "    .dataframe thead th {\n",
       "        text-align: right;\n",
       "    }\n",
       "</style>\n",
       "<table border=\"1\" class=\"dataframe\">\n",
       "  <thead>\n",
       "    <tr style=\"text-align: right;\">\n",
       "      <th></th>\n",
       "      <th>FICO</th>\n",
       "      <th>Business Revenue</th>\n",
       "      <th>TSR</th>\n",
       "      <th>Last 6M Avg Util</th>\n",
       "      <th>Income</th>\n",
       "      <th>Last 6M Avg Remit</th>\n",
       "      <th>Last 6M Avg Bal</th>\n",
       "      <th>Internal Revolve</th>\n",
       "      <th>Lending AR% in last 6M</th>\n",
       "      <th>ExternalBalance</th>\n",
       "      <th>Months in Business</th>\n",
       "      <th>preferred_spend_line</th>\n",
       "      <th>total_cards</th>\n",
       "      <th>preferred_bal_line</th>\n",
       "      <th>preavgremit1_3_all</th>\n",
       "      <th>External_rev_rate</th>\n",
       "      <th>Supplementary Cards</th>\n",
       "      <th>isChargeCust</th>\n",
       "      <th>CMV</th>\n",
       "      <th>Assigned Line</th>\n",
       "    </tr>\n",
       "  </thead>\n",
       "  <tbody>\n",
       "    <tr>\n",
       "      <th>0</th>\n",
       "      <td>0.052678</td>\n",
       "      <td>0.352363</td>\n",
       "      <td>0.784935</td>\n",
       "      <td>0.610371</td>\n",
       "      <td>0.013736</td>\n",
       "      <td>0.539663</td>\n",
       "      <td>0.546310</td>\n",
       "      <td>0.602782</td>\n",
       "      <td>0.37204</td>\n",
       "      <td>0.110944</td>\n",
       "      <td>0.493103</td>\n",
       "      <td>0.013089</td>\n",
       "      <td>0.022942</td>\n",
       "      <td>0.009853</td>\n",
       "      <td>0.652225</td>\n",
       "      <td>0.624607</td>\n",
       "      <td>0.670784</td>\n",
       "      <td>0.000000</td>\n",
       "      <td>0.149446</td>\n",
       "      <td>Low</td>\n",
       "    </tr>\n",
       "    <tr>\n",
       "      <th>1</th>\n",
       "      <td>0.411924</td>\n",
       "      <td>0.046913</td>\n",
       "      <td>0.697432</td>\n",
       "      <td>0.008736</td>\n",
       "      <td>0.303597</td>\n",
       "      <td>0.647431</td>\n",
       "      <td>0.633930</td>\n",
       "      <td>0.244478</td>\n",
       "      <td>0.15774</td>\n",
       "      <td>0.694726</td>\n",
       "      <td>0.145534</td>\n",
       "      <td>0.543781</td>\n",
       "      <td>0.022942</td>\n",
       "      <td>0.539310</td>\n",
       "      <td>0.681579</td>\n",
       "      <td>0.648578</td>\n",
       "      <td>0.000000</td>\n",
       "      <td>0.701962</td>\n",
       "      <td>0.705285</td>\n",
       "      <td>High</td>\n",
       "    </tr>\n",
       "    <tr>\n",
       "      <th>2</th>\n",
       "      <td>0.792935</td>\n",
       "      <td>0.749787</td>\n",
       "      <td>0.085767</td>\n",
       "      <td>0.402600</td>\n",
       "      <td>0.303597</td>\n",
       "      <td>0.278243</td>\n",
       "      <td>0.284126</td>\n",
       "      <td>0.570605</td>\n",
       "      <td>0.37204</td>\n",
       "      <td>0.156299</td>\n",
       "      <td>0.832524</td>\n",
       "      <td>0.432130</td>\n",
       "      <td>0.022942</td>\n",
       "      <td>0.380423</td>\n",
       "      <td>0.251066</td>\n",
       "      <td>0.282626</td>\n",
       "      <td>0.000000</td>\n",
       "      <td>0.000000</td>\n",
       "      <td>0.113386</td>\n",
       "      <td>Medium</td>\n",
       "    </tr>\n",
       "    <tr>\n",
       "      <th>3</th>\n",
       "      <td>0.300332</td>\n",
       "      <td>0.745787</td>\n",
       "      <td>0.694903</td>\n",
       "      <td>0.755846</td>\n",
       "      <td>0.379658</td>\n",
       "      <td>0.371070</td>\n",
       "      <td>0.322568</td>\n",
       "      <td>0.108738</td>\n",
       "      <td>0.37204</td>\n",
       "      <td>0.644195</td>\n",
       "      <td>0.664108</td>\n",
       "      <td>0.410747</td>\n",
       "      <td>0.022942</td>\n",
       "      <td>0.427424</td>\n",
       "      <td>0.383629</td>\n",
       "      <td>0.750346</td>\n",
       "      <td>0.670784</td>\n",
       "      <td>0.000000</td>\n",
       "      <td>0.680196</td>\n",
       "      <td>Low</td>\n",
       "    </tr>\n",
       "    <tr>\n",
       "      <th>4</th>\n",
       "      <td>0.425277</td>\n",
       "      <td>0.212242</td>\n",
       "      <td>0.643990</td>\n",
       "      <td>0.619695</td>\n",
       "      <td>0.137710</td>\n",
       "      <td>0.657461</td>\n",
       "      <td>0.660990</td>\n",
       "      <td>0.817201</td>\n",
       "      <td>0.37204</td>\n",
       "      <td>0.694785</td>\n",
       "      <td>0.832524</td>\n",
       "      <td>0.580546</td>\n",
       "      <td>0.640460</td>\n",
       "      <td>0.590135</td>\n",
       "      <td>0.658431</td>\n",
       "      <td>0.269008</td>\n",
       "      <td>0.670784</td>\n",
       "      <td>0.000000</td>\n",
       "      <td>0.177682</td>\n",
       "      <td>High</td>\n",
       "    </tr>\n",
       "  </tbody>\n",
       "</table>\n",
       "</div>"
      ],
      "text/plain": [
       "       FICO  Business Revenue       TSR  Last 6M Avg Util    Income  \\\n",
       "0  0.052678          0.352363  0.784935          0.610371  0.013736   \n",
       "1  0.411924          0.046913  0.697432          0.008736  0.303597   \n",
       "2  0.792935          0.749787  0.085767          0.402600  0.303597   \n",
       "3  0.300332          0.745787  0.694903          0.755846  0.379658   \n",
       "4  0.425277          0.212242  0.643990          0.619695  0.137710   \n",
       "\n",
       "   Last 6M Avg Remit  Last 6M Avg Bal  Internal Revolve  \\\n",
       "0           0.539663         0.546310          0.602782   \n",
       "1           0.647431         0.633930          0.244478   \n",
       "2           0.278243         0.284126          0.570605   \n",
       "3           0.371070         0.322568          0.108738   \n",
       "4           0.657461         0.660990          0.817201   \n",
       "\n",
       "   Lending AR% in last 6M  ExternalBalance  Months in Business  \\\n",
       "0                 0.37204         0.110944            0.493103   \n",
       "1                 0.15774         0.694726            0.145534   \n",
       "2                 0.37204         0.156299            0.832524   \n",
       "3                 0.37204         0.644195            0.664108   \n",
       "4                 0.37204         0.694785            0.832524   \n",
       "\n",
       "   preferred_spend_line  total_cards  preferred_bal_line  preavgremit1_3_all  \\\n",
       "0              0.013089     0.022942            0.009853            0.652225   \n",
       "1              0.543781     0.022942            0.539310            0.681579   \n",
       "2              0.432130     0.022942            0.380423            0.251066   \n",
       "3              0.410747     0.022942            0.427424            0.383629   \n",
       "4              0.580546     0.640460            0.590135            0.658431   \n",
       "\n",
       "   External_rev_rate  Supplementary Cards  isChargeCust       CMV  \\\n",
       "0           0.624607             0.670784      0.000000  0.149446   \n",
       "1           0.648578             0.000000      0.701962  0.705285   \n",
       "2           0.282626             0.000000      0.000000  0.113386   \n",
       "3           0.750346             0.670784      0.000000  0.680196   \n",
       "4           0.269008             0.670784      0.000000  0.177682   \n",
       "\n",
       "  Assigned Line  \n",
       "0           Low  \n",
       "1          High  \n",
       "2        Medium  \n",
       "3           Low  \n",
       "4          High  "
      ]
     },
     "execution_count": 5,
     "metadata": {},
     "output_type": "execute_result"
    }
   ],
   "source": [
    "df_train = df_train.iloc[:,1:]\n",
    "df_train.head()"
   ]
  },
  {
   "cell_type": "code",
   "execution_count": null,
   "metadata": {},
   "outputs": [],
   "source": [
    "column = df_dict['Variable Name'][:21]\n",
    "column "
   ]
  },
  {
   "cell_type": "code",
   "execution_count": null,
   "metadata": {},
   "outputs": [],
   "source": [
    "df_train.columns = column  #naming the dataframe columns\n",
    "df_train.head()"
   ]
  },
  {
   "cell_type": "markdown",
   "metadata": {},
   "source": [
    "### SelectKBest"
   ]
  },
  {
   "cell_type": "code",
   "execution_count": 6,
   "metadata": {},
   "outputs": [],
   "source": [
    "from sklearn.feature_selection import SelectKBest\n",
    "from sklearn.feature_selection import chi2"
   ]
  },
  {
   "cell_type": "code",
   "execution_count": 9,
   "metadata": {},
   "outputs": [],
   "source": [
    "X = df_train.iloc[:,:-1]  #independent columns\n",
    "y = df_train.iloc[:,-1]   #target column "
   ]
  },
  {
   "cell_type": "code",
   "execution_count": 10,
   "metadata": {},
   "outputs": [
    {
     "data": {
      "text/html": [
       "<div>\n",
       "<style scoped>\n",
       "    .dataframe tbody tr th:only-of-type {\n",
       "        vertical-align: middle;\n",
       "    }\n",
       "\n",
       "    .dataframe tbody tr th {\n",
       "        vertical-align: top;\n",
       "    }\n",
       "\n",
       "    .dataframe thead th {\n",
       "        text-align: right;\n",
       "    }\n",
       "</style>\n",
       "<table border=\"1\" class=\"dataframe\">\n",
       "  <thead>\n",
       "    <tr style=\"text-align: right;\">\n",
       "      <th></th>\n",
       "      <th>FICO</th>\n",
       "      <th>Business Revenue</th>\n",
       "      <th>TSR</th>\n",
       "      <th>Last 6M Avg Util</th>\n",
       "      <th>Income</th>\n",
       "      <th>Last 6M Avg Remit</th>\n",
       "      <th>Last 6M Avg Bal</th>\n",
       "      <th>Internal Revolve</th>\n",
       "      <th>Lending AR% in last 6M</th>\n",
       "      <th>ExternalBalance</th>\n",
       "      <th>Months in Business</th>\n",
       "      <th>preferred_spend_line</th>\n",
       "      <th>total_cards</th>\n",
       "      <th>preferred_bal_line</th>\n",
       "      <th>preavgremit1_3_all</th>\n",
       "      <th>External_rev_rate</th>\n",
       "      <th>Supplementary Cards</th>\n",
       "      <th>isChargeCust</th>\n",
       "      <th>CMV</th>\n",
       "    </tr>\n",
       "  </thead>\n",
       "  <tbody>\n",
       "    <tr>\n",
       "      <th>0</th>\n",
       "      <td>0.052678</td>\n",
       "      <td>0.352363</td>\n",
       "      <td>0.784935</td>\n",
       "      <td>0.610371</td>\n",
       "      <td>0.013736</td>\n",
       "      <td>0.539663</td>\n",
       "      <td>0.546310</td>\n",
       "      <td>0.602782</td>\n",
       "      <td>0.37204</td>\n",
       "      <td>0.110944</td>\n",
       "      <td>0.493103</td>\n",
       "      <td>0.013089</td>\n",
       "      <td>0.022942</td>\n",
       "      <td>0.009853</td>\n",
       "      <td>0.652225</td>\n",
       "      <td>0.624607</td>\n",
       "      <td>0.670784</td>\n",
       "      <td>0.000000</td>\n",
       "      <td>0.149446</td>\n",
       "    </tr>\n",
       "    <tr>\n",
       "      <th>1</th>\n",
       "      <td>0.411924</td>\n",
       "      <td>0.046913</td>\n",
       "      <td>0.697432</td>\n",
       "      <td>0.008736</td>\n",
       "      <td>0.303597</td>\n",
       "      <td>0.647431</td>\n",
       "      <td>0.633930</td>\n",
       "      <td>0.244478</td>\n",
       "      <td>0.15774</td>\n",
       "      <td>0.694726</td>\n",
       "      <td>0.145534</td>\n",
       "      <td>0.543781</td>\n",
       "      <td>0.022942</td>\n",
       "      <td>0.539310</td>\n",
       "      <td>0.681579</td>\n",
       "      <td>0.648578</td>\n",
       "      <td>0.000000</td>\n",
       "      <td>0.701962</td>\n",
       "      <td>0.705285</td>\n",
       "    </tr>\n",
       "    <tr>\n",
       "      <th>2</th>\n",
       "      <td>0.792935</td>\n",
       "      <td>0.749787</td>\n",
       "      <td>0.085767</td>\n",
       "      <td>0.402600</td>\n",
       "      <td>0.303597</td>\n",
       "      <td>0.278243</td>\n",
       "      <td>0.284126</td>\n",
       "      <td>0.570605</td>\n",
       "      <td>0.37204</td>\n",
       "      <td>0.156299</td>\n",
       "      <td>0.832524</td>\n",
       "      <td>0.432130</td>\n",
       "      <td>0.022942</td>\n",
       "      <td>0.380423</td>\n",
       "      <td>0.251066</td>\n",
       "      <td>0.282626</td>\n",
       "      <td>0.000000</td>\n",
       "      <td>0.000000</td>\n",
       "      <td>0.113386</td>\n",
       "    </tr>\n",
       "    <tr>\n",
       "      <th>3</th>\n",
       "      <td>0.300332</td>\n",
       "      <td>0.745787</td>\n",
       "      <td>0.694903</td>\n",
       "      <td>0.755846</td>\n",
       "      <td>0.379658</td>\n",
       "      <td>0.371070</td>\n",
       "      <td>0.322568</td>\n",
       "      <td>0.108738</td>\n",
       "      <td>0.37204</td>\n",
       "      <td>0.644195</td>\n",
       "      <td>0.664108</td>\n",
       "      <td>0.410747</td>\n",
       "      <td>0.022942</td>\n",
       "      <td>0.427424</td>\n",
       "      <td>0.383629</td>\n",
       "      <td>0.750346</td>\n",
       "      <td>0.670784</td>\n",
       "      <td>0.000000</td>\n",
       "      <td>0.680196</td>\n",
       "    </tr>\n",
       "    <tr>\n",
       "      <th>4</th>\n",
       "      <td>0.425277</td>\n",
       "      <td>0.212242</td>\n",
       "      <td>0.643990</td>\n",
       "      <td>0.619695</td>\n",
       "      <td>0.137710</td>\n",
       "      <td>0.657461</td>\n",
       "      <td>0.660990</td>\n",
       "      <td>0.817201</td>\n",
       "      <td>0.37204</td>\n",
       "      <td>0.694785</td>\n",
       "      <td>0.832524</td>\n",
       "      <td>0.580546</td>\n",
       "      <td>0.640460</td>\n",
       "      <td>0.590135</td>\n",
       "      <td>0.658431</td>\n",
       "      <td>0.269008</td>\n",
       "      <td>0.670784</td>\n",
       "      <td>0.000000</td>\n",
       "      <td>0.177682</td>\n",
       "    </tr>\n",
       "  </tbody>\n",
       "</table>\n",
       "</div>"
      ],
      "text/plain": [
       "       FICO  Business Revenue       TSR  Last 6M Avg Util    Income  \\\n",
       "0  0.052678          0.352363  0.784935          0.610371  0.013736   \n",
       "1  0.411924          0.046913  0.697432          0.008736  0.303597   \n",
       "2  0.792935          0.749787  0.085767          0.402600  0.303597   \n",
       "3  0.300332          0.745787  0.694903          0.755846  0.379658   \n",
       "4  0.425277          0.212242  0.643990          0.619695  0.137710   \n",
       "\n",
       "   Last 6M Avg Remit  Last 6M Avg Bal  Internal Revolve  \\\n",
       "0           0.539663         0.546310          0.602782   \n",
       "1           0.647431         0.633930          0.244478   \n",
       "2           0.278243         0.284126          0.570605   \n",
       "3           0.371070         0.322568          0.108738   \n",
       "4           0.657461         0.660990          0.817201   \n",
       "\n",
       "   Lending AR% in last 6M  ExternalBalance  Months in Business  \\\n",
       "0                 0.37204         0.110944            0.493103   \n",
       "1                 0.15774         0.694726            0.145534   \n",
       "2                 0.37204         0.156299            0.832524   \n",
       "3                 0.37204         0.644195            0.664108   \n",
       "4                 0.37204         0.694785            0.832524   \n",
       "\n",
       "   preferred_spend_line  total_cards  preferred_bal_line  preavgremit1_3_all  \\\n",
       "0              0.013089     0.022942            0.009853            0.652225   \n",
       "1              0.543781     0.022942            0.539310            0.681579   \n",
       "2              0.432130     0.022942            0.380423            0.251066   \n",
       "3              0.410747     0.022942            0.427424            0.383629   \n",
       "4              0.580546     0.640460            0.590135            0.658431   \n",
       "\n",
       "   External_rev_rate  Supplementary Cards  isChargeCust       CMV  \n",
       "0           0.624607             0.670784      0.000000  0.149446  \n",
       "1           0.648578             0.000000      0.701962  0.705285  \n",
       "2           0.282626             0.000000      0.000000  0.113386  \n",
       "3           0.750346             0.670784      0.000000  0.680196  \n",
       "4           0.269008             0.670784      0.000000  0.177682  "
      ]
     },
     "execution_count": 10,
     "metadata": {},
     "output_type": "execute_result"
    }
   ],
   "source": [
    "X.head()"
   ]
  },
  {
   "cell_type": "code",
   "execution_count": 11,
   "metadata": {},
   "outputs": [
    {
     "data": {
      "text/plain": [
       "0       Low\n",
       "1      High\n",
       "2    Medium\n",
       "3       Low\n",
       "4      High\n",
       "Name: Assigned Line, dtype: object"
      ]
     },
     "execution_count": 11,
     "metadata": {},
     "output_type": "execute_result"
    }
   ],
   "source": [
    "y.head()"
   ]
  },
  {
   "cell_type": "code",
   "execution_count": null,
   "metadata": {},
   "outputs": [],
   "source": [
    "def normalize(column):\n",
    "    upper = column.max()\n",
    "    lower = column.min()\n",
    "    y = (column - lower)/(upper-lower)\n",
    "    return y"
   ]
  },
  {
   "cell_type": "code",
   "execution_count": null,
   "metadata": {},
   "outputs": [],
   "source": [
    "for i in X.columns[0:-1]:\n",
    "    X[i] = normalize(X[i])"
   ]
  },
  {
   "cell_type": "code",
   "execution_count": null,
   "metadata": {},
   "outputs": [],
   "source": [
    "for i in X.columns[0:-1]:\n",
    "    plt.figure()\n",
    "    X.hist(column=i,figsize=(7,5))"
   ]
  },
  {
   "cell_type": "code",
   "execution_count": 12,
   "metadata": {},
   "outputs": [],
   "source": [
    "bestfeatures = SelectKBest(score_func=chi2, k=15)"
   ]
  },
  {
   "cell_type": "code",
   "execution_count": 13,
   "metadata": {},
   "outputs": [],
   "source": [
    "fit = bestfeatures.fit(X,y)"
   ]
  },
  {
   "cell_type": "code",
   "execution_count": 14,
   "metadata": {},
   "outputs": [],
   "source": [
    "dfscores = pd.DataFrame(fit.scores_)\n",
    "dfcolumns = pd.DataFrame(X.columns)\n",
    "#concat two dataframes for better visualization \n",
    "featureScores = pd.concat([dfcolumns,dfscores],axis=1)\n",
    "featureScores.columns = ['Specs','Score']  #naming the dataframe columns"
   ]
  },
  {
   "cell_type": "code",
   "execution_count": 15,
   "metadata": {},
   "outputs": [
    {
     "name": "stdout",
     "output_type": "stream",
     "text": [
      "                   Specs      Score\n",
      "1       Business Revenue  91.822687\n",
      "0                   FICO  89.856101\n",
      "2                    TSR  87.401490\n",
      "11  preferred_spend_line  51.101342\n",
      "4                 Income  47.788845\n",
      "10    Months in Business  45.100338\n",
      "13    preferred_bal_line  42.394753\n",
      "17          isChargeCust  38.200065\n",
      "15     External_rev_rate  35.857073\n",
      "16   Supplementary Cards  31.750487\n",
      "5      Last 6M Avg Remit  29.655143\n",
      "6        Last 6M Avg Bal  27.292258\n",
      "14    preavgremit1_3_all  24.199841\n",
      "18                   CMV  18.606892\n",
      "12           total_cards  14.192720\n"
     ]
    }
   ],
   "source": [
    "print(featureScores.nlargest(15,'Score'))"
   ]
  },
  {
   "cell_type": "markdown",
   "metadata": {},
   "source": [
    "### Feature Importance using a model"
   ]
  },
  {
   "cell_type": "code",
   "execution_count": 16,
   "metadata": {},
   "outputs": [],
   "source": [
    "from sklearn.ensemble import ExtraTreesClassifier"
   ]
  },
  {
   "cell_type": "code",
   "execution_count": 17,
   "metadata": {},
   "outputs": [
    {
     "name": "stderr",
     "output_type": "stream",
     "text": [
      "C:\\Users\\PASHUPATI-PC\\Anaconda3\\envs\\ml\\lib\\site-packages\\sklearn\\ensemble\\forest.py:245: FutureWarning: The default value of n_estimators will change from 10 in version 0.20 to 100 in 0.22.\n",
      "  \"10 in version 0.20 to 100 in 0.22.\", FutureWarning)\n"
     ]
    },
    {
     "name": "stdout",
     "output_type": "stream",
     "text": [
      "[0.06479553 0.06418531 0.06267031 0.0510909  0.06171992 0.05563714\n",
      " 0.05502458 0.05545555 0.03116567 0.05843318 0.05978353 0.05783405\n",
      " 0.03465722 0.05765273 0.05484736 0.05681516 0.03149701 0.01520993\n",
      " 0.07152491]\n"
     ]
    }
   ],
   "source": [
    "model = ExtraTreesClassifier()\n",
    "model.fit(X,y)\n",
    "print(model.feature_importances_) #use inbuilt class feature_importances of tree based classifiers"
   ]
  },
  {
   "cell_type": "code",
   "execution_count": 18,
   "metadata": {},
   "outputs": [
    {
     "data": {
      "image/png": "[encoded data removed]",
      "text/plain": [
       "<Figure size 432x288 with 1 Axes>"
      ]
     },
     "metadata": {
      "needs_background": "light"
     },
     "output_type": "display_data"
    }
   ],
   "source": [
    "#plot graph of feature importances for better visualization\n",
    "feat_importances = pd.Series(model.feature_importances_, index=X.columns)\n",
    "feat_importances.nlargest(19).plot(kind='barh')\n",
    "plt.show()"
   ]
  },
  {
   "cell_type": "code",
   "execution_count": 19,
   "metadata": {},
   "outputs": [],
   "source": [
    "ETC = pd.DataFrame(feat_importances)\n",
    "#ETC"
   ]
  },
  {
   "cell_type": "markdown",
   "metadata": {},
   "source": [
    "### Cor-relation factor"
   ]
  },
  {
   "cell_type": "code",
   "execution_count": null,
   "metadata": {},
   "outputs": [],
   "source": [
    "from sklearn.preprocessing import LabelEncoder, OneHotEncoder\n",
    "\n",
    "labelencoder_X = LabelEncoder()\n",
    "#X[:, 11] = labelencoder_X.fit_transform(X[:, 11])\n",
    "\n",
    "labelencoder_y = LabelEncoder()#\n",
    "#df_train['VAR21'] = labelencoder_y.fit_transform(df_train['VAR21'])"
   ]
  },
  {
   "cell_type": "code",
   "execution_count": null,
   "metadata": {},
   "outputs": [],
   "source": [
    "df_train['VAR21'].head()"
   ]
  },
  {
   "cell_type": "code",
   "execution_count": null,
   "metadata": {},
   "outputs": [],
   "source": [
    "df = df_train.iloc[:,2:]"
   ]
  },
  {
   "cell_type": "code",
   "execution_count": null,
   "metadata": {},
   "outputs": [],
   "source": [
    "#get correlations of each features in dataset\n",
    "corrmat = df.corr()\n",
    "top_corr_features = corrmat.index\n",
    "plt.figure(figsize=(20,20))\n",
    "#plot heat map\n",
    "g=sns.heatmap(df[top_corr_features].corr(),annot=True,cmap=\"RdYlGn\")"
   ]
  },
  {
   "cell_type": "markdown",
   "metadata": {},
   "source": [
    "### Recursive Feature Elimination with Logistic Regression"
   ]
  },
  {
   "cell_type": "code",
   "execution_count": 20,
   "metadata": {},
   "outputs": [],
   "source": [
    "from sklearn.feature_selection import RFE\n",
    "from sklearn.linear_model import LogisticRegression"
   ]
  },
  {
   "cell_type": "code",
   "execution_count": 21,
   "metadata": {},
   "outputs": [],
   "source": [
    "model_log = LogisticRegression() \n",
    "rfe = RFE(model, 15)"
   ]
  },
  {
   "cell_type": "code",
   "execution_count": 22,
   "metadata": {},
   "outputs": [],
   "source": [
    "fit = rfe.fit(X, y)"
   ]
  },
  {
   "cell_type": "code",
   "execution_count": 23,
   "metadata": {},
   "outputs": [
    {
     "name": "stdout",
     "output_type": "stream",
     "text": [
      "Num Features: 15\n",
      "Selected Features: [ True  True  True  True  True  True  True  True False  True  True  True\n",
      " False  True  True  True False False  True]\n",
      "Feature Ranking: [1 1 1 1 1 1 1 1 3 1 1 1 2 1 1 1 4 5 1]\n"
     ]
    }
   ],
   "source": [
    "print(\"Num Features: %d\"% fit.n_features_) \n",
    "print(\"Selected Features: %s\"% fit.support_) \n",
    "print(\"Feature Ranking: %s\"% fit.ranking_)"
   ]
  },
  {
   "cell_type": "code",
   "execution_count": 24,
   "metadata": {},
   "outputs": [
    {
     "data": {
      "text/html": [
       "<div>\n",
       "<style scoped>\n",
       "    .dataframe tbody tr th:only-of-type {\n",
       "        vertical-align: middle;\n",
       "    }\n",
       "\n",
       "    .dataframe tbody tr th {\n",
       "        vertical-align: top;\n",
       "    }\n",
       "\n",
       "    .dataframe thead th {\n",
       "        text-align: right;\n",
       "    }\n",
       "</style>\n",
       "<table border=\"1\" class=\"dataframe\">\n",
       "  <thead>\n",
       "    <tr style=\"text-align: right;\">\n",
       "      <th></th>\n",
       "      <th>slected</th>\n",
       "      <th>variable</th>\n",
       "    </tr>\n",
       "  </thead>\n",
       "  <tbody>\n",
       "    <tr>\n",
       "      <th>0</th>\n",
       "      <td>True</td>\n",
       "      <td>FICO</td>\n",
       "    </tr>\n",
       "    <tr>\n",
       "      <th>1</th>\n",
       "      <td>True</td>\n",
       "      <td>Business Revenue</td>\n",
       "    </tr>\n",
       "    <tr>\n",
       "      <th>2</th>\n",
       "      <td>True</td>\n",
       "      <td>TSR</td>\n",
       "    </tr>\n",
       "    <tr>\n",
       "      <th>3</th>\n",
       "      <td>True</td>\n",
       "      <td>Last 6M Avg Util</td>\n",
       "    </tr>\n",
       "    <tr>\n",
       "      <th>4</th>\n",
       "      <td>True</td>\n",
       "      <td>Income</td>\n",
       "    </tr>\n",
       "    <tr>\n",
       "      <th>5</th>\n",
       "      <td>True</td>\n",
       "      <td>Last 6M Avg Remit</td>\n",
       "    </tr>\n",
       "    <tr>\n",
       "      <th>6</th>\n",
       "      <td>True</td>\n",
       "      <td>Last 6M Avg Bal</td>\n",
       "    </tr>\n",
       "    <tr>\n",
       "      <th>7</th>\n",
       "      <td>True</td>\n",
       "      <td>Internal Revolve</td>\n",
       "    </tr>\n",
       "    <tr>\n",
       "      <th>8</th>\n",
       "      <td>False</td>\n",
       "      <td>Lending AR% in last 6M</td>\n",
       "    </tr>\n",
       "    <tr>\n",
       "      <th>9</th>\n",
       "      <td>True</td>\n",
       "      <td>ExternalBalance</td>\n",
       "    </tr>\n",
       "    <tr>\n",
       "      <th>10</th>\n",
       "      <td>True</td>\n",
       "      <td>Months in Business</td>\n",
       "    </tr>\n",
       "    <tr>\n",
       "      <th>11</th>\n",
       "      <td>True</td>\n",
       "      <td>preferred_spend_line</td>\n",
       "    </tr>\n",
       "    <tr>\n",
       "      <th>12</th>\n",
       "      <td>False</td>\n",
       "      <td>total_cards</td>\n",
       "    </tr>\n",
       "    <tr>\n",
       "      <th>13</th>\n",
       "      <td>True</td>\n",
       "      <td>preferred_bal_line</td>\n",
       "    </tr>\n",
       "    <tr>\n",
       "      <th>14</th>\n",
       "      <td>True</td>\n",
       "      <td>preavgremit1_3_all</td>\n",
       "    </tr>\n",
       "    <tr>\n",
       "      <th>15</th>\n",
       "      <td>True</td>\n",
       "      <td>External_rev_rate</td>\n",
       "    </tr>\n",
       "    <tr>\n",
       "      <th>16</th>\n",
       "      <td>False</td>\n",
       "      <td>Supplementary Cards</td>\n",
       "    </tr>\n",
       "    <tr>\n",
       "      <th>17</th>\n",
       "      <td>False</td>\n",
       "      <td>isChargeCust</td>\n",
       "    </tr>\n",
       "    <tr>\n",
       "      <th>18</th>\n",
       "      <td>True</td>\n",
       "      <td>CMV</td>\n",
       "    </tr>\n",
       "  </tbody>\n",
       "</table>\n",
       "</div>"
      ],
      "text/plain": [
       "    slected                variable\n",
       "0      True                    FICO\n",
       "1      True        Business Revenue\n",
       "2      True                     TSR\n",
       "3      True        Last 6M Avg Util\n",
       "4      True                  Income\n",
       "5      True       Last 6M Avg Remit\n",
       "6      True         Last 6M Avg Bal\n",
       "7      True        Internal Revolve\n",
       "8     False  Lending AR% in last 6M\n",
       "9      True         ExternalBalance\n",
       "10     True      Months in Business\n",
       "11     True    preferred_spend_line\n",
       "12    False             total_cards\n",
       "13     True      preferred_bal_line\n",
       "14     True      preavgremit1_3_all\n",
       "15     True       External_rev_rate\n",
       "16    False     Supplementary Cards\n",
       "17    False            isChargeCust\n",
       "18     True                     CMV"
      ]
     },
     "execution_count": 24,
     "metadata": {},
     "output_type": "execute_result"
    }
   ],
   "source": [
    "feat_selected = pd.DataFrame({'slected':fit.support_, 'variable':X.columns})\n",
    "feat_selected"
   ]
  },
  {
   "cell_type": "markdown",
   "metadata": {},
   "source": [
    "### Principle Component Analysis"
   ]
  },
  {
   "cell_type": "code",
   "execution_count": null,
   "metadata": {},
   "outputs": [],
   "source": [
    "from sklearn.decomposition import PCA"
   ]
  },
  {
   "cell_type": "code",
   "execution_count": null,
   "metadata": {},
   "outputs": [],
   "source": [
    "pca = PCA(n_components=5) "
   ]
  },
  {
   "cell_type": "code",
   "execution_count": null,
   "metadata": {},
   "outputs": [],
   "source": [
    "fit = pca.fit(X)"
   ]
  },
  {
   "cell_type": "code",
   "execution_count": null,
   "metadata": {},
   "outputs": [],
   "source": [
    "print(\"Explained Variance:\", fit.explained_variance_ratio_)"
   ]
  },
  {
   "cell_type": "code",
   "execution_count": null,
   "metadata": {},
   "outputs": [],
   "source": [
    "print(fit.components_)"
   ]
  },
  {
   "cell_type": "markdown",
   "metadata": {},
   "source": [
    "### Feature Importance using Random Forest"
   ]
  },
  {
   "cell_type": "code",
   "execution_count": 25,
   "metadata": {},
   "outputs": [],
   "source": [
    "from sklearn.ensemble import RandomForestClassifier\n",
    "from sklearn.feature_selection import SelectFromModel\n",
    "from sklearn.model_selection import train_test_split\n",
    "from sklearn.metrics import f1_score,confusion_matrix\n",
    "from sklearn.metrics import accuracy_score"
   ]
  },
  {
   "cell_type": "code",
   "execution_count": 26,
   "metadata": {},
   "outputs": [
    {
     "data": {
      "text/html": [
       "<div>\n",
       "<style scoped>\n",
       "    .dataframe tbody tr th:only-of-type {\n",
       "        vertical-align: middle;\n",
       "    }\n",
       "\n",
       "    .dataframe tbody tr th {\n",
       "        vertical-align: top;\n",
       "    }\n",
       "\n",
       "    .dataframe thead th {\n",
       "        text-align: right;\n",
       "    }\n",
       "</style>\n",
       "<table border=\"1\" class=\"dataframe\">\n",
       "  <thead>\n",
       "    <tr style=\"text-align: right;\">\n",
       "      <th></th>\n",
       "      <th>FICO</th>\n",
       "      <th>Business Revenue</th>\n",
       "      <th>TSR</th>\n",
       "      <th>Last 6M Avg Util</th>\n",
       "      <th>Income</th>\n",
       "      <th>Last 6M Avg Remit</th>\n",
       "      <th>Last 6M Avg Bal</th>\n",
       "      <th>Internal Revolve</th>\n",
       "      <th>Lending AR% in last 6M</th>\n",
       "      <th>ExternalBalance</th>\n",
       "      <th>Months in Business</th>\n",
       "      <th>preferred_spend_line</th>\n",
       "      <th>total_cards</th>\n",
       "      <th>preferred_bal_line</th>\n",
       "      <th>preavgremit1_3_all</th>\n",
       "      <th>External_rev_rate</th>\n",
       "      <th>Supplementary Cards</th>\n",
       "      <th>isChargeCust</th>\n",
       "      <th>CMV</th>\n",
       "    </tr>\n",
       "  </thead>\n",
       "  <tbody>\n",
       "    <tr>\n",
       "      <th>0</th>\n",
       "      <td>0.052678</td>\n",
       "      <td>0.352363</td>\n",
       "      <td>0.784935</td>\n",
       "      <td>0.610371</td>\n",
       "      <td>0.013736</td>\n",
       "      <td>0.539663</td>\n",
       "      <td>0.546310</td>\n",
       "      <td>0.602782</td>\n",
       "      <td>0.37204</td>\n",
       "      <td>0.110944</td>\n",
       "      <td>0.493103</td>\n",
       "      <td>0.013089</td>\n",
       "      <td>0.022942</td>\n",
       "      <td>0.009853</td>\n",
       "      <td>0.652225</td>\n",
       "      <td>0.624607</td>\n",
       "      <td>0.670784</td>\n",
       "      <td>0.000000</td>\n",
       "      <td>0.149446</td>\n",
       "    </tr>\n",
       "    <tr>\n",
       "      <th>1</th>\n",
       "      <td>0.411924</td>\n",
       "      <td>0.046913</td>\n",
       "      <td>0.697432</td>\n",
       "      <td>0.008736</td>\n",
       "      <td>0.303597</td>\n",
       "      <td>0.647431</td>\n",
       "      <td>0.633930</td>\n",
       "      <td>0.244478</td>\n",
       "      <td>0.15774</td>\n",
       "      <td>0.694726</td>\n",
       "      <td>0.145534</td>\n",
       "      <td>0.543781</td>\n",
       "      <td>0.022942</td>\n",
       "      <td>0.539310</td>\n",
       "      <td>0.681579</td>\n",
       "      <td>0.648578</td>\n",
       "      <td>0.000000</td>\n",
       "      <td>0.701962</td>\n",
       "      <td>0.705285</td>\n",
       "    </tr>\n",
       "    <tr>\n",
       "      <th>2</th>\n",
       "      <td>0.792935</td>\n",
       "      <td>0.749787</td>\n",
       "      <td>0.085767</td>\n",
       "      <td>0.402600</td>\n",
       "      <td>0.303597</td>\n",
       "      <td>0.278243</td>\n",
       "      <td>0.284126</td>\n",
       "      <td>0.570605</td>\n",
       "      <td>0.37204</td>\n",
       "      <td>0.156299</td>\n",
       "      <td>0.832524</td>\n",
       "      <td>0.432130</td>\n",
       "      <td>0.022942</td>\n",
       "      <td>0.380423</td>\n",
       "      <td>0.251066</td>\n",
       "      <td>0.282626</td>\n",
       "      <td>0.000000</td>\n",
       "      <td>0.000000</td>\n",
       "      <td>0.113386</td>\n",
       "    </tr>\n",
       "    <tr>\n",
       "      <th>3</th>\n",
       "      <td>0.300332</td>\n",
       "      <td>0.745787</td>\n",
       "      <td>0.694903</td>\n",
       "      <td>0.755846</td>\n",
       "      <td>0.379658</td>\n",
       "      <td>0.371070</td>\n",
       "      <td>0.322568</td>\n",
       "      <td>0.108738</td>\n",
       "      <td>0.37204</td>\n",
       "      <td>0.644195</td>\n",
       "      <td>0.664108</td>\n",
       "      <td>0.410747</td>\n",
       "      <td>0.022942</td>\n",
       "      <td>0.427424</td>\n",
       "      <td>0.383629</td>\n",
       "      <td>0.750346</td>\n",
       "      <td>0.670784</td>\n",
       "      <td>0.000000</td>\n",
       "      <td>0.680196</td>\n",
       "    </tr>\n",
       "    <tr>\n",
       "      <th>4</th>\n",
       "      <td>0.425277</td>\n",
       "      <td>0.212242</td>\n",
       "      <td>0.643990</td>\n",
       "      <td>0.619695</td>\n",
       "      <td>0.137710</td>\n",
       "      <td>0.657461</td>\n",
       "      <td>0.660990</td>\n",
       "      <td>0.817201</td>\n",
       "      <td>0.37204</td>\n",
       "      <td>0.694785</td>\n",
       "      <td>0.832524</td>\n",
       "      <td>0.580546</td>\n",
       "      <td>0.640460</td>\n",
       "      <td>0.590135</td>\n",
       "      <td>0.658431</td>\n",
       "      <td>0.269008</td>\n",
       "      <td>0.670784</td>\n",
       "      <td>0.000000</td>\n",
       "      <td>0.177682</td>\n",
       "    </tr>\n",
       "  </tbody>\n",
       "</table>\n",
       "</div>"
      ],
      "text/plain": [
       "       FICO  Business Revenue       TSR  Last 6M Avg Util    Income  \\\n",
       "0  0.052678          0.352363  0.784935          0.610371  0.013736   \n",
       "1  0.411924          0.046913  0.697432          0.008736  0.303597   \n",
       "2  0.792935          0.749787  0.085767          0.402600  0.303597   \n",
       "3  0.300332          0.745787  0.694903          0.755846  0.379658   \n",
       "4  0.425277          0.212242  0.643990          0.619695  0.137710   \n",
       "\n",
       "   Last 6M Avg Remit  Last 6M Avg Bal  Internal Revolve  \\\n",
       "0           0.539663         0.546310          0.602782   \n",
       "1           0.647431         0.633930          0.244478   \n",
       "2           0.278243         0.284126          0.570605   \n",
       "3           0.371070         0.322568          0.108738   \n",
       "4           0.657461         0.660990          0.817201   \n",
       "\n",
       "   Lending AR% in last 6M  ExternalBalance  Months in Business  \\\n",
       "0                 0.37204         0.110944            0.493103   \n",
       "1                 0.15774         0.694726            0.145534   \n",
       "2                 0.37204         0.156299            0.832524   \n",
       "3                 0.37204         0.644195            0.664108   \n",
       "4                 0.37204         0.694785            0.832524   \n",
       "\n",
       "   preferred_spend_line  total_cards  preferred_bal_line  preavgremit1_3_all  \\\n",
       "0              0.013089     0.022942            0.009853            0.652225   \n",
       "1              0.543781     0.022942            0.539310            0.681579   \n",
       "2              0.432130     0.022942            0.380423            0.251066   \n",
       "3              0.410747     0.022942            0.427424            0.383629   \n",
       "4              0.580546     0.640460            0.590135            0.658431   \n",
       "\n",
       "   External_rev_rate  Supplementary Cards  isChargeCust       CMV  \n",
       "0           0.624607             0.670784      0.000000  0.149446  \n",
       "1           0.648578             0.000000      0.701962  0.705285  \n",
       "2           0.282626             0.000000      0.000000  0.113386  \n",
       "3           0.750346             0.670784      0.000000  0.680196  \n",
       "4           0.269008             0.670784      0.000000  0.177682  "
      ]
     },
     "execution_count": 26,
     "metadata": {},
     "output_type": "execute_result"
    }
   ],
   "source": [
    "X.head()"
   ]
  },
  {
   "cell_type": "code",
   "execution_count": 27,
   "metadata": {},
   "outputs": [
    {
     "data": {
      "text/plain": [
       "<matplotlib.axes._subplots.AxesSubplot at 0x2a0079f7908>"
      ]
     },
     "execution_count": 27,
     "metadata": {},
     "output_type": "execute_result"
    },
    {
     "data": {
      "image/png": "[encoded data removed]",
      "text/plain": [
       "<Figure size 1296x1296 with 2 Axes>"
      ]
     },
     "metadata": {
      "needs_background": "light"
     },
     "output_type": "display_data"
    }
   ],
   "source": [
    "#correlation map of independent variable\n",
    "f,ax = plt.subplots(figsize=(18, 18))\n",
    "sns.heatmap(X.corr(), annot=True, linewidths=.5, fmt= '.1f',ax=ax)"
   ]
  },
  {
   "cell_type": "code",
   "execution_count": 28,
   "metadata": {},
   "outputs": [],
   "source": [
    "# split data train 70 % and test 30 %\n",
    "x_train, x_test, y_train, y_test = train_test_split(X, y, test_size=0.3, random_state=42)"
   ]
  },
  {
   "cell_type": "code",
   "execution_count": 29,
   "metadata": {},
   "outputs": [
    {
     "name": "stderr",
     "output_type": "stream",
     "text": [
      "C:\\Users\\PASHUPATI-PC\\Anaconda3\\envs\\ml\\lib\\site-packages\\sklearn\\ensemble\\forest.py:245: FutureWarning: The default value of n_estimators will change from 10 in version 0.20 to 100 in 0.22.\n",
      "  \"10 in version 0.20 to 100 in 0.22.\", FutureWarning)\n"
     ]
    }
   ],
   "source": [
    "#random forest classifier with n_estimators=10 (default)\n",
    "clf_rf = RandomForestClassifier(random_state=43)      \n",
    "clr_rf = clf_rf.fit(x_train,y_train)"
   ]
  },
  {
   "cell_type": "code",
   "execution_count": 30,
   "metadata": {},
   "outputs": [
    {
     "name": "stdout",
     "output_type": "stream",
     "text": [
      "Accuracy is:  0.5256862745098039\n"
     ]
    },
    {
     "data": {
      "text/plain": [
       "<matplotlib.axes._subplots.AxesSubplot at 0x2a00a8b96d8>"
      ]
     },
     "execution_count": 30,
     "metadata": {},
     "output_type": "execute_result"
    },
    {
     "data": {
      "image/png": "[encoded data removed]",
      "text/plain": [
       "<Figure size 432x288 with 2 Axes>"
      ]
     },
     "metadata": {
      "needs_background": "light"
     },
     "output_type": "display_data"
    }
   ],
   "source": [
    "ac = accuracy_score(y_test,clf_rf.predict(x_test))\n",
    "print('Accuracy is: ',ac)\n",
    "cm = confusion_matrix(y_test,clf_rf.predict(x_test))\n",
    "sns.heatmap(cm,annot=True,fmt=\"d\")"
   ]
  },
  {
   "cell_type": "code",
   "execution_count": 31,
   "metadata": {},
   "outputs": [],
   "source": [
    "# find best scored 15 features\n",
    "select_feature = SelectKBest(chi2, k=10).fit(x_train, y_train)"
   ]
  },
  {
   "cell_type": "code",
   "execution_count": 32,
   "metadata": {},
   "outputs": [
    {
     "data": {
      "text/plain": [
       "array([63.37654614, 65.04644758, 62.53656283,  3.54011422, 31.81931477,\n",
       "       22.71368489, 22.4973268 ,  2.02227022,  1.1568436 ,  8.97876775,\n",
       "       28.34763466, 39.55732789,  7.20499   , 31.6556459 , 18.46214469,\n",
       "       27.26243541, 22.70512757, 25.38294374, 12.77678791])"
      ]
     },
     "execution_count": 32,
     "metadata": {},
     "output_type": "execute_result"
    }
   ],
   "source": [
    "select_feature.scores_"
   ]
  },
  {
   "cell_type": "code",
   "execution_count": 33,
   "metadata": {},
   "outputs": [
    {
     "name": "stdout",
     "output_type": "stream",
     "text": [
      "Score list: [63.37654614 65.04644758 62.53656283  3.54011422 31.81931477 22.71368489\n",
      " 22.4973268   2.02227022  1.1568436   8.97876775 28.34763466 39.55732789\n",
      "  7.20499    31.6556459  18.46214469 27.26243541 22.70512757 25.38294374\n",
      " 12.77678791]\n",
      "Feature list: Index(['FICO', 'Business Revenue', 'TSR', 'Last 6M Avg Util', 'Income',\n",
      "       'Last 6M Avg Remit', 'Last 6M Avg Bal', 'Internal Revolve',\n",
      "       'Lending AR% in last 6M', 'ExternalBalance', 'Months in Business',\n",
      "       'preferred_spend_line', 'total_cards', 'preferred_bal_line',\n",
      "       'preavgremit1_3_all', 'External_rev_rate', 'Supplementary Cards',\n",
      "       'isChargeCust', 'CMV'],\n",
      "      dtype='object')\n"
     ]
    }
   ],
   "source": [
    "print('Score list:', select_feature.scores_)\n",
    "print('Feature list:', x_train.columns)"
   ]
  },
  {
   "cell_type": "code",
   "execution_count": 34,
   "metadata": {},
   "outputs": [],
   "source": [
    "dfscoresrf = pd.DataFrame(select_feature.scores_)\n",
    "dfcolumnsrf = pd.DataFrame(x_train.columns)\n",
    "#concat two dataframes for better visualization \n",
    "featureScoresrf = pd.concat([dfcolumnsrf,dfscoresrf],axis=1)\n",
    "featureScoresrf.columns = ['Specs','Score']  #naming the dataframe columns"
   ]
  },
  {
   "cell_type": "code",
   "execution_count": 35,
   "metadata": {},
   "outputs": [
    {
     "name": "stdout",
     "output_type": "stream",
     "text": [
      "                   Specs      Score\n",
      "1       Business Revenue  65.046448\n",
      "0                   FICO  63.376546\n",
      "2                    TSR  62.536563\n",
      "11  preferred_spend_line  39.557328\n",
      "4                 Income  31.819315\n",
      "13    preferred_bal_line  31.655646\n",
      "10    Months in Business  28.347635\n",
      "15     External_rev_rate  27.262435\n",
      "17          isChargeCust  25.382944\n",
      "5      Last 6M Avg Remit  22.713685\n",
      "16   Supplementary Cards  22.705128\n",
      "6        Last 6M Avg Bal  22.497327\n"
     ]
    }
   ],
   "source": [
    "print(featureScoresrf.nlargest(12,'Score'))"
   ]
  },
  {
   "cell_type": "code",
   "execution_count": 36,
   "metadata": {},
   "outputs": [],
   "source": [
    "x_train_2 = select_feature.transform(x_train)\n",
    "x_test_2 = select_feature.transform(x_test)"
   ]
  },
  {
   "cell_type": "code",
   "execution_count": 37,
   "metadata": {},
   "outputs": [],
   "source": [
    "#x_train_2.columns"
   ]
  },
  {
   "cell_type": "code",
   "execution_count": 38,
   "metadata": {},
   "outputs": [
    {
     "name": "stderr",
     "output_type": "stream",
     "text": [
      "C:\\Users\\PASHUPATI-PC\\Anaconda3\\envs\\ml\\lib\\site-packages\\sklearn\\ensemble\\forest.py:245: FutureWarning: The default value of n_estimators will change from 10 in version 0.20 to 100 in 0.22.\n",
      "  \"10 in version 0.20 to 100 in 0.22.\", FutureWarning)\n"
     ]
    }
   ],
   "source": [
    "#random forest classifier with n_estimators=10 (default)\n",
    "clf_rf_2 = RandomForestClassifier()      \n",
    "clr_rf_2 = clf_rf_2.fit(x_train_2,y_train)"
   ]
  },
  {
   "cell_type": "code",
   "execution_count": 39,
   "metadata": {},
   "outputs": [
    {
     "name": "stdout",
     "output_type": "stream",
     "text": [
      "Accuracy is:  0.4992156862745098\n"
     ]
    },
    {
     "data": {
      "text/plain": [
       "<matplotlib.axes._subplots.AxesSubplot at 0x2a00b8df2e8>"
      ]
     },
     "execution_count": 39,
     "metadata": {},
     "output_type": "execute_result"
    },
    {
     "data": {
      "image/png": "[encoded data removed]",
      "text/plain": [
       "<Figure size 432x288 with 2 Axes>"
      ]
     },
     "metadata": {
      "needs_background": "light"
     },
     "output_type": "display_data"
    }
   ],
   "source": [
    "ac_2 = accuracy_score(y_test,clf_rf_2.predict(x_test_2))\n",
    "print('Accuracy is: ',ac_2)\n",
    "cm_2 = confusion_matrix(y_test,clf_rf_2.predict(x_test_2))\n",
    "sns.heatmap(cm_2,annot=True,fmt=\"d\")"
   ]
  },
  {
   "cell_type": "markdown",
   "metadata": {},
   "source": [
    "### Recursive Feature Elimination with Random Forest"
   ]
  },
  {
   "cell_type": "code",
   "execution_count": 40,
   "metadata": {},
   "outputs": [
    {
     "name": "stderr",
     "output_type": "stream",
     "text": [
      "C:\\Users\\PASHUPATI-PC\\Anaconda3\\envs\\ml\\lib\\site-packages\\sklearn\\ensemble\\forest.py:245: FutureWarning: The default value of n_estimators will change from 10 in version 0.20 to 100 in 0.22.\n",
      "  \"10 in version 0.20 to 100 in 0.22.\", FutureWarning)\n",
      "C:\\Users\\PASHUPATI-PC\\Anaconda3\\envs\\ml\\lib\\site-packages\\sklearn\\ensemble\\forest.py:245: FutureWarning: The default value of n_estimators will change from 10 in version 0.20 to 100 in 0.22.\n",
      "  \"10 in version 0.20 to 100 in 0.22.\", FutureWarning)\n",
      "C:\\Users\\PASHUPATI-PC\\Anaconda3\\envs\\ml\\lib\\site-packages\\sklearn\\ensemble\\forest.py:245: FutureWarning: The default value of n_estimators will change from 10 in version 0.20 to 100 in 0.22.\n",
      "  \"10 in version 0.20 to 100 in 0.22.\", FutureWarning)\n",
      "C:\\Users\\PASHUPATI-PC\\Anaconda3\\envs\\ml\\lib\\site-packages\\sklearn\\ensemble\\forest.py:245: FutureWarning: The default value of n_estimators will change from 10 in version 0.20 to 100 in 0.22.\n",
      "  \"10 in version 0.20 to 100 in 0.22.\", FutureWarning)\n",
      "C:\\Users\\PASHUPATI-PC\\Anaconda3\\envs\\ml\\lib\\site-packages\\sklearn\\ensemble\\forest.py:245: FutureWarning: The default value of n_estimators will change from 10 in version 0.20 to 100 in 0.22.\n",
      "  \"10 in version 0.20 to 100 in 0.22.\", FutureWarning)\n",
      "C:\\Users\\PASHUPATI-PC\\Anaconda3\\envs\\ml\\lib\\site-packages\\sklearn\\ensemble\\forest.py:245: FutureWarning: The default value of n_estimators will change from 10 in version 0.20 to 100 in 0.22.\n",
      "  \"10 in version 0.20 to 100 in 0.22.\", FutureWarning)\n",
      "C:\\Users\\PASHUPATI-PC\\Anaconda3\\envs\\ml\\lib\\site-packages\\sklearn\\ensemble\\forest.py:245: FutureWarning: The default value of n_estimators will change from 10 in version 0.20 to 100 in 0.22.\n",
      "  \"10 in version 0.20 to 100 in 0.22.\", FutureWarning)\n",
      "C:\\Users\\PASHUPATI-PC\\Anaconda3\\envs\\ml\\lib\\site-packages\\sklearn\\ensemble\\forest.py:245: FutureWarning: The default value of n_estimators will change from 10 in version 0.20 to 100 in 0.22.\n",
      "  \"10 in version 0.20 to 100 in 0.22.\", FutureWarning)\n"
     ]
    }
   ],
   "source": [
    "from sklearn.feature_selection import RFE\n",
    "# Create the RFE object and rank each pixel\n",
    "clf_rf_3 = RandomForestClassifier()      \n",
    "rfe = RFE(estimator=clf_rf_3, n_features_to_select=12, step=1)\n",
    "rfe = rfe.fit(x_train, y_train)"
   ]
  },
  {
   "cell_type": "code",
   "execution_count": 41,
   "metadata": {},
   "outputs": [
    {
     "name": "stdout",
     "output_type": "stream",
     "text": [
      "Chosen best 15 feature by rfe: Index(['FICO', 'Business Revenue', 'TSR', 'Last 6M Avg Remit',\n",
      "       'Last 6M Avg Bal', 'Internal Revolve', 'ExternalBalance',\n",
      "       'Months in Business', 'preferred_spend_line', 'preavgremit1_3_all',\n",
      "       'External_rev_rate', 'CMV'],\n",
      "      dtype='object')\n"
     ]
    }
   ],
   "source": [
    "best15 = x_train.columns[rfe.support_]\n",
    "print('Chosen best 15 feature by rfe:',x_train.columns[rfe.support_])"
   ]
  },
  {
   "cell_type": "markdown",
   "metadata": {},
   "source": [
    "##### Recursive Feature Elimination with Random Forest and Cross Validation"
   ]
  },
  {
   "cell_type": "code",
   "execution_count": 42,
   "metadata": {},
   "outputs": [
    {
     "name": "stderr",
     "output_type": "stream",
     "text": [
      "C:\\Users\\PASHUPATI-PC\\Anaconda3\\envs\\ml\\lib\\site-packages\\sklearn\\ensemble\\forest.py:245: FutureWarning: The default value of n_estimators will change from 10 in version 0.20 to 100 in 0.22.\n",
      "  \"10 in version 0.20 to 100 in 0.22.\", FutureWarning)\n",
      "C:\\Users\\PASHUPATI-PC\\Anaconda3\\envs\\ml\\lib\\site-packages\\sklearn\\ensemble\\forest.py:245: FutureWarning: The default value of n_estimators will change from 10 in version 0.20 to 100 in 0.22.\n",
      "  \"10 in version 0.20 to 100 in 0.22.\", FutureWarning)\n",
      "C:\\Users\\PASHUPATI-PC\\Anaconda3\\envs\\ml\\lib\\site-packages\\sklearn\\ensemble\\forest.py:245: FutureWarning: The default value of n_estimators will change from 10 in version 0.20 to 100 in 0.22.\n",
      "  \"10 in version 0.20 to 100 in 0.22.\", FutureWarning)\n",
      "C:\\Users\\PASHUPATI-PC\\Anaconda3\\envs\\ml\\lib\\site-packages\\sklearn\\ensemble\\forest.py:245: FutureWarning: The default value of n_estimators will change from 10 in version 0.20 to 100 in 0.22.\n",
      "  \"10 in version 0.20 to 100 in 0.22.\", FutureWarning)\n",
      "C:\\Users\\PASHUPATI-PC\\Anaconda3\\envs\\ml\\lib\\site-packages\\sklearn\\ensemble\\forest.py:245: FutureWarning: The default value of n_estimators will change from 10 in version 0.20 to 100 in 0.22.\n",
      "  \"10 in version 0.20 to 100 in 0.22.\", FutureWarning)\n",
      "C:\\Users\\PASHUPATI-PC\\Anaconda3\\envs\\ml\\lib\\site-packages\\sklearn\\ensemble\\forest.py:245: FutureWarning: The default value of n_estimators will change from 10 in version 0.20 to 100 in 0.22.\n",
      "  \"10 in version 0.20 to 100 in 0.22.\", FutureWarning)\n",
      "C:\\Users\\PASHUPATI-PC\\Anaconda3\\envs\\ml\\lib\\site-packages\\sklearn\\ensemble\\forest.py:245: FutureWarning: The default value of n_estimators will change from 10 in version 0.20 to 100 in 0.22.\n",
      "  \"10 in version 0.20 to 100 in 0.22.\", FutureWarning)\n",
      "C:\\Users\\PASHUPATI-PC\\Anaconda3\\envs\\ml\\lib\\site-packages\\sklearn\\ensemble\\forest.py:245: FutureWarning: The default value of n_estimators will change from 10 in version 0.20 to 100 in 0.22.\n",
      "  \"10 in version 0.20 to 100 in 0.22.\", FutureWarning)\n",
      "C:\\Users\\PASHUPATI-PC\\Anaconda3\\envs\\ml\\lib\\site-packages\\sklearn\\ensemble\\forest.py:245: FutureWarning: The default value of n_estimators will change from 10 in version 0.20 to 100 in 0.22.\n",
      "  \"10 in version 0.20 to 100 in 0.22.\", FutureWarning)\n",
      "C:\\Users\\PASHUPATI-PC\\Anaconda3\\envs\\ml\\lib\\site-packages\\sklearn\\ensemble\\forest.py:245: FutureWarning: The default value of n_estimators will change from 10 in version 0.20 to 100 in 0.22.\n",
      "  \"10 in version 0.20 to 100 in 0.22.\", FutureWarning)\n",
      "C:\\Users\\PASHUPATI-PC\\Anaconda3\\envs\\ml\\lib\\site-packages\\sklearn\\ensemble\\forest.py:245: FutureWarning: The default value of n_estimators will change from 10 in version 0.20 to 100 in 0.22.\n",
      "  \"10 in version 0.20 to 100 in 0.22.\", FutureWarning)\n",
      "C:\\Users\\PASHUPATI-PC\\Anaconda3\\envs\\ml\\lib\\site-packages\\sklearn\\ensemble\\forest.py:245: FutureWarning: The default value of n_estimators will change from 10 in version 0.20 to 100 in 0.22.\n",
      "  \"10 in version 0.20 to 100 in 0.22.\", FutureWarning)\n",
      "C:\\Users\\PASHUPATI-PC\\Anaconda3\\envs\\ml\\lib\\site-packages\\sklearn\\ensemble\\forest.py:245: FutureWarning: The default value of n_estimators will change from 10 in version 0.20 to 100 in 0.22.\n",
      "  \"10 in version 0.20 to 100 in 0.22.\", FutureWarning)\n",
      "C:\\Users\\PASHUPATI-PC\\Anaconda3\\envs\\ml\\lib\\site-packages\\sklearn\\ensemble\\forest.py:245: FutureWarning: The default value of n_estimators will change from 10 in version 0.20 to 100 in 0.22.\n",
      "  \"10 in version 0.20 to 100 in 0.22.\", FutureWarning)\n",
      "C:\\Users\\PASHUPATI-PC\\Anaconda3\\envs\\ml\\lib\\site-packages\\sklearn\\ensemble\\forest.py:245: FutureWarning: The default value of n_estimators will change from 10 in version 0.20 to 100 in 0.22.\n",
      "  \"10 in version 0.20 to 100 in 0.22.\", FutureWarning)\n",
      "C:\\Users\\PASHUPATI-PC\\Anaconda3\\envs\\ml\\lib\\site-packages\\sklearn\\ensemble\\forest.py:245: FutureWarning: The default value of n_estimators will change from 10 in version 0.20 to 100 in 0.22.\n",
      "  \"10 in version 0.20 to 100 in 0.22.\", FutureWarning)\n",
      "C:\\Users\\PASHUPATI-PC\\Anaconda3\\envs\\ml\\lib\\site-packages\\sklearn\\ensemble\\forest.py:245: FutureWarning: The default value of n_estimators will change from 10 in version 0.20 to 100 in 0.22.\n",
      "  \"10 in version 0.20 to 100 in 0.22.\", FutureWarning)\n",
      "C:\\Users\\PASHUPATI-PC\\Anaconda3\\envs\\ml\\lib\\site-packages\\sklearn\\ensemble\\forest.py:245: FutureWarning: The default value of n_estimators will change from 10 in version 0.20 to 100 in 0.22.\n",
      "  \"10 in version 0.20 to 100 in 0.22.\", FutureWarning)\n",
      "C:\\Users\\PASHUPATI-PC\\Anaconda3\\envs\\ml\\lib\\site-packages\\sklearn\\ensemble\\forest.py:245: FutureWarning: The default value of n_estimators will change from 10 in version 0.20 to 100 in 0.22.\n",
      "  \"10 in version 0.20 to 100 in 0.22.\", FutureWarning)\n",
      "C:\\Users\\PASHUPATI-PC\\Anaconda3\\envs\\ml\\lib\\site-packages\\sklearn\\ensemble\\forest.py:245: FutureWarning: The default value of n_estimators will change from 10 in version 0.20 to 100 in 0.22.\n",
      "  \"10 in version 0.20 to 100 in 0.22.\", FutureWarning)\n",
      "C:\\Users\\PASHUPATI-PC\\Anaconda3\\envs\\ml\\lib\\site-packages\\sklearn\\ensemble\\forest.py:245: FutureWarning: The default value of n_estimators will change from 10 in version 0.20 to 100 in 0.22.\n",
      "  \"10 in version 0.20 to 100 in 0.22.\", FutureWarning)\n",
      "C:\\Users\\PASHUPATI-PC\\Anaconda3\\envs\\ml\\lib\\site-packages\\sklearn\\ensemble\\forest.py:245: FutureWarning: The default value of n_estimators will change from 10 in version 0.20 to 100 in 0.22.\n",
      "  \"10 in version 0.20 to 100 in 0.22.\", FutureWarning)\n",
      "C:\\Users\\PASHUPATI-PC\\Anaconda3\\envs\\ml\\lib\\site-packages\\sklearn\\ensemble\\forest.py:245: FutureWarning: The default value of n_estimators will change from 10 in version 0.20 to 100 in 0.22.\n",
      "  \"10 in version 0.20 to 100 in 0.22.\", FutureWarning)\n",
      "C:\\Users\\PASHUPATI-PC\\Anaconda3\\envs\\ml\\lib\\site-packages\\sklearn\\ensemble\\forest.py:245: FutureWarning: The default value of n_estimators will change from 10 in version 0.20 to 100 in 0.22.\n",
      "  \"10 in version 0.20 to 100 in 0.22.\", FutureWarning)\n",
      "C:\\Users\\PASHUPATI-PC\\Anaconda3\\envs\\ml\\lib\\site-packages\\sklearn\\ensemble\\forest.py:245: FutureWarning: The default value of n_estimators will change from 10 in version 0.20 to 100 in 0.22.\n",
      "  \"10 in version 0.20 to 100 in 0.22.\", FutureWarning)\n",
      "C:\\Users\\PASHUPATI-PC\\Anaconda3\\envs\\ml\\lib\\site-packages\\sklearn\\ensemble\\forest.py:245: FutureWarning: The default value of n_estimators will change from 10 in version 0.20 to 100 in 0.22.\n",
      "  \"10 in version 0.20 to 100 in 0.22.\", FutureWarning)\n",
      "C:\\Users\\PASHUPATI-PC\\Anaconda3\\envs\\ml\\lib\\site-packages\\sklearn\\ensemble\\forest.py:245: FutureWarning: The default value of n_estimators will change from 10 in version 0.20 to 100 in 0.22.\n",
      "  \"10 in version 0.20 to 100 in 0.22.\", FutureWarning)\n",
      "C:\\Users\\PASHUPATI-PC\\Anaconda3\\envs\\ml\\lib\\site-packages\\sklearn\\ensemble\\forest.py:245: FutureWarning: The default value of n_estimators will change from 10 in version 0.20 to 100 in 0.22.\n",
      "  \"10 in version 0.20 to 100 in 0.22.\", FutureWarning)\n",
      "C:\\Users\\PASHUPATI-PC\\Anaconda3\\envs\\ml\\lib\\site-packages\\sklearn\\ensemble\\forest.py:245: FutureWarning: The default value of n_estimators will change from 10 in version 0.20 to 100 in 0.22.\n",
      "  \"10 in version 0.20 to 100 in 0.22.\", FutureWarning)\n",
      "C:\\Users\\PASHUPATI-PC\\Anaconda3\\envs\\ml\\lib\\site-packages\\sklearn\\ensemble\\forest.py:245: FutureWarning: The default value of n_estimators will change from 10 in version 0.20 to 100 in 0.22.\n",
      "  \"10 in version 0.20 to 100 in 0.22.\", FutureWarning)\n",
      "C:\\Users\\PASHUPATI-PC\\Anaconda3\\envs\\ml\\lib\\site-packages\\sklearn\\ensemble\\forest.py:245: FutureWarning: The default value of n_estimators will change from 10 in version 0.20 to 100 in 0.22.\n",
      "  \"10 in version 0.20 to 100 in 0.22.\", FutureWarning)\n",
      "C:\\Users\\PASHUPATI-PC\\Anaconda3\\envs\\ml\\lib\\site-packages\\sklearn\\ensemble\\forest.py:245: FutureWarning: The default value of n_estimators will change from 10 in version 0.20 to 100 in 0.22.\n",
      "  \"10 in version 0.20 to 100 in 0.22.\", FutureWarning)\n",
      "C:\\Users\\PASHUPATI-PC\\Anaconda3\\envs\\ml\\lib\\site-packages\\sklearn\\ensemble\\forest.py:245: FutureWarning: The default value of n_estimators will change from 10 in version 0.20 to 100 in 0.22.\n",
      "  \"10 in version 0.20 to 100 in 0.22.\", FutureWarning)\n",
      "C:\\Users\\PASHUPATI-PC\\Anaconda3\\envs\\ml\\lib\\site-packages\\sklearn\\ensemble\\forest.py:245: FutureWarning: The default value of n_estimators will change from 10 in version 0.20 to 100 in 0.22.\n",
      "  \"10 in version 0.20 to 100 in 0.22.\", FutureWarning)\n"
     ]
    },
    {
     "name": "stderr",
     "output_type": "stream",
     "text": [
      "C:\\Users\\PASHUPATI-PC\\Anaconda3\\envs\\ml\\lib\\site-packages\\sklearn\\ensemble\\forest.py:245: FutureWarning: The default value of n_estimators will change from 10 in version 0.20 to 100 in 0.22.\n",
      "  \"10 in version 0.20 to 100 in 0.22.\", FutureWarning)\n",
      "C:\\Users\\PASHUPATI-PC\\Anaconda3\\envs\\ml\\lib\\site-packages\\sklearn\\ensemble\\forest.py:245: FutureWarning: The default value of n_estimators will change from 10 in version 0.20 to 100 in 0.22.\n",
      "  \"10 in version 0.20 to 100 in 0.22.\", FutureWarning)\n",
      "C:\\Users\\PASHUPATI-PC\\Anaconda3\\envs\\ml\\lib\\site-packages\\sklearn\\ensemble\\forest.py:245: FutureWarning: The default value of n_estimators will change from 10 in version 0.20 to 100 in 0.22.\n",
      "  \"10 in version 0.20 to 100 in 0.22.\", FutureWarning)\n",
      "C:\\Users\\PASHUPATI-PC\\Anaconda3\\envs\\ml\\lib\\site-packages\\sklearn\\ensemble\\forest.py:245: FutureWarning: The default value of n_estimators will change from 10 in version 0.20 to 100 in 0.22.\n",
      "  \"10 in version 0.20 to 100 in 0.22.\", FutureWarning)\n",
      "C:\\Users\\PASHUPATI-PC\\Anaconda3\\envs\\ml\\lib\\site-packages\\sklearn\\ensemble\\forest.py:245: FutureWarning: The default value of n_estimators will change from 10 in version 0.20 to 100 in 0.22.\n",
      "  \"10 in version 0.20 to 100 in 0.22.\", FutureWarning)\n",
      "C:\\Users\\PASHUPATI-PC\\Anaconda3\\envs\\ml\\lib\\site-packages\\sklearn\\ensemble\\forest.py:245: FutureWarning: The default value of n_estimators will change from 10 in version 0.20 to 100 in 0.22.\n",
      "  \"10 in version 0.20 to 100 in 0.22.\", FutureWarning)\n",
      "C:\\Users\\PASHUPATI-PC\\Anaconda3\\envs\\ml\\lib\\site-packages\\sklearn\\ensemble\\forest.py:245: FutureWarning: The default value of n_estimators will change from 10 in version 0.20 to 100 in 0.22.\n",
      "  \"10 in version 0.20 to 100 in 0.22.\", FutureWarning)\n",
      "C:\\Users\\PASHUPATI-PC\\Anaconda3\\envs\\ml\\lib\\site-packages\\sklearn\\ensemble\\forest.py:245: FutureWarning: The default value of n_estimators will change from 10 in version 0.20 to 100 in 0.22.\n",
      "  \"10 in version 0.20 to 100 in 0.22.\", FutureWarning)\n",
      "C:\\Users\\PASHUPATI-PC\\Anaconda3\\envs\\ml\\lib\\site-packages\\sklearn\\ensemble\\forest.py:245: FutureWarning: The default value of n_estimators will change from 10 in version 0.20 to 100 in 0.22.\n",
      "  \"10 in version 0.20 to 100 in 0.22.\", FutureWarning)\n",
      "C:\\Users\\PASHUPATI-PC\\Anaconda3\\envs\\ml\\lib\\site-packages\\sklearn\\ensemble\\forest.py:245: FutureWarning: The default value of n_estimators will change from 10 in version 0.20 to 100 in 0.22.\n",
      "  \"10 in version 0.20 to 100 in 0.22.\", FutureWarning)\n",
      "C:\\Users\\PASHUPATI-PC\\Anaconda3\\envs\\ml\\lib\\site-packages\\sklearn\\ensemble\\forest.py:245: FutureWarning: The default value of n_estimators will change from 10 in version 0.20 to 100 in 0.22.\n",
      "  \"10 in version 0.20 to 100 in 0.22.\", FutureWarning)\n",
      "C:\\Users\\PASHUPATI-PC\\Anaconda3\\envs\\ml\\lib\\site-packages\\sklearn\\ensemble\\forest.py:245: FutureWarning: The default value of n_estimators will change from 10 in version 0.20 to 100 in 0.22.\n",
      "  \"10 in version 0.20 to 100 in 0.22.\", FutureWarning)\n",
      "C:\\Users\\PASHUPATI-PC\\Anaconda3\\envs\\ml\\lib\\site-packages\\sklearn\\ensemble\\forest.py:245: FutureWarning: The default value of n_estimators will change from 10 in version 0.20 to 100 in 0.22.\n",
      "  \"10 in version 0.20 to 100 in 0.22.\", FutureWarning)\n",
      "C:\\Users\\PASHUPATI-PC\\Anaconda3\\envs\\ml\\lib\\site-packages\\sklearn\\ensemble\\forest.py:245: FutureWarning: The default value of n_estimators will change from 10 in version 0.20 to 100 in 0.22.\n",
      "  \"10 in version 0.20 to 100 in 0.22.\", FutureWarning)\n",
      "C:\\Users\\PASHUPATI-PC\\Anaconda3\\envs\\ml\\lib\\site-packages\\sklearn\\ensemble\\forest.py:245: FutureWarning: The default value of n_estimators will change from 10 in version 0.20 to 100 in 0.22.\n",
      "  \"10 in version 0.20 to 100 in 0.22.\", FutureWarning)\n",
      "C:\\Users\\PASHUPATI-PC\\Anaconda3\\envs\\ml\\lib\\site-packages\\sklearn\\ensemble\\forest.py:245: FutureWarning: The default value of n_estimators will change from 10 in version 0.20 to 100 in 0.22.\n",
      "  \"10 in version 0.20 to 100 in 0.22.\", FutureWarning)\n",
      "C:\\Users\\PASHUPATI-PC\\Anaconda3\\envs\\ml\\lib\\site-packages\\sklearn\\ensemble\\forest.py:245: FutureWarning: The default value of n_estimators will change from 10 in version 0.20 to 100 in 0.22.\n",
      "  \"10 in version 0.20 to 100 in 0.22.\", FutureWarning)\n",
      "C:\\Users\\PASHUPATI-PC\\Anaconda3\\envs\\ml\\lib\\site-packages\\sklearn\\ensemble\\forest.py:245: FutureWarning: The default value of n_estimators will change from 10 in version 0.20 to 100 in 0.22.\n",
      "  \"10 in version 0.20 to 100 in 0.22.\", FutureWarning)\n",
      "C:\\Users\\PASHUPATI-PC\\Anaconda3\\envs\\ml\\lib\\site-packages\\sklearn\\ensemble\\forest.py:245: FutureWarning: The default value of n_estimators will change from 10 in version 0.20 to 100 in 0.22.\n",
      "  \"10 in version 0.20 to 100 in 0.22.\", FutureWarning)\n",
      "C:\\Users\\PASHUPATI-PC\\Anaconda3\\envs\\ml\\lib\\site-packages\\sklearn\\ensemble\\forest.py:245: FutureWarning: The default value of n_estimators will change from 10 in version 0.20 to 100 in 0.22.\n",
      "  \"10 in version 0.20 to 100 in 0.22.\", FutureWarning)\n",
      "C:\\Users\\PASHUPATI-PC\\Anaconda3\\envs\\ml\\lib\\site-packages\\sklearn\\ensemble\\forest.py:245: FutureWarning: The default value of n_estimators will change from 10 in version 0.20 to 100 in 0.22.\n",
      "  \"10 in version 0.20 to 100 in 0.22.\", FutureWarning)\n",
      "C:\\Users\\PASHUPATI-PC\\Anaconda3\\envs\\ml\\lib\\site-packages\\sklearn\\ensemble\\forest.py:245: FutureWarning: The default value of n_estimators will change from 10 in version 0.20 to 100 in 0.22.\n",
      "  \"10 in version 0.20 to 100 in 0.22.\", FutureWarning)\n",
      "C:\\Users\\PASHUPATI-PC\\Anaconda3\\envs\\ml\\lib\\site-packages\\sklearn\\ensemble\\forest.py:245: FutureWarning: The default value of n_estimators will change from 10 in version 0.20 to 100 in 0.22.\n",
      "  \"10 in version 0.20 to 100 in 0.22.\", FutureWarning)\n",
      "C:\\Users\\PASHUPATI-PC\\Anaconda3\\envs\\ml\\lib\\site-packages\\sklearn\\ensemble\\forest.py:245: FutureWarning: The default value of n_estimators will change from 10 in version 0.20 to 100 in 0.22.\n",
      "  \"10 in version 0.20 to 100 in 0.22.\", FutureWarning)\n",
      "C:\\Users\\PASHUPATI-PC\\Anaconda3\\envs\\ml\\lib\\site-packages\\sklearn\\ensemble\\forest.py:245: FutureWarning: The default value of n_estimators will change from 10 in version 0.20 to 100 in 0.22.\n",
      "  \"10 in version 0.20 to 100 in 0.22.\", FutureWarning)\n",
      "C:\\Users\\PASHUPATI-PC\\Anaconda3\\envs\\ml\\lib\\site-packages\\sklearn\\ensemble\\forest.py:245: FutureWarning: The default value of n_estimators will change from 10 in version 0.20 to 100 in 0.22.\n",
      "  \"10 in version 0.20 to 100 in 0.22.\", FutureWarning)\n",
      "C:\\Users\\PASHUPATI-PC\\Anaconda3\\envs\\ml\\lib\\site-packages\\sklearn\\ensemble\\forest.py:245: FutureWarning: The default value of n_estimators will change from 10 in version 0.20 to 100 in 0.22.\n",
      "  \"10 in version 0.20 to 100 in 0.22.\", FutureWarning)\n",
      "C:\\Users\\PASHUPATI-PC\\Anaconda3\\envs\\ml\\lib\\site-packages\\sklearn\\ensemble\\forest.py:245: FutureWarning: The default value of n_estimators will change from 10 in version 0.20 to 100 in 0.22.\n",
      "  \"10 in version 0.20 to 100 in 0.22.\", FutureWarning)\n",
      "C:\\Users\\PASHUPATI-PC\\Anaconda3\\envs\\ml\\lib\\site-packages\\sklearn\\ensemble\\forest.py:245: FutureWarning: The default value of n_estimators will change from 10 in version 0.20 to 100 in 0.22.\n",
      "  \"10 in version 0.20 to 100 in 0.22.\", FutureWarning)\n",
      "C:\\Users\\PASHUPATI-PC\\Anaconda3\\envs\\ml\\lib\\site-packages\\sklearn\\ensemble\\forest.py:245: FutureWarning: The default value of n_estimators will change from 10 in version 0.20 to 100 in 0.22.\n",
      "  \"10 in version 0.20 to 100 in 0.22.\", FutureWarning)\n",
      "C:\\Users\\PASHUPATI-PC\\Anaconda3\\envs\\ml\\lib\\site-packages\\sklearn\\ensemble\\forest.py:245: FutureWarning: The default value of n_estimators will change from 10 in version 0.20 to 100 in 0.22.\n",
      "  \"10 in version 0.20 to 100 in 0.22.\", FutureWarning)\n",
      "C:\\Users\\PASHUPATI-PC\\Anaconda3\\envs\\ml\\lib\\site-packages\\sklearn\\ensemble\\forest.py:245: FutureWarning: The default value of n_estimators will change from 10 in version 0.20 to 100 in 0.22.\n",
      "  \"10 in version 0.20 to 100 in 0.22.\", FutureWarning)\n",
      "C:\\Users\\PASHUPATI-PC\\Anaconda3\\envs\\ml\\lib\\site-packages\\sklearn\\ensemble\\forest.py:245: FutureWarning: The default value of n_estimators will change from 10 in version 0.20 to 100 in 0.22.\n",
      "  \"10 in version 0.20 to 100 in 0.22.\", FutureWarning)\n",
      "C:\\Users\\PASHUPATI-PC\\Anaconda3\\envs\\ml\\lib\\site-packages\\sklearn\\ensemble\\forest.py:245: FutureWarning: The default value of n_estimators will change from 10 in version 0.20 to 100 in 0.22.\n",
      "  \"10 in version 0.20 to 100 in 0.22.\", FutureWarning)\n"
     ]
    },
    {
     "name": "stderr",
     "output_type": "stream",
     "text": [
      "C:\\Users\\PASHUPATI-PC\\Anaconda3\\envs\\ml\\lib\\site-packages\\sklearn\\ensemble\\forest.py:245: FutureWarning: The default value of n_estimators will change from 10 in version 0.20 to 100 in 0.22.\n",
      "  \"10 in version 0.20 to 100 in 0.22.\", FutureWarning)\n",
      "C:\\Users\\PASHUPATI-PC\\Anaconda3\\envs\\ml\\lib\\site-packages\\sklearn\\ensemble\\forest.py:245: FutureWarning: The default value of n_estimators will change from 10 in version 0.20 to 100 in 0.22.\n",
      "  \"10 in version 0.20 to 100 in 0.22.\", FutureWarning)\n",
      "C:\\Users\\PASHUPATI-PC\\Anaconda3\\envs\\ml\\lib\\site-packages\\sklearn\\ensemble\\forest.py:245: FutureWarning: The default value of n_estimators will change from 10 in version 0.20 to 100 in 0.22.\n",
      "  \"10 in version 0.20 to 100 in 0.22.\", FutureWarning)\n",
      "C:\\Users\\PASHUPATI-PC\\Anaconda3\\envs\\ml\\lib\\site-packages\\sklearn\\ensemble\\forest.py:245: FutureWarning: The default value of n_estimators will change from 10 in version 0.20 to 100 in 0.22.\n",
      "  \"10 in version 0.20 to 100 in 0.22.\", FutureWarning)\n",
      "C:\\Users\\PASHUPATI-PC\\Anaconda3\\envs\\ml\\lib\\site-packages\\sklearn\\ensemble\\forest.py:245: FutureWarning: The default value of n_estimators will change from 10 in version 0.20 to 100 in 0.22.\n",
      "  \"10 in version 0.20 to 100 in 0.22.\", FutureWarning)\n",
      "C:\\Users\\PASHUPATI-PC\\Anaconda3\\envs\\ml\\lib\\site-packages\\sklearn\\ensemble\\forest.py:245: FutureWarning: The default value of n_estimators will change from 10 in version 0.20 to 100 in 0.22.\n",
      "  \"10 in version 0.20 to 100 in 0.22.\", FutureWarning)\n",
      "C:\\Users\\PASHUPATI-PC\\Anaconda3\\envs\\ml\\lib\\site-packages\\sklearn\\ensemble\\forest.py:245: FutureWarning: The default value of n_estimators will change from 10 in version 0.20 to 100 in 0.22.\n",
      "  \"10 in version 0.20 to 100 in 0.22.\", FutureWarning)\n",
      "C:\\Users\\PASHUPATI-PC\\Anaconda3\\envs\\ml\\lib\\site-packages\\sklearn\\ensemble\\forest.py:245: FutureWarning: The default value of n_estimators will change from 10 in version 0.20 to 100 in 0.22.\n",
      "  \"10 in version 0.20 to 100 in 0.22.\", FutureWarning)\n",
      "C:\\Users\\PASHUPATI-PC\\Anaconda3\\envs\\ml\\lib\\site-packages\\sklearn\\ensemble\\forest.py:245: FutureWarning: The default value of n_estimators will change from 10 in version 0.20 to 100 in 0.22.\n",
      "  \"10 in version 0.20 to 100 in 0.22.\", FutureWarning)\n",
      "C:\\Users\\PASHUPATI-PC\\Anaconda3\\envs\\ml\\lib\\site-packages\\sklearn\\ensemble\\forest.py:245: FutureWarning: The default value of n_estimators will change from 10 in version 0.20 to 100 in 0.22.\n",
      "  \"10 in version 0.20 to 100 in 0.22.\", FutureWarning)\n",
      "C:\\Users\\PASHUPATI-PC\\Anaconda3\\envs\\ml\\lib\\site-packages\\sklearn\\ensemble\\forest.py:245: FutureWarning: The default value of n_estimators will change from 10 in version 0.20 to 100 in 0.22.\n",
      "  \"10 in version 0.20 to 100 in 0.22.\", FutureWarning)\n",
      "C:\\Users\\PASHUPATI-PC\\Anaconda3\\envs\\ml\\lib\\site-packages\\sklearn\\ensemble\\forest.py:245: FutureWarning: The default value of n_estimators will change from 10 in version 0.20 to 100 in 0.22.\n",
      "  \"10 in version 0.20 to 100 in 0.22.\", FutureWarning)\n",
      "C:\\Users\\PASHUPATI-PC\\Anaconda3\\envs\\ml\\lib\\site-packages\\sklearn\\ensemble\\forest.py:245: FutureWarning: The default value of n_estimators will change from 10 in version 0.20 to 100 in 0.22.\n",
      "  \"10 in version 0.20 to 100 in 0.22.\", FutureWarning)\n",
      "C:\\Users\\PASHUPATI-PC\\Anaconda3\\envs\\ml\\lib\\site-packages\\sklearn\\ensemble\\forest.py:245: FutureWarning: The default value of n_estimators will change from 10 in version 0.20 to 100 in 0.22.\n",
      "  \"10 in version 0.20 to 100 in 0.22.\", FutureWarning)\n",
      "C:\\Users\\PASHUPATI-PC\\Anaconda3\\envs\\ml\\lib\\site-packages\\sklearn\\ensemble\\forest.py:245: FutureWarning: The default value of n_estimators will change from 10 in version 0.20 to 100 in 0.22.\n",
      "  \"10 in version 0.20 to 100 in 0.22.\", FutureWarning)\n",
      "C:\\Users\\PASHUPATI-PC\\Anaconda3\\envs\\ml\\lib\\site-packages\\sklearn\\ensemble\\forest.py:245: FutureWarning: The default value of n_estimators will change from 10 in version 0.20 to 100 in 0.22.\n",
      "  \"10 in version 0.20 to 100 in 0.22.\", FutureWarning)\n",
      "C:\\Users\\PASHUPATI-PC\\Anaconda3\\envs\\ml\\lib\\site-packages\\sklearn\\ensemble\\forest.py:245: FutureWarning: The default value of n_estimators will change from 10 in version 0.20 to 100 in 0.22.\n",
      "  \"10 in version 0.20 to 100 in 0.22.\", FutureWarning)\n",
      "C:\\Users\\PASHUPATI-PC\\Anaconda3\\envs\\ml\\lib\\site-packages\\sklearn\\ensemble\\forest.py:245: FutureWarning: The default value of n_estimators will change from 10 in version 0.20 to 100 in 0.22.\n",
      "  \"10 in version 0.20 to 100 in 0.22.\", FutureWarning)\n",
      "C:\\Users\\PASHUPATI-PC\\Anaconda3\\envs\\ml\\lib\\site-packages\\sklearn\\ensemble\\forest.py:245: FutureWarning: The default value of n_estimators will change from 10 in version 0.20 to 100 in 0.22.\n",
      "  \"10 in version 0.20 to 100 in 0.22.\", FutureWarning)\n",
      "C:\\Users\\PASHUPATI-PC\\Anaconda3\\envs\\ml\\lib\\site-packages\\sklearn\\ensemble\\forest.py:245: FutureWarning: The default value of n_estimators will change from 10 in version 0.20 to 100 in 0.22.\n",
      "  \"10 in version 0.20 to 100 in 0.22.\", FutureWarning)\n",
      "C:\\Users\\PASHUPATI-PC\\Anaconda3\\envs\\ml\\lib\\site-packages\\sklearn\\ensemble\\forest.py:245: FutureWarning: The default value of n_estimators will change from 10 in version 0.20 to 100 in 0.22.\n",
      "  \"10 in version 0.20 to 100 in 0.22.\", FutureWarning)\n",
      "C:\\Users\\PASHUPATI-PC\\Anaconda3\\envs\\ml\\lib\\site-packages\\sklearn\\ensemble\\forest.py:245: FutureWarning: The default value of n_estimators will change from 10 in version 0.20 to 100 in 0.22.\n",
      "  \"10 in version 0.20 to 100 in 0.22.\", FutureWarning)\n",
      "C:\\Users\\PASHUPATI-PC\\Anaconda3\\envs\\ml\\lib\\site-packages\\sklearn\\ensemble\\forest.py:245: FutureWarning: The default value of n_estimators will change from 10 in version 0.20 to 100 in 0.22.\n",
      "  \"10 in version 0.20 to 100 in 0.22.\", FutureWarning)\n",
      "C:\\Users\\PASHUPATI-PC\\Anaconda3\\envs\\ml\\lib\\site-packages\\sklearn\\ensemble\\forest.py:245: FutureWarning: The default value of n_estimators will change from 10 in version 0.20 to 100 in 0.22.\n",
      "  \"10 in version 0.20 to 100 in 0.22.\", FutureWarning)\n",
      "C:\\Users\\PASHUPATI-PC\\Anaconda3\\envs\\ml\\lib\\site-packages\\sklearn\\ensemble\\forest.py:245: FutureWarning: The default value of n_estimators will change from 10 in version 0.20 to 100 in 0.22.\n",
      "  \"10 in version 0.20 to 100 in 0.22.\", FutureWarning)\n",
      "C:\\Users\\PASHUPATI-PC\\Anaconda3\\envs\\ml\\lib\\site-packages\\sklearn\\ensemble\\forest.py:245: FutureWarning: The default value of n_estimators will change from 10 in version 0.20 to 100 in 0.22.\n",
      "  \"10 in version 0.20 to 100 in 0.22.\", FutureWarning)\n",
      "C:\\Users\\PASHUPATI-PC\\Anaconda3\\envs\\ml\\lib\\site-packages\\sklearn\\ensemble\\forest.py:245: FutureWarning: The default value of n_estimators will change from 10 in version 0.20 to 100 in 0.22.\n",
      "  \"10 in version 0.20 to 100 in 0.22.\", FutureWarning)\n",
      "C:\\Users\\PASHUPATI-PC\\Anaconda3\\envs\\ml\\lib\\site-packages\\sklearn\\ensemble\\forest.py:245: FutureWarning: The default value of n_estimators will change from 10 in version 0.20 to 100 in 0.22.\n",
      "  \"10 in version 0.20 to 100 in 0.22.\", FutureWarning)\n",
      "C:\\Users\\PASHUPATI-PC\\Anaconda3\\envs\\ml\\lib\\site-packages\\sklearn\\ensemble\\forest.py:245: FutureWarning: The default value of n_estimators will change from 10 in version 0.20 to 100 in 0.22.\n",
      "  \"10 in version 0.20 to 100 in 0.22.\", FutureWarning)\n",
      "C:\\Users\\PASHUPATI-PC\\Anaconda3\\envs\\ml\\lib\\site-packages\\sklearn\\ensemble\\forest.py:245: FutureWarning: The default value of n_estimators will change from 10 in version 0.20 to 100 in 0.22.\n",
      "  \"10 in version 0.20 to 100 in 0.22.\", FutureWarning)\n",
      "C:\\Users\\PASHUPATI-PC\\Anaconda3\\envs\\ml\\lib\\site-packages\\sklearn\\ensemble\\forest.py:245: FutureWarning: The default value of n_estimators will change from 10 in version 0.20 to 100 in 0.22.\n",
      "  \"10 in version 0.20 to 100 in 0.22.\", FutureWarning)\n"
     ]
    },
    {
     "name": "stdout",
     "output_type": "stream",
     "text": [
      "Optimal number of features : 17\n",
      "Best features : Index(['FICO', 'Business Revenue', 'TSR', 'Last 6M Avg Util', 'Income',\n",
      "       'Last 6M Avg Remit', 'Last 6M Avg Bal', 'Internal Revolve',\n",
      "       'Lending AR% in last 6M', 'ExternalBalance', 'Months in Business',\n",
      "       'preferred_spend_line', 'total_cards', 'preferred_bal_line',\n",
      "       'preavgremit1_3_all', 'External_rev_rate', 'CMV'],\n",
      "      dtype='object')\n"
     ]
    }
   ],
   "source": [
    "from sklearn.feature_selection import RFECV\n",
    "\n",
    "# The \"accuracy\" scoring is proportional to the number of correct classifications\n",
    "clf_rf_4 = RandomForestClassifier() \n",
    "rfecv = RFECV(estimator=clf_rf_4, step=1, cv=5,scoring='accuracy')   #5-fold cross-validation\n",
    "rfecv = rfecv.fit(x_train, y_train)\n",
    "\n",
    "print('Optimal number of features :', rfecv.n_features_)\n",
    "print('Best features :', x_train.columns[rfecv.support_])"
   ]
  },
  {
   "cell_type": "code",
   "execution_count": 43,
   "metadata": {},
   "outputs": [
    {
     "data": {
      "image/png": "[encoded data removed]",
      "text/plain": [
       "<Figure size 432x288 with 1 Axes>"
      ]
     },
     "metadata": {
      "needs_background": "light"
     },
     "output_type": "display_data"
    }
   ],
   "source": [
    "# Plot number of features VS. cross-validation scores\n",
    "plt.figure()\n",
    "plt.xlabel(\"Number of features selected\")\n",
    "plt.ylabel(\"Cross validation score of number of selected features\")\n",
    "plt.plot(range(1, len(rfecv.grid_scores_) + 1), rfecv.grid_scores_)\n",
    "plt.show()"
   ]
  },
  {
   "cell_type": "markdown",
   "metadata": {},
   "source": [
    "#### Tree based feature selection"
   ]
  },
  {
   "cell_type": "code",
   "execution_count": 44,
   "metadata": {},
   "outputs": [
    {
     "name": "stderr",
     "output_type": "stream",
     "text": [
      "C:\\Users\\PASHUPATI-PC\\Anaconda3\\envs\\ml\\lib\\site-packages\\sklearn\\ensemble\\forest.py:245: FutureWarning: The default value of n_estimators will change from 10 in version 0.20 to 100 in 0.22.\n",
      "  \"10 in version 0.20 to 100 in 0.22.\", FutureWarning)\n"
     ]
    },
    {
     "name": "stdout",
     "output_type": "stream",
     "text": [
      "Feature ranking:\n",
      "1. feature 18 (0.089351)\n",
      "2. feature 0 (0.067961)\n",
      "3. feature 9 (0.066743)\n",
      "4. feature 1 (0.062174)\n",
      "5. feature 6 (0.061613)\n",
      "6. feature 15 (0.060522)\n",
      "7. feature 5 (0.060215)\n",
      "8. feature 13 (0.060143)\n",
      "9. feature 11 (0.059552)\n",
      "10. feature 10 (0.059311)\n",
      "11. feature 4 (0.058725)\n",
      "12. feature 7 (0.058562)\n",
      "13. feature 14 (0.058386)\n",
      "14. feature 2 (0.058106)\n",
      "15. feature 3 (0.052967)\n",
      "16. feature 8 (0.025509)\n",
      "17. feature 12 (0.020088)\n",
      "18. feature 16 (0.013931)\n",
      "19. feature 17 (0.006141)\n"
     ]
    }
   ],
   "source": [
    "clf_rf_5 = RandomForestClassifier()      \n",
    "clr_rf_5 = clf_rf_5.fit(x_train,y_train)\n",
    "importances = clr_rf_5.feature_importances_\n",
    "std = np.std([tree.feature_importances_ for tree in clf_rf.estimators_],\n",
    "             axis=0)\n",
    "indices = np.argsort(importances)[::-1]\n",
    "\n",
    "# Print the feature ranking\n",
    "print(\"Feature ranking:\")\n",
    "\n",
    "for f in range(x_train.shape[1]):\n",
    "    print(\"%d. feature %d (%f)\" % (f + 1, indices[f], importances[indices[f]]))"
   ]
  },
  {
   "cell_type": "code",
   "execution_count": 45,
   "metadata": {},
   "outputs": [
    {
     "data": {
      "image/png": "[encoded data removed]",
      "text/plain": [
       "<Figure size 720x576 with 1 Axes>"
      ]
     },
     "metadata": {
      "needs_background": "light"
     },
     "output_type": "display_data"
    }
   ],
   "source": [
    "# Plot the feature importances of the forest\n",
    "\n",
    "plt.figure(1, figsize=(10, 8))\n",
    "plt.title(\"Feature importances\")\n",
    "plt.bar(range(x_train.shape[1]), importances[indices],\n",
    "       color=\"g\", yerr=std[indices], align=\"center\")\n",
    "plt.xticks(range(x_train.shape[1]), x_train.columns[indices],rotation=90)\n",
    "plt.xlim([-1, x_train.shape[1]])\n",
    "plt.show()"
   ]
  },
  {
   "cell_type": "markdown",
   "metadata": {},
   "source": [
    "### Feature Extraction using PCA"
   ]
  },
  {
   "cell_type": "code",
   "execution_count": 46,
   "metadata": {},
   "outputs": [],
   "source": [
    "#normalization\n",
    "x_train_N = (x_train-x_train.mean())/(x_train.max()-x_train.min())\n",
    "x_test_N = (x_test-x_test.mean())/(x_test.max()-x_test.min())"
   ]
  },
  {
   "cell_type": "code",
   "execution_count": 47,
   "metadata": {},
   "outputs": [
    {
     "data": {
      "text/plain": [
       "PCA(copy=True, iterated_power='auto', n_components=None, random_state=None,\n",
       "    svd_solver='auto', tol=0.0, whiten=False)"
      ]
     },
     "execution_count": 47,
     "metadata": {},
     "output_type": "execute_result"
    }
   ],
   "source": [
    "from sklearn.decomposition import PCA\n",
    "pca = PCA()\n",
    "pca.fit(x_train_N)"
   ]
  },
  {
   "cell_type": "code",
   "execution_count": 48,
   "metadata": {},
   "outputs": [
    {
     "data": {
      "text/plain": [
       "Text(0, 0.5, 'explained_variance_ratio_')"
      ]
     },
     "execution_count": 48,
     "metadata": {},
     "output_type": "execute_result"
    },
    {
     "data": {
      "image/png": "[encoded data removed]",
      "text/plain": [
       "<Figure size 1008x936 with 1 Axes>"
      ]
     },
     "metadata": {
      "needs_background": "light"
     },
     "output_type": "display_data"
    }
   ],
   "source": [
    "plt.figure(1, figsize=(14, 13))\n",
    "plt.clf()\n",
    "plt.axes([.2, .2, .7, .7])\n",
    "plt.plot(pca.explained_variance_ratio_, linewidth=2)\n",
    "plt.axis('tight')\n",
    "plt.xlabel('n_components')\n",
    "plt.ylabel('explained_variance_ratio_')"
   ]
  },
  {
   "cell_type": "code",
   "execution_count": null,
   "metadata": {},
   "outputs": [],
   "source": [
    "wn_feature_drop_list = ['Lending AR% in last 6M', 'total_cards', 'preavgremit1_3_all', 'Last 6M Avg Util', \n",
    "                        'Last 6M Avg Remit', 'isChargeCust']"
   ]
  },
  {
   "cell_type": "code",
   "execution_count": null,
   "metadata": {},
   "outputs": [],
   "source": [
    "top15feat = ['FICO', 'Business Revenue', 'TSR', 'Last 6M Avg Util', 'Income',\n",
    "       'Last 6M Avg Remit', 'Internal Revolve', 'ExternalBalance',\n",
    "       'Months in Business', 'preferred_spend_line', 'total_cards',\n",
    "       'preferred_bal_line', 'preavgremit1_3_all', 'External_rev_rate', 'CMV'] #RFEWRF"
   ]
  },
  {
   "cell_type": "code",
   "execution_count": 49,
   "metadata": {},
   "outputs": [],
   "source": [
    "X_exp = X"
   ]
  },
  {
   "cell_type": "code",
   "execution_count": 50,
   "metadata": {},
   "outputs": [
    {
     "name": "stdout",
     "output_type": "stream",
     "text": [
      "(34000, 19) 12\n",
      "['FICO', 'Business Revenue', 'TSR', 'Last 6M Avg Remit', 'Last 6M Avg Bal', 'Internal Revolve', 'ExternalBalance', 'Months in Business', 'preferred_spend_line', 'preavgremit1_3_all', 'External_rev_rate', 'CMV']\n"
     ]
    }
   ],
   "source": [
    "print(X_exp.shape, len(best15))\n",
    "best12 = best15.tolist()\n",
    "print(best12)"
   ]
  },
  {
   "cell_type": "code",
   "execution_count": 51,
   "metadata": {},
   "outputs": [
    {
     "name": "stdout",
     "output_type": "stream",
     "text": [
      "['FICO', 'Business Revenue', 'TSR', 'Last 6M Avg Util', 'Income', 'Last 6M Avg Remit', 'Last 6M Avg Bal', 'Internal Revolve', 'Lending AR% in last 6M', 'ExternalBalance', 'Months in Business', 'preferred_spend_line', 'total_cards', 'preferred_bal_line', 'preavgremit1_3_all', 'External_rev_rate', 'Supplementary Cards', 'isChargeCust', 'CMV']\n",
      "['FICO', 'Business Revenue', 'TSR', 'Last 6M Avg Remit', 'Last 6M Avg Bal', 'Internal Revolve', 'ExternalBalance', 'Months in Business', 'preferred_spend_line', 'preavgremit1_3_all', 'External_rev_rate', 'CMV']\n",
      "['Last 6M Avg Util', 'Income', 'Lending AR% in last 6M', 'total_cards', 'preferred_bal_line', 'Supplementary Cards', 'isChargeCust']\n"
     ]
    }
   ],
   "source": [
    "cols = X_exp.columns.tolist()\n",
    "print(cols)\n",
    "print(best12)\n",
    "remove = []\n",
    "\n",
    "for i in cols:\n",
    "    if i not in best12:\n",
    "        remove.append(i);\n",
    "\n",
    "print(remove)"
   ]
  },
  {
   "cell_type": "code",
   "execution_count": 52,
   "metadata": {},
   "outputs": [
    {
     "data": {
      "text/plain": [
       "(34000, 19)"
      ]
     },
     "execution_count": 52,
     "metadata": {},
     "output_type": "execute_result"
    }
   ],
   "source": [
    "X_exp.shape"
   ]
  },
  {
   "cell_type": "code",
   "execution_count": 53,
   "metadata": {},
   "outputs": [],
   "source": [
    "X_new = X_exp.drop(remove,axis = 1)"
   ]
  },
  {
   "cell_type": "code",
   "execution_count": 54,
   "metadata": {},
   "outputs": [
    {
     "data": {
      "text/plain": [
       "(34000, 12)"
      ]
     },
     "execution_count": 54,
     "metadata": {},
     "output_type": "execute_result"
    }
   ],
   "source": [
    "X_new.shape"
   ]
  },
  {
   "cell_type": "code",
   "execution_count": 55,
   "metadata": {},
   "outputs": [],
   "source": [
    "y_new = y"
   ]
  },
  {
   "cell_type": "code",
   "execution_count": 56,
   "metadata": {},
   "outputs": [
    {
     "data": {
      "text/plain": [
       "(34000,)"
      ]
     },
     "execution_count": 56,
     "metadata": {},
     "output_type": "execute_result"
    }
   ],
   "source": [
    "y_new.shape"
   ]
  },
  {
   "cell_type": "code",
   "execution_count": 57,
   "metadata": {},
   "outputs": [],
   "source": [
    "# label Encoding\n",
    "from sklearn.preprocessing import LabelEncoder, OneHotEncoder\n",
    "\n",
    "labelencoder_X = LabelEncoder()\n",
    "#X[:, 11] = labelencoder_X.fit_transform(X[:, 11])\n",
    "\n",
    "labelencoder_y = LabelEncoder()\n",
    "y_new = labelencoder_y.fit_transform(y_new)"
   ]
  },
  {
   "cell_type": "code",
   "execution_count": 58,
   "metadata": {},
   "outputs": [
    {
     "data": {
      "text/plain": [
       "array([1, 0, 2, ..., 1, 1, 0])"
      ]
     },
     "execution_count": 58,
     "metadata": {},
     "output_type": "execute_result"
    }
   ],
   "source": [
    "y_new"
   ]
  },
  {
   "cell_type": "code",
   "execution_count": 59,
   "metadata": {},
   "outputs": [],
   "source": [
    "# split data train 70 % and test 30 %\n",
    "nx_train, nx_test, ny_train, ny_test = train_test_split(X_new, y_new, test_size=0.3, random_state=42)"
   ]
  },
  {
   "cell_type": "code",
   "execution_count": 60,
   "metadata": {},
   "outputs": [
    {
     "name": "stderr",
     "output_type": "stream",
     "text": [
      "C:\\Users\\PASHUPATI-PC\\Anaconda3\\envs\\ml\\lib\\site-packages\\sklearn\\ensemble\\forest.py:245: FutureWarning: The default value of n_estimators will change from 10 in version 0.20 to 100 in 0.22.\n",
      "  \"10 in version 0.20 to 100 in 0.22.\", FutureWarning)\n"
     ]
    }
   ],
   "source": [
    "#random forest classifier with n_estimators=10 (default)\n",
    "nclf_rf = RandomForestClassifier(random_state=43)      \n",
    "nclr_rf = nclf_rf.fit(nx_train,ny_train)"
   ]
  },
  {
   "cell_type": "code",
   "execution_count": 61,
   "metadata": {},
   "outputs": [
    {
     "name": "stdout",
     "output_type": "stream",
     "text": [
      "Accuracy is:  0.5135294117647059\n"
     ]
    },
    {
     "data": {
      "text/plain": [
       "<matplotlib.axes._subplots.AxesSubplot at 0x2a00c7a5c18>"
      ]
     },
     "execution_count": 61,
     "metadata": {},
     "output_type": "execute_result"
    },
    {
     "data": {
      "image/png": "[encoded data removed]",
      "text/plain": [
       "<Figure size 432x288 with 2 Axes>"
      ]
     },
     "metadata": {
      "needs_background": "light"
     },
     "output_type": "display_data"
    }
   ],
   "source": [
    "ac = accuracy_score(ny_test,nclf_rf.predict(nx_test))\n",
    "print('Accuracy is: ',ac)\n",
    "cm = confusion_matrix(ny_test,nclf_rf.predict(nx_test))\n",
    "sns.heatmap(cm,annot=True,fmt=\"d\")"
   ]
  },
  {
   "cell_type": "code",
   "execution_count": null,
   "metadata": {},
   "outputs": [],
   "source": []
  }
 ],
 "metadata": {
  "kernelspec": {
   "display_name": "Python 3",
   "language": "python",
   "name": "python3"
  },
  "language_info": {
   "codemirror_mode": {
    "name": "ipython",
    "version": 3
   },
   "file_extension": ".py",
   "mimetype": "text/x-python",
   "name": "python",
   "nbconvert_exporter": "python",
   "pygments_lexer": "ipython3",
   "version": "3.7.3"
  }
 },
 "nbformat": 4,
 "nbformat_minor": 2
}
