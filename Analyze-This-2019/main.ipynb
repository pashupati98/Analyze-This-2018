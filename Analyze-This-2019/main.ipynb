{
  "nbformat": 4,
  "nbformat_minor": 0,
  "metadata": {
    "kernelspec": {
      "name": "python3",
      "display_name": "Python 3"
    },
    "language_info": {
      "codemirror_mode": {
        "name": "ipython",
        "version": 3
      },
      "file_extension": ".py",
      "mimetype": "text/x-python",
      "name": "python",
      "nbconvert_exporter": "python",
      "pygments_lexer": "ipython3",
      "version": "3.7.3"
    },
    "colab": {
      "name": "XGBoost.ipynb",
      "provenance": []
    },
    "accelerator": "GPU"
  },
  "cells": [
    {
      "cell_type": "markdown",
      "metadata": {
        "id": "R7qvjVX7hLNB",
        "colab_type": "text"
      },
      "source": [
        "### XGBoost"
      ]
    },
    {
      "cell_type": "code",
      "metadata": {
        "id": "1_qOE3SAhLNF",
        "colab_type": "code",
        "colab": {}
      },
      "source": [
        "from numpy import loadtxt\n",
        "from sklearn.model_selection import train_test_split\n",
        "import pandas as pd\n",
        "import numpy as np\n",
        "import scipy as sp\n",
        "import seaborn as sns\n",
        "import matplotlib as mp\n",
        "import matplotlib.pyplot as plt\n",
        "%matplotlib inline"
      ],
      "execution_count": null,
      "outputs": []
    },
    {
      "cell_type": "code",
      "metadata": {
        "id": "mvdD2awihLNO",
        "colab_type": "code",
        "colab": {}
      },
      "source": [
        "url_train = 'development_dataset.csv'\n",
        "#url_train = 'itrImputed.csv' #traing dataset\n",
        "#url_dict = './Dataset/Data_Dictionary.xlsx' #data dictionary\n",
        "#url_lead = 'itrImputedlead.csv' \n",
        "url_lead = 'leaderboard_dataset.csv'"
      ],
      "execution_count": null,
      "outputs": []
    },
    {
      "cell_type": "code",
      "metadata": {
        "id": "Mp9xdCsMhLNX",
        "colab_type": "code",
        "colab": {
          "base_uri": "https://localhost:8080/",
          "height": 421
        },
        "outputId": "43f1d148-222e-4e26-e90c-ef5cf02fb4cc"
      },
      "source": [
        "## making dataframe\n",
        "#df_raw = pd.read_csv(url_raw)\n",
        "df_train = pd.read_csv(url_train)\n",
        "#df_dict = pd.read_excel(url_dict)\n",
        "df_lead = pd.read_csv(url_lead)\n",
        "#df_lead_raw = pd.read_csv(url_lead_raw)"
      ],
      "execution_count": null,
      "outputs": [
        {
          "output_type": "error",
          "ename": "FileNotFoundError",
          "evalue": "ignored",
          "traceback": [
            "\u001b[0;31m---------------------------------------------------------------------------\u001b[0m",
            "\u001b[0;31mFileNotFoundError\u001b[0m                         Traceback (most recent call last)",
            "\u001b[0;32m<ipython-input-4-01efe929cde9>\u001b[0m in \u001b[0;36m<module>\u001b[0;34m()\u001b[0m\n\u001b[0;32m----> 1\u001b[0;31m \u001b[0mdf_train\u001b[0m \u001b[0;34m=\u001b[0m \u001b[0mpd\u001b[0m\u001b[0;34m.\u001b[0m\u001b[0mread_csv\u001b[0m\u001b[0;34m(\u001b[0m\u001b[0murl_train\u001b[0m\u001b[0;34m)\u001b[0m\u001b[0;34m\u001b[0m\u001b[0;34m\u001b[0m\u001b[0m\n\u001b[0m\u001b[1;32m      2\u001b[0m \u001b[0;31m#df_dict = pd.read_excel(url_dict)\u001b[0m\u001b[0;34m\u001b[0m\u001b[0;34m\u001b[0m\u001b[0;34m\u001b[0m\u001b[0m\n\u001b[1;32m      3\u001b[0m \u001b[0mdf_lead\u001b[0m \u001b[0;34m=\u001b[0m \u001b[0mpd\u001b[0m\u001b[0;34m.\u001b[0m\u001b[0mread_csv\u001b[0m\u001b[0;34m(\u001b[0m\u001b[0murl_lead\u001b[0m\u001b[0;34m)\u001b[0m\u001b[0;34m\u001b[0m\u001b[0;34m\u001b[0m\u001b[0m\n\u001b[1;32m      4\u001b[0m \u001b[0;31m#df_lead_raw = pd.read_csv(url_lead_raw)\u001b[0m\u001b[0;34m\u001b[0m\u001b[0;34m\u001b[0m\u001b[0;34m\u001b[0m\u001b[0m\n",
            "\u001b[0;32m/usr/local/lib/python3.6/dist-packages/pandas/io/parsers.py\u001b[0m in \u001b[0;36mparser_f\u001b[0;34m(filepath_or_buffer, sep, delimiter, header, names, index_col, usecols, squeeze, prefix, mangle_dupe_cols, dtype, engine, converters, true_values, false_values, skipinitialspace, skiprows, skipfooter, nrows, na_values, keep_default_na, na_filter, verbose, skip_blank_lines, parse_dates, infer_datetime_format, keep_date_col, date_parser, dayfirst, iterator, chunksize, compression, thousands, decimal, lineterminator, quotechar, quoting, doublequote, escapechar, comment, encoding, dialect, tupleize_cols, error_bad_lines, warn_bad_lines, delim_whitespace, low_memory, memory_map, float_precision)\u001b[0m\n\u001b[1;32m    700\u001b[0m                     skip_blank_lines=skip_blank_lines)\n\u001b[1;32m    701\u001b[0m \u001b[0;34m\u001b[0m\u001b[0m\n\u001b[0;32m--> 702\u001b[0;31m         \u001b[0;32mreturn\u001b[0m \u001b[0m_read\u001b[0m\u001b[0;34m(\u001b[0m\u001b[0mfilepath_or_buffer\u001b[0m\u001b[0;34m,\u001b[0m \u001b[0mkwds\u001b[0m\u001b[0;34m)\u001b[0m\u001b[0;34m\u001b[0m\u001b[0;34m\u001b[0m\u001b[0m\n\u001b[0m\u001b[1;32m    703\u001b[0m \u001b[0;34m\u001b[0m\u001b[0m\n\u001b[1;32m    704\u001b[0m     \u001b[0mparser_f\u001b[0m\u001b[0;34m.\u001b[0m\u001b[0m__name__\u001b[0m \u001b[0;34m=\u001b[0m \u001b[0mname\u001b[0m\u001b[0;34m\u001b[0m\u001b[0;34m\u001b[0m\u001b[0m\n",
            "\u001b[0;32m/usr/local/lib/python3.6/dist-packages/pandas/io/parsers.py\u001b[0m in \u001b[0;36m_read\u001b[0;34m(filepath_or_buffer, kwds)\u001b[0m\n\u001b[1;32m    427\u001b[0m \u001b[0;34m\u001b[0m\u001b[0m\n\u001b[1;32m    428\u001b[0m     \u001b[0;31m# Create the parser.\u001b[0m\u001b[0;34m\u001b[0m\u001b[0;34m\u001b[0m\u001b[0;34m\u001b[0m\u001b[0m\n\u001b[0;32m--> 429\u001b[0;31m     \u001b[0mparser\u001b[0m \u001b[0;34m=\u001b[0m \u001b[0mTextFileReader\u001b[0m\u001b[0;34m(\u001b[0m\u001b[0mfilepath_or_buffer\u001b[0m\u001b[0;34m,\u001b[0m \u001b[0;34m**\u001b[0m\u001b[0mkwds\u001b[0m\u001b[0;34m)\u001b[0m\u001b[0;34m\u001b[0m\u001b[0;34m\u001b[0m\u001b[0m\n\u001b[0m\u001b[1;32m    430\u001b[0m \u001b[0;34m\u001b[0m\u001b[0m\n\u001b[1;32m    431\u001b[0m     \u001b[0;32mif\u001b[0m \u001b[0mchunksize\u001b[0m \u001b[0;32mor\u001b[0m \u001b[0miterator\u001b[0m\u001b[0;34m:\u001b[0m\u001b[0;34m\u001b[0m\u001b[0;34m\u001b[0m\u001b[0m\n",
            "\u001b[0;32m/usr/local/lib/python3.6/dist-packages/pandas/io/parsers.py\u001b[0m in \u001b[0;36m__init__\u001b[0;34m(self, f, engine, **kwds)\u001b[0m\n\u001b[1;32m    893\u001b[0m             \u001b[0mself\u001b[0m\u001b[0;34m.\u001b[0m\u001b[0moptions\u001b[0m\u001b[0;34m[\u001b[0m\u001b[0;34m'has_index_names'\u001b[0m\u001b[0;34m]\u001b[0m \u001b[0;34m=\u001b[0m \u001b[0mkwds\u001b[0m\u001b[0;34m[\u001b[0m\u001b[0;34m'has_index_names'\u001b[0m\u001b[0;34m]\u001b[0m\u001b[0;34m\u001b[0m\u001b[0;34m\u001b[0m\u001b[0m\n\u001b[1;32m    894\u001b[0m \u001b[0;34m\u001b[0m\u001b[0m\n\u001b[0;32m--> 895\u001b[0;31m         \u001b[0mself\u001b[0m\u001b[0;34m.\u001b[0m\u001b[0m_make_engine\u001b[0m\u001b[0;34m(\u001b[0m\u001b[0mself\u001b[0m\u001b[0;34m.\u001b[0m\u001b[0mengine\u001b[0m\u001b[0;34m)\u001b[0m\u001b[0;34m\u001b[0m\u001b[0;34m\u001b[0m\u001b[0m\n\u001b[0m\u001b[1;32m    896\u001b[0m \u001b[0;34m\u001b[0m\u001b[0m\n\u001b[1;32m    897\u001b[0m     \u001b[0;32mdef\u001b[0m \u001b[0mclose\u001b[0m\u001b[0;34m(\u001b[0m\u001b[0mself\u001b[0m\u001b[0;34m)\u001b[0m\u001b[0;34m:\u001b[0m\u001b[0;34m\u001b[0m\u001b[0;34m\u001b[0m\u001b[0m\n",
            "\u001b[0;32m/usr/local/lib/python3.6/dist-packages/pandas/io/parsers.py\u001b[0m in \u001b[0;36m_make_engine\u001b[0;34m(self, engine)\u001b[0m\n\u001b[1;32m   1120\u001b[0m     \u001b[0;32mdef\u001b[0m \u001b[0m_make_engine\u001b[0m\u001b[0;34m(\u001b[0m\u001b[0mself\u001b[0m\u001b[0;34m,\u001b[0m \u001b[0mengine\u001b[0m\u001b[0;34m=\u001b[0m\u001b[0;34m'c'\u001b[0m\u001b[0;34m)\u001b[0m\u001b[0;34m:\u001b[0m\u001b[0;34m\u001b[0m\u001b[0;34m\u001b[0m\u001b[0m\n\u001b[1;32m   1121\u001b[0m         \u001b[0;32mif\u001b[0m \u001b[0mengine\u001b[0m \u001b[0;34m==\u001b[0m \u001b[0;34m'c'\u001b[0m\u001b[0;34m:\u001b[0m\u001b[0;34m\u001b[0m\u001b[0;34m\u001b[0m\u001b[0m\n\u001b[0;32m-> 1122\u001b[0;31m             \u001b[0mself\u001b[0m\u001b[0;34m.\u001b[0m\u001b[0m_engine\u001b[0m \u001b[0;34m=\u001b[0m \u001b[0mCParserWrapper\u001b[0m\u001b[0;34m(\u001b[0m\u001b[0mself\u001b[0m\u001b[0;34m.\u001b[0m\u001b[0mf\u001b[0m\u001b[0;34m,\u001b[0m \u001b[0;34m**\u001b[0m\u001b[0mself\u001b[0m\u001b[0;34m.\u001b[0m\u001b[0moptions\u001b[0m\u001b[0;34m)\u001b[0m\u001b[0;34m\u001b[0m\u001b[0;34m\u001b[0m\u001b[0m\n\u001b[0m\u001b[1;32m   1123\u001b[0m         \u001b[0;32melse\u001b[0m\u001b[0;34m:\u001b[0m\u001b[0;34m\u001b[0m\u001b[0;34m\u001b[0m\u001b[0m\n\u001b[1;32m   1124\u001b[0m             \u001b[0;32mif\u001b[0m \u001b[0mengine\u001b[0m \u001b[0;34m==\u001b[0m \u001b[0;34m'python'\u001b[0m\u001b[0;34m:\u001b[0m\u001b[0;34m\u001b[0m\u001b[0;34m\u001b[0m\u001b[0m\n",
            "\u001b[0;32m/usr/local/lib/python3.6/dist-packages/pandas/io/parsers.py\u001b[0m in \u001b[0;36m__init__\u001b[0;34m(self, src, **kwds)\u001b[0m\n\u001b[1;32m   1851\u001b[0m         \u001b[0mkwds\u001b[0m\u001b[0;34m[\u001b[0m\u001b[0;34m'usecols'\u001b[0m\u001b[0;34m]\u001b[0m \u001b[0;34m=\u001b[0m \u001b[0mself\u001b[0m\u001b[0;34m.\u001b[0m\u001b[0musecols\u001b[0m\u001b[0;34m\u001b[0m\u001b[0;34m\u001b[0m\u001b[0m\n\u001b[1;32m   1852\u001b[0m \u001b[0;34m\u001b[0m\u001b[0m\n\u001b[0;32m-> 1853\u001b[0;31m         \u001b[0mself\u001b[0m\u001b[0;34m.\u001b[0m\u001b[0m_reader\u001b[0m \u001b[0;34m=\u001b[0m \u001b[0mparsers\u001b[0m\u001b[0;34m.\u001b[0m\u001b[0mTextReader\u001b[0m\u001b[0;34m(\u001b[0m\u001b[0msrc\u001b[0m\u001b[0;34m,\u001b[0m \u001b[0;34m**\u001b[0m\u001b[0mkwds\u001b[0m\u001b[0;34m)\u001b[0m\u001b[0;34m\u001b[0m\u001b[0;34m\u001b[0m\u001b[0m\n\u001b[0m\u001b[1;32m   1854\u001b[0m         \u001b[0mself\u001b[0m\u001b[0;34m.\u001b[0m\u001b[0munnamed_cols\u001b[0m \u001b[0;34m=\u001b[0m \u001b[0mself\u001b[0m\u001b[0;34m.\u001b[0m\u001b[0m_reader\u001b[0m\u001b[0;34m.\u001b[0m\u001b[0munnamed_cols\u001b[0m\u001b[0;34m\u001b[0m\u001b[0;34m\u001b[0m\u001b[0m\n\u001b[1;32m   1855\u001b[0m \u001b[0;34m\u001b[0m\u001b[0m\n",
            "\u001b[0;32mpandas/_libs/parsers.pyx\u001b[0m in \u001b[0;36mpandas._libs.parsers.TextReader.__cinit__\u001b[0;34m()\u001b[0m\n",
            "\u001b[0;32mpandas/_libs/parsers.pyx\u001b[0m in \u001b[0;36mpandas._libs.parsers.TextReader._setup_parser_source\u001b[0;34m()\u001b[0m\n",
            "\u001b[0;31mFileNotFoundError\u001b[0m: [Errno 2] File b'development_dataset.csv' does not exist: b'development_dataset.csv'"
          ]
        }
      ]
    },
    {
      "cell_type": "code",
      "metadata": {
        "id": "neNO5W_6hLNe",
        "colab_type": "code",
        "colab": {
          "base_uri": "https://localhost:8080/",
          "height": 178
        },
        "outputId": "b0bdc8ba-19f1-492e-d90d-61327604d300"
      },
      "source": [
        "df_train = df_train.replace(to_replace = '.', value =np.nan)\n",
        "df_lead = df_lead.replace(to_replace = '.', value =np.nan)"
      ],
      "execution_count": null,
      "outputs": [
        {
          "output_type": "error",
          "ename": "NameError",
          "evalue": "ignored",
          "traceback": [
            "\u001b[0;31m---------------------------------------------------------------------------\u001b[0m",
            "\u001b[0;31mNameError\u001b[0m                                 Traceback (most recent call last)",
            "\u001b[0;32m<ipython-input-5-bb821914c460>\u001b[0m in \u001b[0;36m<module>\u001b[0;34m()\u001b[0m\n\u001b[0;32m----> 1\u001b[0;31m \u001b[0mdf_train\u001b[0m \u001b[0;34m=\u001b[0m \u001b[0mdf_train\u001b[0m\u001b[0;34m.\u001b[0m\u001b[0mreplace\u001b[0m\u001b[0;34m(\u001b[0m\u001b[0mto_replace\u001b[0m \u001b[0;34m=\u001b[0m \u001b[0;34m'.'\u001b[0m\u001b[0;34m,\u001b[0m \u001b[0mvalue\u001b[0m \u001b[0;34m=\u001b[0m\u001b[0mnp\u001b[0m\u001b[0;34m.\u001b[0m\u001b[0mnan\u001b[0m\u001b[0;34m)\u001b[0m\u001b[0;34m\u001b[0m\u001b[0;34m\u001b[0m\u001b[0m\n\u001b[0m\u001b[1;32m      2\u001b[0m \u001b[0mdf_lead\u001b[0m \u001b[0;34m=\u001b[0m \u001b[0mdf_lead\u001b[0m\u001b[0;34m.\u001b[0m\u001b[0mreplace\u001b[0m\u001b[0;34m(\u001b[0m\u001b[0mto_replace\u001b[0m \u001b[0;34m=\u001b[0m \u001b[0;34m'.'\u001b[0m\u001b[0;34m,\u001b[0m \u001b[0mvalue\u001b[0m \u001b[0;34m=\u001b[0m\u001b[0mnp\u001b[0m\u001b[0;34m.\u001b[0m\u001b[0mnan\u001b[0m\u001b[0;34m)\u001b[0m\u001b[0;34m\u001b[0m\u001b[0;34m\u001b[0m\u001b[0m\n",
            "\u001b[0;31mNameError\u001b[0m: name 'df_train' is not defined"
          ]
        }
      ]
    },
    {
      "cell_type": "code",
      "metadata": {
        "id": "jWkmnQ5ehLNo",
        "colab_type": "code",
        "colab": {
          "base_uri": "https://localhost:8080/",
          "height": 215
        },
        "outputId": "afd13162-f3f4-4cf2-983f-197645192b9d"
      },
      "source": [
        "#df_train = df_train.iloc[:,1:]\n",
        "df_train.head()"
      ],
      "execution_count": null,
      "outputs": [
        {
          "output_type": "execute_result",
          "data": {
            "text/html": [
              "<div>\n",
              "<style scoped>\n",
              "    .dataframe tbody tr th:only-of-type {\n",
              "        vertical-align: middle;\n",
              "    }\n",
              "\n",
              "    .dataframe tbody tr th {\n",
              "        vertical-align: top;\n",
              "    }\n",
              "\n",
              "    .dataframe thead th {\n",
              "        text-align: right;\n",
              "    }\n",
              "</style>\n",
              "<table border=\"1\" class=\"dataframe\">\n",
              "  <thead>\n",
              "    <tr style=\"text-align: right;\">\n",
              "      <th></th>\n",
              "      <th>VAR1</th>\n",
              "      <th>VAR2</th>\n",
              "      <th>VAR3</th>\n",
              "      <th>VAR4</th>\n",
              "      <th>VAR5</th>\n",
              "      <th>VAR6</th>\n",
              "      <th>VAR7</th>\n",
              "      <th>VAR8</th>\n",
              "      <th>VAR9</th>\n",
              "      <th>VAR10</th>\n",
              "      <th>VAR11</th>\n",
              "      <th>VAR12</th>\n",
              "      <th>VAR13</th>\n",
              "      <th>VAR14</th>\n",
              "      <th>VAR15</th>\n",
              "      <th>VAR16</th>\n",
              "      <th>VAR17</th>\n",
              "      <th>VAR18</th>\n",
              "      <th>VAR19</th>\n",
              "      <th>VAR20</th>\n",
              "      <th>VAR21</th>\n",
              "    </tr>\n",
              "  </thead>\n",
              "  <tbody>\n",
              "    <tr>\n",
              "      <th>0</th>\n",
              "      <td>1</td>\n",
              "      <td>828.235294</td>\n",
              "      <td>0.138889</td>\n",
              "      <td>321.428571</td>\n",
              "      <td>625.911006</td>\n",
              "      <td>1.818182</td>\n",
              "      <td>1.081550</td>\n",
              "      <td>198.113469</td>\n",
              "      <td>NaN</td>\n",
              "      <td>58.632548</td>\n",
              "      <td>0.279273</td>\n",
              "      <td>100.083403</td>\n",
              "      <td>1.0</td>\n",
              "      <td>1</td>\n",
              "      <td>1.0</td>\n",
              "      <td>1.540594</td>\n",
              "      <td>NaN</td>\n",
              "      <td>1</td>\n",
              "      <td>0</td>\n",
              "      <td>100.104991</td>\n",
              "      <td>Low</td>\n",
              "    </tr>\n",
              "    <tr>\n",
              "      <th>1</th>\n",
              "      <td>2</td>\n",
              "      <td>911.764706</td>\n",
              "      <td>0.027778</td>\n",
              "      <td>NaN</td>\n",
              "      <td>611.574748</td>\n",
              "      <td>8.181818</td>\n",
              "      <td>1.344479</td>\n",
              "      <td>198.600020</td>\n",
              "      <td>22.086661</td>\n",
              "      <td>NaN</td>\n",
              "      <td>NaN</td>\n",
              "      <td>15.012510</td>\n",
              "      <td>NaN</td>\n",
              "      <td>1</td>\n",
              "      <td>NaN</td>\n",
              "      <td>1.614613</td>\n",
              "      <td>NaN</td>\n",
              "      <td>0</td>\n",
              "      <td>1</td>\n",
              "      <td>146.654045</td>\n",
              "      <td>High</td>\n",
              "    </tr>\n",
              "    <tr>\n",
              "      <th>2</th>\n",
              "      <td>3</td>\n",
              "      <td>962.352941</td>\n",
              "      <td>0.833333</td>\n",
              "      <td>35.714286</td>\n",
              "      <td>615.825381</td>\n",
              "      <td>8.181818</td>\n",
              "      <td>0.720796</td>\n",
              "      <td>197.267767</td>\n",
              "      <td>NaN</td>\n",
              "      <td>58.632548</td>\n",
              "      <td>0.453212</td>\n",
              "      <td>210.175146</td>\n",
              "      <td>10.0</td>\n",
              "      <td>1</td>\n",
              "      <td>10.0</td>\n",
              "      <td>1.044599</td>\n",
              "      <td>NaN</td>\n",
              "      <td>0</td>\n",
              "      <td>0</td>\n",
              "      <td>98.249570</td>\n",
              "      <td>Medium</td>\n",
              "    </tr>\n",
              "    <tr>\n",
              "      <th>3</th>\n",
              "      <td>4</td>\n",
              "      <td>892.941177</td>\n",
              "      <td>NaN</td>\n",
              "      <td>NaN</td>\n",
              "      <td>638.076431</td>\n",
              "      <td>9.090909</td>\n",
              "      <td>0.820218</td>\n",
              "      <td>197.355744</td>\n",
              "      <td>4.363431</td>\n",
              "      <td>58.632548</td>\n",
              "      <td>NaN</td>\n",
              "      <td>NaN</td>\n",
              "      <td>NaN</td>\n",
              "      <td>1</td>\n",
              "      <td>NaN</td>\n",
              "      <td>1.145729</td>\n",
              "      <td>NaN</td>\n",
              "      <td>1</td>\n",
              "      <td>0</td>\n",
              "      <td>140.862306</td>\n",
              "      <td>Low</td>\n",
              "    </tr>\n",
              "    <tr>\n",
              "      <th>4</th>\n",
              "      <td>5</td>\n",
              "      <td>914.117647</td>\n",
              "      <td>0.083333</td>\n",
              "      <td>NaN</td>\n",
              "      <td>626.514988</td>\n",
              "      <td>5.181818</td>\n",
              "      <td>1.372928</td>\n",
              "      <td>198.790477</td>\n",
              "      <td>85.938202</td>\n",
              "      <td>58.632548</td>\n",
              "      <td>NaN</td>\n",
              "      <td>210.175146</td>\n",
              "      <td>NaN</td>\n",
              "      <td>NaN</td>\n",
              "      <td>NaN</td>\n",
              "      <td>1.558341</td>\n",
              "      <td>NaN</td>\n",
              "      <td>1</td>\n",
              "      <td>0</td>\n",
              "      <td>101.268503</td>\n",
              "      <td>High</td>\n",
              "    </tr>\n",
              "  </tbody>\n",
              "</table>\n",
              "</div>"
            ],
            "text/plain": [
              "   VAR1        VAR2      VAR3        VAR4  ...  VAR18  VAR19       VAR20   VAR21\n",
              "0     1  828.235294  0.138889  321.428571  ...      1      0  100.104991     Low\n",
              "1     2  911.764706  0.027778         NaN  ...      0      1  146.654045    High\n",
              "2     3  962.352941  0.833333   35.714286  ...      0      0   98.249570  Medium\n",
              "3     4  892.941177       NaN         NaN  ...      1      0  140.862306     Low\n",
              "4     5  914.117647  0.083333         NaN  ...      1      0  101.268503    High\n",
              "\n",
              "[5 rows x 21 columns]"
            ]
          },
          "metadata": {
            "tags": []
          },
          "execution_count": 6
        }
      ]
    },
    {
      "cell_type": "code",
      "metadata": {
        "id": "LFxhDAyPhLNw",
        "colab_type": "code",
        "colab": {}
      },
      "source": [
        "lead_key = df_lead['VAR1'].tolist()\n",
        "#print(lead_key)"
      ],
      "execution_count": null,
      "outputs": []
    },
    {
      "cell_type": "code",
      "metadata": {
        "id": "A9RjgAgOhLN-",
        "colab_type": "code",
        "colab": {
          "base_uri": "https://localhost:8080/",
          "height": 215
        },
        "outputId": "270aaf3d-c8b6-4dcc-8095-0e77261bf9be"
      },
      "source": [
        "#df_lead = df_lead.iloc[:,1:]\n",
        "df_lead.head()"
      ],
      "execution_count": null,
      "outputs": [
        {
          "output_type": "execute_result",
          "data": {
            "text/html": [
              "<div>\n",
              "<style scoped>\n",
              "    .dataframe tbody tr th:only-of-type {\n",
              "        vertical-align: middle;\n",
              "    }\n",
              "\n",
              "    .dataframe tbody tr th {\n",
              "        vertical-align: top;\n",
              "    }\n",
              "\n",
              "    .dataframe thead th {\n",
              "        text-align: right;\n",
              "    }\n",
              "</style>\n",
              "<table border=\"1\" class=\"dataframe\">\n",
              "  <thead>\n",
              "    <tr style=\"text-align: right;\">\n",
              "      <th></th>\n",
              "      <th>VAR1</th>\n",
              "      <th>VAR2</th>\n",
              "      <th>VAR3</th>\n",
              "      <th>VAR4</th>\n",
              "      <th>VAR5</th>\n",
              "      <th>VAR6</th>\n",
              "      <th>VAR7</th>\n",
              "      <th>VAR8</th>\n",
              "      <th>VAR9</th>\n",
              "      <th>VAR10</th>\n",
              "      <th>VAR11</th>\n",
              "      <th>VAR12</th>\n",
              "      <th>VAR13</th>\n",
              "      <th>VAR14</th>\n",
              "      <th>VAR15</th>\n",
              "      <th>VAR16</th>\n",
              "      <th>VAR17</th>\n",
              "      <th>VAR18</th>\n",
              "      <th>VAR19</th>\n",
              "      <th>VAR20</th>\n",
              "    </tr>\n",
              "  </thead>\n",
              "  <tbody>\n",
              "    <tr>\n",
              "      <th>0</th>\n",
              "      <td>1</td>\n",
              "      <td>878.823529</td>\n",
              "      <td>0.833333</td>\n",
              "      <td>821.428571</td>\n",
              "      <td>620.835806</td>\n",
              "      <td>5.181818</td>\n",
              "      <td>0.833974</td>\n",
              "      <td>197.500187</td>\n",
              "      <td>NaN</td>\n",
              "      <td>58.632548</td>\n",
              "      <td>9.433609</td>\n",
              "      <td>40.033361</td>\n",
              "      <td>10.000000</td>\n",
              "      <td>2</td>\n",
              "      <td>10.000000</td>\n",
              "      <td>1.212784</td>\n",
              "      <td>1000.00</td>\n",
              "      <td>1</td>\n",
              "      <td>0</td>\n",
              "      <td>48.099828</td>\n",
              "    </tr>\n",
              "    <tr>\n",
              "      <th>1</th>\n",
              "      <td>2</td>\n",
              "      <td>891.764706</td>\n",
              "      <td>0.138889</td>\n",
              "      <td>357.142857</td>\n",
              "      <td>614.092215</td>\n",
              "      <td>3.909091</td>\n",
              "      <td>0.595187</td>\n",
              "      <td>197.016843</td>\n",
              "      <td>253.896073</td>\n",
              "      <td>58.632548</td>\n",
              "      <td>10.144612</td>\n",
              "      <td>NaN</td>\n",
              "      <td>5.666667</td>\n",
              "      <td>1</td>\n",
              "      <td>7.600000</td>\n",
              "      <td>1.004907</td>\n",
              "      <td>992.55</td>\n",
              "      <td>0</td>\n",
              "      <td>0</td>\n",
              "      <td>104.018933</td>\n",
              "    </tr>\n",
              "    <tr>\n",
              "      <th>2</th>\n",
              "      <td>3</td>\n",
              "      <td>955.294118</td>\n",
              "      <td>0.055556</td>\n",
              "      <td>NaN</td>\n",
              "      <td>611.574748</td>\n",
              "      <td>6.363636</td>\n",
              "      <td>0.918652</td>\n",
              "      <td>197.660051</td>\n",
              "      <td>22.086661</td>\n",
              "      <td>NaN</td>\n",
              "      <td>0.583494</td>\n",
              "      <td>NaN</td>\n",
              "      <td>6.000000</td>\n",
              "      <td>1</td>\n",
              "      <td>6.000000</td>\n",
              "      <td>1.157115</td>\n",
              "      <td>NaN</td>\n",
              "      <td>1</td>\n",
              "      <td>1</td>\n",
              "      <td>120.586919</td>\n",
              "    </tr>\n",
              "    <tr>\n",
              "      <th>3</th>\n",
              "      <td>4</td>\n",
              "      <td>831.764706</td>\n",
              "      <td>0.111111</td>\n",
              "      <td>250.000000</td>\n",
              "      <td>617.740617</td>\n",
              "      <td>6.545455</td>\n",
              "      <td>2.383924</td>\n",
              "      <td>200.526288</td>\n",
              "      <td>NaN</td>\n",
              "      <td>48.539365</td>\n",
              "      <td>NaN</td>\n",
              "      <td>NaN</td>\n",
              "      <td>NaN</td>\n",
              "      <td>3</td>\n",
              "      <td>NaN</td>\n",
              "      <td>2.350858</td>\n",
              "      <td>NaN</td>\n",
              "      <td>0</td>\n",
              "      <td>1</td>\n",
              "      <td>168.592083</td>\n",
              "    </tr>\n",
              "    <tr>\n",
              "      <th>4</th>\n",
              "      <td>5</td>\n",
              "      <td>957.647059</td>\n",
              "      <td>0.166667</td>\n",
              "      <td>NaN</td>\n",
              "      <td>623.426802</td>\n",
              "      <td>NaN</td>\n",
              "      <td>0.711240</td>\n",
              "      <td>197.151458</td>\n",
              "      <td>5.013668</td>\n",
              "      <td>49.379748</td>\n",
              "      <td>0.255712</td>\n",
              "      <td>NaN</td>\n",
              "      <td>13.333333</td>\n",
              "      <td>1</td>\n",
              "      <td>13.333333</td>\n",
              "      <td>1.171551</td>\n",
              "      <td>NaN</td>\n",
              "      <td>0</td>\n",
              "      <td>1</td>\n",
              "      <td>109.204819</td>\n",
              "    </tr>\n",
              "  </tbody>\n",
              "</table>\n",
              "</div>"
            ],
            "text/plain": [
              "   VAR1        VAR2      VAR3        VAR4  ...    VAR17  VAR18  VAR19       VAR20\n",
              "0     1  878.823529  0.833333  821.428571  ...  1000.00      1      0   48.099828\n",
              "1     2  891.764706  0.138889  357.142857  ...   992.55      0      0  104.018933\n",
              "2     3  955.294118  0.055556         NaN  ...      NaN      1      1  120.586919\n",
              "3     4  831.764706  0.111111  250.000000  ...      NaN      0      1  168.592083\n",
              "4     5  957.647059  0.166667         NaN  ...      NaN      0      1  109.204819\n",
              "\n",
              "[5 rows x 20 columns]"
            ]
          },
          "metadata": {
            "tags": []
          },
          "execution_count": 8
        }
      ]
    },
    {
      "cell_type": "markdown",
      "metadata": {
        "id": "8Tm_QzOfhLOF",
        "colab_type": "text"
      },
      "source": [
        "### Scaling"
      ]
    },
    {
      "cell_type": "code",
      "metadata": {
        "id": "KbY521C8hLOI",
        "colab_type": "code",
        "colab": {}
      },
      "source": [
        "from sklearn.preprocessing import StandardScaler\n",
        "#sc_X = StandardScaler()\n",
        "# X_train = sc_X.fit_transform(X_train)\n",
        "# X_test = sc_X.transform(X_test)\n",
        "#X_lead = sc_X.transform(X_lead)\n",
        "#X_oth = sc_X.fit_transform(X_oth)\n",
        "#sc_y = StandardScaler()\n",
        "#y_train = sc_y.fit_transform(y_train.reshape(-1,1))"
      ],
      "execution_count": null,
      "outputs": []
    },
    {
      "cell_type": "code",
      "metadata": {
        "id": "WEIJg__fhLOV",
        "colab_type": "code",
        "colab": {}
      },
      "source": [
        "def percentile_linear(columns):\n",
        "    size = len(columns)-1\n",
        "    y = columns.rank(method='min').apply(lambda x: (x-1)/size)\n",
        "    return y"
      ],
      "execution_count": null,
      "outputs": []
    },
    {
      "cell_type": "code",
      "metadata": {
        "id": "JbBzgml0hLOc",
        "colab_type": "code",
        "colab": {}
      },
      "source": [
        "# for i in df_train.columns[1:-1]:\n",
        "#     df_train[i] = percentile_linear(df_train[i])"
      ],
      "execution_count": null,
      "outputs": []
    },
    {
      "cell_type": "code",
      "metadata": {
        "id": "nZp_JDWGhLOj",
        "colab_type": "code",
        "colab": {}
      },
      "source": [
        "# for i in df_lead.columns[1:]:\n",
        "#     df_lead[i] = percentile_linear(df_lead[i])"
      ],
      "execution_count": null,
      "outputs": []
    },
    {
      "cell_type": "code",
      "metadata": {
        "id": "fU6NL17rhLOq",
        "colab_type": "code",
        "colab": {}
      },
      "source": [
        "#df_train.columns"
      ],
      "execution_count": null,
      "outputs": []
    },
    {
      "cell_type": "code",
      "metadata": {
        "id": "0HE3kArUhLOx",
        "colab_type": "code",
        "colab": {}
      },
      "source": [
        "#df_lead.head()"
      ],
      "execution_count": null,
      "outputs": []
    },
    {
      "cell_type": "markdown",
      "metadata": {
        "id": "83oqfxSdhLO5",
        "colab_type": "text"
      },
      "source": [
        "#### Dropping features"
      ]
    },
    {
      "cell_type": "code",
      "metadata": {
        "id": "UAsjsdW0hLO7",
        "colab_type": "code",
        "colab": {}
      },
      "source": [
        "drop_list1 = ['VAR5','VAR11','VAR17']\n",
        "drop_list2 = ['VAR19','VAR18']\n",
        "drop_list3 = ['VAR14'] #9"
      ],
      "execution_count": null,
      "outputs": []
    },
    {
      "cell_type": "code",
      "metadata": {
        "id": "kdIB-y7zhLPC",
        "colab_type": "code",
        "colab": {}
      },
      "source": [
        "df_train = df_train.drop(drop_list2,axis=1)\n",
        "df_lead = df_lead.drop(drop_list2,axis=1)"
      ],
      "execution_count": null,
      "outputs": []
    },
    {
      "cell_type": "code",
      "metadata": {
        "id": "RZnRSOs0hLPJ",
        "colab_type": "code",
        "colab": {
          "base_uri": "https://localhost:8080/",
          "height": 215
        },
        "outputId": "915f7274-8e43-45db-a808-39b584fafdcb"
      },
      "source": [
        "df_train.head()"
      ],
      "execution_count": null,
      "outputs": [
        {
          "output_type": "execute_result",
          "data": {
            "text/html": [
              "<div>\n",
              "<style scoped>\n",
              "    .dataframe tbody tr th:only-of-type {\n",
              "        vertical-align: middle;\n",
              "    }\n",
              "\n",
              "    .dataframe tbody tr th {\n",
              "        vertical-align: top;\n",
              "    }\n",
              "\n",
              "    .dataframe thead th {\n",
              "        text-align: right;\n",
              "    }\n",
              "</style>\n",
              "<table border=\"1\" class=\"dataframe\">\n",
              "  <thead>\n",
              "    <tr style=\"text-align: right;\">\n",
              "      <th></th>\n",
              "      <th>VAR1</th>\n",
              "      <th>VAR2</th>\n",
              "      <th>VAR3</th>\n",
              "      <th>VAR4</th>\n",
              "      <th>VAR5</th>\n",
              "      <th>VAR6</th>\n",
              "      <th>VAR7</th>\n",
              "      <th>VAR8</th>\n",
              "      <th>VAR9</th>\n",
              "      <th>VAR10</th>\n",
              "      <th>VAR11</th>\n",
              "      <th>VAR12</th>\n",
              "      <th>VAR13</th>\n",
              "      <th>VAR15</th>\n",
              "      <th>VAR16</th>\n",
              "      <th>VAR17</th>\n",
              "      <th>VAR20</th>\n",
              "      <th>VAR21</th>\n",
              "    </tr>\n",
              "  </thead>\n",
              "  <tbody>\n",
              "    <tr>\n",
              "      <th>0</th>\n",
              "      <td>1</td>\n",
              "      <td>828.235294</td>\n",
              "      <td>0.138889</td>\n",
              "      <td>321.428571</td>\n",
              "      <td>625.911006</td>\n",
              "      <td>1.818182</td>\n",
              "      <td>1.081550</td>\n",
              "      <td>198.113469</td>\n",
              "      <td>NaN</td>\n",
              "      <td>58.632548</td>\n",
              "      <td>0.279273</td>\n",
              "      <td>100.083403</td>\n",
              "      <td>1.0</td>\n",
              "      <td>1.0</td>\n",
              "      <td>1.540594</td>\n",
              "      <td>NaN</td>\n",
              "      <td>100.104991</td>\n",
              "      <td>Low</td>\n",
              "    </tr>\n",
              "    <tr>\n",
              "      <th>1</th>\n",
              "      <td>2</td>\n",
              "      <td>911.764706</td>\n",
              "      <td>0.027778</td>\n",
              "      <td>NaN</td>\n",
              "      <td>611.574748</td>\n",
              "      <td>8.181818</td>\n",
              "      <td>1.344479</td>\n",
              "      <td>198.600020</td>\n",
              "      <td>22.086661</td>\n",
              "      <td>NaN</td>\n",
              "      <td>NaN</td>\n",
              "      <td>15.012510</td>\n",
              "      <td>NaN</td>\n",
              "      <td>NaN</td>\n",
              "      <td>1.614613</td>\n",
              "      <td>NaN</td>\n",
              "      <td>146.654045</td>\n",
              "      <td>High</td>\n",
              "    </tr>\n",
              "    <tr>\n",
              "      <th>2</th>\n",
              "      <td>3</td>\n",
              "      <td>962.352941</td>\n",
              "      <td>0.833333</td>\n",
              "      <td>35.714286</td>\n",
              "      <td>615.825381</td>\n",
              "      <td>8.181818</td>\n",
              "      <td>0.720796</td>\n",
              "      <td>197.267767</td>\n",
              "      <td>NaN</td>\n",
              "      <td>58.632548</td>\n",
              "      <td>0.453212</td>\n",
              "      <td>210.175146</td>\n",
              "      <td>10.0</td>\n",
              "      <td>10.0</td>\n",
              "      <td>1.044599</td>\n",
              "      <td>NaN</td>\n",
              "      <td>98.249570</td>\n",
              "      <td>Medium</td>\n",
              "    </tr>\n",
              "    <tr>\n",
              "      <th>3</th>\n",
              "      <td>4</td>\n",
              "      <td>892.941177</td>\n",
              "      <td>NaN</td>\n",
              "      <td>NaN</td>\n",
              "      <td>638.076431</td>\n",
              "      <td>9.090909</td>\n",
              "      <td>0.820218</td>\n",
              "      <td>197.355744</td>\n",
              "      <td>4.363431</td>\n",
              "      <td>58.632548</td>\n",
              "      <td>NaN</td>\n",
              "      <td>NaN</td>\n",
              "      <td>NaN</td>\n",
              "      <td>NaN</td>\n",
              "      <td>1.145729</td>\n",
              "      <td>NaN</td>\n",
              "      <td>140.862306</td>\n",
              "      <td>Low</td>\n",
              "    </tr>\n",
              "    <tr>\n",
              "      <th>4</th>\n",
              "      <td>5</td>\n",
              "      <td>914.117647</td>\n",
              "      <td>0.083333</td>\n",
              "      <td>NaN</td>\n",
              "      <td>626.514988</td>\n",
              "      <td>5.181818</td>\n",
              "      <td>1.372928</td>\n",
              "      <td>198.790477</td>\n",
              "      <td>85.938202</td>\n",
              "      <td>58.632548</td>\n",
              "      <td>NaN</td>\n",
              "      <td>210.175146</td>\n",
              "      <td>NaN</td>\n",
              "      <td>NaN</td>\n",
              "      <td>1.558341</td>\n",
              "      <td>NaN</td>\n",
              "      <td>101.268503</td>\n",
              "      <td>High</td>\n",
              "    </tr>\n",
              "  </tbody>\n",
              "</table>\n",
              "</div>"
            ],
            "text/plain": [
              "   VAR1        VAR2      VAR3        VAR4  ...     VAR16  VAR17       VAR20   VAR21\n",
              "0     1  828.235294  0.138889  321.428571  ...  1.540594    NaN  100.104991     Low\n",
              "1     2  911.764706  0.027778         NaN  ...  1.614613    NaN  146.654045    High\n",
              "2     3  962.352941  0.833333   35.714286  ...  1.044599    NaN   98.249570  Medium\n",
              "3     4  892.941177       NaN         NaN  ...  1.145729    NaN  140.862306     Low\n",
              "4     5  914.117647  0.083333         NaN  ...  1.558341    NaN  101.268503    High\n",
              "\n",
              "[5 rows x 18 columns]"
            ]
          },
          "metadata": {
            "tags": []
          },
          "execution_count": 12
        }
      ]
    },
    {
      "cell_type": "code",
      "metadata": {
        "id": "_iqnaIHhhLPR",
        "colab_type": "code",
        "colab": {
          "base_uri": "https://localhost:8080/",
          "height": 215
        },
        "outputId": "acddd4fe-dc39-4e26-d530-27d5bc901bdf"
      },
      "source": [
        "df_lead.head()"
      ],
      "execution_count": null,
      "outputs": [
        {
          "output_type": "execute_result",
          "data": {
            "text/html": [
              "<div>\n",
              "<style scoped>\n",
              "    .dataframe tbody tr th:only-of-type {\n",
              "        vertical-align: middle;\n",
              "    }\n",
              "\n",
              "    .dataframe tbody tr th {\n",
              "        vertical-align: top;\n",
              "    }\n",
              "\n",
              "    .dataframe thead th {\n",
              "        text-align: right;\n",
              "    }\n",
              "</style>\n",
              "<table border=\"1\" class=\"dataframe\">\n",
              "  <thead>\n",
              "    <tr style=\"text-align: right;\">\n",
              "      <th></th>\n",
              "      <th>VAR1</th>\n",
              "      <th>VAR2</th>\n",
              "      <th>VAR3</th>\n",
              "      <th>VAR4</th>\n",
              "      <th>VAR5</th>\n",
              "      <th>VAR6</th>\n",
              "      <th>VAR7</th>\n",
              "      <th>VAR8</th>\n",
              "      <th>VAR9</th>\n",
              "      <th>VAR10</th>\n",
              "      <th>VAR11</th>\n",
              "      <th>VAR12</th>\n",
              "      <th>VAR13</th>\n",
              "      <th>VAR15</th>\n",
              "      <th>VAR16</th>\n",
              "      <th>VAR17</th>\n",
              "      <th>VAR20</th>\n",
              "    </tr>\n",
              "  </thead>\n",
              "  <tbody>\n",
              "    <tr>\n",
              "      <th>0</th>\n",
              "      <td>1</td>\n",
              "      <td>878.823529</td>\n",
              "      <td>0.833333</td>\n",
              "      <td>821.428571</td>\n",
              "      <td>620.835806</td>\n",
              "      <td>5.181818</td>\n",
              "      <td>0.833974</td>\n",
              "      <td>197.500187</td>\n",
              "      <td>NaN</td>\n",
              "      <td>58.632548</td>\n",
              "      <td>9.433609</td>\n",
              "      <td>40.033361</td>\n",
              "      <td>10.000000</td>\n",
              "      <td>10.000000</td>\n",
              "      <td>1.212784</td>\n",
              "      <td>1000.00</td>\n",
              "      <td>48.099828</td>\n",
              "    </tr>\n",
              "    <tr>\n",
              "      <th>1</th>\n",
              "      <td>2</td>\n",
              "      <td>891.764706</td>\n",
              "      <td>0.138889</td>\n",
              "      <td>357.142857</td>\n",
              "      <td>614.092215</td>\n",
              "      <td>3.909091</td>\n",
              "      <td>0.595187</td>\n",
              "      <td>197.016843</td>\n",
              "      <td>253.896073</td>\n",
              "      <td>58.632548</td>\n",
              "      <td>10.144612</td>\n",
              "      <td>NaN</td>\n",
              "      <td>5.666667</td>\n",
              "      <td>7.600000</td>\n",
              "      <td>1.004907</td>\n",
              "      <td>992.55</td>\n",
              "      <td>104.018933</td>\n",
              "    </tr>\n",
              "    <tr>\n",
              "      <th>2</th>\n",
              "      <td>3</td>\n",
              "      <td>955.294118</td>\n",
              "      <td>0.055556</td>\n",
              "      <td>NaN</td>\n",
              "      <td>611.574748</td>\n",
              "      <td>6.363636</td>\n",
              "      <td>0.918652</td>\n",
              "      <td>197.660051</td>\n",
              "      <td>22.086661</td>\n",
              "      <td>NaN</td>\n",
              "      <td>0.583494</td>\n",
              "      <td>NaN</td>\n",
              "      <td>6.000000</td>\n",
              "      <td>6.000000</td>\n",
              "      <td>1.157115</td>\n",
              "      <td>NaN</td>\n",
              "      <td>120.586919</td>\n",
              "    </tr>\n",
              "    <tr>\n",
              "      <th>3</th>\n",
              "      <td>4</td>\n",
              "      <td>831.764706</td>\n",
              "      <td>0.111111</td>\n",
              "      <td>250.000000</td>\n",
              "      <td>617.740617</td>\n",
              "      <td>6.545455</td>\n",
              "      <td>2.383924</td>\n",
              "      <td>200.526288</td>\n",
              "      <td>NaN</td>\n",
              "      <td>48.539365</td>\n",
              "      <td>NaN</td>\n",
              "      <td>NaN</td>\n",
              "      <td>NaN</td>\n",
              "      <td>NaN</td>\n",
              "      <td>2.350858</td>\n",
              "      <td>NaN</td>\n",
              "      <td>168.592083</td>\n",
              "    </tr>\n",
              "    <tr>\n",
              "      <th>4</th>\n",
              "      <td>5</td>\n",
              "      <td>957.647059</td>\n",
              "      <td>0.166667</td>\n",
              "      <td>NaN</td>\n",
              "      <td>623.426802</td>\n",
              "      <td>NaN</td>\n",
              "      <td>0.711240</td>\n",
              "      <td>197.151458</td>\n",
              "      <td>5.013668</td>\n",
              "      <td>49.379748</td>\n",
              "      <td>0.255712</td>\n",
              "      <td>NaN</td>\n",
              "      <td>13.333333</td>\n",
              "      <td>13.333333</td>\n",
              "      <td>1.171551</td>\n",
              "      <td>NaN</td>\n",
              "      <td>109.204819</td>\n",
              "    </tr>\n",
              "  </tbody>\n",
              "</table>\n",
              "</div>"
            ],
            "text/plain": [
              "   VAR1        VAR2      VAR3  ...     VAR16    VAR17       VAR20\n",
              "0     1  878.823529  0.833333  ...  1.212784  1000.00   48.099828\n",
              "1     2  891.764706  0.138889  ...  1.004907   992.55  104.018933\n",
              "2     3  955.294118  0.055556  ...  1.157115      NaN  120.586919\n",
              "3     4  831.764706  0.111111  ...  2.350858      NaN  168.592083\n",
              "4     5  957.647059  0.166667  ...  1.171551      NaN  109.204819\n",
              "\n",
              "[5 rows x 17 columns]"
            ]
          },
          "metadata": {
            "tags": []
          },
          "execution_count": 13
        }
      ]
    },
    {
      "cell_type": "markdown",
      "metadata": {
        "id": "5eMDkkbihLPg",
        "colab_type": "text"
      },
      "source": [
        "### Label Encoding"
      ]
    },
    {
      "cell_type": "code",
      "metadata": {
        "id": "L36cseauhLPj",
        "colab_type": "code",
        "colab": {}
      },
      "source": [
        "X = df_train.iloc[:, 1:-1].values\n",
        "y = df_train.iloc[:, -1].values\n",
        "\n",
        "X_lead = df_lead.iloc[:, 1:].values\n",
        "y"
      ],
      "execution_count": null,
      "outputs": []
    },
    {
      "cell_type": "code",
      "metadata": {
        "id": "_2lUb2SPhLPr",
        "colab_type": "code",
        "colab": {}
      },
      "source": [
        "# label Encoding\n",
        "from sklearn.preprocessing import LabelEncoder, OneHotEncoder\n",
        "\n",
        "labelencoder_X = LabelEncoder()\n",
        "#X[:, 11] = labelencoder_X.fit_transform(X[:, 11])\n",
        "\n",
        "labelencoder_y = LabelEncoder()\n",
        "y = labelencoder_y.fit_transform(y)"
      ],
      "execution_count": null,
      "outputs": []
    },
    {
      "cell_type": "code",
      "metadata": {
        "id": "z1E1S-7ghLP0",
        "colab_type": "code",
        "colab": {}
      },
      "source": [
        "y"
      ],
      "execution_count": null,
      "outputs": []
    },
    {
      "cell_type": "markdown",
      "metadata": {
        "id": "WdJ0KSfHhLQB",
        "colab_type": "text"
      },
      "source": [
        "### Class Imbalance"
      ]
    },
    {
      "cell_type": "code",
      "metadata": {
        "id": "Vr_HwCKbhLQE",
        "colab_type": "code",
        "colab": {}
      },
      "source": [
        "count_classes = pd.value_counts(df_train['VAR21'], sort = True)\n",
        "count_classes.plot(kind = 'bar', rot=0)\n",
        "plt.title(\"Credit Card limit\")\n",
        "#plt.xticks(range(2), LABELS)\n",
        "plt.xlabel(\"Class\")\n",
        "plt.ylabel(\"Frequency\")"
      ],
      "execution_count": null,
      "outputs": []
    },
    {
      "cell_type": "code",
      "metadata": {
        "id": "HZKCvDMmhLQK",
        "colab_type": "code",
        "colab": {}
      },
      "source": [
        "from collections import Counter\n",
        "from imblearn.combine import SMOTETomek\n",
        "from imblearn.under_sampling import NearMiss\n",
        "from imblearn.over_sampling import RandomOverSampler"
      ],
      "execution_count": null,
      "outputs": []
    },
    {
      "cell_type": "code",
      "metadata": {
        "id": "aViTbV5khLQU",
        "colab_type": "code",
        "colab": {}
      },
      "source": [
        "# Implementing Oversampling for Handling Imbalanced \n",
        "#smk = SMOTETomek(random_state=42)\n",
        "#X_res,y_res=smk.fit_sample(X,y)"
      ],
      "execution_count": null,
      "outputs": []
    },
    {
      "cell_type": "code",
      "metadata": {
        "id": "_pJMbYd-hLQa",
        "colab_type": "code",
        "colab": {}
      },
      "source": [
        "#X_res.shape,y_res.shape"
      ],
      "execution_count": null,
      "outputs": []
    },
    {
      "cell_type": "code",
      "metadata": {
        "id": "s_jXRuTihLQl",
        "colab_type": "code",
        "colab": {}
      },
      "source": [
        "from collections import Counter\n",
        "print('Original dataset shape {}'.format(Counter(y)))\n",
        "#print('Resampled dataset shape {}'.format(Counter(y_res)))"
      ],
      "execution_count": null,
      "outputs": []
    },
    {
      "cell_type": "markdown",
      "metadata": {
        "id": "ODbzfsSlhLQs",
        "colab_type": "text"
      },
      "source": [
        "### Splitting"
      ]
    },
    {
      "cell_type": "code",
      "metadata": {
        "id": "yp0qPn9JhLQu",
        "colab_type": "code",
        "colab": {}
      },
      "source": [
        "# split data into train and test sets\n",
        "seed = 42\n",
        "test_size = 0.25\n",
        "X_train, X_test, y_train, y_test = train_test_split(X, y, test_size=test_size, random_state=seed)"
      ],
      "execution_count": null,
      "outputs": []
    },
    {
      "cell_type": "code",
      "metadata": {
        "id": "2aQWZzeYhLQ1",
        "colab_type": "code",
        "colab": {}
      },
      "source": [
        "#X_lead = sc_X.transform(X_lead)\n",
        "X_train.shape"
      ],
      "execution_count": null,
      "outputs": []
    },
    {
      "cell_type": "markdown",
      "metadata": {
        "id": "b1YhGpo4hLQ6",
        "colab_type": "text"
      },
      "source": [
        "#### Fitting Model & Evaluation"
      ]
    },
    {
      "cell_type": "code",
      "metadata": {
        "id": "FPY3TtvphLQ8",
        "colab_type": "code",
        "colab": {}
      },
      "source": [
        "from sklearn.metrics import f1_score,confusion_matrix\n",
        "from sklearn.metrics import accuracy_score\n",
        "from xgboost import XGBClassifier\n",
        "from sklearn.metrics import accuracy_score\n",
        "from sklearn.model_selection import KFold\n",
        "from sklearn.model_selection import cross_val_score"
      ],
      "execution_count": null,
      "outputs": []
    },
    {
      "cell_type": "code",
      "metadata": {
        "id": "UDRujPM7hLRH",
        "colab_type": "code",
        "colab": {}
      },
      "source": [
        "# fit model no training data\n",
        "modelxgb = XGBClassifier()"
      ],
      "execution_count": null,
      "outputs": []
    },
    {
      "cell_type": "code",
      "metadata": {
        "id": "0Qui0jzIhLRQ",
        "colab_type": "code",
        "colab": {}
      },
      "source": [
        "modelxgb.fit(X_train, y_train)"
      ],
      "execution_count": null,
      "outputs": []
    },
    {
      "cell_type": "code",
      "metadata": {
        "id": "rElDNyD9hLRY",
        "colab_type": "code",
        "colab": {}
      },
      "source": [
        "# make predictions for test data\n",
        "y_pred = modelxgb.predict(X_test)\n",
        "predictions = [round(value) for value in y_pred]"
      ],
      "execution_count": null,
      "outputs": []
    },
    {
      "cell_type": "code",
      "metadata": {
        "id": "WcnOzJShhLRe",
        "colab_type": "code",
        "colab": {}
      },
      "source": [
        "y_pred"
      ],
      "execution_count": null,
      "outputs": []
    },
    {
      "cell_type": "code",
      "metadata": {
        "id": "V-cJEEPehLRn",
        "colab_type": "code",
        "colab": {}
      },
      "source": [
        "#predictions"
      ],
      "execution_count": null,
      "outputs": []
    },
    {
      "cell_type": "code",
      "metadata": {
        "id": "r3UAedV5hLRt",
        "colab_type": "code",
        "colab": {}
      },
      "source": [
        "# evaluate predictions\n",
        "accuracy = accuracy_score(y_test, predictions)\n",
        "print(\"Accuracy: %.2f%%\" % (accuracy * 100.0))"
      ],
      "execution_count": null,
      "outputs": []
    },
    {
      "cell_type": "code",
      "metadata": {
        "id": "chJbX8hdhLRy",
        "colab_type": "code",
        "colab": {}
      },
      "source": [
        "cm = confusion_matrix(y_test,y_pred)\n",
        "sns.heatmap(cm,annot=True,fmt=\"d\")"
      ],
      "execution_count": null,
      "outputs": []
    },
    {
      "cell_type": "markdown",
      "metadata": {
        "id": "au4fm7dyhLR5",
        "colab_type": "text"
      },
      "source": [
        "### K-Fold CV"
      ]
    },
    {
      "cell_type": "code",
      "metadata": {
        "id": "dKxYkF-1hLR7",
        "colab_type": "code",
        "colab": {}
      },
      "source": [
        "modelxgbkfold = XGBClassifier()"
      ],
      "execution_count": null,
      "outputs": []
    },
    {
      "cell_type": "code",
      "metadata": {
        "id": "XQL0q4uyhLSA",
        "colab_type": "code",
        "colab": {}
      },
      "source": [
        "kfold = KFold(n_splits=5, random_state=7)\n",
        "result = cross_val_score(modelxgbkfold, X_train, y_train, cv=kfold, scoring='accuracy')"
      ],
      "execution_count": null,
      "outputs": []
    },
    {
      "cell_type": "code",
      "metadata": {
        "id": "g_SzJoIuhLSG",
        "colab_type": "code",
        "colab": {}
      },
      "source": [
        "result.mean()"
      ],
      "execution_count": null,
      "outputs": []
    },
    {
      "cell_type": "markdown",
      "metadata": {
        "id": "8Rv9VBMChLSN",
        "colab_type": "text"
      },
      "source": [
        "#### Leaderboard Prediction"
      ]
    },
    {
      "cell_type": "code",
      "metadata": {
        "id": "-oyhJzlYhLSP",
        "colab_type": "code",
        "colab": {}
      },
      "source": [
        "y_lead = modelxgb.predict(X_lead)"
      ],
      "execution_count": null,
      "outputs": []
    },
    {
      "cell_type": "code",
      "metadata": {
        "id": "6c8ewO0OhLSU",
        "colab_type": "code",
        "colab": {}
      },
      "source": [
        "y_lead_ = y_lead.tolist()"
      ],
      "execution_count": null,
      "outputs": []
    },
    {
      "cell_type": "code",
      "metadata": {
        "id": "A3xy17BwhLSY",
        "colab_type": "code",
        "colab": {}
      },
      "source": [
        "len(lead_key)"
      ],
      "execution_count": null,
      "outputs": []
    },
    {
      "cell_type": "code",
      "metadata": {
        "id": "ZZQVqVVvhLSh",
        "colab_type": "code",
        "colab": {}
      },
      "source": [
        "len(y_lead_)"
      ],
      "execution_count": null,
      "outputs": []
    },
    {
      "cell_type": "code",
      "metadata": {
        "id": "l59_1T2YhLSo",
        "colab_type": "code",
        "colab": {}
      },
      "source": [
        "ylead = labelencoder_y.inverse_transform(y_lead_)"
      ],
      "execution_count": null,
      "outputs": []
    },
    {
      "cell_type": "code",
      "metadata": {
        "id": "DOxOUU9_hLSx",
        "colab_type": "code",
        "colab": {}
      },
      "source": [
        "ylead"
      ],
      "execution_count": null,
      "outputs": []
    },
    {
      "cell_type": "code",
      "metadata": {
        "id": "E4TF1NtQhLS2",
        "colab_type": "code",
        "colab": {}
      },
      "source": [
        "n_count_classes = pd.value_counts(ylead, sort = True)\n",
        "n_count_classes.plot(kind = 'bar', rot=0)\n",
        "plt.title(\"Credit Card limit\")\n",
        "#plt.xticks(range(2), LABELS)\n",
        "plt.xlabel(\"Class\")\n",
        "plt.ylabel(\"Frequency\")"
      ],
      "execution_count": null,
      "outputs": []
    },
    {
      "cell_type": "code",
      "metadata": {
        "id": "vI6SUutohLS_",
        "colab_type": "code",
        "colab": {}
      },
      "source": [
        "dfxyz = pd.DataFrame(ylead,lead_key)"
      ],
      "execution_count": null,
      "outputs": []
    },
    {
      "cell_type": "code",
      "metadata": {
        "id": "8_zk41iKhLTE",
        "colab_type": "code",
        "colab": {}
      },
      "source": [
        "dfxyz.head()"
      ],
      "execution_count": null,
      "outputs": []
    },
    {
      "cell_type": "code",
      "metadata": {
        "id": "0eoRH02jhLTL",
        "colab_type": "code",
        "colab": {}
      },
      "source": [
        "#dfxyz.to_csv('Anonymous_IITRoorkee_9.csv',header=False)"
      ],
      "execution_count": null,
      "outputs": []
    },
    {
      "cell_type": "markdown",
      "metadata": {
        "id": "JeiyK1YQhLTR",
        "colab_type": "text"
      },
      "source": [
        "#### Feature Importance and Selection"
      ]
    },
    {
      "cell_type": "code",
      "metadata": {
        "id": "omIihGwshLTT",
        "colab_type": "code",
        "colab": {}
      },
      "source": [
        "print(modelxgb.feature_importances_) #use inbuilt class feature_importances of tree based classifiers"
      ],
      "execution_count": null,
      "outputs": []
    },
    {
      "cell_type": "code",
      "metadata": {
        "id": "b76q5t3ShLTe",
        "colab_type": "code",
        "colab": {}
      },
      "source": [
        "col = df_train.columns[1:-1]\n",
        "len(col)"
      ],
      "execution_count": null,
      "outputs": []
    },
    {
      "cell_type": "code",
      "metadata": {
        "id": "MZ7Pvys5hLTi",
        "colab_type": "code",
        "colab": {}
      },
      "source": [
        "#plot graph of feature importances for better visualization\n",
        "feat_importances = pd.Series(modelxgb.feature_importances_, index=col)\n",
        "feat_importances.nlargest(15).plot(kind='barh')\n",
        "plt.show()"
      ],
      "execution_count": null,
      "outputs": []
    },
    {
      "cell_type": "markdown",
      "metadata": {
        "id": "kbOkWtWShLTo",
        "colab_type": "text"
      },
      "source": [
        "#### Hyper Parameter Tuning"
      ]
    },
    {
      "cell_type": "code",
      "metadata": {
        "id": "sVFHhATAhLTp",
        "colab_type": "code",
        "colab": {}
      },
      "source": [
        "import xgboost as xgb\n",
        "from xgboost.sklearn import XGBClassifier\n",
        "from sklearn import metrics   #Additional scklearn functions\n",
        "from sklearn.model_selection import GridSearchCV   #Perforing grid search\n",
        "from matplotlib.pylab import rcParams\n",
        "rcParams['figure.figsize'] = 12, 4\n",
        "\n",
        "target = 'VAR21'\n",
        "IDcol = 'VAR1'"
      ],
      "execution_count": null,
      "outputs": []
    },
    {
      "cell_type": "code",
      "metadata": {
        "id": "LHXPLmr5hLTx",
        "colab_type": "code",
        "colab": {
          "base_uri": "https://localhost:8080/",
          "height": 215
        },
        "outputId": "2b22db15-ab8a-4840-ead8-a08f4db296ce"
      },
      "source": [
        "train = df_train\n",
        "train.head()"
      ],
      "execution_count": null,
      "outputs": [
        {
          "output_type": "execute_result",
          "data": {
            "text/html": [
              "<div>\n",
              "<style scoped>\n",
              "    .dataframe tbody tr th:only-of-type {\n",
              "        vertical-align: middle;\n",
              "    }\n",
              "\n",
              "    .dataframe tbody tr th {\n",
              "        vertical-align: top;\n",
              "    }\n",
              "\n",
              "    .dataframe thead th {\n",
              "        text-align: right;\n",
              "    }\n",
              "</style>\n",
              "<table border=\"1\" class=\"dataframe\">\n",
              "  <thead>\n",
              "    <tr style=\"text-align: right;\">\n",
              "      <th></th>\n",
              "      <th>VAR1</th>\n",
              "      <th>VAR2</th>\n",
              "      <th>VAR3</th>\n",
              "      <th>VAR4</th>\n",
              "      <th>VAR5</th>\n",
              "      <th>VAR6</th>\n",
              "      <th>VAR7</th>\n",
              "      <th>VAR8</th>\n",
              "      <th>VAR9</th>\n",
              "      <th>VAR10</th>\n",
              "      <th>VAR11</th>\n",
              "      <th>VAR12</th>\n",
              "      <th>VAR13</th>\n",
              "      <th>VAR15</th>\n",
              "      <th>VAR16</th>\n",
              "      <th>VAR17</th>\n",
              "      <th>VAR20</th>\n",
              "      <th>VAR21</th>\n",
              "    </tr>\n",
              "  </thead>\n",
              "  <tbody>\n",
              "    <tr>\n",
              "      <th>0</th>\n",
              "      <td>1</td>\n",
              "      <td>828.235294</td>\n",
              "      <td>0.138889</td>\n",
              "      <td>321.428571</td>\n",
              "      <td>625.911006</td>\n",
              "      <td>1.818182</td>\n",
              "      <td>1.081550</td>\n",
              "      <td>198.113469</td>\n",
              "      <td>NaN</td>\n",
              "      <td>58.632548</td>\n",
              "      <td>0.279273</td>\n",
              "      <td>100.083403</td>\n",
              "      <td>1.0</td>\n",
              "      <td>1.0</td>\n",
              "      <td>1.540594</td>\n",
              "      <td>NaN</td>\n",
              "      <td>100.104991</td>\n",
              "      <td>Low</td>\n",
              "    </tr>\n",
              "    <tr>\n",
              "      <th>1</th>\n",
              "      <td>2</td>\n",
              "      <td>911.764706</td>\n",
              "      <td>0.027778</td>\n",
              "      <td>NaN</td>\n",
              "      <td>611.574748</td>\n",
              "      <td>8.181818</td>\n",
              "      <td>1.344479</td>\n",
              "      <td>198.600020</td>\n",
              "      <td>22.086661</td>\n",
              "      <td>NaN</td>\n",
              "      <td>NaN</td>\n",
              "      <td>15.012510</td>\n",
              "      <td>NaN</td>\n",
              "      <td>NaN</td>\n",
              "      <td>1.614613</td>\n",
              "      <td>NaN</td>\n",
              "      <td>146.654045</td>\n",
              "      <td>High</td>\n",
              "    </tr>\n",
              "    <tr>\n",
              "      <th>2</th>\n",
              "      <td>3</td>\n",
              "      <td>962.352941</td>\n",
              "      <td>0.833333</td>\n",
              "      <td>35.714286</td>\n",
              "      <td>615.825381</td>\n",
              "      <td>8.181818</td>\n",
              "      <td>0.720796</td>\n",
              "      <td>197.267767</td>\n",
              "      <td>NaN</td>\n",
              "      <td>58.632548</td>\n",
              "      <td>0.453212</td>\n",
              "      <td>210.175146</td>\n",
              "      <td>10.0</td>\n",
              "      <td>10.0</td>\n",
              "      <td>1.044599</td>\n",
              "      <td>NaN</td>\n",
              "      <td>98.249570</td>\n",
              "      <td>Medium</td>\n",
              "    </tr>\n",
              "    <tr>\n",
              "      <th>3</th>\n",
              "      <td>4</td>\n",
              "      <td>892.941177</td>\n",
              "      <td>NaN</td>\n",
              "      <td>NaN</td>\n",
              "      <td>638.076431</td>\n",
              "      <td>9.090909</td>\n",
              "      <td>0.820218</td>\n",
              "      <td>197.355744</td>\n",
              "      <td>4.363431</td>\n",
              "      <td>58.632548</td>\n",
              "      <td>NaN</td>\n",
              "      <td>NaN</td>\n",
              "      <td>NaN</td>\n",
              "      <td>NaN</td>\n",
              "      <td>1.145729</td>\n",
              "      <td>NaN</td>\n",
              "      <td>140.862306</td>\n",
              "      <td>Low</td>\n",
              "    </tr>\n",
              "    <tr>\n",
              "      <th>4</th>\n",
              "      <td>5</td>\n",
              "      <td>914.117647</td>\n",
              "      <td>0.083333</td>\n",
              "      <td>NaN</td>\n",
              "      <td>626.514988</td>\n",
              "      <td>5.181818</td>\n",
              "      <td>1.372928</td>\n",
              "      <td>198.790477</td>\n",
              "      <td>85.938202</td>\n",
              "      <td>58.632548</td>\n",
              "      <td>NaN</td>\n",
              "      <td>210.175146</td>\n",
              "      <td>NaN</td>\n",
              "      <td>NaN</td>\n",
              "      <td>1.558341</td>\n",
              "      <td>NaN</td>\n",
              "      <td>101.268503</td>\n",
              "      <td>High</td>\n",
              "    </tr>\n",
              "  </tbody>\n",
              "</table>\n",
              "</div>"
            ],
            "text/plain": [
              "   VAR1        VAR2      VAR3        VAR4  ...     VAR16  VAR17       VAR20   VAR21\n",
              "0     1  828.235294  0.138889  321.428571  ...  1.540594    NaN  100.104991     Low\n",
              "1     2  911.764706  0.027778         NaN  ...  1.614613    NaN  146.654045    High\n",
              "2     3  962.352941  0.833333   35.714286  ...  1.044599    NaN   98.249570  Medium\n",
              "3     4  892.941177       NaN         NaN  ...  1.145729    NaN  140.862306     Low\n",
              "4     5  914.117647  0.083333         NaN  ...  1.558341    NaN  101.268503    High\n",
              "\n",
              "[5 rows x 18 columns]"
            ]
          },
          "metadata": {
            "tags": []
          },
          "execution_count": 15
        }
      ]
    },
    {
      "cell_type": "code",
      "metadata": {
        "id": "HnPwu5Q6hLT2",
        "colab_type": "code",
        "colab": {}
      },
      "source": [
        "from sklearn.preprocessing import LabelEncoder\n",
        "labelencoder_y1 = LabelEncoder()\n",
        "#labelencoder_x1 = LabelEncoder()\n",
        "train.iloc[:,-1] = labelencoder_y1.fit_transform(train.iloc[:,-1].values)"
      ],
      "execution_count": null,
      "outputs": []
    },
    {
      "cell_type": "code",
      "metadata": {
        "id": "-qKVxowlhLT7",
        "colab_type": "code",
        "colab": {
          "base_uri": "https://localhost:8080/",
          "height": 215
        },
        "outputId": "c76fb7b7-d806-4254-dab1-9cc1f2b7179d"
      },
      "source": [
        "train.head()"
      ],
      "execution_count": null,
      "outputs": [
        {
          "output_type": "execute_result",
          "data": {
            "text/html": [
              "<div>\n",
              "<style scoped>\n",
              "    .dataframe tbody tr th:only-of-type {\n",
              "        vertical-align: middle;\n",
              "    }\n",
              "\n",
              "    .dataframe tbody tr th {\n",
              "        vertical-align: top;\n",
              "    }\n",
              "\n",
              "    .dataframe thead th {\n",
              "        text-align: right;\n",
              "    }\n",
              "</style>\n",
              "<table border=\"1\" class=\"dataframe\">\n",
              "  <thead>\n",
              "    <tr style=\"text-align: right;\">\n",
              "      <th></th>\n",
              "      <th>VAR1</th>\n",
              "      <th>VAR2</th>\n",
              "      <th>VAR3</th>\n",
              "      <th>VAR4</th>\n",
              "      <th>VAR5</th>\n",
              "      <th>VAR6</th>\n",
              "      <th>VAR7</th>\n",
              "      <th>VAR8</th>\n",
              "      <th>VAR9</th>\n",
              "      <th>VAR10</th>\n",
              "      <th>VAR11</th>\n",
              "      <th>VAR12</th>\n",
              "      <th>VAR13</th>\n",
              "      <th>VAR15</th>\n",
              "      <th>VAR16</th>\n",
              "      <th>VAR17</th>\n",
              "      <th>VAR20</th>\n",
              "      <th>VAR21</th>\n",
              "    </tr>\n",
              "  </thead>\n",
              "  <tbody>\n",
              "    <tr>\n",
              "      <th>0</th>\n",
              "      <td>1</td>\n",
              "      <td>828.235294</td>\n",
              "      <td>0.138889</td>\n",
              "      <td>321.428571</td>\n",
              "      <td>625.911006</td>\n",
              "      <td>1.818182</td>\n",
              "      <td>1.081550</td>\n",
              "      <td>198.113469</td>\n",
              "      <td>NaN</td>\n",
              "      <td>58.632548</td>\n",
              "      <td>0.279273</td>\n",
              "      <td>100.083403</td>\n",
              "      <td>1.0</td>\n",
              "      <td>1.0</td>\n",
              "      <td>1.540594</td>\n",
              "      <td>NaN</td>\n",
              "      <td>100.104991</td>\n",
              "      <td>1</td>\n",
              "    </tr>\n",
              "    <tr>\n",
              "      <th>1</th>\n",
              "      <td>2</td>\n",
              "      <td>911.764706</td>\n",
              "      <td>0.027778</td>\n",
              "      <td>NaN</td>\n",
              "      <td>611.574748</td>\n",
              "      <td>8.181818</td>\n",
              "      <td>1.344479</td>\n",
              "      <td>198.600020</td>\n",
              "      <td>22.086661</td>\n",
              "      <td>NaN</td>\n",
              "      <td>NaN</td>\n",
              "      <td>15.012510</td>\n",
              "      <td>NaN</td>\n",
              "      <td>NaN</td>\n",
              "      <td>1.614613</td>\n",
              "      <td>NaN</td>\n",
              "      <td>146.654045</td>\n",
              "      <td>0</td>\n",
              "    </tr>\n",
              "    <tr>\n",
              "      <th>2</th>\n",
              "      <td>3</td>\n",
              "      <td>962.352941</td>\n",
              "      <td>0.833333</td>\n",
              "      <td>35.714286</td>\n",
              "      <td>615.825381</td>\n",
              "      <td>8.181818</td>\n",
              "      <td>0.720796</td>\n",
              "      <td>197.267767</td>\n",
              "      <td>NaN</td>\n",
              "      <td>58.632548</td>\n",
              "      <td>0.453212</td>\n",
              "      <td>210.175146</td>\n",
              "      <td>10.0</td>\n",
              "      <td>10.0</td>\n",
              "      <td>1.044599</td>\n",
              "      <td>NaN</td>\n",
              "      <td>98.249570</td>\n",
              "      <td>2</td>\n",
              "    </tr>\n",
              "    <tr>\n",
              "      <th>3</th>\n",
              "      <td>4</td>\n",
              "      <td>892.941177</td>\n",
              "      <td>NaN</td>\n",
              "      <td>NaN</td>\n",
              "      <td>638.076431</td>\n",
              "      <td>9.090909</td>\n",
              "      <td>0.820218</td>\n",
              "      <td>197.355744</td>\n",
              "      <td>4.363431</td>\n",
              "      <td>58.632548</td>\n",
              "      <td>NaN</td>\n",
              "      <td>NaN</td>\n",
              "      <td>NaN</td>\n",
              "      <td>NaN</td>\n",
              "      <td>1.145729</td>\n",
              "      <td>NaN</td>\n",
              "      <td>140.862306</td>\n",
              "      <td>1</td>\n",
              "    </tr>\n",
              "    <tr>\n",
              "      <th>4</th>\n",
              "      <td>5</td>\n",
              "      <td>914.117647</td>\n",
              "      <td>0.083333</td>\n",
              "      <td>NaN</td>\n",
              "      <td>626.514988</td>\n",
              "      <td>5.181818</td>\n",
              "      <td>1.372928</td>\n",
              "      <td>198.790477</td>\n",
              "      <td>85.938202</td>\n",
              "      <td>58.632548</td>\n",
              "      <td>NaN</td>\n",
              "      <td>210.175146</td>\n",
              "      <td>NaN</td>\n",
              "      <td>NaN</td>\n",
              "      <td>1.558341</td>\n",
              "      <td>NaN</td>\n",
              "      <td>101.268503</td>\n",
              "      <td>0</td>\n",
              "    </tr>\n",
              "  </tbody>\n",
              "</table>\n",
              "</div>"
            ],
            "text/plain": [
              "   VAR1        VAR2      VAR3        VAR4  ...     VAR16  VAR17       VAR20  VAR21\n",
              "0     1  828.235294  0.138889  321.428571  ...  1.540594    NaN  100.104991      1\n",
              "1     2  911.764706  0.027778         NaN  ...  1.614613    NaN  146.654045      0\n",
              "2     3  962.352941  0.833333   35.714286  ...  1.044599    NaN   98.249570      2\n",
              "3     4  892.941177       NaN         NaN  ...  1.145729    NaN  140.862306      1\n",
              "4     5  914.117647  0.083333         NaN  ...  1.558341    NaN  101.268503      0\n",
              "\n",
              "[5 rows x 18 columns]"
            ]
          },
          "metadata": {
            "tags": []
          },
          "execution_count": 17
        }
      ]
    },
    {
      "cell_type": "code",
      "metadata": {
        "id": "A9C2SvEfhLT_",
        "colab_type": "code",
        "colab": {}
      },
      "source": [
        "def modelfit(alg, dtrain, predictors,useTrainCV=True, cv_folds=5, early_stopping_rounds=50):\n",
        "    \n",
        "    if useTrainCV:\n",
        "        xgb_param = alg.get_xgb_params()\n",
        "        xgb_param['num_class'] = 3\n",
        "        xgtrain = xgb.DMatrix(dtrain[predictors].values, label=dtrain[target].values)\n",
        "        cvresult = xgb.cv(xgb_param, xgtrain, num_boost_round=alg.get_params()['n_estimators'], nfold=cv_folds,\n",
        "            metrics='merror', early_stopping_rounds=early_stopping_rounds)\n",
        "        alg.set_params(n_estimators=cvresult.shape[0])\n",
        "    \n",
        "    #Fit the algorithm on the data\n",
        "    alg.fit(dtrain[predictors], dtrain[target],eval_metric='auc')\n",
        "        \n",
        "    #Predict training set:\n",
        "    dtrain_predictions = alg.predict(dtrain[predictors])\n",
        "    dtrain_predprob = alg.predict_proba(dtrain[predictors])[:,1]\n",
        "        \n",
        "    #Print model report:\n",
        "    print (\"\\nModel Report\")\n",
        "    print (\"Accuracy : %.4g\" % metrics.accuracy_score(dtrain[target].values, dtrain_predictions))\n",
        "    #print (\"AUC Score (Train): %f\" % metrics.roc_auc_score(dtrain[target], dtrain_predprob))\n",
        "    \n",
        "    #feat_imp = pd.Series(alg.feature_importances_, index = predictors)\n",
        "    feat_imp = pd.Series(alg.get_booster().get_fscore()).sort_values(ascending=False)\n",
        "    feat_imp.plot(kind='bar', title='Feature Importances')\n",
        "    plt.ylabel('Feature Importance Score')"
      ],
      "execution_count": null,
      "outputs": []
    },
    {
      "cell_type": "code",
      "metadata": {
        "id": "5OiH_A4ThLUD",
        "colab_type": "code",
        "colab": {}
      },
      "source": [
        "#Choose all predictors except target & IDcols\n",
        "predictors = [x for x in train.columns if x not in [target, IDcol]]\n",
        "\n",
        "xgb1 = XGBClassifier(\n",
        " learning_rate =0.1,\n",
        " n_estimators=1000,\n",
        " max_depth=5,\n",
        " min_child_weight=1,\n",
        " gamma=0,\n",
        " subsample=0.8,\n",
        " colsample_bytree=0.8,\n",
        " objective= 'multi:softmax',\n",
        " nthread=4,\n",
        " scale_pos_weight=1,\n",
        " seed=27)\n",
        "\n",
        "#predictors"
      ],
      "execution_count": null,
      "outputs": []
    },
    {
      "cell_type": "code",
      "metadata": {
        "id": "R4-dEqS6hLUH",
        "colab_type": "code",
        "colab": {
          "base_uri": "https://localhost:8080/",
          "height": 355
        },
        "outputId": "09390b14-0c25-45a1-8a4d-12a2c6af9e4d"
      },
      "source": [
        "modelfit(xgb1, train, predictors)"
      ],
      "execution_count": null,
      "outputs": [
        {
          "output_type": "stream",
          "text": [
            "\n",
            "Model Report\n",
            "Accuracy : 0.6402\n"
          ],
          "name": "stdout"
        },
        {
          "output_type": "display_data",
          "data": {
            "image/png": "[encoded data removed]",
            "text/plain": [
              "<Figure size 864x288 with 1 Axes>"
            ]
          },
          "metadata": {
            "tags": []
          }
        }
      ]
    },
    {
      "cell_type": "markdown",
      "metadata": {
        "id": "NNw9W0H_hLUQ",
        "colab_type": "text"
      },
      "source": [
        "#### Leaderboard Prediction (Tuned XGBoost)"
      ]
    },
    {
      "cell_type": "code",
      "metadata": {
        "id": "VC3zs9C3hLUR",
        "colab_type": "code",
        "colab": {}
      },
      "source": [
        "lead = df_lead\n",
        "lead_predictors = [x for x in lead.columns if x not in [IDcol]]\n",
        "#lead_predictors"
      ],
      "execution_count": null,
      "outputs": []
    },
    {
      "cell_type": "code",
      "metadata": {
        "id": "LibcgWPOhLUW",
        "colab_type": "code",
        "colab": {}
      },
      "source": [
        "lead_predictions = xgb1.predict(lead[predictors])"
      ],
      "execution_count": null,
      "outputs": []
    },
    {
      "cell_type": "code",
      "metadata": {
        "id": "ZW3eKVYhhLUd",
        "colab_type": "code",
        "colab": {
          "base_uri": "https://localhost:8080/",
          "height": 34
        },
        "outputId": "1c2c6a7c-7eea-4985-bae6-ef24176e4dfd"
      },
      "source": [
        "dlead = lead_predictions.tolist()\n",
        "len(lead_key), len(dlead)"
      ],
      "execution_count": null,
      "outputs": [
        {
          "output_type": "execute_result",
          "data": {
            "text/plain": [
              "(10000, 10000)"
            ]
          },
          "metadata": {
            "tags": []
          },
          "execution_count": 23
        }
      ]
    },
    {
      "cell_type": "code",
      "metadata": {
        "id": "JiW-9QeLhLUi",
        "colab_type": "code",
        "colab": {
          "base_uri": "https://localhost:8080/",
          "height": 50
        },
        "outputId": "c6f0b55a-a7bc-498d-d523-760db1336736"
      },
      "source": [
        "dylead = labelencoder_y1.inverse_transform(lead_predictions)\n",
        "dylead"
      ],
      "execution_count": null,
      "outputs": [
        {
          "output_type": "execute_result",
          "data": {
            "text/plain": [
              "array(['Medium', 'Low', 'Medium', ..., 'Medium', 'Medium', 'Medium'],\n",
              "      dtype=object)"
            ]
          },
          "metadata": {
            "tags": []
          },
          "execution_count": 24
        }
      ]
    },
    {
      "cell_type": "code",
      "metadata": {
        "id": "2ruI4_MnhLUo",
        "colab_type": "code",
        "colab": {
          "base_uri": "https://localhost:8080/",
          "height": 312
        },
        "outputId": "f9458137-2618-474b-bb53-7a9bbf5a6b0a"
      },
      "source": [
        "n_count_classes = pd.value_counts(dylead, sort = True)\n",
        "n_count_classes.plot(kind = 'bar', rot=0)\n",
        "plt.title(\"Credit Card limit\")\n",
        "#plt.xticks(range(2), LABELS)\n",
        "plt.xlabel(\"Class\")\n",
        "plt.ylabel(\"Frequency\")"
      ],
      "execution_count": null,
      "outputs": [
        {
          "output_type": "execute_result",
          "data": {
            "text/plain": [
              "Text(0, 0.5, 'Frequency')"
            ]
          },
          "metadata": {
            "tags": []
          },
          "execution_count": 25
        },
        {
          "output_type": "display_data",
          "data": {
            "image/png": "[encoded data removed]",
            "text/plain": [
              "<Figure size 864x288 with 1 Axes>"
            ]
          },
          "metadata": {
            "tags": []
          }
        }
      ]
    },
    {
      "cell_type": "markdown",
      "metadata": {
        "id": "o4O3iqNDhLUs",
        "colab_type": "text"
      },
      "source": [
        "#### Grid Search"
      ]
    },
    {
      "cell_type": "code",
      "metadata": {
        "id": "FO8oKPiShLUt",
        "colab_type": "code",
        "colab": {
          "base_uri": "https://localhost:8080/",
          "height": 286
        },
        "outputId": "2cad3d9d-8e8b-4565-e880-e9879175b41f"
      },
      "source": [
        "param_test1 = {\n",
        " 'max_depth':range(3,10,2),\n",
        " 'min_child_weight':range(1,6,2)\n",
        "}\n",
        "\n",
        "gsearch1 = GridSearchCV(estimator = XGBClassifier( learning_rate =0.1, n_estimators=140, max_depth=5,\n",
        " min_child_weight=1, gamma=0, subsample=0.8, colsample_bytree=0.8,\n",
        " objective= 'multi:softmax', nthread=4, scale_pos_weight=1, seed=27), \n",
        " param_grid = param_test1, scoring='f1_micro',n_jobs=4,iid=False, cv=5)\n",
        "\n",
        "gsearch1.fit(train[predictors],train[target])\n"
      ],
      "execution_count": null,
      "outputs": [
        {
          "output_type": "execute_result",
          "data": {
            "text/plain": [
              "GridSearchCV(cv=5, error_score='raise-deprecating',\n",
              "             estimator=XGBClassifier(base_score=0.5, booster='gbtree',\n",
              "                                     colsample_bylevel=1, colsample_bynode=1,\n",
              "                                     colsample_bytree=0.8, gamma=0,\n",
              "                                     learning_rate=0.1, max_delta_step=0,\n",
              "                                     max_depth=5, min_child_weight=1,\n",
              "                                     missing=None, n_estimators=140, n_jobs=1,\n",
              "                                     nthread=4, objective='multi:softmax',\n",
              "                                     random_state=0, reg_alpha=0, reg_lambda=1,\n",
              "                                     scale_pos_weight=1, seed=27, silent=None,\n",
              "                                     subsample=0.8, verbosity=1),\n",
              "             iid=False, n_jobs=4,\n",
              "             param_grid={'max_depth': range(3, 10, 2),\n",
              "                         'min_child_weight': range(1, 6, 2)},\n",
              "             pre_dispatch='2*n_jobs', refit=True, return_train_score=False,\n",
              "             scoring='f1_micro', verbose=0)"
            ]
          },
          "metadata": {
            "tags": []
          },
          "execution_count": 26
        }
      ]
    },
    {
      "cell_type": "code",
      "metadata": {
        "id": "NEncEBsOhLUz",
        "colab_type": "code",
        "colab": {
          "base_uri": "https://localhost:8080/",
          "height": 34
        },
        "outputId": "5c01cd5b-7125-4345-ed4b-73b60a2b41bc"
      },
      "source": [
        "gsearch1.best_params_, gsearch1.best_score_"
      ],
      "execution_count": null,
      "outputs": [
        {
          "output_type": "execute_result",
          "data": {
            "text/plain": [
              "({'max_depth': 5, 'min_child_weight': 5}, 0.5784411921328253)"
            ]
          },
          "metadata": {
            "tags": []
          },
          "execution_count": 27
        }
      ]
    },
    {
      "cell_type": "code",
      "metadata": {
        "id": "jQOPQ9tTrpyy",
        "colab_type": "code",
        "colab": {
          "base_uri": "https://localhost:8080/",
          "height": 286
        },
        "outputId": "2a561f65-0bb0-478e-e355-c823fcfcf696"
      },
      "source": [
        "param_test2 = {\n",
        " 'max_depth':[5,6,7],\n",
        " 'min_child_weight':[3,4,5,6]\n",
        "}\n",
        "\n",
        "gsearch2 = GridSearchCV(estimator = XGBClassifier( learning_rate=0.1, n_estimators=140, max_depth=5,\n",
        " min_child_weight=2, gamma=0, subsample=0.8, colsample_bytree=0.8,\n",
        " objective= 'multi:softmax', nthread=4, scale_pos_weight=1,seed=27), \n",
        " param_grid = param_test2, scoring='f1_micro',n_jobs=4,iid=False, cv=5)\n",
        "\n",
        "gsearch2.fit(train[predictors],train[target])"
      ],
      "execution_count": null,
      "outputs": [
        {
          "output_type": "execute_result",
          "data": {
            "text/plain": [
              "GridSearchCV(cv=5, error_score='raise-deprecating',\n",
              "             estimator=XGBClassifier(base_score=0.5, booster='gbtree',\n",
              "                                     colsample_bylevel=1, colsample_bynode=1,\n",
              "                                     colsample_bytree=0.8, gamma=0,\n",
              "                                     learning_rate=0.1, max_delta_step=0,\n",
              "                                     max_depth=5, min_child_weight=2,\n",
              "                                     missing=None, n_estimators=140, n_jobs=1,\n",
              "                                     nthread=4, objective='multi:softmax',\n",
              "                                     random_state=0, reg_alpha=0, reg_lambda=1,\n",
              "                                     scale_pos_weight=1, seed=27, silent=None,\n",
              "                                     subsample=0.8, verbosity=1),\n",
              "             iid=False, n_jobs=4,\n",
              "             param_grid={'max_depth': [5, 6, 7],\n",
              "                         'min_child_weight': [3, 4, 5, 6]},\n",
              "             pre_dispatch='2*n_jobs', refit=True, return_train_score=False,\n",
              "             scoring='f1_micro', verbose=0)"
            ]
          },
          "metadata": {
            "tags": []
          },
          "execution_count": 30
        }
      ]
    },
    {
      "cell_type": "code",
      "metadata": {
        "id": "lUeN8xiRsBZX",
        "colab_type": "code",
        "colab": {
          "base_uri": "https://localhost:8080/",
          "height": 34
        },
        "outputId": "aaaa0701-84c0-4004-a2fa-a81e8e89f504"
      },
      "source": [
        "gsearch2.best_params_, gsearch2.best_score_"
      ],
      "execution_count": null,
      "outputs": [
        {
          "output_type": "execute_result",
          "data": {
            "text/plain": [
              "({'max_depth': 5, 'min_child_weight': 5}, 0.5784411921328253)"
            ]
          },
          "metadata": {
            "tags": []
          },
          "execution_count": 31
        }
      ]
    },
    {
      "cell_type": "code",
      "metadata": {
        "id": "kUR75rXY3kEw",
        "colab_type": "code",
        "colab": {
          "base_uri": "https://localhost:8080/",
          "height": 229
        },
        "outputId": "19d81a68-fa20-4a1b-837d-03e077806a91"
      },
      "source": [
        "param_test6 = {\n",
        " 'subsample':[0.7,0.8,0.9],\n",
        " 'colsample_bytree':[0.7,0.8,3,0.9]\n",
        "}\n",
        "\n",
        "gsearch6 = GridSearchCV(estimator = XGBClassifier( learning_rate=0.1, n_estimators=1000, max_depth=8,\n",
        " min_child_weight=2, gamma=0.3, subsample=0.8, colsample_bytree=0.8,\n",
        " objective= 'multi:softmax', nthread=4, scale_pos_weight=1,seed=27), \n",
        " param_grid = param_test6, scoring='f1_micro',n_jobs=4,iid=False, cv=5)\n",
        "\n",
        "gsearch6.fit(train[predictors],train[target])"
      ],
      "execution_count": null,
      "outputs": [
        {
          "output_type": "error",
          "ename": "NameError",
          "evalue": "ignored",
          "traceback": [
            "\u001b[0;31m---------------------------------------------------------------------------\u001b[0m",
            "\u001b[0;31mNameError\u001b[0m                                 Traceback (most recent call last)",
            "\u001b[0;32m<ipython-input-1-0c9edfc3255b>\u001b[0m in \u001b[0;36m<module>\u001b[0;34m()\u001b[0m\n\u001b[1;32m      4\u001b[0m }\n\u001b[1;32m      5\u001b[0m \u001b[0;34m\u001b[0m\u001b[0m\n\u001b[0;32m----> 6\u001b[0;31m gsearch6 = GridSearchCV(estimator = XGBClassifier( learning_rate=0.1, n_estimators=1000, max_depth=8,\n\u001b[0m\u001b[1;32m      7\u001b[0m  \u001b[0mmin_child_weight\u001b[0m\u001b[0;34m=\u001b[0m\u001b[0;36m2\u001b[0m\u001b[0;34m,\u001b[0m \u001b[0mgamma\u001b[0m\u001b[0;34m=\u001b[0m\u001b[0;36m0.3\u001b[0m\u001b[0;34m,\u001b[0m \u001b[0msubsample\u001b[0m\u001b[0;34m=\u001b[0m\u001b[0;36m0.8\u001b[0m\u001b[0;34m,\u001b[0m \u001b[0mcolsample_bytree\u001b[0m\u001b[0;34m=\u001b[0m\u001b[0;36m0.8\u001b[0m\u001b[0;34m,\u001b[0m\u001b[0;34m\u001b[0m\u001b[0;34m\u001b[0m\u001b[0m\n\u001b[1;32m      8\u001b[0m  objective= 'multi:softmax', nthread=4, scale_pos_weight=1,seed=27), \n",
            "\u001b[0;31mNameError\u001b[0m: name 'GridSearchCV' is not defined"
          ]
        }
      ]
    },
    {
      "cell_type": "code",
      "metadata": {
        "id": "gQOeDNXqRLhJ",
        "colab_type": "code",
        "colab": {}
      },
      "source": [
        "param_test6 = {\n",
        " 'reg_alpha':[1e-5, 1e-2, 0.1, 1, 100]\n",
        "}\n",
        "\n",
        "gsearch6 = GridSearchCV(estimator = XGBClassifier( learning_rate =0.1, n_estimators=177, max_depth=4,\n",
        " min_child_weight=6, gamma=0.1, subsample=0.8, colsample_bytree=0.8,\n",
        " objective= 'binary:logistic', nthread=4, scale_pos_weight=1,seed=27), \n",
        " param_grid = param_test6, scoring='roc_auc',n_jobs=4,iid=False, cv=5)\n",
        "\n",
        "gsearch6.fit(train[predictors],train[target])"
      ],
      "execution_count": null,
      "outputs": []
    }
  ]
}