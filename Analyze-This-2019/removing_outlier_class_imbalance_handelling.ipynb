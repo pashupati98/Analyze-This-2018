{
 "cells": [
  {
   "cell_type": "markdown",
   "metadata": {},
   "source": [
    "### Removing Outliers"
   ]
  },
  {
   "cell_type": "code",
   "execution_count": 1,
   "metadata": {},
   "outputs": [],
   "source": [
    "import pandas as pd\n",
    "import numpy as np\n",
    "import scipy as sp\n",
    "import seaborn as sns\n",
    "import matplotlib as mp\n",
    "import matplotlib.pyplot as plt\n",
    "%matplotlib inline"
   ]
  },
  {
   "cell_type": "code",
   "execution_count": 2,
   "metadata": {},
   "outputs": [],
   "source": [
    "url_train = 'itrImputed.csv' #traing dataset\n",
    "url_dict = './Dataset/Data_Dictionary.xlsx' #data dictionary"
   ]
  },
  {
   "cell_type": "code",
   "execution_count": 3,
   "metadata": {},
   "outputs": [],
   "source": [
    "## making dataframe\n",
    "\n",
    "df_train = pd.read_csv(url_train)\n",
    "df_dict = pd.read_excel(url_dict)"
   ]
  },
  {
   "cell_type": "code",
   "execution_count": 4,
   "metadata": {},
   "outputs": [],
   "source": [
    "df_exp = df_train"
   ]
  },
  {
   "cell_type": "code",
   "execution_count": 5,
   "metadata": {},
   "outputs": [],
   "source": [
    "def get_percentage_missing(series):\n",
    "    \"\"\" Calculates percentage of NaN values in DataFrame\n",
    "    :param series: Pandas DataFrame object\n",
    "    :return: float\n",
    "    \"\"\"\n",
    "    num = series.isnull().sum()\n",
    "    den = len(series)\n",
    "    return round(num/den, 2)"
   ]
  },
  {
   "cell_type": "code",
   "execution_count": 6,
   "metadata": {},
   "outputs": [],
   "source": [
    "df_with_any_null_values = df_train[df_train.columns[df_train.isnull().any()].tolist()]"
   ]
  },
  {
   "cell_type": "code",
   "execution_count": 7,
   "metadata": {},
   "outputs": [
    {
     "data": {
      "text/plain": [
       "Series([], dtype: float64)"
      ]
     },
     "execution_count": 7,
     "metadata": {},
     "output_type": "execute_result"
    }
   ],
   "source": [
    "get_percentage_missing(df_with_any_null_values)"
   ]
  },
  {
   "cell_type": "code",
   "execution_count": 8,
   "metadata": {},
   "outputs": [],
   "source": [
    "### Function to Removing Outliers\n",
    "\n",
    "def remove_outlier(df_in, col_name):\n",
    "    q1 = df_in[col_name].quantile(0.25)\n",
    "    q3 = df_in[col_name].quantile(0.75)\n",
    "    iqr = q3-q1 #Interquartile range\n",
    "    fence_low  = q1-1.5*iqr\n",
    "    fence_high = q3+1.5*iqr\n",
    "    df_out = df_in.loc[(df_in[col_name] > fence_low) & (df_in[col_name] < fence_high)]\n",
    "    return df_out"
   ]
  },
  {
   "cell_type": "code",
   "execution_count": 9,
   "metadata": {},
   "outputs": [
    {
     "name": "stdout",
     "output_type": "stream",
     "text": [
      "34000\n",
      "34000\n"
     ]
    }
   ],
   "source": [
    "print(len(df_train))\n",
    "print(len(df_train['VAR4']))"
   ]
  },
  {
   "cell_type": "code",
   "execution_count": 10,
   "metadata": {},
   "outputs": [
    {
     "data": {
      "text/plain": [
       "Index(['Unnamed: 0', 'VAR1', 'VAR2', 'VAR3', 'VAR4', 'VAR5', 'VAR6', 'VAR7',\n",
       "       'VAR8', 'VAR9', 'VAR10', 'VAR11', 'VAR12', 'VAR13', 'VAR14', 'VAR15',\n",
       "       'VAR16', 'VAR17', 'VAR18', 'VAR19', 'VAR20', 'VAR21'],\n",
       "      dtype='object')"
      ]
     },
     "execution_count": 10,
     "metadata": {},
     "output_type": "execute_result"
    }
   ],
   "source": [
    "df_exp.columns"
   ]
  },
  {
   "cell_type": "code",
   "execution_count": 11,
   "metadata": {},
   "outputs": [
    {
     "data": {
      "text/html": [
       "<div>\n",
       "<style scoped>\n",
       "    .dataframe tbody tr th:only-of-type {\n",
       "        vertical-align: middle;\n",
       "    }\n",
       "\n",
       "    .dataframe tbody tr th {\n",
       "        vertical-align: top;\n",
       "    }\n",
       "\n",
       "    .dataframe thead th {\n",
       "        text-align: right;\n",
       "    }\n",
       "</style>\n",
       "<table border=\"1\" class=\"dataframe\">\n",
       "  <thead>\n",
       "    <tr style=\"text-align: right;\">\n",
       "      <th></th>\n",
       "      <th>Unnamed: 0</th>\n",
       "      <th>VAR1</th>\n",
       "      <th>VAR2</th>\n",
       "      <th>VAR3</th>\n",
       "      <th>VAR4</th>\n",
       "      <th>VAR5</th>\n",
       "      <th>VAR6</th>\n",
       "      <th>VAR7</th>\n",
       "      <th>VAR8</th>\n",
       "      <th>VAR9</th>\n",
       "      <th>...</th>\n",
       "      <th>VAR12</th>\n",
       "      <th>VAR13</th>\n",
       "      <th>VAR14</th>\n",
       "      <th>VAR15</th>\n",
       "      <th>VAR16</th>\n",
       "      <th>VAR17</th>\n",
       "      <th>VAR18</th>\n",
       "      <th>VAR19</th>\n",
       "      <th>VAR20</th>\n",
       "      <th>VAR21</th>\n",
       "    </tr>\n",
       "  </thead>\n",
       "  <tbody>\n",
       "    <tr>\n",
       "      <th>0</th>\n",
       "      <td>0</td>\n",
       "      <td>1</td>\n",
       "      <td>828.235294</td>\n",
       "      <td>0.138889</td>\n",
       "      <td>321.428571</td>\n",
       "      <td>625.911006</td>\n",
       "      <td>1.818182</td>\n",
       "      <td>1.081550</td>\n",
       "      <td>198.113469</td>\n",
       "      <td>63.699984</td>\n",
       "      <td>...</td>\n",
       "      <td>100.083403</td>\n",
       "      <td>1.000000</td>\n",
       "      <td>1.000000</td>\n",
       "      <td>1.000000</td>\n",
       "      <td>1.540594</td>\n",
       "      <td>859.508022</td>\n",
       "      <td>1.0</td>\n",
       "      <td>0.0</td>\n",
       "      <td>100.104991</td>\n",
       "      <td>Low</td>\n",
       "    </tr>\n",
       "    <tr>\n",
       "      <th>1</th>\n",
       "      <td>1</td>\n",
       "      <td>2</td>\n",
       "      <td>911.764706</td>\n",
       "      <td>0.027778</td>\n",
       "      <td>238.761364</td>\n",
       "      <td>611.574748</td>\n",
       "      <td>8.181818</td>\n",
       "      <td>1.344479</td>\n",
       "      <td>198.600020</td>\n",
       "      <td>22.086661</td>\n",
       "      <td>...</td>\n",
       "      <td>15.012510</td>\n",
       "      <td>11.050880</td>\n",
       "      <td>1.000000</td>\n",
       "      <td>11.776264</td>\n",
       "      <td>1.614613</td>\n",
       "      <td>869.487400</td>\n",
       "      <td>0.0</td>\n",
       "      <td>1.0</td>\n",
       "      <td>146.654045</td>\n",
       "      <td>High</td>\n",
       "    </tr>\n",
       "    <tr>\n",
       "      <th>2</th>\n",
       "      <td>2</td>\n",
       "      <td>3</td>\n",
       "      <td>962.352941</td>\n",
       "      <td>0.833333</td>\n",
       "      <td>35.714286</td>\n",
       "      <td>615.825381</td>\n",
       "      <td>8.181818</td>\n",
       "      <td>0.720796</td>\n",
       "      <td>197.267767</td>\n",
       "      <td>58.890461</td>\n",
       "      <td>...</td>\n",
       "      <td>210.175146</td>\n",
       "      <td>10.000000</td>\n",
       "      <td>1.000000</td>\n",
       "      <td>10.000000</td>\n",
       "      <td>1.044599</td>\n",
       "      <td>728.127337</td>\n",
       "      <td>0.0</td>\n",
       "      <td>0.0</td>\n",
       "      <td>98.249570</td>\n",
       "      <td>Medium</td>\n",
       "    </tr>\n",
       "    <tr>\n",
       "      <th>3</th>\n",
       "      <td>3</td>\n",
       "      <td>4</td>\n",
       "      <td>892.941177</td>\n",
       "      <td>0.782091</td>\n",
       "      <td>233.617604</td>\n",
       "      <td>638.076431</td>\n",
       "      <td>9.090909</td>\n",
       "      <td>0.820218</td>\n",
       "      <td>197.355744</td>\n",
       "      <td>4.363431</td>\n",
       "      <td>...</td>\n",
       "      <td>134.651887</td>\n",
       "      <td>9.612582</td>\n",
       "      <td>1.000000</td>\n",
       "      <td>10.163069</td>\n",
       "      <td>1.145729</td>\n",
       "      <td>929.978034</td>\n",
       "      <td>1.0</td>\n",
       "      <td>0.0</td>\n",
       "      <td>140.862306</td>\n",
       "      <td>Low</td>\n",
       "    </tr>\n",
       "    <tr>\n",
       "      <th>4</th>\n",
       "      <td>4</td>\n",
       "      <td>5</td>\n",
       "      <td>914.117647</td>\n",
       "      <td>0.083333</td>\n",
       "      <td>196.574005</td>\n",
       "      <td>626.514988</td>\n",
       "      <td>5.181818</td>\n",
       "      <td>1.372928</td>\n",
       "      <td>198.790477</td>\n",
       "      <td>85.938202</td>\n",
       "      <td>...</td>\n",
       "      <td>210.175146</td>\n",
       "      <td>11.549667</td>\n",
       "      <td>1.258089</td>\n",
       "      <td>12.494794</td>\n",
       "      <td>1.558341</td>\n",
       "      <td>720.948316</td>\n",
       "      <td>1.0</td>\n",
       "      <td>0.0</td>\n",
       "      <td>101.268503</td>\n",
       "      <td>High</td>\n",
       "    </tr>\n",
       "  </tbody>\n",
       "</table>\n",
       "<p>5 rows × 22 columns</p>\n",
       "</div>"
      ],
      "text/plain": [
       "   Unnamed: 0  VAR1        VAR2      VAR3        VAR4        VAR5      VAR6  \\\n",
       "0           0     1  828.235294  0.138889  321.428571  625.911006  1.818182   \n",
       "1           1     2  911.764706  0.027778  238.761364  611.574748  8.181818   \n",
       "2           2     3  962.352941  0.833333   35.714286  615.825381  8.181818   \n",
       "3           3     4  892.941177  0.782091  233.617604  638.076431  9.090909   \n",
       "4           4     5  914.117647  0.083333  196.574005  626.514988  5.181818   \n",
       "\n",
       "       VAR7        VAR8       VAR9  ...       VAR12      VAR13     VAR14  \\\n",
       "0  1.081550  198.113469  63.699984  ...  100.083403   1.000000  1.000000   \n",
       "1  1.344479  198.600020  22.086661  ...   15.012510  11.050880  1.000000   \n",
       "2  0.720796  197.267767  58.890461  ...  210.175146  10.000000  1.000000   \n",
       "3  0.820218  197.355744   4.363431  ...  134.651887   9.612582  1.000000   \n",
       "4  1.372928  198.790477  85.938202  ...  210.175146  11.549667  1.258089   \n",
       "\n",
       "       VAR15     VAR16       VAR17  VAR18  VAR19       VAR20   VAR21  \n",
       "0   1.000000  1.540594  859.508022    1.0    0.0  100.104991     Low  \n",
       "1  11.776264  1.614613  869.487400    0.0    1.0  146.654045    High  \n",
       "2  10.000000  1.044599  728.127337    0.0    0.0   98.249570  Medium  \n",
       "3  10.163069  1.145729  929.978034    1.0    0.0  140.862306     Low  \n",
       "4  12.494794  1.558341  720.948316    1.0    0.0  101.268503    High  \n",
       "\n",
       "[5 rows x 22 columns]"
      ]
     },
     "execution_count": 11,
     "metadata": {},
     "output_type": "execute_result"
    }
   ],
   "source": [
    "df_exp.head()"
   ]
  },
  {
   "cell_type": "code",
   "execution_count": 12,
   "metadata": {},
   "outputs": [
    {
     "data": {
      "text/plain": [
       "<matplotlib.axes._subplots.AxesSubplot at 0x2596bb1be10>"
      ]
     },
     "execution_count": 12,
     "metadata": {},
     "output_type": "execute_result"
    },
    {
     "data": {
      "image/png": "[encoded data removed]",
      "text/plain": [
       "<Figure size 432x288 with 1 Axes>"
      ]
     },
     "metadata": {
      "needs_background": "light"
     },
     "output_type": "display_data"
    }
   ],
   "source": [
    "df_train.boxplot(column = 'VAR2')"
   ]
  },
  {
   "cell_type": "code",
   "execution_count": 13,
   "metadata": {},
   "outputs": [
    {
     "name": "stdout",
     "output_type": "stream",
     "text": [
      "33257\n"
     ]
    }
   ],
   "source": [
    "print(len(df_exp.loc[(df_exp['VAR2'] > 770) & (df_exp['VAR2'] < 1000)]))\n",
    "df_exp = df_exp.loc[(df_exp['VAR2'] > 770) & (df_exp['VAR2'] < 1000)]"
   ]
  },
  {
   "cell_type": "code",
   "execution_count": 14,
   "metadata": {},
   "outputs": [
    {
     "data": {
      "text/plain": [
       "<matplotlib.axes._subplots.AxesSubplot at 0x2596be301d0>"
      ]
     },
     "execution_count": 14,
     "metadata": {},
     "output_type": "execute_result"
    },
    {
     "data": {
      "image/png": "[encoded data removed]",
      "text/plain": [
       "<Figure size 432x288 with 1 Axes>"
      ]
     },
     "metadata": {
      "needs_background": "light"
     },
     "output_type": "display_data"
    }
   ],
   "source": [
    "df_exp.boxplot(column = 'VAR2')"
   ]
  },
  {
   "cell_type": "code",
   "execution_count": 15,
   "metadata": {},
   "outputs": [
    {
     "data": {
      "text/plain": [
       "<matplotlib.axes._subplots.AxesSubplot at 0x2596c3aa7f0>"
      ]
     },
     "execution_count": 15,
     "metadata": {},
     "output_type": "execute_result"
    },
    {
     "data": {
      "image/png": "[encoded data removed]",
      "text/plain": [
       "<Figure size 432x288 with 1 Axes>"
      ]
     },
     "metadata": {
      "needs_background": "light"
     },
     "output_type": "display_data"
    }
   ],
   "source": [
    "df_train.boxplot(column = 'VAR4')"
   ]
  },
  {
   "cell_type": "code",
   "execution_count": 16,
   "metadata": {},
   "outputs": [
    {
     "name": "stdout",
     "output_type": "stream",
     "text": [
      "30703\n"
     ]
    }
   ],
   "source": [
    "print(len(df_exp.loc[(df_exp['VAR4'] > -300) & (df_exp['VAR4'] < 600)]))\n",
    "df_exp = df_exp.loc[(df_exp['VAR4'] > -300) & (df_exp['VAR4'] < 600)]"
   ]
  },
  {
   "cell_type": "code",
   "execution_count": 17,
   "metadata": {},
   "outputs": [
    {
     "data": {
      "text/plain": [
       "<matplotlib.axes._subplots.AxesSubplot at 0x2596d3e4a58>"
      ]
     },
     "execution_count": 17,
     "metadata": {},
     "output_type": "execute_result"
    },
    {
     "data": {
      "image/png": "[encoded data removed]",
      "text/plain": [
       "<Figure size 432x288 with 1 Axes>"
      ]
     },
     "metadata": {
      "needs_background": "light"
     },
     "output_type": "display_data"
    }
   ],
   "source": [
    "df_exp.boxplot(column = 'VAR4')"
   ]
  },
  {
   "cell_type": "code",
   "execution_count": 18,
   "metadata": {},
   "outputs": [
    {
     "data": {
      "text/plain": [
       "<matplotlib.axes._subplots.AxesSubplot at 0x2596bee89b0>"
      ]
     },
     "execution_count": 18,
     "metadata": {},
     "output_type": "execute_result"
    },
    {
     "data": {
      "image/png": "[encoded data removed]",
      "text/plain": [
       "<Figure size 432x288 with 1 Axes>"
      ]
     },
     "metadata": {
      "needs_background": "light"
     },
     "output_type": "display_data"
    }
   ],
   "source": [
    "df_train.boxplot(column = 'VAR5')"
   ]
  },
  {
   "cell_type": "code",
   "execution_count": 25,
   "metadata": {},
   "outputs": [
    {
     "name": "stdout",
     "output_type": "stream",
     "text": [
      "28244\n"
     ]
    }
   ],
   "source": [
    "#df_exp = df_exp.loc[(df_exp['VAR5'] > 600) & (df_exp['VAR5'] < 680)]\n",
    "print(len(df_exp.loc[(df_exp['VAR5'] > 580) & (df_exp['VAR5'] < 670)]))\n",
    "df_exp = df_exp.loc[(df_exp['VAR5'] > 580) & (df_exp['VAR5'] < 670)]"
   ]
  },
  {
   "cell_type": "code",
   "execution_count": 26,
   "metadata": {},
   "outputs": [
    {
     "data": {
      "text/plain": [
       "<matplotlib.axes._subplots.AxesSubplot at 0x2596c020518>"
      ]
     },
     "execution_count": 26,
     "metadata": {},
     "output_type": "execute_result"
    },
    {
     "data": {
      "image/png": "[encoded data removed]",
      "text/plain": [
       "<Figure size 432x288 with 1 Axes>"
      ]
     },
     "metadata": {
      "needs_background": "light"
     },
     "output_type": "display_data"
    }
   ],
   "source": [
    "df_exp.boxplot(column = 'VAR5')"
   ]
  },
  {
   "cell_type": "code",
   "execution_count": 27,
   "metadata": {},
   "outputs": [
    {
     "data": {
      "text/plain": [
       "<matplotlib.axes._subplots.AxesSubplot at 0x2596c07acc0>"
      ]
     },
     "execution_count": 27,
     "metadata": {},
     "output_type": "execute_result"
    },
    {
     "data": {
      "image/png": "[encoded data removed]",
      "text/plain": [
       "<Figure size 432x288 with 1 Axes>"
      ]
     },
     "metadata": {
      "needs_background": "light"
     },
     "output_type": "display_data"
    }
   ],
   "source": [
    "df_train.boxplot(column = 'VAR6')"
   ]
  },
  {
   "cell_type": "code",
   "execution_count": 45,
   "metadata": {},
   "outputs": [
    {
     "name": "stdout",
     "output_type": "stream",
     "text": [
      "28028\n"
     ]
    }
   ],
   "source": [
    "print(len(df_exp.loc[(df_exp['VAR6'] > -10) & (df_exp['VAR6'] < 100)]))\n",
    "df_exp = df_exp.loc[(df_exp['VAR6'] > -10) & (df_exp['VAR6'] < 100)]"
   ]
  },
  {
   "cell_type": "code",
   "execution_count": 46,
   "metadata": {},
   "outputs": [
    {
     "data": {
      "text/plain": [
       "<matplotlib.axes._subplots.AxesSubplot at 0x2596c1fcf28>"
      ]
     },
     "execution_count": 46,
     "metadata": {},
     "output_type": "execute_result"
    },
    {
     "data": {
      "image/png": "[encoded data removed]",
      "text/plain": [
       "<Figure size 432x288 with 1 Axes>"
      ]
     },
     "metadata": {
      "needs_background": "light"
     },
     "output_type": "display_data"
    }
   ],
   "source": [
    "df_exp.boxplot(column = 'VAR6')"
   ]
  },
  {
   "cell_type": "code",
   "execution_count": 47,
   "metadata": {},
   "outputs": [
    {
     "data": {
      "text/plain": [
       "<matplotlib.axes._subplots.AxesSubplot at 0x2596c265780>"
      ]
     },
     "execution_count": 47,
     "metadata": {},
     "output_type": "execute_result"
    },
    {
     "data": {
      "image/png": "[encoded data removed]",
      "text/plain": [
       "<Figure size 432x288 with 1 Axes>"
      ]
     },
     "metadata": {
      "needs_background": "light"
     },
     "output_type": "display_data"
    }
   ],
   "source": [
    "df_train.boxplot(column = 'VAR7')"
   ]
  },
  {
   "cell_type": "code",
   "execution_count": 76,
   "metadata": {},
   "outputs": [
    {
     "name": "stdout",
     "output_type": "stream",
     "text": [
      "26998\n"
     ]
    }
   ],
   "source": [
    "print(len(df_exp.loc[(df_exp['VAR7'] > 0) & (df_exp['VAR7'] < 5)]))\n",
    "df_exp = df_exp.loc[(df_exp['VAR7'] > 0) & (df_exp['VAR7'] < 5)]"
   ]
  },
  {
   "cell_type": "code",
   "execution_count": 77,
   "metadata": {},
   "outputs": [
    {
     "data": {
      "text/plain": [
       "<matplotlib.axes._subplots.AxesSubplot at 0x2596d562908>"
      ]
     },
     "execution_count": 77,
     "metadata": {},
     "output_type": "execute_result"
    },
    {
     "data": {
      "image/png": "[encoded data removed]",
      "text/plain": [
       "<Figure size 432x288 with 1 Axes>"
      ]
     },
     "metadata": {
      "needs_background": "light"
     },
     "output_type": "display_data"
    }
   ],
   "source": [
    "df_exp.boxplot(column = 'VAR7')"
   ]
  },
  {
   "cell_type": "code",
   "execution_count": 78,
   "metadata": {},
   "outputs": [
    {
     "data": {
      "text/plain": [
       "<matplotlib.axes._subplots.AxesSubplot at 0x2596d5c39b0>"
      ]
     },
     "execution_count": 78,
     "metadata": {},
     "output_type": "execute_result"
    },
    {
     "data": {
      "image/png": "[encoded data removed]",
      "text/plain": [
       "<Figure size 432x288 with 1 Axes>"
      ]
     },
     "metadata": {
      "needs_background": "light"
     },
     "output_type": "display_data"
    }
   ],
   "source": [
    "df_train.boxplot(column = 'VAR8')"
   ]
  },
  {
   "cell_type": "code",
   "execution_count": 91,
   "metadata": {},
   "outputs": [
    {
     "name": "stdout",
     "output_type": "stream",
     "text": [
      "26374\n"
     ]
    }
   ],
   "source": [
    "print(len(df_exp.loc[(df_exp['VAR8'] > 195) & (df_exp['VAR8'] < 204)]))\n",
    "df_exp = df_exp.loc[(df_exp['VAR8'] > 195) & (df_exp['VAR8'] < 204)]"
   ]
  },
  {
   "cell_type": "code",
   "execution_count": 92,
   "metadata": {},
   "outputs": [
    {
     "data": {
      "text/plain": [
       "<matplotlib.axes._subplots.AxesSubplot at 0x2596d779128>"
      ]
     },
     "execution_count": 92,
     "metadata": {},
     "output_type": "execute_result"
    },
    {
     "data": {
      "image/png": "[encoded data removed]",
      "text/plain": [
       "<Figure size 432x288 with 1 Axes>"
      ]
     },
     "metadata": {
      "needs_background": "light"
     },
     "output_type": "display_data"
    }
   ],
   "source": [
    "df_exp.boxplot(column = 'VAR8')"
   ]
  },
  {
   "cell_type": "code",
   "execution_count": 93,
   "metadata": {},
   "outputs": [
    {
     "data": {
      "text/plain": [
       "<matplotlib.axes._subplots.AxesSubplot at 0x2596d7e06a0>"
      ]
     },
     "execution_count": 93,
     "metadata": {},
     "output_type": "execute_result"
    },
    {
     "data": {
      "image/png": "[encoded data removed]",
      "text/plain": [
       "<Figure size 432x288 with 1 Axes>"
      ]
     },
     "metadata": {
      "needs_background": "light"
     },
     "output_type": "display_data"
    }
   ],
   "source": [
    "df_train.boxplot(column = 'VAR10')"
   ]
  },
  {
   "cell_type": "code",
   "execution_count": 95,
   "metadata": {},
   "outputs": [
    {
     "name": "stdout",
     "output_type": "stream",
     "text": [
      "26037\n"
     ]
    }
   ],
   "source": [
    "print(len(df_exp.loc[(df_exp['VAR10'] > 46) & (df_exp['VAR10'] < 60)]))\n",
    "df_exp = df_exp.loc[(df_exp['VAR10'] > 46) & (df_exp['VAR10'] < 60)]"
   ]
  },
  {
   "cell_type": "code",
   "execution_count": 96,
   "metadata": {},
   "outputs": [
    {
     "data": {
      "text/plain": [
       "<matplotlib.axes._subplots.AxesSubplot at 0x2596d8e5080>"
      ]
     },
     "execution_count": 96,
     "metadata": {},
     "output_type": "execute_result"
    },
    {
     "data": {
      "image/png": "[encoded data removed]",
      "text/plain": [
       "<Figure size 432x288 with 1 Axes>"
      ]
     },
     "metadata": {
      "needs_background": "light"
     },
     "output_type": "display_data"
    }
   ],
   "source": [
    "df_exp.boxplot(column = 'VAR10')"
   ]
  },
  {
   "cell_type": "code",
   "execution_count": 97,
   "metadata": {},
   "outputs": [
    {
     "data": {
      "text/plain": [
       "<matplotlib.axes._subplots.AxesSubplot at 0x2596d947b70>"
      ]
     },
     "execution_count": 97,
     "metadata": {},
     "output_type": "execute_result"
    },
    {
     "data": {
      "image/png": "[encoded data removed]",
      "text/plain": [
       "<Figure size 432x288 with 1 Axes>"
      ]
     },
     "metadata": {
      "needs_background": "light"
     },
     "output_type": "display_data"
    }
   ],
   "source": [
    "df_train.boxplot(column = 'VAR11')"
   ]
  },
  {
   "cell_type": "code",
   "execution_count": 105,
   "metadata": {},
   "outputs": [
    {
     "name": "stdout",
     "output_type": "stream",
     "text": [
      "25869\n"
     ]
    }
   ],
   "source": [
    "print(len(df_exp.loc[(df_exp['VAR11'] > -20) & (df_exp['VAR11'] < 40)]))\n",
    "df_exp = df_exp.loc[(df_exp['VAR11'] > 0) & (df_exp['VAR11'] < 40)]"
   ]
  },
  {
   "cell_type": "code",
   "execution_count": 106,
   "metadata": {},
   "outputs": [
    {
     "data": {
      "text/plain": [
       "<matplotlib.axes._subplots.AxesSubplot at 0x2596ddf3550>"
      ]
     },
     "execution_count": 106,
     "metadata": {},
     "output_type": "execute_result"
    },
    {
     "data": {
      "image/png": "[encoded data removed]",
      "text/plain": [
       "<Figure size 432x288 with 1 Axes>"
      ]
     },
     "metadata": {
      "needs_background": "light"
     },
     "output_type": "display_data"
    }
   ],
   "source": [
    "df_exp.boxplot(column = 'VAR11')"
   ]
  },
  {
   "cell_type": "code",
   "execution_count": 107,
   "metadata": {},
   "outputs": [
    {
     "data": {
      "text/plain": [
       "<matplotlib.axes._subplots.AxesSubplot at 0x2596de69e48>"
      ]
     },
     "execution_count": 107,
     "metadata": {},
     "output_type": "execute_result"
    },
    {
     "data": {
      "image/png": "[encoded data removed]",
      "text/plain": [
       "<Figure size 432x288 with 1 Axes>"
      ]
     },
     "metadata": {
      "needs_background": "light"
     },
     "output_type": "display_data"
    }
   ],
   "source": [
    "df_train.boxplot(column = 'VAR12')"
   ]
  },
  {
   "cell_type": "code",
   "execution_count": 110,
   "metadata": {},
   "outputs": [
    {
     "name": "stdout",
     "output_type": "stream",
     "text": [
      "25750\n"
     ]
    }
   ],
   "source": [
    "print(len(df_exp.loc[(df_exp['VAR12'] > -100) & (df_exp['VAR12'] < 600)]))\n",
    "df_exp = df_exp.loc[(df_exp['VAR12'] > -100) & (df_exp['VAR12'] < 600)]"
   ]
  },
  {
   "cell_type": "code",
   "execution_count": 111,
   "metadata": {},
   "outputs": [
    {
     "data": {
      "text/plain": [
       "<matplotlib.axes._subplots.AxesSubplot at 0x2596dec7c88>"
      ]
     },
     "execution_count": 111,
     "metadata": {},
     "output_type": "execute_result"
    },
    {
     "data": {
      "image/png": "[encoded data removed]",
      "text/plain": [
       "<Figure size 432x288 with 1 Axes>"
      ]
     },
     "metadata": {
      "needs_background": "light"
     },
     "output_type": "display_data"
    }
   ],
   "source": [
    "df_exp.boxplot(column = 'VAR12')"
   ]
  },
  {
   "cell_type": "code",
   "execution_count": 112,
   "metadata": {},
   "outputs": [
    {
     "data": {
      "text/plain": [
       "<matplotlib.axes._subplots.AxesSubplot at 0x2596da09a20>"
      ]
     },
     "execution_count": 112,
     "metadata": {},
     "output_type": "execute_result"
    },
    {
     "data": {
      "image/png": "[encoded data removed]",
      "text/plain": [
       "<Figure size 432x288 with 1 Axes>"
      ]
     },
     "metadata": {
      "needs_background": "light"
     },
     "output_type": "display_data"
    }
   ],
   "source": [
    "df_train.boxplot(column = 'VAR13')"
   ]
  },
  {
   "cell_type": "code",
   "execution_count": 119,
   "metadata": {},
   "outputs": [
    {
     "name": "stdout",
     "output_type": "stream",
     "text": [
      "25682\n"
     ]
    }
   ],
   "source": [
    "print(len(df_exp.loc[(df_exp['VAR13'] > 0) & (df_exp['VAR13'] < 50)]))\n",
    "df_exp = df_exp.loc[(df_exp['VAR13'] > 0) & (df_exp['VAR13'] < 50)]"
   ]
  },
  {
   "cell_type": "code",
   "execution_count": 121,
   "metadata": {},
   "outputs": [
    {
     "data": {
      "text/plain": [
       "<matplotlib.axes._subplots.AxesSubplot at 0x2596db44c18>"
      ]
     },
     "execution_count": 121,
     "metadata": {},
     "output_type": "execute_result"
    },
    {
     "data": {
      "image/png": "[encoded data removed]",
      "text/plain": [
       "<Figure size 432x288 with 1 Axes>"
      ]
     },
     "metadata": {
      "needs_background": "light"
     },
     "output_type": "display_data"
    }
   ],
   "source": [
    "df_exp.boxplot(column = 'VAR13')"
   ]
  },
  {
   "cell_type": "code",
   "execution_count": 122,
   "metadata": {},
   "outputs": [
    {
     "data": {
      "text/plain": [
       "<matplotlib.axes._subplots.AxesSubplot at 0x2596dbaac88>"
      ]
     },
     "execution_count": 122,
     "metadata": {},
     "output_type": "execute_result"
    },
    {
     "data": {
      "image/png": "[encoded data removed]",
      "text/plain": [
       "<Figure size 432x288 with 1 Axes>"
      ]
     },
     "metadata": {
      "needs_background": "light"
     },
     "output_type": "display_data"
    }
   ],
   "source": [
    "df_train.boxplot(column = 'VAR14')"
   ]
  },
  {
   "cell_type": "code",
   "execution_count": 134,
   "metadata": {},
   "outputs": [
    {
     "name": "stdout",
     "output_type": "stream",
     "text": [
      "24935\n"
     ]
    }
   ],
   "source": [
    "print(len(df_exp.loc[(df_exp['VAR14'] > 0) & (df_exp['VAR14'] < 6)]))\n",
    "df_exp = df_exp.loc[(df_exp['VAR14'] > 0) & (df_exp['VAR14'] < 6)]"
   ]
  },
  {
   "cell_type": "code",
   "execution_count": 135,
   "metadata": {},
   "outputs": [
    {
     "data": {
      "text/plain": [
       "<matplotlib.axes._subplots.AxesSubplot at 0x2596dcc04e0>"
      ]
     },
     "execution_count": 135,
     "metadata": {},
     "output_type": "execute_result"
    },
    {
     "data": {
      "image/png": "[encoded data removed]",
      "text/plain": [
       "<Figure size 432x288 with 1 Axes>"
      ]
     },
     "metadata": {
      "needs_background": "light"
     },
     "output_type": "display_data"
    }
   ],
   "source": [
    "df_exp.boxplot(column = 'VAR14')"
   ]
  },
  {
   "cell_type": "code",
   "execution_count": 136,
   "metadata": {},
   "outputs": [
    {
     "data": {
      "text/plain": [
       "<matplotlib.axes._subplots.AxesSubplot at 0x2596dd42550>"
      ]
     },
     "execution_count": 136,
     "metadata": {},
     "output_type": "execute_result"
    },
    {
     "data": {
      "image/png": "[encoded data removed]",
      "text/plain": [
       "<Figure size 432x288 with 1 Axes>"
      ]
     },
     "metadata": {
      "needs_background": "light"
     },
     "output_type": "display_data"
    }
   ],
   "source": [
    "df_train.boxplot(column = 'VAR15')"
   ]
  },
  {
   "cell_type": "code",
   "execution_count": 142,
   "metadata": {},
   "outputs": [
    {
     "name": "stdout",
     "output_type": "stream",
     "text": [
      "24918\n"
     ]
    }
   ],
   "source": [
    "print(len(df_exp.loc[(df_exp['VAR15'] > 0) & (df_exp['VAR15'] < 50)]))\n",
    "df_exp = df_exp.loc[(df_exp['VAR15'] > 0) & (df_exp['VAR15'] < 50)]"
   ]
  },
  {
   "cell_type": "code",
   "execution_count": 143,
   "metadata": {},
   "outputs": [
    {
     "data": {
      "text/plain": [
       "<matplotlib.axes._subplots.AxesSubplot at 0x2596dfccdd8>"
      ]
     },
     "execution_count": 143,
     "metadata": {},
     "output_type": "execute_result"
    },
    {
     "data": {
      "image/png": "[encoded data removed]",
      "text/plain": [
       "<Figure size 432x288 with 1 Axes>"
      ]
     },
     "metadata": {
      "needs_background": "light"
     },
     "output_type": "display_data"
    }
   ],
   "source": [
    "df_exp.boxplot(column = 'VAR15')"
   ]
  },
  {
   "cell_type": "code",
   "execution_count": 144,
   "metadata": {},
   "outputs": [
    {
     "data": {
      "text/plain": [
       "<matplotlib.axes._subplots.AxesSubplot at 0x2596e02e978>"
      ]
     },
     "execution_count": 144,
     "metadata": {},
     "output_type": "execute_result"
    },
    {
     "data": {
      "image/png": "[encoded data removed]",
      "text/plain": [
       "<Figure size 432x288 with 1 Axes>"
      ]
     },
     "metadata": {
      "needs_background": "light"
     },
     "output_type": "display_data"
    }
   ],
   "source": [
    "df_train.boxplot(column = 'VAR16')"
   ]
  },
  {
   "cell_type": "code",
   "execution_count": 152,
   "metadata": {},
   "outputs": [
    {
     "name": "stdout",
     "output_type": "stream",
     "text": [
      "24898\n"
     ]
    }
   ],
   "source": [
    "print(len(df_exp.loc[(df_exp['VAR16'] > 0) & (df_exp['VAR16'] < 5)]))\n",
    "df_exp = df_exp.loc[(df_exp['VAR16'] > 0) & (df_exp['VAR16'] < 5)]"
   ]
  },
  {
   "cell_type": "code",
   "execution_count": 153,
   "metadata": {},
   "outputs": [
    {
     "data": {
      "text/plain": [
       "<matplotlib.axes._subplots.AxesSubplot at 0x2596f4c3358>"
      ]
     },
     "execution_count": 153,
     "metadata": {},
     "output_type": "execute_result"
    },
    {
     "data": {
      "image/png": "[encoded data removed]",
      "text/plain": [
       "<Figure size 432x288 with 1 Axes>"
      ]
     },
     "metadata": {
      "needs_background": "light"
     },
     "output_type": "display_data"
    }
   ],
   "source": [
    "df_exp.boxplot(column = 'VAR16')"
   ]
  },
  {
   "cell_type": "code",
   "execution_count": 154,
   "metadata": {},
   "outputs": [
    {
     "data": {
      "text/plain": [
       "24898"
      ]
     },
     "execution_count": 154,
     "metadata": {},
     "output_type": "execute_result"
    }
   ],
   "source": [
    "len(df_exp)"
   ]
  },
  {
   "cell_type": "code",
   "execution_count": 155,
   "metadata": {},
   "outputs": [
    {
     "data": {
      "text/plain": [
       "<matplotlib.axes._subplots.AxesSubplot at 0x2596f53a0f0>"
      ]
     },
     "execution_count": 155,
     "metadata": {},
     "output_type": "execute_result"
    },
    {
     "data": {
      "image/png": "[encoded data removed]",
      "text/plain": [
       "<Figure size 432x288 with 1 Axes>"
      ]
     },
     "metadata": {
      "needs_background": "light"
     },
     "output_type": "display_data"
    }
   ],
   "source": [
    "df_train.boxplot(column = 'VAR18')"
   ]
  },
  {
   "cell_type": "code",
   "execution_count": 157,
   "metadata": {},
   "outputs": [
    {
     "name": "stdout",
     "output_type": "stream",
     "text": [
      "24863\n"
     ]
    }
   ],
   "source": [
    "print(len(df_exp.loc[(df_exp['VAR18'] >= 0) & (df_exp['VAR18'] < 5)]))\n",
    "df_exp = df_exp.loc[(df_exp['VAR18'] >= 0) & (df_exp['VAR18'] < 5)]"
   ]
  },
  {
   "cell_type": "code",
   "execution_count": 158,
   "metadata": {},
   "outputs": [
    {
     "data": {
      "text/plain": [
       "<matplotlib.axes._subplots.AxesSubplot at 0x2596ad5c780>"
      ]
     },
     "execution_count": 158,
     "metadata": {},
     "output_type": "execute_result"
    },
    {
     "data": {
      "image/png": "[encoded data removed]",
      "text/plain": [
       "<Figure size 432x288 with 1 Axes>"
      ]
     },
     "metadata": {
      "needs_background": "light"
     },
     "output_type": "display_data"
    }
   ],
   "source": [
    "df_exp.boxplot(column = 'VAR18')"
   ]
  },
  {
   "cell_type": "code",
   "execution_count": 159,
   "metadata": {},
   "outputs": [
    {
     "data": {
      "text/plain": [
       "<matplotlib.axes._subplots.AxesSubplot at 0x2596f12c828>"
      ]
     },
     "execution_count": 159,
     "metadata": {},
     "output_type": "execute_result"
    },
    {
     "data": {
      "image/png": "[encoded data removed]",
      "text/plain": [
       "<Figure size 432x288 with 1 Axes>"
      ]
     },
     "metadata": {
      "needs_background": "light"
     },
     "output_type": "display_data"
    }
   ],
   "source": [
    "df_train.boxplot(column = 'VAR19')"
   ]
  },
  {
   "cell_type": "code",
   "execution_count": 160,
   "metadata": {},
   "outputs": [
    {
     "name": "stdout",
     "output_type": "stream",
     "text": [
      "24863\n"
     ]
    }
   ],
   "source": [
    "print(len(df_exp.loc[(df_exp['VAR19'] >= 0) & (df_exp['VAR19'] <= 1)]))\n",
    "#df_exp = df_exp.loc[(df_exp['VAR19'] >= 0) & (df_exp['VAR19'] <= 1)]"
   ]
  },
  {
   "cell_type": "code",
   "execution_count": 161,
   "metadata": {},
   "outputs": [
    {
     "data": {
      "text/plain": [
       "24863"
      ]
     },
     "execution_count": 161,
     "metadata": {},
     "output_type": "execute_result"
    }
   ],
   "source": [
    "len(df_exp)"
   ]
  },
  {
   "cell_type": "code",
   "execution_count": 162,
   "metadata": {},
   "outputs": [
    {
     "data": {
      "text/plain": [
       "<matplotlib.axes._subplots.AxesSubplot at 0x2596f18b710>"
      ]
     },
     "execution_count": 162,
     "metadata": {},
     "output_type": "execute_result"
    },
    {
     "data": {
      "image/png": "[encoded data removed]",
      "text/plain": [
       "<Figure size 432x288 with 1 Axes>"
      ]
     },
     "metadata": {
      "needs_background": "light"
     },
     "output_type": "display_data"
    }
   ],
   "source": [
    "df_train.boxplot(column = 'VAR20')"
   ]
  },
  {
   "cell_type": "code",
   "execution_count": 164,
   "metadata": {},
   "outputs": [
    {
     "name": "stdout",
     "output_type": "stream",
     "text": [
      "24497\n"
     ]
    }
   ],
   "source": [
    "print(len(df_exp.loc[(df_exp['VAR20'] > 50) & (df_exp['VAR20'] < 600)]))\n",
    "df_exp = df_exp.loc[(df_exp['VAR20'] > 50) & (df_exp['VAR20'] < 600)]"
   ]
  },
  {
   "cell_type": "code",
   "execution_count": 165,
   "metadata": {},
   "outputs": [
    {
     "data": {
      "text/plain": [
       "<matplotlib.axes._subplots.AxesSubplot at 0x2596f1f3550>"
      ]
     },
     "execution_count": 165,
     "metadata": {},
     "output_type": "execute_result"
    },
    {
     "data": {
      "image/png": "[encoded data removed]",
      "text/plain": [
       "<Figure size 432x288 with 1 Axes>"
      ]
     },
     "metadata": {
      "needs_background": "light"
     },
     "output_type": "display_data"
    }
   ],
   "source": [
    "df_exp.boxplot(column = 'VAR20')"
   ]
  },
  {
   "cell_type": "markdown",
   "metadata": {},
   "source": [
    "##### LDA"
   ]
  },
  {
   "cell_type": "code",
   "execution_count": 166,
   "metadata": {},
   "outputs": [],
   "source": [
    "from sklearn.discriminant_analysis import LinearDiscriminantAnalysis\n",
    "from sklearn.model_selection import KFold\n",
    "from sklearn.model_selection import cross_val_score"
   ]
  },
  {
   "cell_type": "code",
   "execution_count": 167,
   "metadata": {},
   "outputs": [
    {
     "data": {
      "text/plain": [
       "Index(['Unnamed: 0', 'VAR1', 'VAR2', 'VAR3', 'VAR4', 'VAR5', 'VAR6', 'VAR7',\n",
       "       'VAR8', 'VAR9', 'VAR10', 'VAR11', 'VAR12', 'VAR13', 'VAR14', 'VAR15',\n",
       "       'VAR16', 'VAR17', 'VAR18', 'VAR19', 'VAR20', 'VAR21'],\n",
       "      dtype='object')"
      ]
     },
     "execution_count": 167,
     "metadata": {},
     "output_type": "execute_result"
    }
   ],
   "source": [
    "df_exp.columns"
   ]
  },
  {
   "cell_type": "code",
   "execution_count": 168,
   "metadata": {},
   "outputs": [],
   "source": [
    "X = df_exp.iloc[:, 2:-1].values\n",
    "y = df_exp.iloc[:, 19].values"
   ]
  },
  {
   "cell_type": "code",
   "execution_count": 169,
   "metadata": {},
   "outputs": [
    {
     "data": {
      "text/plain": [
       "array([[ 8.28235294e+02,  1.38888889e-01,  3.21428571e+02, ...,\n",
       "         1.00000000e+00,  0.00000000e+00,  1.00104991e+02],\n",
       "       [ 9.11764706e+02,  2.77777780e-02,  2.38761364e+02, ...,\n",
       "         0.00000000e+00,  1.00000000e+00,  1.46654045e+02],\n",
       "       [ 9.62352941e+02,  8.33333333e-01,  3.57142857e+01, ...,\n",
       "         0.00000000e+00,  0.00000000e+00,  9.82495697e+01],\n",
       "       ...,\n",
       "       [ 8.85882353e+02, -8.83392108e-01,  2.27789794e+02, ...,\n",
       "         0.00000000e+00,  0.00000000e+00,  1.62972461e+02],\n",
       "       [ 9.76470588e+02,  1.66666667e-01,  3.57142857e+01, ...,\n",
       "         0.00000000e+00,  0.00000000e+00,  1.08767642e+02],\n",
       "       [ 9.17647059e+02,  1.38888889e-01,  4.28571429e+02, ...,\n",
       "         1.00000000e+00,  0.00000000e+00,  5.25886403e+01]])"
      ]
     },
     "execution_count": 169,
     "metadata": {},
     "output_type": "execute_result"
    }
   ],
   "source": [
    "X"
   ]
  },
  {
   "cell_type": "code",
   "execution_count": 170,
   "metadata": {},
   "outputs": [],
   "source": [
    "from sklearn.preprocessing import LabelEncoder, OneHotEncoder\n",
    "\n",
    "labelencoder_X = LabelEncoder()\n",
    "#X[:, 11] = labelencoder_X.fit_transform(X[:, 11])\n",
    "\n",
    "labelencoder_y = LabelEncoder()\n",
    "y = labelencoder_y.fit_transform(y)"
   ]
  },
  {
   "cell_type": "code",
   "execution_count": 171,
   "metadata": {},
   "outputs": [
    {
     "data": {
      "text/plain": [
       "array([0, 1, 0, ..., 0, 0, 0], dtype=int64)"
      ]
     },
     "execution_count": 171,
     "metadata": {},
     "output_type": "execute_result"
    }
   ],
   "source": [
    "y"
   ]
  },
  {
   "cell_type": "code",
   "execution_count": 172,
   "metadata": {},
   "outputs": [
    {
     "name": "stdout",
     "output_type": "stream",
     "text": [
      "0.8253660908470127\n"
     ]
    },
    {
     "name": "stderr",
     "output_type": "stream",
     "text": [
      "C:\\Users\\PASHUPATI-PC\\Anaconda3\\envs\\ml\\lib\\site-packages\\sklearn\\discriminant_analysis.py:388: UserWarning: Variables are collinear.\n",
      "  warnings.warn(\"Variables are collinear.\")\n",
      "C:\\Users\\PASHUPATI-PC\\Anaconda3\\envs\\ml\\lib\\site-packages\\sklearn\\discriminant_analysis.py:388: UserWarning: Variables are collinear.\n",
      "  warnings.warn(\"Variables are collinear.\")\n",
      "C:\\Users\\PASHUPATI-PC\\Anaconda3\\envs\\ml\\lib\\site-packages\\sklearn\\discriminant_analysis.py:388: UserWarning: Variables are collinear.\n",
      "  warnings.warn(\"Variables are collinear.\")\n"
     ]
    }
   ],
   "source": [
    "model = LinearDiscriminantAnalysis()\n",
    "kfold = KFold(n_splits=3, random_state=7)\n",
    "result = cross_val_score(model, X, y, cv=kfold, scoring='accuracy')\n",
    "print(result.mean())"
   ]
  },
  {
   "cell_type": "code",
   "execution_count": 173,
   "metadata": {},
   "outputs": [],
   "source": [
    "#df_exp.to_csv('outliers_removed_itrImputed.csv')"
   ]
  },
  {
   "cell_type": "code",
   "execution_count": 207,
   "metadata": {},
   "outputs": [
    {
     "name": "stderr",
     "output_type": "stream",
     "text": [
      "C:\\Users\\PASHUPATI-PC\\Anaconda3\\envs\\ml\\lib\\site-packages\\pandas\\plotting\\_core.py:2410: MatplotlibDeprecationWarning: \n",
      "The 'normed' kwarg was deprecated in Matplotlib 2.1 and will be removed in 3.1. Use 'density' instead.\n",
      "  ax.hist(data[col].dropna().values, bins=bins, **kwds)\n",
      "C:\\Users\\PASHUPATI-PC\\Anaconda3\\envs\\ml\\lib\\site-packages\\ipykernel_launcher.py:2: RuntimeWarning: More than 20 figures have been opened. Figures created through the pyplot interface (`matplotlib.pyplot.figure`) are retained until explicitly closed and may consume too much memory. (To control this warning, see the rcParam `figure.max_open_warning`).\n",
      "  \n",
      "C:\\Users\\PASHUPATI-PC\\Anaconda3\\envs\\ml\\lib\\site-packages\\pandas\\plotting\\_tools.py:197: RuntimeWarning: More than 20 figures have been opened. Figures created through the pyplot interface (`matplotlib.pyplot.figure`) are retained until explicitly closed and may consume too much memory. (To control this warning, see the rcParam `figure.max_open_warning`).\n",
      "  fig = plt.figure(**fig_kw)\n"
     ]
    },
    {
     "data": {
      "text/plain": [
       "<Figure size 432x288 with 0 Axes>"
      ]
     },
     "metadata": {},
     "output_type": "display_data"
    },
    {
     "data": {
      "image/png": "[encoded data removed]",
      "text/plain": [
       "<Figure size 504x360 with 1 Axes>"
      ]
     },
     "metadata": {
      "needs_background": "light"
     },
     "output_type": "display_data"
    },
    {
     "data": {
      "text/plain": [
       "<Figure size 432x288 with 0 Axes>"
      ]
     },
     "metadata": {},
     "output_type": "display_data"
    },
    {
     "data": {
      "image/png": "[encoded data removed]",
      "text/plain": [
       "<Figure size 504x360 with 1 Axes>"
      ]
     },
     "metadata": {
      "needs_background": "light"
     },
     "output_type": "display_data"
    },
    {
     "data": {
      "text/plain": [
       "<Figure size 432x288 with 0 Axes>"
      ]
     },
     "metadata": {},
     "output_type": "display_data"
    },
    {
     "data": {
      "image/png": "[encoded data removed]",
      "text/plain": [
       "<Figure size 504x360 with 1 Axes>"
      ]
     },
     "metadata": {
      "needs_background": "light"
     },
     "output_type": "display_data"
    },
    {
     "data": {
      "text/plain": [
       "<Figure size 432x288 with 0 Axes>"
      ]
     },
     "metadata": {},
     "output_type": "display_data"
    },
    {
     "data": {
      "image/png": "[encoded data removed]",
      "text/plain": [
       "<Figure size 504x360 with 1 Axes>"
      ]
     },
     "metadata": {
      "needs_background": "light"
     },
     "output_type": "display_data"
    },
    {
     "data": {
      "text/plain": [
       "<Figure size 432x288 with 0 Axes>"
      ]
     },
     "metadata": {},
     "output_type": "display_data"
    },
    {
     "data": {
      "image/png": "[encoded data removed]",
      "text/plain": [
       "<Figure size 504x360 with 1 Axes>"
      ]
     },
     "metadata": {
      "needs_background": "light"
     },
     "output_type": "display_data"
    },
    {
     "data": {
      "text/plain": [
       "<Figure size 432x288 with 0 Axes>"
      ]
     },
     "metadata": {},
     "output_type": "display_data"
    },
    {
     "data": {
      "image/png": "[encoded data removed]",
      "text/plain": [
       "<Figure size 504x360 with 1 Axes>"
      ]
     },
     "metadata": {
      "needs_background": "light"
     },
     "output_type": "display_data"
    },
    {
     "data": {
      "text/plain": [
       "<Figure size 432x288 with 0 Axes>"
      ]
     },
     "metadata": {},
     "output_type": "display_data"
    },
    {
     "data": {
      "image/png": "[encoded data removed]",
      "text/plain": [
       "<Figure size 504x360 with 1 Axes>"
      ]
     },
     "metadata": {
      "needs_background": "light"
     },
     "output_type": "display_data"
    },
    {
     "data": {
      "text/plain": [
       "<Figure size 432x288 with 0 Axes>"
      ]
     },
     "metadata": {},
     "output_type": "display_data"
    },
    {
     "data": {
      "image/png": "[encoded data removed]",
      "text/plain": [
       "<Figure size 504x360 with 1 Axes>"
      ]
     },
     "metadata": {
      "needs_background": "light"
     },
     "output_type": "display_data"
    },
    {
     "data": {
      "text/plain": [
       "<Figure size 432x288 with 0 Axes>"
      ]
     },
     "metadata": {},
     "output_type": "display_data"
    },
    {
     "data": {
      "image/png": "[encoded data removed]",
      "text/plain": [
       "<Figure size 504x360 with 1 Axes>"
      ]
     },
     "metadata": {
      "needs_background": "light"
     },
     "output_type": "display_data"
    },
    {
     "data": {
      "text/plain": [
       "<Figure size 432x288 with 0 Axes>"
      ]
     },
     "metadata": {},
     "output_type": "display_data"
    },
    {
     "data": {
      "image/png": "[encoded data removed]",
      "text/plain": [
       "<Figure size 504x360 with 1 Axes>"
      ]
     },
     "metadata": {
      "needs_background": "light"
     },
     "output_type": "display_data"
    },
    {
     "data": {
      "text/plain": [
       "<Figure size 432x288 with 0 Axes>"
      ]
     },
     "metadata": {},
     "output_type": "display_data"
    },
    {
     "data": {
      "image/png": "[encoded data removed]",
      "text/plain": [
       "<Figure size 504x360 with 1 Axes>"
      ]
     },
     "metadata": {
      "needs_background": "light"
     },
     "output_type": "display_data"
    },
    {
     "data": {
      "text/plain": [
       "<Figure size 432x288 with 0 Axes>"
      ]
     },
     "metadata": {},
     "output_type": "display_data"
    },
    {
     "data": {
      "image/png": "[encoded data removed]",
      "text/plain": [
       "<Figure size 504x360 with 1 Axes>"
      ]
     },
     "metadata": {
      "needs_background": "light"
     },
     "output_type": "display_data"
    },
    {
     "data": {
      "text/plain": [
       "<Figure size 432x288 with 0 Axes>"
      ]
     },
     "metadata": {},
     "output_type": "display_data"
    },
    {
     "data": {
      "image/png": "[encoded data removed]",
      "text/plain": [
       "<Figure size 504x360 with 1 Axes>"
      ]
     },
     "metadata": {
      "needs_background": "light"
     },
     "output_type": "display_data"
    },
    {
     "data": {
      "text/plain": [
       "<Figure size 432x288 with 0 Axes>"
      ]
     },
     "metadata": {},
     "output_type": "display_data"
    },
    {
     "data": {
      "image/png": "[encoded data removed]",
      "text/plain": [
       "<Figure size 504x360 with 1 Axes>"
      ]
     },
     "metadata": {
      "needs_background": "light"
     },
     "output_type": "display_data"
    },
    {
     "data": {
      "text/plain": [
       "<Figure size 432x288 with 0 Axes>"
      ]
     },
     "metadata": {},
     "output_type": "display_data"
    },
    {
     "data": {
      "image/png": "[encoded data removed]",
      "text/plain": [
       "<Figure size 504x360 with 1 Axes>"
      ]
     },
     "metadata": {
      "needs_background": "light"
     },
     "output_type": "display_data"
    },
    {
     "data": {
      "text/plain": [
       "<Figure size 432x288 with 0 Axes>"
      ]
     },
     "metadata": {},
     "output_type": "display_data"
    },
    {
     "data": {
      "image/png": "[encoded data removed]",
      "text/plain": [
       "<Figure size 504x360 with 1 Axes>"
      ]
     },
     "metadata": {
      "needs_background": "light"
     },
     "output_type": "display_data"
    },
    {
     "data": {
      "text/plain": [
       "<Figure size 432x288 with 0 Axes>"
      ]
     },
     "metadata": {},
     "output_type": "display_data"
    },
    {
     "data": {
      "image/png": "[encoded data removed]",
      "text/plain": [
       "<Figure size 504x360 with 1 Axes>"
      ]
     },
     "metadata": {
      "needs_background": "light"
     },
     "output_type": "display_data"
    },
    {
     "data": {
      "text/plain": [
       "<Figure size 432x288 with 0 Axes>"
      ]
     },
     "metadata": {},
     "output_type": "display_data"
    },
    {
     "data": {
      "image/png": "[encoded data removed]",
      "text/plain": [
       "<Figure size 504x360 with 1 Axes>"
      ]
     },
     "metadata": {
      "needs_background": "light"
     },
     "output_type": "display_data"
    },
    {
     "data": {
      "text/plain": [
       "<Figure size 432x288 with 0 Axes>"
      ]
     },
     "metadata": {},
     "output_type": "display_data"
    },
    {
     "data": {
      "image/png": "[encoded data removed]",
      "text/plain": [
       "<Figure size 504x360 with 1 Axes>"
      ]
     },
     "metadata": {
      "needs_background": "light"
     },
     "output_type": "display_data"
    },
    {
     "data": {
      "text/plain": [
       "<Figure size 432x288 with 0 Axes>"
      ]
     },
     "metadata": {},
     "output_type": "display_data"
    },
    {
     "data": {
      "image/png": "[encoded data removed]",
      "text/plain": [
       "<Figure size 504x360 with 1 Axes>"
      ]
     },
     "metadata": {
      "needs_background": "light"
     },
     "output_type": "display_data"
    },
    {
     "data": {
      "text/plain": [
       "<Figure size 432x288 with 0 Axes>"
      ]
     },
     "metadata": {},
     "output_type": "display_data"
    },
    {
     "data": {
      "image/png": "[encoded data removed]",
      "text/plain": [
       "<Figure size 504x360 with 1 Axes>"
      ]
     },
     "metadata": {
      "needs_background": "light"
     },
     "output_type": "display_data"
    }
   ],
   "source": [
    "for i in df_exp.columns[:-1]:\n",
    "    plt.figure()\n",
    "    df_exp.hist(column=i,figsize=(7,5),normed=True)"
   ]
  },
  {
   "cell_type": "code",
   "execution_count": 175,
   "metadata": {},
   "outputs": [
    {
     "data": {
      "text/plain": [
       "(24497, 22)"
      ]
     },
     "execution_count": 175,
     "metadata": {},
     "output_type": "execute_result"
    }
   ],
   "source": [
    "df_exp.shape"
   ]
  },
  {
   "cell_type": "code",
   "execution_count": 176,
   "metadata": {},
   "outputs": [
    {
     "data": {
      "text/html": [
       "<div>\n",
       "<style scoped>\n",
       "    .dataframe tbody tr th:only-of-type {\n",
       "        vertical-align: middle;\n",
       "    }\n",
       "\n",
       "    .dataframe tbody tr th {\n",
       "        vertical-align: top;\n",
       "    }\n",
       "\n",
       "    .dataframe thead th {\n",
       "        text-align: right;\n",
       "    }\n",
       "</style>\n",
       "<table border=\"1\" class=\"dataframe\">\n",
       "  <thead>\n",
       "    <tr style=\"text-align: right;\">\n",
       "      <th></th>\n",
       "      <th>Unnamed: 0</th>\n",
       "      <th>VAR1</th>\n",
       "      <th>VAR2</th>\n",
       "      <th>VAR3</th>\n",
       "      <th>VAR4</th>\n",
       "      <th>VAR5</th>\n",
       "      <th>VAR6</th>\n",
       "      <th>VAR7</th>\n",
       "      <th>VAR8</th>\n",
       "      <th>VAR9</th>\n",
       "      <th>...</th>\n",
       "      <th>VAR12</th>\n",
       "      <th>VAR13</th>\n",
       "      <th>VAR14</th>\n",
       "      <th>VAR15</th>\n",
       "      <th>VAR16</th>\n",
       "      <th>VAR17</th>\n",
       "      <th>VAR18</th>\n",
       "      <th>VAR19</th>\n",
       "      <th>VAR20</th>\n",
       "      <th>VAR21</th>\n",
       "    </tr>\n",
       "  </thead>\n",
       "  <tbody>\n",
       "    <tr>\n",
       "      <th>0</th>\n",
       "      <td>0</td>\n",
       "      <td>1</td>\n",
       "      <td>828.235294</td>\n",
       "      <td>0.138889</td>\n",
       "      <td>321.428571</td>\n",
       "      <td>625.911006</td>\n",
       "      <td>1.818182</td>\n",
       "      <td>1.081550</td>\n",
       "      <td>198.113469</td>\n",
       "      <td>63.699984</td>\n",
       "      <td>...</td>\n",
       "      <td>100.083403</td>\n",
       "      <td>1.000000</td>\n",
       "      <td>1.000000</td>\n",
       "      <td>1.000000</td>\n",
       "      <td>1.540594</td>\n",
       "      <td>859.508022</td>\n",
       "      <td>1.0</td>\n",
       "      <td>0.0</td>\n",
       "      <td>100.104991</td>\n",
       "      <td>Low</td>\n",
       "    </tr>\n",
       "    <tr>\n",
       "      <th>1</th>\n",
       "      <td>1</td>\n",
       "      <td>2</td>\n",
       "      <td>911.764706</td>\n",
       "      <td>0.027778</td>\n",
       "      <td>238.761364</td>\n",
       "      <td>611.574748</td>\n",
       "      <td>8.181818</td>\n",
       "      <td>1.344479</td>\n",
       "      <td>198.600020</td>\n",
       "      <td>22.086661</td>\n",
       "      <td>...</td>\n",
       "      <td>15.012510</td>\n",
       "      <td>11.050880</td>\n",
       "      <td>1.000000</td>\n",
       "      <td>11.776264</td>\n",
       "      <td>1.614613</td>\n",
       "      <td>869.487400</td>\n",
       "      <td>0.0</td>\n",
       "      <td>1.0</td>\n",
       "      <td>146.654045</td>\n",
       "      <td>High</td>\n",
       "    </tr>\n",
       "    <tr>\n",
       "      <th>2</th>\n",
       "      <td>2</td>\n",
       "      <td>3</td>\n",
       "      <td>962.352941</td>\n",
       "      <td>0.833333</td>\n",
       "      <td>35.714286</td>\n",
       "      <td>615.825381</td>\n",
       "      <td>8.181818</td>\n",
       "      <td>0.720796</td>\n",
       "      <td>197.267767</td>\n",
       "      <td>58.890461</td>\n",
       "      <td>...</td>\n",
       "      <td>210.175146</td>\n",
       "      <td>10.000000</td>\n",
       "      <td>1.000000</td>\n",
       "      <td>10.000000</td>\n",
       "      <td>1.044599</td>\n",
       "      <td>728.127337</td>\n",
       "      <td>0.0</td>\n",
       "      <td>0.0</td>\n",
       "      <td>98.249570</td>\n",
       "      <td>Medium</td>\n",
       "    </tr>\n",
       "    <tr>\n",
       "      <th>3</th>\n",
       "      <td>3</td>\n",
       "      <td>4</td>\n",
       "      <td>892.941177</td>\n",
       "      <td>0.782091</td>\n",
       "      <td>233.617604</td>\n",
       "      <td>638.076431</td>\n",
       "      <td>9.090909</td>\n",
       "      <td>0.820218</td>\n",
       "      <td>197.355744</td>\n",
       "      <td>4.363431</td>\n",
       "      <td>...</td>\n",
       "      <td>134.651887</td>\n",
       "      <td>9.612582</td>\n",
       "      <td>1.000000</td>\n",
       "      <td>10.163069</td>\n",
       "      <td>1.145729</td>\n",
       "      <td>929.978034</td>\n",
       "      <td>1.0</td>\n",
       "      <td>0.0</td>\n",
       "      <td>140.862306</td>\n",
       "      <td>Low</td>\n",
       "    </tr>\n",
       "    <tr>\n",
       "      <th>4</th>\n",
       "      <td>4</td>\n",
       "      <td>5</td>\n",
       "      <td>914.117647</td>\n",
       "      <td>0.083333</td>\n",
       "      <td>196.574005</td>\n",
       "      <td>626.514988</td>\n",
       "      <td>5.181818</td>\n",
       "      <td>1.372928</td>\n",
       "      <td>198.790477</td>\n",
       "      <td>85.938202</td>\n",
       "      <td>...</td>\n",
       "      <td>210.175146</td>\n",
       "      <td>11.549667</td>\n",
       "      <td>1.258089</td>\n",
       "      <td>12.494794</td>\n",
       "      <td>1.558341</td>\n",
       "      <td>720.948316</td>\n",
       "      <td>1.0</td>\n",
       "      <td>0.0</td>\n",
       "      <td>101.268503</td>\n",
       "      <td>High</td>\n",
       "    </tr>\n",
       "  </tbody>\n",
       "</table>\n",
       "<p>5 rows × 22 columns</p>\n",
       "</div>"
      ],
      "text/plain": [
       "   Unnamed: 0  VAR1        VAR2      VAR3        VAR4        VAR5      VAR6  \\\n",
       "0           0     1  828.235294  0.138889  321.428571  625.911006  1.818182   \n",
       "1           1     2  911.764706  0.027778  238.761364  611.574748  8.181818   \n",
       "2           2     3  962.352941  0.833333   35.714286  615.825381  8.181818   \n",
       "3           3     4  892.941177  0.782091  233.617604  638.076431  9.090909   \n",
       "4           4     5  914.117647  0.083333  196.574005  626.514988  5.181818   \n",
       "\n",
       "       VAR7        VAR8       VAR9  ...       VAR12      VAR13     VAR14  \\\n",
       "0  1.081550  198.113469  63.699984  ...  100.083403   1.000000  1.000000   \n",
       "1  1.344479  198.600020  22.086661  ...   15.012510  11.050880  1.000000   \n",
       "2  0.720796  197.267767  58.890461  ...  210.175146  10.000000  1.000000   \n",
       "3  0.820218  197.355744   4.363431  ...  134.651887   9.612582  1.000000   \n",
       "4  1.372928  198.790477  85.938202  ...  210.175146  11.549667  1.258089   \n",
       "\n",
       "       VAR15     VAR16       VAR17  VAR18  VAR19       VAR20   VAR21  \n",
       "0   1.000000  1.540594  859.508022    1.0    0.0  100.104991     Low  \n",
       "1  11.776264  1.614613  869.487400    0.0    1.0  146.654045    High  \n",
       "2  10.000000  1.044599  728.127337    0.0    0.0   98.249570  Medium  \n",
       "3  10.163069  1.145729  929.978034    1.0    0.0  140.862306     Low  \n",
       "4  12.494794  1.558341  720.948316    1.0    0.0  101.268503    High  \n",
       "\n",
       "[5 rows x 22 columns]"
      ]
     },
     "execution_count": 176,
     "metadata": {},
     "output_type": "execute_result"
    }
   ],
   "source": [
    "df_exp.head()"
   ]
  },
  {
   "cell_type": "markdown",
   "metadata": {},
   "source": [
    "### Class Imbalance"
   ]
  },
  {
   "cell_type": "code",
   "execution_count": 177,
   "metadata": {},
   "outputs": [
    {
     "data": {
      "text/plain": [
       "Text(0, 0.5, 'Frequency')"
      ]
     },
     "execution_count": 177,
     "metadata": {},
     "output_type": "execute_result"
    },
    {
     "data": {
      "image/png": "[encoded data removed]",
      "text/plain": [
       "<Figure size 432x288 with 1 Axes>"
      ]
     },
     "metadata": {
      "needs_background": "light"
     },
     "output_type": "display_data"
    }
   ],
   "source": [
    "count_classes = pd.value_counts(df_exp['VAR21'], sort = True)\n",
    "\n",
    "count_classes.plot(kind = 'bar', rot=0)\n",
    "\n",
    "plt.title(\"Credit Card limit\")\n",
    "\n",
    "#plt.xticks(range(2), LABELS)\n",
    "\n",
    "plt.xlabel(\"Class\")\n",
    "\n",
    "plt.ylabel(\"Frequency\")"
   ]
  },
  {
   "cell_type": "code",
   "execution_count": 178,
   "metadata": {},
   "outputs": [],
   "source": [
    "from collections import Counter\n",
    "from imblearn.combine import SMOTETomek\n",
    "from imblearn.under_sampling import NearMiss\n",
    "from imblearn.over_sampling import RandomOverSampler"
   ]
  },
  {
   "cell_type": "code",
   "execution_count": 179,
   "metadata": {},
   "outputs": [],
   "source": [
    "#!pip install imblearn"
   ]
  },
  {
   "cell_type": "code",
   "execution_count": 180,
   "metadata": {},
   "outputs": [
    {
     "name": "stdout",
     "output_type": "stream",
     "text": [
      "(24497, 21)\n",
      "(24497,)\n"
     ]
    }
   ],
   "source": [
    "#Create independent and Dependent Features\n",
    "columns = df_exp.columns.tolist()\n",
    "# Filter the columns to remove data we do not want \n",
    "columns = [c for c in columns if c not in [\"VAR21\"]]\n",
    "# Store the variable we are predicting \n",
    "target = \"VAR21\"\n",
    "# Define a random state \n",
    "state = np.random.RandomState(42)\n",
    "X = df_exp[columns]\n",
    "Y = df_exp[target]\n",
    "# Print the shapes of X & Y\n",
    "print(X.shape)\n",
    "print(Y.shape)"
   ]
  },
  {
   "cell_type": "code",
   "execution_count": 181,
   "metadata": {},
   "outputs": [],
   "source": [
    "# Implementing Oversampling for Handling Imbalanced \n",
    "smk = SMOTETomek(random_state=42)\n",
    "X_res,y_res=smk.fit_sample(X,Y)"
   ]
  },
  {
   "cell_type": "code",
   "execution_count": 182,
   "metadata": {},
   "outputs": [
    {
     "data": {
      "text/plain": [
       "((37572, 21), (37572,))"
      ]
     },
     "execution_count": 182,
     "metadata": {},
     "output_type": "execute_result"
    }
   ],
   "source": [
    "X_res.shape,y_res.shape"
   ]
  },
  {
   "cell_type": "code",
   "execution_count": 183,
   "metadata": {},
   "outputs": [
    {
     "name": "stdout",
     "output_type": "stream",
     "text": [
      "Original dataset shape Counter({'Medium': 13444, 'Low': 8578, 'High': 2475})\n",
      "Resampled dataset shape Counter({'High': 13123, 'Low': 12295, 'Medium': 12154})\n"
     ]
    }
   ],
   "source": [
    "from collections import Counter\n",
    "print('Original dataset shape {}'.format(Counter(Y)))\n",
    "print('Resampled dataset shape {}'.format(Counter(y_res)))"
   ]
  },
  {
   "cell_type": "code",
   "execution_count": 184,
   "metadata": {},
   "outputs": [],
   "source": [
    "os =  RandomOverSampler(random_state=42)"
   ]
  },
  {
   "cell_type": "code",
   "execution_count": 185,
   "metadata": {},
   "outputs": [],
   "source": [
    "X_train_res, y_train_res = os.fit_sample(X, Y)"
   ]
  },
  {
   "cell_type": "code",
   "execution_count": 186,
   "metadata": {},
   "outputs": [
    {
     "name": "stdout",
     "output_type": "stream",
     "text": [
      "Original dataset shape Counter({'Medium': 13444, 'Low': 8578, 'High': 2475})\n",
      "Resampled dataset shape Counter({'Low': 13444, 'High': 13444, 'Medium': 13444})\n"
     ]
    }
   ],
   "source": [
    "print('Original dataset shape {}'.format(Counter(Y)))\n",
    "print('Resampled dataset shape {}'.format(Counter(y_train_res)))"
   ]
  },
  {
   "cell_type": "code",
   "execution_count": 187,
   "metadata": {},
   "outputs": [
    {
     "data": {
      "text/plain": [
       "Text(0, 0.5, 'Frequency')"
      ]
     },
     "execution_count": 187,
     "metadata": {},
     "output_type": "execute_result"
    },
    {
     "data": {
      "image/png": "[encoded data removed]",
      "text/plain": [
       "<Figure size 432x288 with 1 Axes>"
      ]
     },
     "metadata": {
      "needs_background": "light"
     },
     "output_type": "display_data"
    }
   ],
   "source": [
    "n_count_classes = pd.value_counts(y_res, sort = True)\n",
    "\n",
    "n_count_classes.plot(kind = 'bar', rot=0)\n",
    "\n",
    "plt.title(\"Credit Card limit\")\n",
    "\n",
    "#plt.xticks(range(2), LABELS)\n",
    "\n",
    "plt.xlabel(\"Class\")\n",
    "\n",
    "plt.ylabel(\"Frequency\")"
   ]
  },
  {
   "cell_type": "code",
   "execution_count": null,
   "metadata": {},
   "outputs": [],
   "source": [
    "%store X_res"
   ]
  },
  {
   "cell_type": "code",
   "execution_count": null,
   "metadata": {},
   "outputs": [],
   "source": [
    "%store y_res"
   ]
  },
  {
   "cell_type": "code",
   "execution_count": 201,
   "metadata": {},
   "outputs": [],
   "source": [
    "dfxy = pd.DataFrame(X_res)"
   ]
  },
  {
   "cell_type": "code",
   "execution_count": 202,
   "metadata": {},
   "outputs": [
    {
     "data": {
      "text/html": [
       "<div>\n",
       "<style scoped>\n",
       "    .dataframe tbody tr th:only-of-type {\n",
       "        vertical-align: middle;\n",
       "    }\n",
       "\n",
       "    .dataframe tbody tr th {\n",
       "        vertical-align: top;\n",
       "    }\n",
       "\n",
       "    .dataframe thead th {\n",
       "        text-align: right;\n",
       "    }\n",
       "</style>\n",
       "<table border=\"1\" class=\"dataframe\">\n",
       "  <thead>\n",
       "    <tr style=\"text-align: right;\">\n",
       "      <th></th>\n",
       "      <th>0</th>\n",
       "      <th>1</th>\n",
       "      <th>2</th>\n",
       "      <th>3</th>\n",
       "      <th>4</th>\n",
       "      <th>5</th>\n",
       "      <th>6</th>\n",
       "      <th>7</th>\n",
       "      <th>8</th>\n",
       "      <th>9</th>\n",
       "      <th>...</th>\n",
       "      <th>11</th>\n",
       "      <th>12</th>\n",
       "      <th>13</th>\n",
       "      <th>14</th>\n",
       "      <th>15</th>\n",
       "      <th>16</th>\n",
       "      <th>17</th>\n",
       "      <th>18</th>\n",
       "      <th>19</th>\n",
       "      <th>20</th>\n",
       "    </tr>\n",
       "  </thead>\n",
       "  <tbody>\n",
       "    <tr>\n",
       "      <th>0</th>\n",
       "      <td>0.0</td>\n",
       "      <td>1.0</td>\n",
       "      <td>828.235294</td>\n",
       "      <td>0.138889</td>\n",
       "      <td>321.428571</td>\n",
       "      <td>625.911006</td>\n",
       "      <td>1.818182</td>\n",
       "      <td>1.081550</td>\n",
       "      <td>198.113469</td>\n",
       "      <td>63.699984</td>\n",
       "      <td>...</td>\n",
       "      <td>0.279273</td>\n",
       "      <td>100.083403</td>\n",
       "      <td>1.000000</td>\n",
       "      <td>1.000000</td>\n",
       "      <td>1.000000</td>\n",
       "      <td>1.540594</td>\n",
       "      <td>859.508022</td>\n",
       "      <td>1.0</td>\n",
       "      <td>0.0</td>\n",
       "      <td>100.104991</td>\n",
       "    </tr>\n",
       "    <tr>\n",
       "      <th>1</th>\n",
       "      <td>1.0</td>\n",
       "      <td>2.0</td>\n",
       "      <td>911.764706</td>\n",
       "      <td>0.027778</td>\n",
       "      <td>238.761364</td>\n",
       "      <td>611.574748</td>\n",
       "      <td>8.181818</td>\n",
       "      <td>1.344479</td>\n",
       "      <td>198.600020</td>\n",
       "      <td>22.086661</td>\n",
       "      <td>...</td>\n",
       "      <td>5.432857</td>\n",
       "      <td>15.012510</td>\n",
       "      <td>11.050880</td>\n",
       "      <td>1.000000</td>\n",
       "      <td>11.776264</td>\n",
       "      <td>1.614613</td>\n",
       "      <td>869.487400</td>\n",
       "      <td>0.0</td>\n",
       "      <td>1.0</td>\n",
       "      <td>146.654045</td>\n",
       "    </tr>\n",
       "    <tr>\n",
       "      <th>2</th>\n",
       "      <td>2.0</td>\n",
       "      <td>3.0</td>\n",
       "      <td>962.352941</td>\n",
       "      <td>0.833333</td>\n",
       "      <td>35.714286</td>\n",
       "      <td>615.825381</td>\n",
       "      <td>8.181818</td>\n",
       "      <td>0.720796</td>\n",
       "      <td>197.267767</td>\n",
       "      <td>58.890461</td>\n",
       "      <td>...</td>\n",
       "      <td>0.453212</td>\n",
       "      <td>210.175146</td>\n",
       "      <td>10.000000</td>\n",
       "      <td>1.000000</td>\n",
       "      <td>10.000000</td>\n",
       "      <td>1.044599</td>\n",
       "      <td>728.127337</td>\n",
       "      <td>0.0</td>\n",
       "      <td>0.0</td>\n",
       "      <td>98.249570</td>\n",
       "    </tr>\n",
       "    <tr>\n",
       "      <th>3</th>\n",
       "      <td>3.0</td>\n",
       "      <td>4.0</td>\n",
       "      <td>892.941177</td>\n",
       "      <td>0.782091</td>\n",
       "      <td>233.617604</td>\n",
       "      <td>638.076431</td>\n",
       "      <td>9.090909</td>\n",
       "      <td>0.820218</td>\n",
       "      <td>197.355744</td>\n",
       "      <td>4.363431</td>\n",
       "      <td>...</td>\n",
       "      <td>4.643820</td>\n",
       "      <td>134.651887</td>\n",
       "      <td>9.612582</td>\n",
       "      <td>1.000000</td>\n",
       "      <td>10.163069</td>\n",
       "      <td>1.145729</td>\n",
       "      <td>929.978034</td>\n",
       "      <td>1.0</td>\n",
       "      <td>0.0</td>\n",
       "      <td>140.862306</td>\n",
       "    </tr>\n",
       "    <tr>\n",
       "      <th>4</th>\n",
       "      <td>4.0</td>\n",
       "      <td>5.0</td>\n",
       "      <td>914.117647</td>\n",
       "      <td>0.083333</td>\n",
       "      <td>196.574005</td>\n",
       "      <td>626.514988</td>\n",
       "      <td>5.181818</td>\n",
       "      <td>1.372928</td>\n",
       "      <td>198.790477</td>\n",
       "      <td>85.938202</td>\n",
       "      <td>...</td>\n",
       "      <td>5.434610</td>\n",
       "      <td>210.175146</td>\n",
       "      <td>11.549667</td>\n",
       "      <td>1.258089</td>\n",
       "      <td>12.494794</td>\n",
       "      <td>1.558341</td>\n",
       "      <td>720.948316</td>\n",
       "      <td>1.0</td>\n",
       "      <td>0.0</td>\n",
       "      <td>101.268503</td>\n",
       "    </tr>\n",
       "  </tbody>\n",
       "</table>\n",
       "<p>5 rows × 21 columns</p>\n",
       "</div>"
      ],
      "text/plain": [
       "    0    1           2         3           4           5         6         7   \\\n",
       "0  0.0  1.0  828.235294  0.138889  321.428571  625.911006  1.818182  1.081550   \n",
       "1  1.0  2.0  911.764706  0.027778  238.761364  611.574748  8.181818  1.344479   \n",
       "2  2.0  3.0  962.352941  0.833333   35.714286  615.825381  8.181818  0.720796   \n",
       "3  3.0  4.0  892.941177  0.782091  233.617604  638.076431  9.090909  0.820218   \n",
       "4  4.0  5.0  914.117647  0.083333  196.574005  626.514988  5.181818  1.372928   \n",
       "\n",
       "           8          9   ...        11          12         13        14  \\\n",
       "0  198.113469  63.699984  ...  0.279273  100.083403   1.000000  1.000000   \n",
       "1  198.600020  22.086661  ...  5.432857   15.012510  11.050880  1.000000   \n",
       "2  197.267767  58.890461  ...  0.453212  210.175146  10.000000  1.000000   \n",
       "3  197.355744   4.363431  ...  4.643820  134.651887   9.612582  1.000000   \n",
       "4  198.790477  85.938202  ...  5.434610  210.175146  11.549667  1.258089   \n",
       "\n",
       "          15        16          17   18   19          20  \n",
       "0   1.000000  1.540594  859.508022  1.0  0.0  100.104991  \n",
       "1  11.776264  1.614613  869.487400  0.0  1.0  146.654045  \n",
       "2  10.000000  1.044599  728.127337  0.0  0.0   98.249570  \n",
       "3  10.163069  1.145729  929.978034  1.0  0.0  140.862306  \n",
       "4  12.494794  1.558341  720.948316  1.0  0.0  101.268503  \n",
       "\n",
       "[5 rows x 21 columns]"
      ]
     },
     "execution_count": 202,
     "metadata": {},
     "output_type": "execute_result"
    }
   ],
   "source": [
    "dfxy.head()"
   ]
  },
  {
   "cell_type": "code",
   "execution_count": 203,
   "metadata": {},
   "outputs": [],
   "source": [
    "dfxy['class'] = y_res"
   ]
  },
  {
   "cell_type": "code",
   "execution_count": 204,
   "metadata": {},
   "outputs": [
    {
     "data": {
      "text/html": [
       "<div>\n",
       "<style scoped>\n",
       "    .dataframe tbody tr th:only-of-type {\n",
       "        vertical-align: middle;\n",
       "    }\n",
       "\n",
       "    .dataframe tbody tr th {\n",
       "        vertical-align: top;\n",
       "    }\n",
       "\n",
       "    .dataframe thead th {\n",
       "        text-align: right;\n",
       "    }\n",
       "</style>\n",
       "<table border=\"1\" class=\"dataframe\">\n",
       "  <thead>\n",
       "    <tr style=\"text-align: right;\">\n",
       "      <th></th>\n",
       "      <th>0</th>\n",
       "      <th>1</th>\n",
       "      <th>2</th>\n",
       "      <th>3</th>\n",
       "      <th>4</th>\n",
       "      <th>5</th>\n",
       "      <th>6</th>\n",
       "      <th>7</th>\n",
       "      <th>8</th>\n",
       "      <th>9</th>\n",
       "      <th>...</th>\n",
       "      <th>12</th>\n",
       "      <th>13</th>\n",
       "      <th>14</th>\n",
       "      <th>15</th>\n",
       "      <th>16</th>\n",
       "      <th>17</th>\n",
       "      <th>18</th>\n",
       "      <th>19</th>\n",
       "      <th>20</th>\n",
       "      <th>class</th>\n",
       "    </tr>\n",
       "  </thead>\n",
       "  <tbody>\n",
       "    <tr>\n",
       "      <th>0</th>\n",
       "      <td>0.0</td>\n",
       "      <td>1.0</td>\n",
       "      <td>828.235294</td>\n",
       "      <td>0.138889</td>\n",
       "      <td>321.428571</td>\n",
       "      <td>625.911006</td>\n",
       "      <td>1.818182</td>\n",
       "      <td>1.081550</td>\n",
       "      <td>198.113469</td>\n",
       "      <td>63.699984</td>\n",
       "      <td>...</td>\n",
       "      <td>100.083403</td>\n",
       "      <td>1.000000</td>\n",
       "      <td>1.000000</td>\n",
       "      <td>1.000000</td>\n",
       "      <td>1.540594</td>\n",
       "      <td>859.508022</td>\n",
       "      <td>1.0</td>\n",
       "      <td>0.0</td>\n",
       "      <td>100.104991</td>\n",
       "      <td>Low</td>\n",
       "    </tr>\n",
       "    <tr>\n",
       "      <th>1</th>\n",
       "      <td>1.0</td>\n",
       "      <td>2.0</td>\n",
       "      <td>911.764706</td>\n",
       "      <td>0.027778</td>\n",
       "      <td>238.761364</td>\n",
       "      <td>611.574748</td>\n",
       "      <td>8.181818</td>\n",
       "      <td>1.344479</td>\n",
       "      <td>198.600020</td>\n",
       "      <td>22.086661</td>\n",
       "      <td>...</td>\n",
       "      <td>15.012510</td>\n",
       "      <td>11.050880</td>\n",
       "      <td>1.000000</td>\n",
       "      <td>11.776264</td>\n",
       "      <td>1.614613</td>\n",
       "      <td>869.487400</td>\n",
       "      <td>0.0</td>\n",
       "      <td>1.0</td>\n",
       "      <td>146.654045</td>\n",
       "      <td>High</td>\n",
       "    </tr>\n",
       "    <tr>\n",
       "      <th>2</th>\n",
       "      <td>2.0</td>\n",
       "      <td>3.0</td>\n",
       "      <td>962.352941</td>\n",
       "      <td>0.833333</td>\n",
       "      <td>35.714286</td>\n",
       "      <td>615.825381</td>\n",
       "      <td>8.181818</td>\n",
       "      <td>0.720796</td>\n",
       "      <td>197.267767</td>\n",
       "      <td>58.890461</td>\n",
       "      <td>...</td>\n",
       "      <td>210.175146</td>\n",
       "      <td>10.000000</td>\n",
       "      <td>1.000000</td>\n",
       "      <td>10.000000</td>\n",
       "      <td>1.044599</td>\n",
       "      <td>728.127337</td>\n",
       "      <td>0.0</td>\n",
       "      <td>0.0</td>\n",
       "      <td>98.249570</td>\n",
       "      <td>Medium</td>\n",
       "    </tr>\n",
       "    <tr>\n",
       "      <th>3</th>\n",
       "      <td>3.0</td>\n",
       "      <td>4.0</td>\n",
       "      <td>892.941177</td>\n",
       "      <td>0.782091</td>\n",
       "      <td>233.617604</td>\n",
       "      <td>638.076431</td>\n",
       "      <td>9.090909</td>\n",
       "      <td>0.820218</td>\n",
       "      <td>197.355744</td>\n",
       "      <td>4.363431</td>\n",
       "      <td>...</td>\n",
       "      <td>134.651887</td>\n",
       "      <td>9.612582</td>\n",
       "      <td>1.000000</td>\n",
       "      <td>10.163069</td>\n",
       "      <td>1.145729</td>\n",
       "      <td>929.978034</td>\n",
       "      <td>1.0</td>\n",
       "      <td>0.0</td>\n",
       "      <td>140.862306</td>\n",
       "      <td>Low</td>\n",
       "    </tr>\n",
       "    <tr>\n",
       "      <th>4</th>\n",
       "      <td>4.0</td>\n",
       "      <td>5.0</td>\n",
       "      <td>914.117647</td>\n",
       "      <td>0.083333</td>\n",
       "      <td>196.574005</td>\n",
       "      <td>626.514988</td>\n",
       "      <td>5.181818</td>\n",
       "      <td>1.372928</td>\n",
       "      <td>198.790477</td>\n",
       "      <td>85.938202</td>\n",
       "      <td>...</td>\n",
       "      <td>210.175146</td>\n",
       "      <td>11.549667</td>\n",
       "      <td>1.258089</td>\n",
       "      <td>12.494794</td>\n",
       "      <td>1.558341</td>\n",
       "      <td>720.948316</td>\n",
       "      <td>1.0</td>\n",
       "      <td>0.0</td>\n",
       "      <td>101.268503</td>\n",
       "      <td>High</td>\n",
       "    </tr>\n",
       "  </tbody>\n",
       "</table>\n",
       "<p>5 rows × 22 columns</p>\n",
       "</div>"
      ],
      "text/plain": [
       "     0    1           2         3           4           5         6         7  \\\n",
       "0  0.0  1.0  828.235294  0.138889  321.428571  625.911006  1.818182  1.081550   \n",
       "1  1.0  2.0  911.764706  0.027778  238.761364  611.574748  8.181818  1.344479   \n",
       "2  2.0  3.0  962.352941  0.833333   35.714286  615.825381  8.181818  0.720796   \n",
       "3  3.0  4.0  892.941177  0.782091  233.617604  638.076431  9.090909  0.820218   \n",
       "4  4.0  5.0  914.117647  0.083333  196.574005  626.514988  5.181818  1.372928   \n",
       "\n",
       "            8          9  ...          12         13        14         15  \\\n",
       "0  198.113469  63.699984  ...  100.083403   1.000000  1.000000   1.000000   \n",
       "1  198.600020  22.086661  ...   15.012510  11.050880  1.000000  11.776264   \n",
       "2  197.267767  58.890461  ...  210.175146  10.000000  1.000000  10.000000   \n",
       "3  197.355744   4.363431  ...  134.651887   9.612582  1.000000  10.163069   \n",
       "4  198.790477  85.938202  ...  210.175146  11.549667  1.258089  12.494794   \n",
       "\n",
       "         16          17   18   19          20   class  \n",
       "0  1.540594  859.508022  1.0  0.0  100.104991     Low  \n",
       "1  1.614613  869.487400  0.0  1.0  146.654045    High  \n",
       "2  1.044599  728.127337  0.0  0.0   98.249570  Medium  \n",
       "3  1.145729  929.978034  1.0  0.0  140.862306     Low  \n",
       "4  1.558341  720.948316  1.0  0.0  101.268503    High  \n",
       "\n",
       "[5 rows x 22 columns]"
      ]
     },
     "execution_count": 204,
     "metadata": {},
     "output_type": "execute_result"
    }
   ],
   "source": [
    "dfxy.head()"
   ]
  },
  {
   "cell_type": "code",
   "execution_count": 205,
   "metadata": {},
   "outputs": [
    {
     "data": {
      "text/plain": [
       "(37572, 22)"
      ]
     },
     "execution_count": 205,
     "metadata": {},
     "output_type": "execute_result"
    }
   ],
   "source": [
    "dfxy.shape"
   ]
  },
  {
   "cell_type": "code",
   "execution_count": 206,
   "metadata": {},
   "outputs": [],
   "source": [
    "dfxy.to_csv('itrImputed_NoOut_CB.csv')"
   ]
  },
  {
   "cell_type": "code",
   "execution_count": null,
   "metadata": {},
   "outputs": [],
   "source": []
  }
 ],
 "metadata": {
  "kernelspec": {
   "display_name": "Python 3",
   "language": "python",
   "name": "python3"
  },
  "language_info": {
   "codemirror_mode": {
    "name": "ipython",
    "version": 3
   },
   "file_extension": ".py",
   "mimetype": "text/x-python",
   "name": "python",
   "nbconvert_exporter": "python",
   "pygments_lexer": "ipython3",
   "version": "3.7.3"
  }
 },
 "nbformat": 4,
 "nbformat_minor": 2
}
