{
  "nbformat": 4,
  "nbformat_minor": 0,
  "metadata": {
    "colab": {
      "name": "BERT (Features) + XGBoost.ipynb",
      "provenance": [],
      "machine_shape": "hm",
      "authorship_tag": "ABX9TyMOD1VQshhuJ0GPvVgRzld4",
      "include_colab_link": true
    },
    "kernelspec": {
      "name": "python3",
      "display_name": "Python 3"
    },
    "accelerator": "GPU",
    "widgets": {
      "application/vnd.jupyter.widget-state+json": {
        "68380d2160c346a0bb5f2b99706ee407": {
          "model_module": "@jupyter-widgets/controls",
          "model_name": "HBoxModel",
          "state": {
            "_view_name": "HBoxView",
            "_dom_classes": [],
            "_model_name": "HBoxModel",
            "_view_module": "@jupyter-widgets/controls",
            "_model_module_version": "1.5.0",
            "_view_count": null,
            "_view_module_version": "1.5.0",
            "box_style": "",
            "layout": "IPY_MODEL_c601970825ae49e39c36becc6c13a3eb",
            "_model_module": "@jupyter-widgets/controls",
            "children": [
              "IPY_MODEL_e4057f82a36b41c19ec2473c01057086",
              "IPY_MODEL_8cfba3e274b14d058ab961434c1f61bd"
            ]
          }
        },
        "c601970825ae49e39c36becc6c13a3eb": {
          "model_module": "@jupyter-widgets/base",
          "model_name": "LayoutModel",
          "state": {
            "_view_name": "LayoutView",
            "grid_template_rows": null,
            "right": null,
            "justify_content": null,
            "_view_module": "@jupyter-widgets/base",
            "overflow": null,
            "_model_module_version": "1.2.0",
            "_view_count": null,
            "flex_flow": null,
            "width": null,
            "min_width": null,
            "border": null,
            "align_items": null,
            "bottom": null,
            "_model_module": "@jupyter-widgets/base",
            "top": null,
            "grid_column": null,
            "overflow_y": null,
            "overflow_x": null,
            "grid_auto_flow": null,
            "grid_area": null,
            "grid_template_columns": null,
            "flex": null,
            "_model_name": "LayoutModel",
            "justify_items": null,
            "grid_row": null,
            "max_height": null,
            "align_content": null,
            "visibility": null,
            "align_self": null,
            "height": null,
            "min_height": null,
            "padding": null,
            "grid_auto_rows": null,
            "grid_gap": null,
            "max_width": null,
            "order": null,
            "_view_module_version": "1.2.0",
            "grid_template_areas": null,
            "object_position": null,
            "object_fit": null,
            "grid_auto_columns": null,
            "margin": null,
            "display": null,
            "left": null
          }
        },
        "e4057f82a36b41c19ec2473c01057086": {
          "model_module": "@jupyter-widgets/controls",
          "model_name": "IntProgressModel",
          "state": {
            "_view_name": "ProgressView",
            "style": "IPY_MODEL_33e1355cbb0c4aaaacf0c4f0537c3452",
            "_dom_classes": [],
            "description": "Downloading",
            "_model_name": "IntProgressModel",
            "bar_style": "success",
            "max": 231508,
            "_view_module": "@jupyter-widgets/controls",
            "_model_module_version": "1.5.0",
            "value": 231508,
            "_view_count": null,
            "_view_module_version": "1.5.0",
            "orientation": "horizontal",
            "min": 0,
            "description_tooltip": null,
            "_model_module": "@jupyter-widgets/controls",
            "layout": "IPY_MODEL_f2c7bc37fc4b49d595e6cd4c4ea52e22"
          }
        },
        "8cfba3e274b14d058ab961434c1f61bd": {
          "model_module": "@jupyter-widgets/controls",
          "model_name": "HTMLModel",
          "state": {
            "_view_name": "HTMLView",
            "style": "IPY_MODEL_96c0786fa5e1435baf99402a1f371fdc",
            "_dom_classes": [],
            "description": "",
            "_model_name": "HTMLModel",
            "placeholder": "​",
            "_view_module": "@jupyter-widgets/controls",
            "_model_module_version": "1.5.0",
            "value": "100% 232k/232k [00:00&lt;00:00, 1.17MB/s]",
            "_view_count": null,
            "_view_module_version": "1.5.0",
            "description_tooltip": null,
            "_model_module": "@jupyter-widgets/controls",
            "layout": "IPY_MODEL_e9943614477d4d6f99cf8a6a36392f9e"
          }
        },
        "33e1355cbb0c4aaaacf0c4f0537c3452": {
          "model_module": "@jupyter-widgets/controls",
          "model_name": "ProgressStyleModel",
          "state": {
            "_view_name": "StyleView",
            "_model_name": "ProgressStyleModel",
            "description_width": "initial",
            "_view_module": "@jupyter-widgets/base",
            "_model_module_version": "1.5.0",
            "_view_count": null,
            "_view_module_version": "1.2.0",
            "bar_color": null,
            "_model_module": "@jupyter-widgets/controls"
          }
        },
        "f2c7bc37fc4b49d595e6cd4c4ea52e22": {
          "model_module": "@jupyter-widgets/base",
          "model_name": "LayoutModel",
          "state": {
            "_view_name": "LayoutView",
            "grid_template_rows": null,
            "right": null,
            "justify_content": null,
            "_view_module": "@jupyter-widgets/base",
            "overflow": null,
            "_model_module_version": "1.2.0",
            "_view_count": null,
            "flex_flow": null,
            "width": null,
            "min_width": null,
            "border": null,
            "align_items": null,
            "bottom": null,
            "_model_module": "@jupyter-widgets/base",
            "top": null,
            "grid_column": null,
            "overflow_y": null,
            "overflow_x": null,
            "grid_auto_flow": null,
            "grid_area": null,
            "grid_template_columns": null,
            "flex": null,
            "_model_name": "LayoutModel",
            "justify_items": null,
            "grid_row": null,
            "max_height": null,
            "align_content": null,
            "visibility": null,
            "align_self": null,
            "height": null,
            "min_height": null,
            "padding": null,
            "grid_auto_rows": null,
            "grid_gap": null,
            "max_width": null,
            "order": null,
            "_view_module_version": "1.2.0",
            "grid_template_areas": null,
            "object_position": null,
            "object_fit": null,
            "grid_auto_columns": null,
            "margin": null,
            "display": null,
            "left": null
          }
        },
        "96c0786fa5e1435baf99402a1f371fdc": {
          "model_module": "@jupyter-widgets/controls",
          "model_name": "DescriptionStyleModel",
          "state": {
            "_view_name": "StyleView",
            "_model_name": "DescriptionStyleModel",
            "description_width": "",
            "_view_module": "@jupyter-widgets/base",
            "_model_module_version": "1.5.0",
            "_view_count": null,
            "_view_module_version": "1.2.0",
            "_model_module": "@jupyter-widgets/controls"
          }
        },
        "e9943614477d4d6f99cf8a6a36392f9e": {
          "model_module": "@jupyter-widgets/base",
          "model_name": "LayoutModel",
          "state": {
            "_view_name": "LayoutView",
            "grid_template_rows": null,
            "right": null,
            "justify_content": null,
            "_view_module": "@jupyter-widgets/base",
            "overflow": null,
            "_model_module_version": "1.2.0",
            "_view_count": null,
            "flex_flow": null,
            "width": null,
            "min_width": null,
            "border": null,
            "align_items": null,
            "bottom": null,
            "_model_module": "@jupyter-widgets/base",
            "top": null,
            "grid_column": null,
            "overflow_y": null,
            "overflow_x": null,
            "grid_auto_flow": null,
            "grid_area": null,
            "grid_template_columns": null,
            "flex": null,
            "_model_name": "LayoutModel",
            "justify_items": null,
            "grid_row": null,
            "max_height": null,
            "align_content": null,
            "visibility": null,
            "align_self": null,
            "height": null,
            "min_height": null,
            "padding": null,
            "grid_auto_rows": null,
            "grid_gap": null,
            "max_width": null,
            "order": null,
            "_view_module_version": "1.2.0",
            "grid_template_areas": null,
            "object_position": null,
            "object_fit": null,
            "grid_auto_columns": null,
            "margin": null,
            "display": null,
            "left": null
          }
        },
        "76b3971d4dbb440f8f8fe7c6c7fe9476": {
          "model_module": "@jupyter-widgets/controls",
          "model_name": "HBoxModel",
          "state": {
            "_view_name": "HBoxView",
            "_dom_classes": [],
            "_model_name": "HBoxModel",
            "_view_module": "@jupyter-widgets/controls",
            "_model_module_version": "1.5.0",
            "_view_count": null,
            "_view_module_version": "1.5.0",
            "box_style": "",
            "layout": "IPY_MODEL_a963c0d0ff7c4a78959ac8c2c2e765b4",
            "_model_module": "@jupyter-widgets/controls",
            "children": [
              "IPY_MODEL_980144e780374854b819e217dd298684",
              "IPY_MODEL_d7ff68131ed94055bcab07fc778ac02e"
            ]
          }
        },
        "a963c0d0ff7c4a78959ac8c2c2e765b4": {
          "model_module": "@jupyter-widgets/base",
          "model_name": "LayoutModel",
          "state": {
            "_view_name": "LayoutView",
            "grid_template_rows": null,
            "right": null,
            "justify_content": null,
            "_view_module": "@jupyter-widgets/base",
            "overflow": null,
            "_model_module_version": "1.2.0",
            "_view_count": null,
            "flex_flow": null,
            "width": null,
            "min_width": null,
            "border": null,
            "align_items": null,
            "bottom": null,
            "_model_module": "@jupyter-widgets/base",
            "top": null,
            "grid_column": null,
            "overflow_y": null,
            "overflow_x": null,
            "grid_auto_flow": null,
            "grid_area": null,
            "grid_template_columns": null,
            "flex": null,
            "_model_name": "LayoutModel",
            "justify_items": null,
            "grid_row": null,
            "max_height": null,
            "align_content": null,
            "visibility": null,
            "align_self": null,
            "height": null,
            "min_height": null,
            "padding": null,
            "grid_auto_rows": null,
            "grid_gap": null,
            "max_width": null,
            "order": null,
            "_view_module_version": "1.2.0",
            "grid_template_areas": null,
            "object_position": null,
            "object_fit": null,
            "grid_auto_columns": null,
            "margin": null,
            "display": null,
            "left": null
          }
        },
        "980144e780374854b819e217dd298684": {
          "model_module": "@jupyter-widgets/controls",
          "model_name": "IntProgressModel",
          "state": {
            "_view_name": "ProgressView",
            "style": "IPY_MODEL_22434801bcd54c63939dfaa5f4a799c7",
            "_dom_classes": [],
            "description": "Downloading",
            "_model_name": "IntProgressModel",
            "bar_style": "success",
            "max": 361,
            "_view_module": "@jupyter-widgets/controls",
            "_model_module_version": "1.5.0",
            "value": 361,
            "_view_count": null,
            "_view_module_version": "1.5.0",
            "orientation": "horizontal",
            "min": 0,
            "description_tooltip": null,
            "_model_module": "@jupyter-widgets/controls",
            "layout": "IPY_MODEL_375201533a1840f29cf507002a2e87ae"
          }
        },
        "d7ff68131ed94055bcab07fc778ac02e": {
          "model_module": "@jupyter-widgets/controls",
          "model_name": "HTMLModel",
          "state": {
            "_view_name": "HTMLView",
            "style": "IPY_MODEL_4d6b40a878cd44eab218d594dd0b60df",
            "_dom_classes": [],
            "description": "",
            "_model_name": "HTMLModel",
            "placeholder": "​",
            "_view_module": "@jupyter-widgets/controls",
            "_model_module_version": "1.5.0",
            "value": "100% 361/361 [00:00&lt;00:00, 11.6kB/s]",
            "_view_count": null,
            "_view_module_version": "1.5.0",
            "description_tooltip": null,
            "_model_module": "@jupyter-widgets/controls",
            "layout": "IPY_MODEL_24a448affaf240d8b42951f591e106be"
          }
        },
        "22434801bcd54c63939dfaa5f4a799c7": {
          "model_module": "@jupyter-widgets/controls",
          "model_name": "ProgressStyleModel",
          "state": {
            "_view_name": "StyleView",
            "_model_name": "ProgressStyleModel",
            "description_width": "initial",
            "_view_module": "@jupyter-widgets/base",
            "_model_module_version": "1.5.0",
            "_view_count": null,
            "_view_module_version": "1.2.0",
            "bar_color": null,
            "_model_module": "@jupyter-widgets/controls"
          }
        },
        "375201533a1840f29cf507002a2e87ae": {
          "model_module": "@jupyter-widgets/base",
          "model_name": "LayoutModel",
          "state": {
            "_view_name": "LayoutView",
            "grid_template_rows": null,
            "right": null,
            "justify_content": null,
            "_view_module": "@jupyter-widgets/base",
            "overflow": null,
            "_model_module_version": "1.2.0",
            "_view_count": null,
            "flex_flow": null,
            "width": null,
            "min_width": null,
            "border": null,
            "align_items": null,
            "bottom": null,
            "_model_module": "@jupyter-widgets/base",
            "top": null,
            "grid_column": null,
            "overflow_y": null,
            "overflow_x": null,
            "grid_auto_flow": null,
            "grid_area": null,
            "grid_template_columns": null,
            "flex": null,
            "_model_name": "LayoutModel",
            "justify_items": null,
            "grid_row": null,
            "max_height": null,
            "align_content": null,
            "visibility": null,
            "align_self": null,
            "height": null,
            "min_height": null,
            "padding": null,
            "grid_auto_rows": null,
            "grid_gap": null,
            "max_width": null,
            "order": null,
            "_view_module_version": "1.2.0",
            "grid_template_areas": null,
            "object_position": null,
            "object_fit": null,
            "grid_auto_columns": null,
            "margin": null,
            "display": null,
            "left": null
          }
        },
        "4d6b40a878cd44eab218d594dd0b60df": {
          "model_module": "@jupyter-widgets/controls",
          "model_name": "DescriptionStyleModel",
          "state": {
            "_view_name": "StyleView",
            "_model_name": "DescriptionStyleModel",
            "description_width": "",
            "_view_module": "@jupyter-widgets/base",
            "_model_module_version": "1.5.0",
            "_view_count": null,
            "_view_module_version": "1.2.0",
            "_model_module": "@jupyter-widgets/controls"
          }
        },
        "24a448affaf240d8b42951f591e106be": {
          "model_module": "@jupyter-widgets/base",
          "model_name": "LayoutModel",
          "state": {
            "_view_name": "LayoutView",
            "grid_template_rows": null,
            "right": null,
            "justify_content": null,
            "_view_module": "@jupyter-widgets/base",
            "overflow": null,
            "_model_module_version": "1.2.0",
            "_view_count": null,
            "flex_flow": null,
            "width": null,
            "min_width": null,
            "border": null,
            "align_items": null,
            "bottom": null,
            "_model_module": "@jupyter-widgets/base",
            "top": null,
            "grid_column": null,
            "overflow_y": null,
            "overflow_x": null,
            "grid_auto_flow": null,
            "grid_area": null,
            "grid_template_columns": null,
            "flex": null,
            "_model_name": "LayoutModel",
            "justify_items": null,
            "grid_row": null,
            "max_height": null,
            "align_content": null,
            "visibility": null,
            "align_self": null,
            "height": null,
            "min_height": null,
            "padding": null,
            "grid_auto_rows": null,
            "grid_gap": null,
            "max_width": null,
            "order": null,
            "_view_module_version": "1.2.0",
            "grid_template_areas": null,
            "object_position": null,
            "object_fit": null,
            "grid_auto_columns": null,
            "margin": null,
            "display": null,
            "left": null
          }
        },
        "222da426811c4e72b2f5c42ca1974e42": {
          "model_module": "@jupyter-widgets/controls",
          "model_name": "HBoxModel",
          "state": {
            "_view_name": "HBoxView",
            "_dom_classes": [],
            "_model_name": "HBoxModel",
            "_view_module": "@jupyter-widgets/controls",
            "_model_module_version": "1.5.0",
            "_view_count": null,
            "_view_module_version": "1.5.0",
            "box_style": "",
            "layout": "IPY_MODEL_5f8310bd7c6f41ebb91e48701aff10f0",
            "_model_module": "@jupyter-widgets/controls",
            "children": [
              "IPY_MODEL_24f259cc355f46789c7a10a29ea4c3ba",
              "IPY_MODEL_f0a340144e7d43d18bbc23d8eb821d32"
            ]
          }
        },
        "5f8310bd7c6f41ebb91e48701aff10f0": {
          "model_module": "@jupyter-widgets/base",
          "model_name": "LayoutModel",
          "state": {
            "_view_name": "LayoutView",
            "grid_template_rows": null,
            "right": null,
            "justify_content": null,
            "_view_module": "@jupyter-widgets/base",
            "overflow": null,
            "_model_module_version": "1.2.0",
            "_view_count": null,
            "flex_flow": null,
            "width": null,
            "min_width": null,
            "border": null,
            "align_items": null,
            "bottom": null,
            "_model_module": "@jupyter-widgets/base",
            "top": null,
            "grid_column": null,
            "overflow_y": null,
            "overflow_x": null,
            "grid_auto_flow": null,
            "grid_area": null,
            "grid_template_columns": null,
            "flex": null,
            "_model_name": "LayoutModel",
            "justify_items": null,
            "grid_row": null,
            "max_height": null,
            "align_content": null,
            "visibility": null,
            "align_self": null,
            "height": null,
            "min_height": null,
            "padding": null,
            "grid_auto_rows": null,
            "grid_gap": null,
            "max_width": null,
            "order": null,
            "_view_module_version": "1.2.0",
            "grid_template_areas": null,
            "object_position": null,
            "object_fit": null,
            "grid_auto_columns": null,
            "margin": null,
            "display": null,
            "left": null
          }
        },
        "24f259cc355f46789c7a10a29ea4c3ba": {
          "model_module": "@jupyter-widgets/controls",
          "model_name": "IntProgressModel",
          "state": {
            "_view_name": "ProgressView",
            "style": "IPY_MODEL_7cb29fd632ae48c8ae5afe266159d568",
            "_dom_classes": [],
            "description": "Downloading",
            "_model_name": "IntProgressModel",
            "bar_style": "success",
            "max": 440473133,
            "_view_module": "@jupyter-widgets/controls",
            "_model_module_version": "1.5.0",
            "value": 440473133,
            "_view_count": null,
            "_view_module_version": "1.5.0",
            "orientation": "horizontal",
            "min": 0,
            "description_tooltip": null,
            "_model_module": "@jupyter-widgets/controls",
            "layout": "IPY_MODEL_9ed70f2c55e44bdb820ca0568b3ff61a"
          }
        },
        "f0a340144e7d43d18bbc23d8eb821d32": {
          "model_module": "@jupyter-widgets/controls",
          "model_name": "HTMLModel",
          "state": {
            "_view_name": "HTMLView",
            "style": "IPY_MODEL_d8ae9be6b92544a281876a7b50ec9700",
            "_dom_classes": [],
            "description": "",
            "_model_name": "HTMLModel",
            "placeholder": "​",
            "_view_module": "@jupyter-widgets/controls",
            "_model_module_version": "1.5.0",
            "value": "100% 440M/440M [00:13&lt;00:00, 33.5MB/s]",
            "_view_count": null,
            "_view_module_version": "1.5.0",
            "description_tooltip": null,
            "_model_module": "@jupyter-widgets/controls",
            "layout": "IPY_MODEL_e35336b1f1fb4f6784a52be0439ccc66"
          }
        },
        "7cb29fd632ae48c8ae5afe266159d568": {
          "model_module": "@jupyter-widgets/controls",
          "model_name": "ProgressStyleModel",
          "state": {
            "_view_name": "StyleView",
            "_model_name": "ProgressStyleModel",
            "description_width": "initial",
            "_view_module": "@jupyter-widgets/base",
            "_model_module_version": "1.5.0",
            "_view_count": null,
            "_view_module_version": "1.2.0",
            "bar_color": null,
            "_model_module": "@jupyter-widgets/controls"
          }
        },
        "9ed70f2c55e44bdb820ca0568b3ff61a": {
          "model_module": "@jupyter-widgets/base",
          "model_name": "LayoutModel",
          "state": {
            "_view_name": "LayoutView",
            "grid_template_rows": null,
            "right": null,
            "justify_content": null,
            "_view_module": "@jupyter-widgets/base",
            "overflow": null,
            "_model_module_version": "1.2.0",
            "_view_count": null,
            "flex_flow": null,
            "width": null,
            "min_width": null,
            "border": null,
            "align_items": null,
            "bottom": null,
            "_model_module": "@jupyter-widgets/base",
            "top": null,
            "grid_column": null,
            "overflow_y": null,
            "overflow_x": null,
            "grid_auto_flow": null,
            "grid_area": null,
            "grid_template_columns": null,
            "flex": null,
            "_model_name": "LayoutModel",
            "justify_items": null,
            "grid_row": null,
            "max_height": null,
            "align_content": null,
            "visibility": null,
            "align_self": null,
            "height": null,
            "min_height": null,
            "padding": null,
            "grid_auto_rows": null,
            "grid_gap": null,
            "max_width": null,
            "order": null,
            "_view_module_version": "1.2.0",
            "grid_template_areas": null,
            "object_position": null,
            "object_fit": null,
            "grid_auto_columns": null,
            "margin": null,
            "display": null,
            "left": null
          }
        },
        "d8ae9be6b92544a281876a7b50ec9700": {
          "model_module": "@jupyter-widgets/controls",
          "model_name": "DescriptionStyleModel",
          "state": {
            "_view_name": "StyleView",
            "_model_name": "DescriptionStyleModel",
            "description_width": "",
            "_view_module": "@jupyter-widgets/base",
            "_model_module_version": "1.5.0",
            "_view_count": null,
            "_view_module_version": "1.2.0",
            "_model_module": "@jupyter-widgets/controls"
          }
        },
        "e35336b1f1fb4f6784a52be0439ccc66": {
          "model_module": "@jupyter-widgets/base",
          "model_name": "LayoutModel",
          "state": {
            "_view_name": "LayoutView",
            "grid_template_rows": null,
            "right": null,
            "justify_content": null,
            "_view_module": "@jupyter-widgets/base",
            "overflow": null,
            "_model_module_version": "1.2.0",
            "_view_count": null,
            "flex_flow": null,
            "width": null,
            "min_width": null,
            "border": null,
            "align_items": null,
            "bottom": null,
            "_model_module": "@jupyter-widgets/base",
            "top": null,
            "grid_column": null,
            "overflow_y": null,
            "overflow_x": null,
            "grid_auto_flow": null,
            "grid_area": null,
            "grid_template_columns": null,
            "flex": null,
            "_model_name": "LayoutModel",
            "justify_items": null,
            "grid_row": null,
            "max_height": null,
            "align_content": null,
            "visibility": null,
            "align_self": null,
            "height": null,
            "min_height": null,
            "padding": null,
            "grid_auto_rows": null,
            "grid_gap": null,
            "max_width": null,
            "order": null,
            "_view_module_version": "1.2.0",
            "grid_template_areas": null,
            "object_position": null,
            "object_fit": null,
            "grid_auto_columns": null,
            "margin": null,
            "display": null,
            "left": null
          }
        }
      }
    }
  },
  "cells": [
    {
      "cell_type": "markdown",
      "metadata": {
        "id": "view-in-github",
        "colab_type": "text"
      },
      "source": [
        "<a href=\"https://colab.research.google.com/github/pashupati98/Analyze-This-2018-2019/blob/master/BERT%2BXGBoost/BERT_(Features)_%2B_XGBoost.ipynb\" target=\"_parent\"><img src=\"https://colab.research.google.com/assets/colab-badge.svg\" alt=\"Open In Colab\"/></a>"
      ]
    },
    {
      "cell_type": "code",
      "metadata": {
        "id": "xiGby-qZ8e36",
        "colab_type": "code",
        "outputId": "2a677670-4fa6-4a5d-9389-2c1944db3009",
        "colab": {
          "base_uri": "https://localhost:8080/",
          "height": 121
        }
      },
      "source": [
        "from google.colab import drive\n",
        "drive.mount('/content/drive')"
      ],
      "execution_count": 1,
      "outputs": [
        {
          "output_type": "stream",
          "text": [
            "Go to this URL in a browser: https://accounts.google.com/o/oauth2/auth?client_id=947318989803-6bn6qk8qdgf4n4g3pfee6491hc0brc4i.apps.googleusercontent.com&redirect_uri=urn%3aietf%3awg%3aoauth%3a2.0%3aoob&response_type=code&scope=email%20https%3a%2f%2fwww.googleapis.com%2fauth%2fdocs.test%20https%3a%2f%2fwww.googleapis.com%2fauth%2fdrive%20https%3a%2f%2fwww.googleapis.com%2fauth%2fdrive.photos.readonly%20https%3a%2f%2fwww.googleapis.com%2fauth%2fpeopleapi.readonly\n",
            "\n",
            "Enter your authorization code:\n",
            "··········\n",
            "Mounted at /content/drive\n"
          ],
          "name": "stdout"
        }
      ]
    },
    {
      "cell_type": "code",
      "metadata": {
        "id": "Nq7-BWah8feY",
        "colab_type": "code",
        "outputId": "2ab0520a-4ea3-4dad-99d8-f0dbf7606a54",
        "colab": {
          "base_uri": "https://localhost:8080/",
          "height": 638
        }
      },
      "source": [
        "!pip install transformers"
      ],
      "execution_count": 2,
      "outputs": [
        {
          "output_type": "stream",
          "text": [
            "Collecting transformers\n",
            "\u001b[?25l  Downloading https://files.pythonhosted.org/packages/04/58/3d789b98923da6485f376be1e04d59ad7003a63bdb2b04b5eea7e02857e5/transformers-2.5.0-py3-none-any.whl (481kB)\n",
            "\r\u001b[K     |▊                               | 10kB 16.2MB/s eta 0:00:01\r\u001b[K     |█▍                              | 20kB 3.0MB/s eta 0:00:01\r\u001b[K     |██                              | 30kB 4.4MB/s eta 0:00:01\r\u001b[K     |██▊                             | 40kB 2.9MB/s eta 0:00:01\r\u001b[K     |███▍                            | 51kB 3.5MB/s eta 0:00:01\r\u001b[K     |████                            | 61kB 4.1MB/s eta 0:00:01\r\u001b[K     |████▊                           | 71kB 4.7MB/s eta 0:00:01\r\u001b[K     |█████▍                          | 81kB 5.3MB/s eta 0:00:01\r\u001b[K     |██████▏                         | 92kB 5.9MB/s eta 0:00:01\r\u001b[K     |██████▉                         | 102kB 4.7MB/s eta 0:00:01\r\u001b[K     |███████▌                        | 112kB 4.7MB/s eta 0:00:01\r\u001b[K     |████████▏                       | 122kB 4.7MB/s eta 0:00:01\r\u001b[K     |████████▉                       | 133kB 4.7MB/s eta 0:00:01\r\u001b[K     |█████████▌                      | 143kB 4.7MB/s eta 0:00:01\r\u001b[K     |██████████▏                     | 153kB 4.7MB/s eta 0:00:01\r\u001b[K     |██████████▉                     | 163kB 4.7MB/s eta 0:00:01\r\u001b[K     |███████████▋                    | 174kB 4.7MB/s eta 0:00:01\r\u001b[K     |████████████▎                   | 184kB 4.7MB/s eta 0:00:01\r\u001b[K     |█████████████                   | 194kB 4.7MB/s eta 0:00:01\r\u001b[K     |█████████████▋                  | 204kB 4.7MB/s eta 0:00:01\r\u001b[K     |██████████████▎                 | 215kB 4.7MB/s eta 0:00:01\r\u001b[K     |███████████████                 | 225kB 4.7MB/s eta 0:00:01\r\u001b[K     |███████████████▋                | 235kB 4.7MB/s eta 0:00:01\r\u001b[K     |████████████████▎               | 245kB 4.7MB/s eta 0:00:01\r\u001b[K     |█████████████████               | 256kB 4.7MB/s eta 0:00:01\r\u001b[K     |█████████████████▊              | 266kB 4.7MB/s eta 0:00:01\r\u001b[K     |██████████████████▍             | 276kB 4.7MB/s eta 0:00:01\r\u001b[K     |███████████████████             | 286kB 4.7MB/s eta 0:00:01\r\u001b[K     |███████████████████▊            | 296kB 4.7MB/s eta 0:00:01\r\u001b[K     |████████████████████▍           | 307kB 4.7MB/s eta 0:00:01\r\u001b[K     |█████████████████████           | 317kB 4.7MB/s eta 0:00:01\r\u001b[K     |█████████████████████▊          | 327kB 4.7MB/s eta 0:00:01\r\u001b[K     |██████████████████████▌         | 337kB 4.7MB/s eta 0:00:01\r\u001b[K     |███████████████████████▏        | 348kB 4.7MB/s eta 0:00:01\r\u001b[K     |███████████████████████▉        | 358kB 4.7MB/s eta 0:00:01\r\u001b[K     |████████████████████████▌       | 368kB 4.7MB/s eta 0:00:01\r\u001b[K     |█████████████████████████▏      | 378kB 4.7MB/s eta 0:00:01\r\u001b[K     |█████████████████████████▉      | 389kB 4.7MB/s eta 0:00:01\r\u001b[K     |██████████████████████████▌     | 399kB 4.7MB/s eta 0:00:01\r\u001b[K     |███████████████████████████▏    | 409kB 4.7MB/s eta 0:00:01\r\u001b[K     |████████████████████████████    | 419kB 4.7MB/s eta 0:00:01\r\u001b[K     |████████████████████████████▋   | 430kB 4.7MB/s eta 0:00:01\r\u001b[K     |█████████████████████████████▎  | 440kB 4.7MB/s eta 0:00:01\r\u001b[K     |██████████████████████████████  | 450kB 4.7MB/s eta 0:00:01\r\u001b[K     |██████████████████████████████▋ | 460kB 4.7MB/s eta 0:00:01\r\u001b[K     |███████████████████████████████▎| 471kB 4.7MB/s eta 0:00:01\r\u001b[K     |████████████████████████████████| 481kB 4.7MB/s eta 0:00:01\r\u001b[K     |████████████████████████████████| 491kB 4.7MB/s \n",
            "\u001b[?25hRequirement already satisfied: requests in /usr/local/lib/python3.6/dist-packages (from transformers) (2.21.0)\n",
            "Collecting sentencepiece\n",
            "\u001b[?25l  Downloading https://files.pythonhosted.org/packages/74/f4/2d5214cbf13d06e7cb2c20d84115ca25b53ea76fa1f0ade0e3c9749de214/sentencepiece-0.1.85-cp36-cp36m-manylinux1_x86_64.whl (1.0MB)\n",
            "\u001b[K     |████████████████████████████████| 1.0MB 40.8MB/s \n",
            "\u001b[?25hRequirement already satisfied: filelock in /usr/local/lib/python3.6/dist-packages (from transformers) (3.0.12)\n",
            "Requirement already satisfied: tqdm>=4.27 in /usr/local/lib/python3.6/dist-packages (from transformers) (4.28.1)\n",
            "Requirement already satisfied: boto3 in /usr/local/lib/python3.6/dist-packages (from transformers) (1.11.15)\n",
            "Collecting tokenizers==0.5.0\n",
            "\u001b[?25l  Downloading https://files.pythonhosted.org/packages/7e/1d/ea7e2c628942e686595736f73678348272120d026b7acd54fe43e5211bb1/tokenizers-0.5.0-cp36-cp36m-manylinux1_x86_64.whl (3.8MB)\n",
            "\u001b[K     |████████████████████████████████| 3.8MB 40.2MB/s \n",
            "\u001b[?25hRequirement already satisfied: regex!=2019.12.17 in /usr/local/lib/python3.6/dist-packages (from transformers) (2019.12.20)\n",
            "Collecting sacremoses\n",
            "\u001b[?25l  Downloading https://files.pythonhosted.org/packages/a6/b4/7a41d630547a4afd58143597d5a49e07bfd4c42914d8335b2a5657efc14b/sacremoses-0.0.38.tar.gz (860kB)\n",
            "\u001b[K     |████████████████████████████████| 870kB 50.0MB/s \n",
            "\u001b[?25hRequirement already satisfied: numpy in /usr/local/lib/python3.6/dist-packages (from transformers) (1.17.5)\n",
            "Requirement already satisfied: idna<2.9,>=2.5 in /usr/local/lib/python3.6/dist-packages (from requests->transformers) (2.8)\n",
            "Requirement already satisfied: chardet<3.1.0,>=3.0.2 in /usr/local/lib/python3.6/dist-packages (from requests->transformers) (3.0.4)\n",
            "Requirement already satisfied: certifi>=2017.4.17 in /usr/local/lib/python3.6/dist-packages (from requests->transformers) (2019.11.28)\n",
            "Requirement already satisfied: urllib3<1.25,>=1.21.1 in /usr/local/lib/python3.6/dist-packages (from requests->transformers) (1.24.3)\n",
            "Requirement already satisfied: s3transfer<0.4.0,>=0.3.0 in /usr/local/lib/python3.6/dist-packages (from boto3->transformers) (0.3.3)\n",
            "Requirement already satisfied: botocore<1.15.0,>=1.14.15 in /usr/local/lib/python3.6/dist-packages (from boto3->transformers) (1.14.15)\n",
            "Requirement already satisfied: jmespath<1.0.0,>=0.7.1 in /usr/local/lib/python3.6/dist-packages (from boto3->transformers) (0.9.4)\n",
            "Requirement already satisfied: six in /usr/local/lib/python3.6/dist-packages (from sacremoses->transformers) (1.12.0)\n",
            "Requirement already satisfied: click in /usr/local/lib/python3.6/dist-packages (from sacremoses->transformers) (7.0)\n",
            "Requirement already satisfied: joblib in /usr/local/lib/python3.6/dist-packages (from sacremoses->transformers) (0.14.1)\n",
            "Requirement already satisfied: python-dateutil<3.0.0,>=2.1 in /usr/local/lib/python3.6/dist-packages (from botocore<1.15.0,>=1.14.15->boto3->transformers) (2.6.1)\n",
            "Requirement already satisfied: docutils<0.16,>=0.10 in /usr/local/lib/python3.6/dist-packages (from botocore<1.15.0,>=1.14.15->boto3->transformers) (0.15.2)\n",
            "Building wheels for collected packages: sacremoses\n",
            "  Building wheel for sacremoses (setup.py) ... \u001b[?25l\u001b[?25hdone\n",
            "  Created wheel for sacremoses: filename=sacremoses-0.0.38-cp36-none-any.whl size=884628 sha256=256594cfebe0ddaaa5c7612180f01f41948d418a8e9324e9748e2397ae2ae364\n",
            "  Stored in directory: /root/.cache/pip/wheels/6d/ec/1a/21b8912e35e02741306f35f66c785f3afe94de754a0eaf1422\n",
            "Successfully built sacremoses\n",
            "Installing collected packages: sentencepiece, tokenizers, sacremoses, transformers\n",
            "Successfully installed sacremoses-0.0.38 sentencepiece-0.1.85 tokenizers-0.5.0 transformers-2.5.0\n"
          ],
          "name": "stdout"
        }
      ]
    },
    {
      "cell_type": "code",
      "metadata": {
        "id": "8vafndfa8qTh",
        "colab_type": "code",
        "colab": {}
      },
      "source": [
        "import numpy as np\n",
        "import pandas as pd\n",
        "import time\n",
        "import math\n",
        "import progressbar\n",
        "from sklearn.model_selection import train_test_split\n",
        "from sklearn.model_selection import GridSearchCV\n",
        "from sklearn.model_selection import cross_val_score\n",
        "import torch\n",
        "import transformers as ppb\n",
        "import warnings\n",
        "warnings.filterwarnings('ignore')"
      ],
      "execution_count": 0,
      "outputs": []
    },
    {
      "cell_type": "code",
      "metadata": {
        "id": "qGK2Myxk8s_4",
        "colab_type": "code",
        "colab": {}
      },
      "source": [
        "url_rdf = '/content/drive/My Drive/IBM/dataset/raw_df.csv'\n",
        "url_pdf = '/content/drive/My Drive/IBM/dataset/processed.csv'\n",
        "url_udf = '/content/drive/My Drive/IBM/dataset/processed_user.csv'\n",
        "url_olid = '/content/drive/My Drive/IBM/dataset/olid.csv'\n",
        "url_hate = '/content/drive/My Drive/IBM/dataset/hate.csv'\n",
        "rdf = pd.read_csv(url_rdf)\n",
        "pdf = pd.read_csv(url_pdf)\n",
        "udf = pd.read_csv(url_udf)\n",
        "olid = pd.read_csv(url_olid)\n",
        "hate = pd.read_csv(url_hate)\n",
        "\n",
        "\n",
        "url = '/content/drive/My Drive/IBM/dataset/train.csv'\n",
        "df = pd.read_csv(url)\n",
        "#df = df[:1000]"
      ],
      "execution_count": 0,
      "outputs": []
    },
    {
      "cell_type": "code",
      "metadata": {
        "id": "Sos-B03V7qTg",
        "colab_type": "code",
        "colab": {
          "base_uri": "https://localhost:8080/",
          "height": 195
        },
        "outputId": "71ad8ce6-0849-447b-f8ea-b151a1d85cb8"
      },
      "source": [
        "olid.head()"
      ],
      "execution_count": 30,
      "outputs": [
        {
          "output_type": "execute_result",
          "data": {
            "text/html": [
              "<div>\n",
              "<style scoped>\n",
              "    .dataframe tbody tr th:only-of-type {\n",
              "        vertical-align: middle;\n",
              "    }\n",
              "\n",
              "    .dataframe tbody tr th {\n",
              "        vertical-align: top;\n",
              "    }\n",
              "\n",
              "    .dataframe thead th {\n",
              "        text-align: right;\n",
              "    }\n",
              "</style>\n",
              "<table border=\"1\" class=\"dataframe\">\n",
              "  <thead>\n",
              "    <tr style=\"text-align: right;\">\n",
              "      <th></th>\n",
              "      <th>Unnamed: 0</th>\n",
              "      <th>tweet</th>\n",
              "      <th>label</th>\n",
              "    </tr>\n",
              "  </thead>\n",
              "  <tbody>\n",
              "    <tr>\n",
              "      <th>0</th>\n",
              "      <td>0</td>\n",
              "      <td>@USER She should ask a few native Americans wh...</td>\n",
              "      <td>1</td>\n",
              "    </tr>\n",
              "    <tr>\n",
              "      <th>1</th>\n",
              "      <td>1</td>\n",
              "      <td>@USER @USER Go home you’re drunk!!! @USER #MAG...</td>\n",
              "      <td>1</td>\n",
              "    </tr>\n",
              "    <tr>\n",
              "      <th>2</th>\n",
              "      <td>2</td>\n",
              "      <td>Amazon is investigating Chinese employees who ...</td>\n",
              "      <td>0</td>\n",
              "    </tr>\n",
              "    <tr>\n",
              "      <th>3</th>\n",
              "      <td>3</td>\n",
              "      <td>@USER Someone should'veTaken\" this piece of sh...</td>\n",
              "      <td>1</td>\n",
              "    </tr>\n",
              "    <tr>\n",
              "      <th>4</th>\n",
              "      <td>4</td>\n",
              "      <td>@USER @USER Obama wanted liberals &amp;amp; illega...</td>\n",
              "      <td>0</td>\n",
              "    </tr>\n",
              "  </tbody>\n",
              "</table>\n",
              "</div>"
            ],
            "text/plain": [
              "   Unnamed: 0                                              tweet  label\n",
              "0           0  @USER She should ask a few native Americans wh...      1\n",
              "1           1  @USER @USER Go home you’re drunk!!! @USER #MAG...      1\n",
              "2           2  Amazon is investigating Chinese employees who ...      0\n",
              "3           3  @USER Someone should'veTaken\" this piece of sh...      1\n",
              "4           4  @USER @USER Obama wanted liberals &amp; illega...      0"
            ]
          },
          "metadata": {
            "tags": []
          },
          "execution_count": 30
        }
      ]
    },
    {
      "cell_type": "code",
      "metadata": {
        "id": "Novu3tYh8ye6",
        "colab_type": "code",
        "colab": {
          "base_uri": "https://localhost:8080/",
          "height": 163,
          "referenced_widgets": [
            "68380d2160c346a0bb5f2b99706ee407",
            "c601970825ae49e39c36becc6c13a3eb",
            "e4057f82a36b41c19ec2473c01057086",
            "8cfba3e274b14d058ab961434c1f61bd",
            "33e1355cbb0c4aaaacf0c4f0537c3452",
            "f2c7bc37fc4b49d595e6cd4c4ea52e22",
            "96c0786fa5e1435baf99402a1f371fdc",
            "e9943614477d4d6f99cf8a6a36392f9e",
            "76b3971d4dbb440f8f8fe7c6c7fe9476",
            "a963c0d0ff7c4a78959ac8c2c2e765b4",
            "980144e780374854b819e217dd298684",
            "d7ff68131ed94055bcab07fc778ac02e",
            "22434801bcd54c63939dfaa5f4a799c7",
            "375201533a1840f29cf507002a2e87ae",
            "4d6b40a878cd44eab218d594dd0b60df",
            "24a448affaf240d8b42951f591e106be",
            "222da426811c4e72b2f5c42ca1974e42",
            "5f8310bd7c6f41ebb91e48701aff10f0",
            "24f259cc355f46789c7a10a29ea4c3ba",
            "f0a340144e7d43d18bbc23d8eb821d32",
            "7cb29fd632ae48c8ae5afe266159d568",
            "9ed70f2c55e44bdb820ca0568b3ff61a",
            "d8ae9be6b92544a281876a7b50ec9700",
            "e35336b1f1fb4f6784a52be0439ccc66"
          ]
        },
        "outputId": "43ea0447-cb9b-4dd5-8b79-bae6c9422a6b"
      },
      "source": [
        "# For DistilBERT:\n",
        "#model_class, tokenizer_class, pretrained_weights = (ppb.DistilBertModel, ppb.DistilBertTokenizer, 'distilbert-base-uncased')\n",
        "\n",
        "## Want BERT instead of distilBERT? Uncomment the following line:\n",
        "model_class, tokenizer_class, pretrained_weights = (ppb.BertModel, ppb.BertTokenizer, 'bert-base-uncased')\n",
        "\n",
        "# Load pretrained model/tokenizer\n",
        "tokenizer = tokenizer_class.from_pretrained(pretrained_weights)\n",
        "model = model_class.from_pretrained(pretrained_weights)"
      ],
      "execution_count": 6,
      "outputs": [
        {
          "output_type": "display_data",
          "data": {
            "application/vnd.jupyter.widget-view+json": {
              "model_id": "68380d2160c346a0bb5f2b99706ee407",
              "version_minor": 0,
              "version_major": 2
            },
            "text/plain": [
              "HBox(children=(IntProgress(value=0, description='Downloading', max=231508, style=ProgressStyle(description_wid…"
            ]
          },
          "metadata": {
            "tags": []
          }
        },
        {
          "output_type": "stream",
          "text": [
            "\n"
          ],
          "name": "stdout"
        },
        {
          "output_type": "display_data",
          "data": {
            "application/vnd.jupyter.widget-view+json": {
              "model_id": "76b3971d4dbb440f8f8fe7c6c7fe9476",
              "version_minor": 0,
              "version_major": 2
            },
            "text/plain": [
              "HBox(children=(IntProgress(value=0, description='Downloading', max=361, style=ProgressStyle(description_width=…"
            ]
          },
          "metadata": {
            "tags": []
          }
        },
        {
          "output_type": "stream",
          "text": [
            "\n"
          ],
          "name": "stdout"
        },
        {
          "output_type": "display_data",
          "data": {
            "application/vnd.jupyter.widget-view+json": {
              "model_id": "222da426811c4e72b2f5c42ca1974e42",
              "version_minor": 0,
              "version_major": 2
            },
            "text/plain": [
              "HBox(children=(IntProgress(value=0, description='Downloading', max=440473133, style=ProgressStyle(description_…"
            ]
          },
          "metadata": {
            "tags": []
          }
        },
        {
          "output_type": "stream",
          "text": [
            "\n"
          ],
          "name": "stdout"
        }
      ]
    },
    {
      "cell_type": "code",
      "metadata": {
        "id": "yXxNDB_F1QMw",
        "colab_type": "code",
        "colab": {}
      },
      "source": [
        "def find_max_len(tokenized):\n",
        "  max_len = 0\n",
        "  for i in tokenized.values:\n",
        "      if len(i) > max_len:\n",
        "          max_len = len(i)\n",
        "  return max_len"
      ],
      "execution_count": 0,
      "outputs": []
    },
    {
      "cell_type": "code",
      "metadata": {
        "id": "IBYRB9Kt1Hxt",
        "colab_type": "code",
        "colab": {}
      },
      "source": [
        "def get_bert_features(df):\n",
        "  tokenized = df['tweet'].apply((lambda x: tokenizer.encode(x, add_special_tokens=True)))\n",
        "  max_len = find_max_len(tokenized)\n",
        "  print(\"Max Len = \",max_len)\n",
        "  padded = np.array([i + [0]*(max_len-len(i)) for i in tokenized.values])\n",
        "  attention_mask = np.where(padded != 0, 1, 0)\n",
        "\n",
        "  input_ids = torch.tensor(padded)  \n",
        "  attention_mask = torch.tensor(attention_mask)\n",
        "\n",
        "  with torch.no_grad():\n",
        "    last_hidden_states = model(input_ids, attention_mask=attention_mask)\n",
        "\n",
        "  features = last_hidden_states[0][:,0,:].numpy()\n",
        "  labels = df['label']\n",
        "\n",
        "  return features, labels"
      ],
      "execution_count": 0,
      "outputs": []
    },
    {
      "cell_type": "code",
      "metadata": {
        "id": "fdvZzFj7Qb1Z",
        "colab_type": "code",
        "colab": {}
      },
      "source": [
        "def extract_features(df, batch_size=1000):\n",
        "  features = []\n",
        "  labels = []\n",
        "\n",
        "  no_of_batches = math.ceil(len(df)/batch_size)\n",
        "  print(\"\\nInitializing...\")\n",
        "  print(\"Total no of batches : \",str(no_of_batches))\n",
        "  batch_no = 1\n",
        "  \n",
        "  with progressbar.ProgressBar(max_value=len(df)) as bar:\n",
        "    for i in range (0,len(df),batch_size):\n",
        "      time.sleep(0.2)\n",
        "      bar.update(i)\n",
        "      print()\n",
        "      print(\"\\nGenerating features for batch\",str(batch_no),\"of\",str(no_of_batches))\n",
        "      dfn = df[i:i+batch_size]\n",
        "      tfeatures, tlabels = get_bert_features(dfn)\n",
        "      tfeatures = list(tfeatures)\n",
        "      features.append(tfeatures)\n",
        "      labels.append(tlabels)\n",
        "      batch_no = batch_no + 1\n",
        "\n",
        "  print(\"Done\")\n",
        "  features = np.concatenate(features)\n",
        "  labels = np.concatenate(labels)\n",
        "\n",
        "  return features, labels"
      ],
      "execution_count": 0,
      "outputs": []
    },
    {
      "cell_type": "code",
      "metadata": {
        "id": "f8Gccb1g4bue",
        "colab_type": "code",
        "colab": {}
      },
      "source": [
        ""
      ],
      "execution_count": 0,
      "outputs": []
    },
    {
      "cell_type": "code",
      "metadata": {
        "id": "iTzoW7ljUD4Z",
        "colab_type": "code",
        "colab": {}
      },
      "source": [
        "#features, labels = extract_features(df,batch_size=1000)"
      ],
      "execution_count": 0,
      "outputs": []
    },
    {
      "cell_type": "code",
      "metadata": {
        "id": "zNMZN61P5x5-",
        "colab_type": "code",
        "colab": {}
      },
      "source": [
        "# ft_df = pd.DataFrame(features)\n",
        "# ft_df['label'] = labels\n",
        "\n",
        "# train = ft_df\n",
        "# train.shape"
      ],
      "execution_count": 0,
      "outputs": []
    },
    {
      "cell_type": "code",
      "metadata": {
        "id": "uEsEJxDwCApO",
        "colab_type": "code",
        "colab": {}
      },
      "source": [
        "#train.to_csv(\"bert_features.csv\")"
      ],
      "execution_count": 0,
      "outputs": []
    },
    {
      "cell_type": "markdown",
      "metadata": {
        "id": "1tZIruriYGXX",
        "colab_type": "text"
      },
      "source": [
        "#### Commented code"
      ]
    },
    {
      "cell_type": "code",
      "metadata": {
        "id": "JmBJn65u83ij",
        "colab_type": "code",
        "colab": {}
      },
      "source": [
        "# tokenized = df['tweet'].apply((lambda x: tokenizer.encode(x, add_special_tokens=True)))\n",
        "\n",
        "# max_len = 0\n",
        "# for i in tokenized.values:\n",
        "#     if len(i) > max_len:\n",
        "#         max_len = len(i)\n",
        "\n",
        "# padded = np.array([i + [0]*(max_len-len(i)) for i in tokenized.values])\n",
        "\n",
        "# attention_mask = np.where(padded != 0, 1, 0)\n",
        "# attention_mask.shape\n",
        "\n",
        "# input_ids = torch.tensor(padded)  \n",
        "# attention_mask = torch.tensor(attention_mask)\n",
        "\n",
        "# with torch.no_grad():\n",
        "#     last_hidden_states = model(input_ids, attention_mask=attention_mask)\n",
        "\n",
        "# features = last_hidden_states[0][:,0,:].numpy()\n",
        "\n",
        "# labels = df['subtask_a']\n",
        "\n",
        "# features = []\n",
        "# labels = []\n",
        "\n",
        "# for i in range (0,len(df),1000):\n",
        "#   dfn = df[i:i+1000]\n",
        "#   tfeatures, tlabels = get_bert_features(dfn)\n",
        "#   tfeatures = list(tfeatures)\n",
        "#   features.append(tfeatures)\n",
        "#   labels.append(tlabels)\n",
        "#   print(i)\n",
        "\n",
        "# fearures = np.array(features)\n",
        "# labels = np.array(features)\n",
        "\n",
        "# train_features, test_features, train_labels, test_labels = train_test_split(features, labels)\n",
        "\n",
        "# parameters = {'C': np.linspace(0.0001, 100, 20)}\n",
        "# grid_search = GridSearchCV(LogisticRegression(), parameters)\n",
        "# grid_search.fit(train_features, train_labels)\n",
        "\n",
        "# print('best parameters: ', grid_search.best_params_)\n",
        "# print('best scrores: ', grid_search.best_score_)\n",
        "\n",
        "# lr_clf = LogisticRegression()\n",
        "# lr_clf.fit(train_features, train_labels)\n",
        "\n",
        "# lr_clf.score(test_features, test_labels)"
      ],
      "execution_count": 0,
      "outputs": []
    },
    {
      "cell_type": "markdown",
      "metadata": {
        "id": "-6eiplLDYNpw",
        "colab_type": "text"
      },
      "source": [
        "### Model (XGBoost)"
      ]
    },
    {
      "cell_type": "code",
      "metadata": {
        "id": "XwnVhLx9ZJFf",
        "colab_type": "code",
        "colab": {}
      },
      "source": [
        "from sklearn.metrics import f1_score,confusion_matrix\n",
        "from sklearn.metrics import accuracy_score\n",
        "import xgboost as xgb\n",
        "from xgboost.sklearn import XGBClassifier\n",
        "from sklearn import metrics   #Additional scklearn functions\n",
        "from sklearn.model_selection import GridSearchCV   #Perforing grid search\n",
        "from sklearn.model_selection import KFold\n",
        "from sklearn.model_selection import cross_val_score\n",
        "from sklearn.utils import shuffle\n",
        "import scipy as sp\n",
        "from sklearn.model_selection import train_test_split\n",
        "import seaborn as sns\n",
        "import matplotlib as mp\n",
        "from sklearn.metrics import confusion_matrix\n",
        "from matplotlib.pylab import rcParams\n",
        "rcParams['figure.figsize'] = 12, 4\n",
        "import matplotlib.pyplot as plt\n",
        "%matplotlib inline\n",
        "\n",
        "target = 'label'\n",
        "IDcol = 'id'"
      ],
      "execution_count": 0,
      "outputs": []
    },
    {
      "cell_type": "code",
      "metadata": {
        "id": "M5YuciYmZI55",
        "colab_type": "code",
        "colab": {}
      },
      "source": [
        "def modelfit(alg, dtrain, val, predictors,useTrainCV=True, cv_folds=5, early_stopping_rounds=50):\n",
        "    \n",
        "    if useTrainCV:\n",
        "        xgb_param = alg.get_xgb_params()\n",
        "        xgtrain = xgb.DMatrix(dtrain[predictors].values, label=dtrain[target].values)\n",
        "        cvresult = xgb.cv(xgb_param, xgtrain, num_boost_round=alg.get_params()['n_estimators'], nfold=cv_folds,\n",
        "            metrics='error', early_stopping_rounds=early_stopping_rounds)\n",
        "        alg.set_params(n_estimators=cvresult.shape[0])\n",
        "    \n",
        "    #Fit the algorithm on the data\n",
        "    val_predictors = [x for x in val.columns if x not in [IDcol,target]]\n",
        "    eval_s = [(dtrain[predictors], dtrain[target]),(val[predictors], val[target])]\n",
        "    alg.fit(dtrain[predictors], dtrain[target],early_stopping_rounds=10,eval_metric=[\"error\", \"logloss\"],eval_set=eval_s,verbose=True)\n",
        "        \n",
        "    #Predict training set:\n",
        "    dtrain_predictions = alg.predict(dtrain[predictors])\n",
        "    dtrain_predprob = alg.predict_proba(dtrain[predictors])[:,1]\n",
        "    val_predictions = alg.predict(val[val_predictors])\n",
        "        \n",
        "    #Print model report:\n",
        "    print (\"\\nModel Report\")\n",
        "    print (\"Train Accuracy : %.4g\" % metrics.accuracy_score(dtrain[target].values, dtrain_predictions))\n",
        "    print (\"Validation Accuracy : %.4g\" % metrics.accuracy_score(val[target].values, val_predictions))\n",
        "    \n",
        "    \n",
        "    # retrieve performance metrics\n",
        "    results = alg.evals_result()\n",
        "    epochs = len(results['validation_0']['error'])\n",
        "    x_axis = range(0, epochs)\n",
        "    # plot log loss\n",
        "    fig, ax = plt.subplots()\n",
        "    ax.plot(x_axis, results['validation_0']['logloss'], label='Train')\n",
        "    ax.plot(x_axis, results['validation_1']['logloss'], label='Test')\n",
        "    ax.legend()\n",
        "    plt.ylabel('Log Loss')\n",
        "    plt.title('XGBoost Log Loss')\n",
        "    plt.show()\n",
        "    #plt.savefig(\"log.png\")\n",
        "    # plot classification error\n",
        "    fig, ax = plt.subplots()\n",
        "    ax.plot(x_axis, results['validation_0']['error'], label='Train')\n",
        "    ax.plot(x_axis, results['validation_1']['error'], label='Test')\n",
        "    ax.legend()\n",
        "    plt.ylabel('Classification Error')\n",
        "    plt.title('XGBoost Classification Error')\n",
        "    plt.show()\n",
        "    #plt.savefig('error.png')\n",
        "    \n",
        "    \n",
        "    #print(alg.feature_importances_)\n",
        "#     f = plot_importance(alg)\n",
        "#     plt.show()\n",
        "#     f.figure.savefig(\"feat_imp.pdf\")\n",
        "\n",
        "    #print (\"AUC Score (Train): %f\" % metrics.roc_auc_score(dtrain[target], dtrain_predprob))\n",
        "                    \n",
        "#     feat_imp = pd.Series(alg.booster().get_fscore()).sort_values(ascending=False)\n",
        "#     feat_imp.plot(kind='bar', title='Feature Importances')\n",
        "#     plt.ylabel('Feature Importance Score')"
      ],
      "execution_count": 0,
      "outputs": []
    },
    {
      "cell_type": "code",
      "metadata": {
        "id": "Gc80VWCKZIlV",
        "colab_type": "code",
        "colab": {}
      },
      "source": [
        "# Train and validation set \n",
        "\n",
        "\n",
        "# train, val = train_test_split(train,test_size=0.2, random_state=42)\n",
        "# print(train.shape)\n",
        "# print(val.shape)"
      ],
      "execution_count": 0,
      "outputs": []
    },
    {
      "cell_type": "code",
      "metadata": {
        "id": "MEobaJFz6DXa",
        "colab_type": "code",
        "colab": {}
      },
      "source": [
        "#Choose all predictors except target & IDcols\n",
        "#predictors = [x for x in train.columns if x not in [target, IDcol]]\n",
        "xgb1 = XGBClassifier(\n",
        " learning_rate =0.1,\n",
        " n_estimators=500,\n",
        " max_depth=5,\n",
        " min_child_weight=1,\n",
        " gamma=0,\n",
        " subsample=0.8,\n",
        " colsample_bytree=0.8,\n",
        " objective= 'binary:logistic',\n",
        " nthread=4,\n",
        " scale_pos_weight=1,\n",
        " seed=27)"
      ],
      "execution_count": 0,
      "outputs": []
    },
    {
      "cell_type": "code",
      "metadata": {
        "id": "RunxD7PB5Tqn",
        "colab_type": "code",
        "colab": {}
      },
      "source": [
        "def experiment(df,batch_size=1000):\n",
        "  features, labels = extract_features(df,batch_size)\n",
        "  ft_df = pd.DataFrame(features)\n",
        "  ft_df['label'] = labels\n",
        "  train = ft_df\n",
        "  print(\"Final df Shape : \",train.shape)\n",
        "\n",
        "  train, val = train_test_split(train,test_size=0.2, random_state=42)\n",
        "  print(\"Train Shape : \",train.shape)\n",
        "  print(\"Val Shape : \",val.shape)\n",
        "\n",
        "  predictors = [x for x in train.columns if x not in [target, IDcol]]\n",
        "  modelfit(xgb1, train, val, predictors)\n",
        "\n",
        "  val_predictors = [x for x in val.columns if x not in [IDcol,target]]\n",
        "  val_predictions = xgb1.predict(val[predictors])\n",
        "  cm = confusion_matrix(val[target], val_predictions)\n",
        "  # dfcm = pd.DataFrame(cm)\n",
        "  # plt.figure(figsize = (5,3))\n",
        "  # sns.heatmap(dfcm, annot=True,annot_kws={\"size\": 12})\n",
        "  # plt.show()\n",
        "\n",
        "  ax= plt.subplot()\n",
        "  sns.heatmap(cm, annot=True, ax = ax); #annot=True to annotate cells\n",
        "\n",
        "  # labels, title and ticks\n",
        "  ax.set_xlabel('Predicted labels');ax.set_ylabel('True labels'); \n",
        "  ax.set_title('Confusion Matrix'); \n",
        "\n",
        "  tn, fp, fn, tp = cm.ravel()\n",
        "  #print(tn, fp, fn, tp)\n",
        "  precision = tp/(tp+fp)\n",
        "  recall = tp/(tp+fn)\n",
        "  f1 = 2 * (precision * recall) / (precision + recall)\n",
        "  accuracy = ((tp+tn)/(tp+tn+fp+fn))*100\n",
        "  print(\"Precision :\",precision)\n",
        "  print(\"Recall :\",recall)\n",
        "  print(\"F1 Score :\",f1)\n",
        "  print(\"Validation Accuracy :\",accuracy)"
      ],
      "execution_count": 0,
      "outputs": []
    },
    {
      "cell_type": "markdown",
      "metadata": {
        "id": "5fqBLaHE6E9u",
        "colab_type": "text"
      },
      "source": [
        "Experiment with OLID"
      ]
    },
    {
      "cell_type": "code",
      "metadata": {
        "id": "ceey7sM56KVJ",
        "colab_type": "code",
        "colab": {}
      },
      "source": [
        "solid = shuffle(olid)"
      ],
      "execution_count": 0,
      "outputs": []
    },
    {
      "cell_type": "code",
      "metadata": {
        "id": "Q8XQAsocdks_",
        "colab_type": "code",
        "colab": {
          "base_uri": "https://localhost:8080/",
          "height": 1000
        },
        "outputId": "c5858183-0424-4d39-f946-42c539135565"
      },
      "source": [
        "experiment(solid)"
      ],
      "execution_count": 32,
      "outputs": [
        {
          "output_type": "stream",
          "text": [
            "\n",
            "Initializing...\n",
            "Total no of batches :  14\n"
          ],
          "name": "stdout"
        },
        {
          "output_type": "stream",
          "text": [
            "\r                                                                               \r\rN/A% (0 of 13240) |                      | Elapsed Time: 0:00:00 ETA:  --:--:--"
          ],
          "name": "stderr"
        },
        {
          "output_type": "stream",
          "text": [
            "\n",
            "\n",
            "Generating features for batch 1 of 14\n",
            "Max Len =  167\n"
          ],
          "name": "stdout"
        },
        {
          "output_type": "stream",
          "text": [
            "\r                                                                               \r\r  7% (1000 of 13240) |#                  | Elapsed Time: 0:04:16 ETA:   0:52:18"
          ],
          "name": "stderr"
        },
        {
          "output_type": "stream",
          "text": [
            "\n",
            "\n",
            "Generating features for batch 2 of 14\n",
            "Max Len =  171\n"
          ],
          "name": "stdout"
        },
        {
          "output_type": "stream",
          "text": [
            "\r                                                                               \r\r 15% (2000 of 13240) |##                 | Elapsed Time: 0:08:40 ETA:   0:49:26"
          ],
          "name": "stderr"
        },
        {
          "output_type": "stream",
          "text": [
            "\n",
            "\n",
            "Generating features for batch 3 of 14\n",
            "Max Len =  144\n"
          ],
          "name": "stdout"
        },
        {
          "output_type": "stream",
          "text": [
            "\r                                                                               \r\r 22% (3000 of 13240) |####               | Elapsed Time: 0:12:17 ETA:   0:37:05"
          ],
          "name": "stderr"
        },
        {
          "output_type": "stream",
          "text": [
            "\n",
            "\n",
            "Generating features for batch 4 of 14\n",
            "Max Len =  171\n"
          ],
          "name": "stdout"
        },
        {
          "output_type": "stream",
          "text": [
            "\r                                                                               \r\r 30% (4000 of 13240) |#####              | Elapsed Time: 0:16:43 ETA:   0:40:58"
          ],
          "name": "stderr"
        },
        {
          "output_type": "stream",
          "text": [
            "\n",
            "\n",
            "Generating features for batch 5 of 14\n",
            "Max Len =  148\n"
          ],
          "name": "stdout"
        },
        {
          "output_type": "stream",
          "text": [
            "\r                                                                               \r\r 37% (5000 of 13240) |#######            | Elapsed Time: 0:20:34 ETA:   0:31:42"
          ],
          "name": "stderr"
        },
        {
          "output_type": "stream",
          "text": [
            "\n",
            "\n",
            "Generating features for batch 6 of 14\n",
            "Max Len =  154\n"
          ],
          "name": "stdout"
        },
        {
          "output_type": "stream",
          "text": [
            "\r                                                                               \r\r 45% (6000 of 13240) |########           | Elapsed Time: 0:24:35 ETA:   0:29:03"
          ],
          "name": "stderr"
        },
        {
          "output_type": "stream",
          "text": [
            "\n",
            "\n",
            "Generating features for batch 7 of 14\n",
            "Max Len =  146\n"
          ],
          "name": "stdout"
        },
        {
          "output_type": "stream",
          "text": [
            "\r                                                                               \r\r 52% (7000 of 13240) |##########         | Elapsed Time: 0:28:22 ETA:   0:23:36"
          ],
          "name": "stderr"
        },
        {
          "output_type": "stream",
          "text": [
            "\n",
            "\n",
            "Generating features for batch 8 of 14\n",
            "Max Len =  169\n"
          ],
          "name": "stdout"
        },
        {
          "output_type": "stream",
          "text": [
            "\r                                                                               \r\r 60% (8000 of 13240) |###########        | Elapsed Time: 0:32:49 ETA:   0:23:18"
          ],
          "name": "stderr"
        },
        {
          "output_type": "stream",
          "text": [
            "\n",
            "\n",
            "Generating features for batch 9 of 14\n",
            "Max Len =  159\n"
          ],
          "name": "stdout"
        },
        {
          "output_type": "stream",
          "text": [
            "\r                                                                               \r\r 67% (9000 of 13240) |############       | Elapsed Time: 0:36:58 ETA:   0:17:34"
          ],
          "name": "stderr"
        },
        {
          "output_type": "stream",
          "text": [
            "\n",
            "\n",
            "Generating features for batch 10 of 14\n",
            "Max Len =  158\n"
          ],
          "name": "stdout"
        },
        {
          "output_type": "stream",
          "text": [
            "\r                                                                               \r\r 75% (10000 of 13240) |#############     | Elapsed Time: 0:41:04 ETA:   0:13:16"
          ],
          "name": "stderr"
        },
        {
          "output_type": "stream",
          "text": [
            "\n",
            "\n",
            "Generating features for batch 11 of 14\n",
            "Max Len =  163\n"
          ],
          "name": "stdout"
        },
        {
          "output_type": "stream",
          "text": [
            "\r                                                                               \r\r 83% (11000 of 13240) |##############    | Elapsed Time: 0:45:19 ETA:   0:09:31"
          ],
          "name": "stderr"
        },
        {
          "output_type": "stream",
          "text": [
            "\n",
            "\n",
            "Generating features for batch 12 of 14\n",
            "Max Len =  109\n"
          ],
          "name": "stdout"
        },
        {
          "output_type": "stream",
          "text": [
            "\r                                                                               \r\r 90% (12000 of 13240) |################  | Elapsed Time: 0:48:05 ETA:   0:03:26"
          ],
          "name": "stderr"
        },
        {
          "output_type": "stream",
          "text": [
            "\n",
            "\n",
            "Generating features for batch 13 of 14\n",
            "Max Len =  166\n"
          ],
          "name": "stdout"
        },
        {
          "output_type": "stream",
          "text": [
            "\r                                                                               \r\r 98% (13000 of 13240) |################# | Elapsed Time: 0:52:25 ETA:   0:01:02"
          ],
          "name": "stderr"
        },
        {
          "output_type": "stream",
          "text": [
            "\n",
            "\n",
            "Generating features for batch 14 of 14\n",
            "Max Len =  133\n"
          ],
          "name": "stdout"
        },
        {
          "output_type": "stream",
          "text": [
            "\r                                                                               \r\r100% (13240 of 13240) |##################| Elapsed Time: 0:53:15 Time:  0:53:15\n"
          ],
          "name": "stderr"
        },
        {
          "output_type": "stream",
          "text": [
            "Done\n",
            "Final df Shape :  (13240, 769)\n",
            "Train Shape :  (10592, 769)\n",
            "Val Shape :  (2648, 769)\n",
            "[0]\tvalidation_0-error:0.297866\tvalidation_0-logloss:0.671212\tvalidation_1-error:0.321752\tvalidation_1-logloss:0.673993\n",
            "Multiple eval metrics have been passed: 'validation_1-logloss' will be used for early stopping.\n",
            "\n",
            "Will train until validation_1-logloss hasn't improved in 10 rounds.\n",
            "[1]\tvalidation_0-error:0.277946\tvalidation_0-logloss:0.651924\tvalidation_1-error:0.300227\tvalidation_1-logloss:0.657597\n",
            "[2]\tvalidation_0-error:0.264823\tvalidation_0-logloss:0.634244\tvalidation_1-error:0.297583\tvalidation_1-logloss:0.643181\n",
            "[3]\tvalidation_0-error:0.257931\tvalidation_0-logloss:0.619078\tvalidation_1-error:0.288142\tvalidation_1-logloss:0.631001\n",
            "[4]\tvalidation_0-error:0.254248\tvalidation_0-logloss:0.605767\tvalidation_1-error:0.291163\tvalidation_1-logloss:0.62055\n",
            "[5]\tvalidation_0-error:0.252643\tvalidation_0-logloss:0.593551\tvalidation_1-error:0.29003\tvalidation_1-logloss:0.611245\n",
            "[6]\tvalidation_0-error:0.250189\tvalidation_0-logloss:0.582433\tvalidation_1-error:0.283988\tvalidation_1-logloss:0.603157\n",
            "[7]\tvalidation_0-error:0.246035\tvalidation_0-logloss:0.572066\tvalidation_1-error:0.281344\tvalidation_1-logloss:0.59591\n",
            "[8]\tvalidation_0-error:0.244052\tvalidation_0-logloss:0.562571\tvalidation_1-error:0.277568\tvalidation_1-logloss:0.589087\n",
            "[9]\tvalidation_0-error:0.240181\tvalidation_0-logloss:0.553966\tvalidation_1-error:0.274924\tvalidation_1-logloss:0.583357\n",
            "[10]\tvalidation_0-error:0.235555\tvalidation_0-logloss:0.54583\tvalidation_1-error:0.274924\tvalidation_1-logloss:0.577326\n",
            "[11]\tvalidation_0-error:0.233289\tvalidation_0-logloss:0.538866\tvalidation_1-error:0.273792\tvalidation_1-logloss:0.572408\n",
            "[12]\tvalidation_0-error:0.230079\tvalidation_0-logloss:0.531593\tvalidation_1-error:0.272281\tvalidation_1-logloss:0.567281\n",
            "[13]\tvalidation_0-error:0.228946\tvalidation_0-logloss:0.52497\tvalidation_1-error:0.27077\tvalidation_1-logloss:0.562759\n",
            "[14]\tvalidation_0-error:0.226303\tvalidation_0-logloss:0.518693\tvalidation_1-error:0.271903\tvalidation_1-logloss:0.559322\n",
            "[15]\tvalidation_0-error:0.221299\tvalidation_0-logloss:0.512773\tvalidation_1-error:0.269637\tvalidation_1-logloss:0.556184\n",
            "[16]\tvalidation_0-error:0.220544\tvalidation_0-logloss:0.50669\tvalidation_1-error:0.268505\tvalidation_1-logloss:0.552811\n",
            "[17]\tvalidation_0-error:0.21554\tvalidation_0-logloss:0.501142\tvalidation_1-error:0.26284\tvalidation_1-logloss:0.549101\n",
            "[18]\tvalidation_0-error:0.21469\tvalidation_0-logloss:0.495904\tvalidation_1-error:0.260952\tvalidation_1-logloss:0.546898\n",
            "[19]\tvalidation_0-error:0.210442\tvalidation_0-logloss:0.491057\tvalidation_1-error:0.262462\tvalidation_1-logloss:0.544018\n",
            "[20]\tvalidation_0-error:0.208554\tvalidation_0-logloss:0.485755\tvalidation_1-error:0.262085\tvalidation_1-logloss:0.541518\n",
            "[21]\tvalidation_0-error:0.205816\tvalidation_0-logloss:0.480992\tvalidation_1-error:0.261707\tvalidation_1-logloss:0.53946\n",
            "[22]\tvalidation_0-error:0.204305\tvalidation_0-logloss:0.476917\tvalidation_1-error:0.258308\tvalidation_1-logloss:0.53737\n",
            "[23]\tvalidation_0-error:0.200623\tvalidation_0-logloss:0.472192\tvalidation_1-error:0.255287\tvalidation_1-logloss:0.53559\n",
            "[24]\tvalidation_0-error:0.199868\tvalidation_0-logloss:0.467747\tvalidation_1-error:0.254532\tvalidation_1-logloss:0.533595\n",
            "[25]\tvalidation_0-error:0.198546\tvalidation_0-logloss:0.464666\tvalidation_1-error:0.253776\tvalidation_1-logloss:0.531829\n",
            "[26]\tvalidation_0-error:0.195808\tvalidation_0-logloss:0.460633\tvalidation_1-error:0.254154\tvalidation_1-logloss:0.53017\n",
            "[27]\tvalidation_0-error:0.194675\tvalidation_0-logloss:0.456491\tvalidation_1-error:0.254154\tvalidation_1-logloss:0.528817\n",
            "[28]\tvalidation_0-error:0.190616\tvalidation_0-logloss:0.452649\tvalidation_1-error:0.252266\tvalidation_1-logloss:0.527666\n",
            "[29]\tvalidation_0-error:0.189199\tvalidation_0-logloss:0.449482\tvalidation_1-error:0.254154\tvalidation_1-logloss:0.526567\n",
            "[30]\tvalidation_0-error:0.184762\tvalidation_0-logloss:0.445803\tvalidation_1-error:0.253776\tvalidation_1-logloss:0.52479\n",
            "[31]\tvalidation_0-error:0.182119\tvalidation_0-logloss:0.441951\tvalidation_1-error:0.253399\tvalidation_1-logloss:0.523417\n",
            "[32]\tvalidation_0-error:0.181552\tvalidation_0-logloss:0.438963\tvalidation_1-error:0.253399\tvalidation_1-logloss:0.522243\n",
            "[33]\tvalidation_0-error:0.177492\tvalidation_0-logloss:0.435438\tvalidation_1-error:0.253021\tvalidation_1-logloss:0.52122\n",
            "[34]\tvalidation_0-error:0.176265\tvalidation_0-logloss:0.432126\tvalidation_1-error:0.25\tvalidation_1-logloss:0.520085\n",
            "[35]\tvalidation_0-error:0.174755\tvalidation_0-logloss:0.429481\tvalidation_1-error:0.251133\tvalidation_1-logloss:0.519329\n",
            "[36]\tvalidation_0-error:0.173716\tvalidation_0-logloss:0.426805\tvalidation_1-error:0.249622\tvalidation_1-logloss:0.518329\n",
            "[37]\tvalidation_0-error:0.17145\tvalidation_0-logloss:0.423375\tvalidation_1-error:0.250755\tvalidation_1-logloss:0.517286\n",
            "[38]\tvalidation_0-error:0.169373\tvalidation_0-logloss:0.41996\tvalidation_1-error:0.248867\tvalidation_1-logloss:0.516155\n",
            "[39]\tvalidation_0-error:0.167863\tvalidation_0-logloss:0.417038\tvalidation_1-error:0.249622\tvalidation_1-logloss:0.515166\n",
            "[40]\tvalidation_0-error:0.164936\tvalidation_0-logloss:0.413989\tvalidation_1-error:0.250755\tvalidation_1-logloss:0.515005\n",
            "[41]\tvalidation_0-error:0.163425\tvalidation_0-logloss:0.410501\tvalidation_1-error:0.247356\tvalidation_1-logloss:0.514627\n",
            "[42]\tvalidation_0-error:0.160215\tvalidation_0-logloss:0.408106\tvalidation_1-error:0.25\tvalidation_1-logloss:0.514294\n",
            "[43]\tvalidation_0-error:0.158327\tvalidation_0-logloss:0.405312\tvalidation_1-error:0.25\tvalidation_1-logloss:0.513502\n",
            "[44]\tvalidation_0-error:0.157289\tvalidation_0-logloss:0.402713\tvalidation_1-error:0.252643\tvalidation_1-logloss:0.512894\n",
            "[45]\tvalidation_0-error:0.154079\tvalidation_0-logloss:0.400022\tvalidation_1-error:0.251133\tvalidation_1-logloss:0.512296\n",
            "[46]\tvalidation_0-error:0.152002\tvalidation_0-logloss:0.397439\tvalidation_1-error:0.252266\tvalidation_1-logloss:0.511736\n",
            "[47]\tvalidation_0-error:0.150302\tvalidation_0-logloss:0.394932\tvalidation_1-error:0.250378\tvalidation_1-logloss:0.511\n",
            "[48]\tvalidation_0-error:0.14983\tvalidation_0-logloss:0.391913\tvalidation_1-error:0.251511\tvalidation_1-logloss:0.510606\n",
            "[49]\tvalidation_0-error:0.147942\tvalidation_0-logloss:0.390089\tvalidation_1-error:0.252266\tvalidation_1-logloss:0.510123\n",
            "[50]\tvalidation_0-error:0.14511\tvalidation_0-logloss:0.387328\tvalidation_1-error:0.252266\tvalidation_1-logloss:0.509642\n",
            "[51]\tvalidation_0-error:0.143599\tvalidation_0-logloss:0.384726\tvalidation_1-error:0.252266\tvalidation_1-logloss:0.509376\n",
            "[52]\tvalidation_0-error:0.141333\tvalidation_0-logloss:0.382558\tvalidation_1-error:0.247734\tvalidation_1-logloss:0.508567\n",
            "[53]\tvalidation_0-error:0.138501\tvalidation_0-logloss:0.379644\tvalidation_1-error:0.251133\tvalidation_1-logloss:0.508692\n",
            "[54]\tvalidation_0-error:0.136046\tvalidation_0-logloss:0.377148\tvalidation_1-error:0.250378\tvalidation_1-logloss:0.508367\n",
            "[55]\tvalidation_0-error:0.134063\tvalidation_0-logloss:0.37513\tvalidation_1-error:0.250378\tvalidation_1-logloss:0.508332\n",
            "[56]\tvalidation_0-error:0.132175\tvalidation_0-logloss:0.372497\tvalidation_1-error:0.250378\tvalidation_1-logloss:0.50811\n",
            "[57]\tvalidation_0-error:0.130004\tvalidation_0-logloss:0.370328\tvalidation_1-error:0.251511\tvalidation_1-logloss:0.507503\n",
            "[58]\tvalidation_0-error:0.130193\tvalidation_0-logloss:0.367598\tvalidation_1-error:0.250755\tvalidation_1-logloss:0.506845\n",
            "[59]\tvalidation_0-error:0.127266\tvalidation_0-logloss:0.365637\tvalidation_1-error:0.253399\tvalidation_1-logloss:0.506815\n",
            "[60]\tvalidation_0-error:0.125283\tvalidation_0-logloss:0.362862\tvalidation_1-error:0.251133\tvalidation_1-logloss:0.506514\n",
            "[61]\tvalidation_0-error:0.123395\tvalidation_0-logloss:0.360885\tvalidation_1-error:0.250378\tvalidation_1-logloss:0.506197\n",
            "[62]\tvalidation_0-error:0.122923\tvalidation_0-logloss:0.358655\tvalidation_1-error:0.251511\tvalidation_1-logloss:0.506628\n",
            "[63]\tvalidation_0-error:0.121696\tvalidation_0-logloss:0.356638\tvalidation_1-error:0.250755\tvalidation_1-logloss:0.506533\n",
            "[64]\tvalidation_0-error:0.120279\tvalidation_0-logloss:0.35448\tvalidation_1-error:0.250755\tvalidation_1-logloss:0.506532\n",
            "[65]\tvalidation_0-error:0.118202\tvalidation_0-logloss:0.352049\tvalidation_1-error:0.251888\tvalidation_1-logloss:0.50588\n",
            "[66]\tvalidation_0-error:0.117069\tvalidation_0-logloss:0.350387\tvalidation_1-error:0.250378\tvalidation_1-logloss:0.505791\n",
            "[67]\tvalidation_0-error:0.116409\tvalidation_0-logloss:0.34896\tvalidation_1-error:0.253776\tvalidation_1-logloss:0.506141\n",
            "[68]\tvalidation_0-error:0.11386\tvalidation_0-logloss:0.346596\tvalidation_1-error:0.255665\tvalidation_1-logloss:0.506575\n",
            "[69]\tvalidation_0-error:0.111688\tvalidation_0-logloss:0.344222\tvalidation_1-error:0.256042\tvalidation_1-logloss:0.506211\n",
            "[70]\tvalidation_0-error:0.110083\tvalidation_0-logloss:0.342317\tvalidation_1-error:0.25642\tvalidation_1-logloss:0.506136\n",
            "[71]\tvalidation_0-error:0.108478\tvalidation_0-logloss:0.340408\tvalidation_1-error:0.255287\tvalidation_1-logloss:0.505866\n",
            "[72]\tvalidation_0-error:0.108006\tvalidation_0-logloss:0.338815\tvalidation_1-error:0.254532\tvalidation_1-logloss:0.505885\n",
            "[73]\tvalidation_0-error:0.106684\tvalidation_0-logloss:0.337341\tvalidation_1-error:0.254154\tvalidation_1-logloss:0.505648\n",
            "[74]\tvalidation_0-error:0.105646\tvalidation_0-logloss:0.336087\tvalidation_1-error:0.251511\tvalidation_1-logloss:0.50502\n",
            "[75]\tvalidation_0-error:0.103474\tvalidation_0-logloss:0.33393\tvalidation_1-error:0.253399\tvalidation_1-logloss:0.504793\n",
            "[76]\tvalidation_0-error:0.102341\tvalidation_0-logloss:0.332364\tvalidation_1-error:0.253776\tvalidation_1-logloss:0.504763\n",
            "[77]\tvalidation_0-error:0.101586\tvalidation_0-logloss:0.330491\tvalidation_1-error:0.250378\tvalidation_1-logloss:0.504254\n",
            "[78]\tvalidation_0-error:0.099887\tvalidation_0-logloss:0.328649\tvalidation_1-error:0.248867\tvalidation_1-logloss:0.504236\n",
            "[79]\tvalidation_0-error:0.098376\tvalidation_0-logloss:0.326462\tvalidation_1-error:0.250755\tvalidation_1-logloss:0.504147\n",
            "[80]\tvalidation_0-error:0.097432\tvalidation_0-logloss:0.325342\tvalidation_1-error:0.251133\tvalidation_1-logloss:0.504124\n",
            "[81]\tvalidation_0-error:0.095638\tvalidation_0-logloss:0.323459\tvalidation_1-error:0.246601\tvalidation_1-logloss:0.502919\n",
            "[82]\tvalidation_0-error:0.094883\tvalidation_0-logloss:0.321446\tvalidation_1-error:0.248867\tvalidation_1-logloss:0.502567\n",
            "[83]\tvalidation_0-error:0.094033\tvalidation_0-logloss:0.320358\tvalidation_1-error:0.252266\tvalidation_1-logloss:0.502774\n",
            "[84]\tvalidation_0-error:0.093467\tvalidation_0-logloss:0.318715\tvalidation_1-error:0.254154\tvalidation_1-logloss:0.50248\n",
            "[85]\tvalidation_0-error:0.091862\tvalidation_0-logloss:0.316743\tvalidation_1-error:0.255287\tvalidation_1-logloss:0.502605\n",
            "[86]\tvalidation_0-error:0.091201\tvalidation_0-logloss:0.315277\tvalidation_1-error:0.254154\tvalidation_1-logloss:0.501874\n",
            "[87]\tvalidation_0-error:0.091767\tvalidation_0-logloss:0.313721\tvalidation_1-error:0.252266\tvalidation_1-logloss:0.501994\n",
            "[88]\tvalidation_0-error:0.089785\tvalidation_0-logloss:0.312021\tvalidation_1-error:0.253776\tvalidation_1-logloss:0.501783\n",
            "[89]\tvalidation_0-error:0.089313\tvalidation_0-logloss:0.311232\tvalidation_1-error:0.254532\tvalidation_1-logloss:0.501689\n",
            "[90]\tvalidation_0-error:0.086292\tvalidation_0-logloss:0.309119\tvalidation_1-error:0.252266\tvalidation_1-logloss:0.501341\n",
            "[91]\tvalidation_0-error:0.084781\tvalidation_0-logloss:0.307401\tvalidation_1-error:0.251888\tvalidation_1-logloss:0.501564\n",
            "[92]\tvalidation_0-error:0.083082\tvalidation_0-logloss:0.305894\tvalidation_1-error:0.252266\tvalidation_1-logloss:0.501488\n",
            "[93]\tvalidation_0-error:0.082515\tvalidation_0-logloss:0.304102\tvalidation_1-error:0.251511\tvalidation_1-logloss:0.501729\n",
            "[94]\tvalidation_0-error:0.081665\tvalidation_0-logloss:0.302844\tvalidation_1-error:0.253021\tvalidation_1-logloss:0.501355\n",
            "[95]\tvalidation_0-error:0.081288\tvalidation_0-logloss:0.301231\tvalidation_1-error:0.251888\tvalidation_1-logloss:0.500989\n",
            "[96]\tvalidation_0-error:0.079494\tvalidation_0-logloss:0.299926\tvalidation_1-error:0.25\tvalidation_1-logloss:0.500812\n",
            "[97]\tvalidation_0-error:0.079211\tvalidation_0-logloss:0.297876\tvalidation_1-error:0.25\tvalidation_1-logloss:0.501063\n",
            "[98]\tvalidation_0-error:0.078455\tvalidation_0-logloss:0.296003\tvalidation_1-error:0.25\tvalidation_1-logloss:0.500384\n",
            "[99]\tvalidation_0-error:0.078833\tvalidation_0-logloss:0.295072\tvalidation_1-error:0.248867\tvalidation_1-logloss:0.499755\n",
            "[100]\tvalidation_0-error:0.07855\tvalidation_0-logloss:0.293904\tvalidation_1-error:0.249245\tvalidation_1-logloss:0.499951\n",
            "[101]\tvalidation_0-error:0.077039\tvalidation_0-logloss:0.292498\tvalidation_1-error:0.247734\tvalidation_1-logloss:0.500205\n",
            "[102]\tvalidation_0-error:0.074962\tvalidation_0-logloss:0.290739\tvalidation_1-error:0.247734\tvalidation_1-logloss:0.50024\n",
            "[103]\tvalidation_0-error:0.073074\tvalidation_0-logloss:0.289331\tvalidation_1-error:0.246979\tvalidation_1-logloss:0.499902\n",
            "[104]\tvalidation_0-error:0.071847\tvalidation_0-logloss:0.287804\tvalidation_1-error:0.246979\tvalidation_1-logloss:0.499844\n",
            "[105]\tvalidation_0-error:0.070714\tvalidation_0-logloss:0.286599\tvalidation_1-error:0.248867\tvalidation_1-logloss:0.499493\n",
            "[106]\tvalidation_0-error:0.069109\tvalidation_0-logloss:0.284576\tvalidation_1-error:0.25\tvalidation_1-logloss:0.499172\n",
            "[107]\tvalidation_0-error:0.068637\tvalidation_0-logloss:0.283592\tvalidation_1-error:0.251511\tvalidation_1-logloss:0.498943\n",
            "[108]\tvalidation_0-error:0.067598\tvalidation_0-logloss:0.282201\tvalidation_1-error:0.25\tvalidation_1-logloss:0.498881\n",
            "[109]\tvalidation_0-error:0.067221\tvalidation_0-logloss:0.28048\tvalidation_1-error:0.250755\tvalidation_1-logloss:0.498645\n",
            "[110]\tvalidation_0-error:0.066088\tvalidation_0-logloss:0.279612\tvalidation_1-error:0.25\tvalidation_1-logloss:0.498427\n",
            "[111]\tvalidation_0-error:0.065332\tvalidation_0-logloss:0.277818\tvalidation_1-error:0.248489\tvalidation_1-logloss:0.498875\n",
            "[112]\tvalidation_0-error:0.06486\tvalidation_0-logloss:0.276979\tvalidation_1-error:0.248112\tvalidation_1-logloss:0.498743\n",
            "[113]\tvalidation_0-error:0.063444\tvalidation_0-logloss:0.275474\tvalidation_1-error:0.247356\tvalidation_1-logloss:0.498355\n",
            "[114]\tvalidation_0-error:0.062783\tvalidation_0-logloss:0.273657\tvalidation_1-error:0.246601\tvalidation_1-logloss:0.498423\n",
            "[115]\tvalidation_0-error:0.062406\tvalidation_0-logloss:0.272768\tvalidation_1-error:0.246601\tvalidation_1-logloss:0.49851\n",
            "[116]\tvalidation_0-error:0.062028\tvalidation_0-logloss:0.27191\tvalidation_1-error:0.246601\tvalidation_1-logloss:0.498496\n",
            "[117]\tvalidation_0-error:0.060517\tvalidation_0-logloss:0.270256\tvalidation_1-error:0.246224\tvalidation_1-logloss:0.498281\n",
            "[118]\tvalidation_0-error:0.059573\tvalidation_0-logloss:0.268814\tvalidation_1-error:0.246979\tvalidation_1-logloss:0.498041\n",
            "[119]\tvalidation_0-error:0.05929\tvalidation_0-logloss:0.267445\tvalidation_1-error:0.245091\tvalidation_1-logloss:0.498042\n",
            "[120]\tvalidation_0-error:0.058346\tvalidation_0-logloss:0.266361\tvalidation_1-error:0.246601\tvalidation_1-logloss:0.498079\n",
            "[121]\tvalidation_0-error:0.057874\tvalidation_0-logloss:0.26506\tvalidation_1-error:0.248489\tvalidation_1-logloss:0.498094\n",
            "[122]\tvalidation_0-error:0.057119\tvalidation_0-logloss:0.264026\tvalidation_1-error:0.248112\tvalidation_1-logloss:0.498359\n",
            "[123]\tvalidation_0-error:0.056174\tvalidation_0-logloss:0.262458\tvalidation_1-error:0.249245\tvalidation_1-logloss:0.498292\n",
            "[124]\tvalidation_0-error:0.054758\tvalidation_0-logloss:0.26079\tvalidation_1-error:0.249622\tvalidation_1-logloss:0.498225\n",
            "[125]\tvalidation_0-error:0.054286\tvalidation_0-logloss:0.259694\tvalidation_1-error:0.249245\tvalidation_1-logloss:0.497893\n",
            "[126]\tvalidation_0-error:0.053814\tvalidation_0-logloss:0.258659\tvalidation_1-error:0.247734\tvalidation_1-logloss:0.497837\n",
            "[127]\tvalidation_0-error:0.053625\tvalidation_0-logloss:0.257272\tvalidation_1-error:0.248489\tvalidation_1-logloss:0.49785\n",
            "[128]\tvalidation_0-error:0.052398\tvalidation_0-logloss:0.255581\tvalidation_1-error:0.246979\tvalidation_1-logloss:0.497548\n",
            "[129]\tvalidation_0-error:0.05202\tvalidation_0-logloss:0.254689\tvalidation_1-error:0.248112\tvalidation_1-logloss:0.497442\n",
            "[130]\tvalidation_0-error:0.050887\tvalidation_0-logloss:0.25293\tvalidation_1-error:0.244713\tvalidation_1-logloss:0.497502\n",
            "[131]\tvalidation_0-error:0.050415\tvalidation_0-logloss:0.252211\tvalidation_1-error:0.242825\tvalidation_1-logloss:0.497458\n",
            "\n",
            "Model Report\n",
            "Train Accuracy : 0.948\n",
            "Validation Accuracy : 0.7519\n"
          ],
          "name": "stdout"
        },
        {
          "output_type": "display_data",
          "data": {
            "image/png": "[encoded data removed]",
            "text/plain": [
              "<Figure size 432x288 with 1 Axes>"
            ]
          },
          "metadata": {
            "tags": []
          }
        },
        {
          "output_type": "display_data",
          "data": {
            "image/png": "[encoded data removed]",
            "text/plain": [
              "<Figure size 432x288 with 1 Axes>"
            ]
          },
          "metadata": {
            "tags": []
          }
        },
        {
          "output_type": "stream",
          "text": [
            "Precision : 0.6661016949152543\n",
            "Recall : 0.46072684642438455\n",
            "F1 Score : 0.5446985446985447\n",
            "Validation Accuracy : 75.18882175226587\n"
          ],
          "name": "stdout"
        },
        {
          "output_type": "display_data",
          "data": {
            "image/png": "[encoded data removed]",
            "text/plain": [
              "<Figure size 432x288 with 2 Axes>"
            ]
          },
          "metadata": {
            "tags": []
          }
        }
      ]
    },
    {
      "cell_type": "code",
      "metadata": {
        "id": "R39spbUchbtg",
        "colab_type": "code",
        "colab": {}
      },
      "source": [
        ""
      ],
      "execution_count": 0,
      "outputs": []
    }
  ]
}